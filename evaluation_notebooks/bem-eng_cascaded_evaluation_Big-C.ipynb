{
  "cells": [
    {
      "cell_type": "code",
      "execution_count": 38,
      "metadata": {
        "colab": {
          "base_uri": "https://localhost:8080/"
        },
        "id": "I14mm3GWrKeW",
        "outputId": "fd71af39-9a9c-4bbe-dbc7-64319adf223f",
        "vscode": {
          "languageId": "plaintext"
        },
        "executionInfo": {
          "status": "ok",
          "timestamp": 1745472426004,
          "user_tz": -420,
          "elapsed": 273,
          "user": {
            "displayName": "",
            "userId": ""
          }
        }
      },
      "outputs": [
        {
          "output_type": "stream",
          "name": "stdout",
          "text": [
            "Thu Apr 24 05:27:05 2025       \n",
            "+-----------------------------------------------------------------------------------------+\n",
            "| NVIDIA-SMI 570.124.06             Driver Version: 570.124.06     CUDA Version: 12.8     |\n",
            "|-----------------------------------------+------------------------+----------------------+\n",
            "| GPU  Name                 Persistence-M | Bus-Id          Disp.A | Volatile Uncorr. ECC |\n",
            "| Fan  Temp   Perf          Pwr:Usage/Cap |           Memory-Usage | GPU-Util  Compute M. |\n",
            "|                                         |                        |               MIG M. |\n",
            "|=========================================+========================+======================|\n",
            "|   0  NVIDIA L4                      Off |   00000000:00:03.0 Off |                    0 |\n",
            "| N/A   76C    P0             35W /   72W |    2529MiB /  23034MiB |      0%      Default |\n",
            "|                                         |                        |                  N/A |\n",
            "+-----------------------------------------+------------------------+----------------------+\n",
            "                                                                                         \n",
            "+-----------------------------------------------------------------------------------------+\n",
            "| Processes:                                                                              |\n",
            "|  GPU   GI   CI              PID   Type   Process name                        GPU Memory |\n",
            "|        ID   ID                                                               Usage      |\n",
            "|=========================================================================================|\n",
            "+-----------------------------------------------------------------------------------------+\n"
          ]
        }
      ],
      "source": [
        "!nvidia-smi"
      ]
    },
    {
      "cell_type": "code",
      "execution_count": 39,
      "metadata": {
        "colab": {
          "base_uri": "https://localhost:8080/"
        },
        "id": "z0KKbklKuiAi",
        "outputId": "abf08935-2e41-4a39-b522-60f9ed3009f4",
        "executionInfo": {
          "status": "ok",
          "timestamp": 1745472437803,
          "user_tz": -420,
          "elapsed": 11801,
          "user": {
            "displayName": "",
            "userId": ""
          }
        }
      },
      "outputs": [
        {
          "output_type": "stream",
          "name": "stdout",
          "text": [
            "\u001b[33m\r0% [Working]\u001b[0m\r            \rHit:1 https://packages.cloud.google.com/apt gcsfuse-jammy InRelease\n",
            "Get:2 https://developer.download.nvidia.com/compute/cuda/repos/ubuntu2204/x86_64  InRelease [1,581 B]\n",
            "Get:3 http://security.ubuntu.com/ubuntu jammy-security InRelease [129 kB]\n",
            "Get:4 https://developer.download.nvidia.com/compute/cuda/repos/ubuntu2204/x86_64  Packages [1,605 kB]\n",
            "Hit:5 http://archive.ubuntu.com/ubuntu jammy InRelease\n",
            "Hit:6 https://cloud.r-project.org/bin/linux/ubuntu jammy-cran40/ InRelease\n",
            "Get:7 http://archive.ubuntu.com/ubuntu jammy-updates InRelease [128 kB]\n",
            "Hit:8 https://ppa.launchpadcontent.net/deadsnakes/ppa/ubuntu jammy InRelease\n",
            "Hit:9 https://ppa.launchpadcontent.net/graphics-drivers/ppa/ubuntu jammy InRelease\n",
            "Hit:10 https://r2u.stat.illinois.edu/ubuntu jammy InRelease\n",
            "Hit:11 https://ppa.launchpadcontent.net/ubuntugis/ppa/ubuntu jammy InRelease\n",
            "Hit:12 http://archive.ubuntu.com/ubuntu jammy-backports InRelease\n",
            "Fetched 1,863 kB in 2s (917 kB/s)\n",
            "Reading package lists... Done\n",
            "Building dependency tree... Done\n",
            "Reading state information... Done\n",
            "192 packages can be upgraded. Run 'apt list --upgradable' to see them.\n",
            "\u001b[1;33mW: \u001b[0mhttps://packages.cloud.google.com/apt/dists/gcsfuse-jammy/InRelease: Key is stored in legacy trusted.gpg keyring (/etc/apt/trusted.gpg), see the DEPRECATION section in apt-key(8) for details.\u001b[0m\n",
            "\u001b[1;33mW: \u001b[0mSkipping acquire of configured file 'main/source/Sources' as repository 'https://r2u.stat.illinois.edu/ubuntu jammy InRelease' does not seem to provide it (sources.list entry misspelt?)\u001b[0m\n",
            "Reading package lists... Done\n",
            "Building dependency tree... Done\n",
            "Reading state information... Done\n",
            "libcudnn9-cuda-12 is already the newest version (9.8.0.87-1).\n",
            "0 upgraded, 0 newly installed, 0 to remove and 192 not upgraded.\n",
            "Requirement already satisfied: nvidia-cublas-cu12 in /usr/local/lib/python3.10/dist-packages (12.6.4.1)\n",
            "Requirement already satisfied: nvidia-cudnn-cu12==9.* in /usr/local/lib/python3.10/dist-packages (9.6.0.74)\n"
          ]
        }
      ],
      "source": [
        "!apt update\n",
        "!apt install libcudnn9-cuda-12\n",
        "!pip install nvidia-cublas-cu12 nvidia-cudnn-cu12==9.*\n",
        "\n",
        "!export LD_LIBRARY_PATH=`python3 -c 'import os; import nvidia.cublas.lib; import nvidia.cudnn.lib; print(os.path.dirname(nvidia.cublas.lib.__file__) + \":\" + os.path.dirname(nvidia.cudnn.lib.__file__))'`\n"
      ]
    },
    {
      "cell_type": "code",
      "execution_count": 40,
      "metadata": {
        "id": "-X1JXKCQrKed",
        "vscode": {
          "languageId": "plaintext"
        },
        "executionInfo": {
          "status": "ok",
          "timestamp": 1745472441151,
          "user_tz": -420,
          "elapsed": 3352,
          "user": {
            "displayName": "",
            "userId": ""
          }
        }
      },
      "outputs": [],
      "source": [
        "!pip3 install faster-whisper ctranslate2 datasets sacrebleu -q"
      ]
    },
    {
      "cell_type": "code",
      "execution_count": 41,
      "metadata": {
        "id": "H61nGOn4tx4C",
        "executionInfo": {
          "status": "ok",
          "timestamp": 1745472441151,
          "user_tz": -420,
          "elapsed": 5,
          "user": {
            "displayName": "",
            "userId": ""
          }
        }
      },
      "outputs": [],
      "source": [
        "from datasets import load_dataset, Dataset, Audio\n",
        "import numpy as np"
      ]
    },
    {
      "cell_type": "code",
      "source": [
        "import os\n",
        "cache_dir = \"/content/huggingface_cache\"\n",
        "os.makedirs(cache_dir, exist_ok=True)\n",
        "\n",
        "# Set ALL Hugging Face related cache directories\n",
        "os.environ[\"TRANSFORMERS_CACHE\"] = os.path.join(cache_dir, \"transformers\")\n",
        "os.environ[\"HF_DATASETS_CACHE\"] = os.path.join(cache_dir, \"datasets\")\n",
        "os.environ[\"HF_HOME\"] = os.path.join(cache_dir, \"hf_home\")\n",
        "os.environ[\"HF_ASSETS_CACHE\"] = os.path.join(cache_dir, \"assets\")\n",
        "os.environ[\"HUGGINGFACE_HUB_CACHE\"] = os.path.join(cache_dir, \"hub\")\n",
        "os.environ[\"HF_MODULES_CACHE\"] = os.path.join(cache_dir, \"modules\")\n",
        "\n",
        "# Create all directories\n",
        "for dir_path in [os.environ[\"TRANSFORMERS_CACHE\"],\n",
        "                os.environ[\"HF_DATASETS_CACHE\"],\n",
        "                os.environ[\"HF_HOME\"],\n",
        "                os.environ[\"HF_ASSETS_CACHE\"],\n",
        "                os.environ[\"HUGGINGFACE_HUB_CACHE\"],\n",
        "                os.environ[\"HF_MODULES_CACHE\"]]:\n",
        "    os.makedirs(dir_path, exist_ok=True)\n",
        "\n",
        "# Force datasets to use the new cache\n",
        "from datasets import config\n",
        "config.HF_DATASETS_CACHE = os.environ[\"HF_DATASETS_CACHE\"]"
      ],
      "metadata": {
        "id": "YMzMjePOzxdd",
        "executionInfo": {
          "status": "ok",
          "timestamp": 1745472441151,
          "user_tz": -420,
          "elapsed": 4,
          "user": {
            "displayName": "",
            "userId": ""
          }
        }
      },
      "execution_count": 42,
      "outputs": []
    },
    {
      "cell_type": "markdown",
      "metadata": {
        "id": "IStXWuDMrKee"
      },
      "source": [
        "# Load the Dataset"
      ]
    },
    {
      "cell_type": "code",
      "source": [],
      "metadata": {
        "id": "5Gz5E-cpA8KZ",
        "executionInfo": {
          "status": "ok",
          "timestamp": 1745472441151,
          "user_tz": -420,
          "elapsed": 4,
          "user": {
            "displayName": "",
            "userId": ""
          }
        }
      },
      "execution_count": 42,
      "outputs": []
    },
    {
      "cell_type": "code",
      "execution_count": 43,
      "metadata": {
        "colab": {
          "base_uri": "https://localhost:8080/",
          "height": 81,
          "referenced_widgets": [
            "4c018ea1a6d44e808714f48b299559a7",
            "6fd46f6eb96a4dd395c46a46d40a68f2",
            "c52243b529d74450993bc59dfcea9525",
            "368b31bdacff4763b61fda0c02a14a24",
            "b9cc67b810674a43bd8095c06d767e7c",
            "9474ed90c667409286d469b652bc13cc",
            "1f575756a03e442bac19d1098bdeed5e",
            "96cfbb2da35d4b95b2a96a98beffe819",
            "f2d025d966f9470297324c0884cc44ba",
            "240e87c86b5d4e939a92ecbba24b5f13",
            "471fb33225b541ba939c418abe3c2188",
            "8c4c4d3a0c9f401da4fd3bea0f34d0a4",
            "3306143d776b4f94a78aefa60bae405b",
            "0ac150af904347348030037e3d03a582",
            "019fc77d31b84fd7abda786ce2f60625",
            "43678ba4009e486882a3d947a218dec7",
            "05bc7d9c79044c7280d4bcbeb5417862",
            "fb1c122396d04763a9b095ea79705489",
            "cb3b2fb4acce45cfa30c093bdbe0d6d9",
            "e24424c3c5ce43508aa3b47dc6293b66",
            "487ea6f98a644ff5a8f33a77b442bd90",
            "c3ec5aa55e07476fa98c1929b303eabf"
          ]
        },
        "id": "3DSOUgqgrKeg",
        "outputId": "c68e3f02-21d0-45cc-9da4-09f5700286e3",
        "vscode": {
          "languageId": "plaintext"
        },
        "executionInfo": {
          "status": "ok",
          "timestamp": 1745472445510,
          "user_tz": -420,
          "elapsed": 4363,
          "user": {
            "displayName": "",
            "userId": ""
          }
        }
      },
      "outputs": [
        {
          "output_type": "display_data",
          "data": {
            "text/plain": [
              "Resolving data files:   0%|          | 0/41 [00:00<?, ?it/s]"
            ],
            "application/vnd.jupyter.widget-view+json": {
              "version_major": 2,
              "version_minor": 0,
              "model_id": "4c018ea1a6d44e808714f48b299559a7"
            }
          },
          "metadata": {}
        },
        {
          "output_type": "display_data",
          "data": {
            "text/plain": [
              "Resolving data files:   0%|          | 0/41 [00:00<?, ?it/s]"
            ],
            "application/vnd.jupyter.widget-view+json": {
              "version_major": 2,
              "version_minor": 0,
              "model_id": "8c4c4d3a0c9f401da4fd3bea0f34d0a4"
            }
          },
          "metadata": {}
        }
      ],
      "source": [
        "dataset_name = \"kreasof-ai/bem-eng-IWSLT2025\"\n",
        "test_dataset = load_dataset(dataset_name, trust_remote_code=True, split=\"test\")"
      ]
    },
    {
      "cell_type": "code",
      "execution_count": 44,
      "metadata": {
        "colab": {
          "base_uri": "https://localhost:8080/"
        },
        "id": "x0OzVxS4slzC",
        "outputId": "e8505344-6be2-49de-afec-afe7c558d0f9",
        "executionInfo": {
          "status": "ok",
          "timestamp": 1745472445510,
          "user_tz": -420,
          "elapsed": 16,
          "user": {
            "displayName": "",
            "userId": ""
          }
        }
      },
      "outputs": [
        {
          "output_type": "execute_result",
          "data": {
            "text/plain": [
              "Dataset({\n",
              "    features: ['audio', 'sentence', 'translation', 'speaker_id'],\n",
              "    num_rows: 2763\n",
              "})"
            ]
          },
          "metadata": {},
          "execution_count": 44
        }
      ],
      "source": [
        "test_dataset"
      ]
    },
    {
      "cell_type": "code",
      "execution_count": 45,
      "metadata": {
        "colab": {
          "base_uri": "https://localhost:8080/"
        },
        "id": "wOCB88fRsp_5",
        "outputId": "5b3d4b97-f879-47af-99bb-92fa00045287",
        "executionInfo": {
          "status": "ok",
          "timestamp": 1745472445510,
          "user_tz": -420,
          "elapsed": 14,
          "user": {
            "displayName": "",
            "userId": ""
          }
        }
      },
      "outputs": [
        {
          "output_type": "stream",
          "name": "stdout",
          "text": [
            "{'path': '15_7474_3_152_02_211030-180248_bem_8cc_elicit_1.wav', 'array': array([ 0.00000000e+00,  0.00000000e+00,  0.00000000e+00, ...,\n",
            "       -9.15527344e-05, -6.10351562e-05, -6.10351562e-05]), 'sampling_rate': 16000}\n"
          ]
        }
      ],
      "source": [
        "for sample in test_dataset:\n",
        "    print(sample[\"audio\"])  # Access the audio column\n",
        "    break  # Just to check the first example"
      ]
    },
    {
      "cell_type": "markdown",
      "metadata": {
        "id": "nInFsRBRxHBX"
      },
      "source": [
        "# Create Arrays for audio"
      ]
    },
    {
      "cell_type": "code",
      "execution_count": 45,
      "metadata": {
        "id": "uaJFtXn8xGRi",
        "executionInfo": {
          "status": "ok",
          "timestamp": 1745472445511,
          "user_tz": -420,
          "elapsed": 13,
          "user": {
            "displayName": "",
            "userId": ""
          }
        }
      },
      "outputs": [],
      "source": []
    },
    {
      "cell_type": "code",
      "execution_count": 46,
      "metadata": {
        "colab": {
          "base_uri": "https://localhost:8080/"
        },
        "id": "DKAT6aigxFMh",
        "outputId": "55fc3b71-4844-4d4a-8eda-8057d0e62a16",
        "executionInfo": {
          "status": "ok",
          "timestamp": 1745472445511,
          "user_tz": -420,
          "elapsed": 12,
          "user": {
            "displayName": "",
            "userId": ""
          }
        }
      },
      "outputs": [
        {
          "output_type": "stream",
          "name": "stdout",
          "text": [
            "['he is wearing glasses as well', 'A dog with a wide nose is running on the lawns of the football ground', 'She has her leg in the air attempting to break a board.', 'There are also small vehicles that they use in cold places behind them.', 'Of the men on the roof of the house, ine is wearing a long sleeved grey shirt and a blue trousers.', 'These on their shoes are for sliding when the to play on the ice.', 'A woman is walking in the road with a child on her showders.', \"I have seen it seems there are different games being played that's why others are looking the other way while others are watching volleyball.\", 'A woman is holding food on a plate inside a shop.', 'Or maybe someone has made him upset.', 'four people are inside an area with large rocks and they are wearing helmets', \"Another child's shoes being taken off by the instructor.\", 'Maybe he wants to reach the top of the mountain. The rode metal he is carrying, it is mostly used when one is climbing the mountains.', 'There is one tall man wearing black clothes and a woman wearing black clothes with white hair standing outside a store.', 'what is she doing where she is standing?', 'On the wall, there is a very bright light hunged with words written on it.', 'What is this woman doing? She even has something in her hands and she is wearing glasses. What is she doing my friend.', 'There are chairs around the table where people can sit.', 'One of them holding his side plate is wearing a cap on his head', 'Is this man that has bent going to just sit back and get punched?', 'And some have their helmets on.', 'On one side of the sea there are mountains. The boy must know how to swim very well  for him To be in a deep sea.', 'But why do they seem gloomy?', 'Could it be that these three want to jump in the water?', 'Down the shop,near the soldiers,there are glasses.', 'It looks llike he is here with her parents that are watching her as she swims.', 'Two white men are standing, talking to each other.', 'There are a lot of dry leaves and the sun is shining even though it is being obstructed by trees.', 'The shop looks white with reddish doors.', 'it seems they want to plant it again', 'At a distance on the left hand side of this person is a table where they put cooking utensils and on his right is a big pot.', 'There is lots of sand on the ground and there are many footprints.', 'This gent is also holding onto a rope, could it be that something is pulling him?', 'a White skinned man has splashed water while jumping into the river', 'While looking beyond from the vehicle standpoint, there is a white building.', 'These men are watching something that has suprised them.', 'Two men are only wearing trousers without having shirts on their top bodies. Seems they want to entertain an audience.', 'They all have sticks in their hands. What are these sticks for?', 'One white man is sitted with a dog .', 'It seems the  dog wants to jump with its mouth open and it has  raised  one leg.', 'some materials are folded in buskets', 'The important thing is that he is at home.', \"She has a microphone and she's singing a song.\", \"It seems she's singing a song because there are speakers.\", 'they are facing the direction of the sea and the old man has placed his hand in his pocket whereas the other one seems to be holding what appears like a bottle.', 'It has its tongue out and it has fallen to oneside.', \"That's true, this man is dressed in black while the lady is facing the ground.\", \"There's a boat on the water also with people in it.\", 'The beer looks like water.', 'He is holding a plastic crocodile toy in his hands.', 'It seems the man is taking a photograph of the woman.', 'The way this person is dressed and jumping is in order to protect himself in wet places', 'in front of a woman there is another person', 'How is the boy standing as he is learning and training.', 'This woman is taking a picture of the baby.', 'It is like someone is taking a picture of this woman because she is looking in front and is smiling.', 'My dear it is a very interesting sport both to watch and play.', 'They said it only had a small problem,but they have worked on it.', 'And they are all prepared because they all are wearing helmets and warm clothes and they are carrying bags.', 'A young man is on top of the mountain and has some ropes tied to his waist', 'There are trees that are on the sides of the buildings.', 'there is a plate with food probably that he was eating in front of him', 'There is no tree where it is coming from so where has it got that stick?', 'Along the road there are nice green grass and on the left there are red chairs which have been aligned along', 'some seem to be watching something and right behind them is a young lady carrying a child at the back of her bicycle. this lady is being captured a photograph by her friend using a camera', 'there is someone who threw the ball in the water', 'I think it is blood or he hurt himself. And he looks happy and smilling.', 'Where are they going at this time of the night?', 'He has stretched open each leg on each side, why is he so high and what does he have in his hands?', 'I agree and the dog behind is slimer than the one in front.', 'Indeed, the smiling of this woman is that of happiness', 'Four white dogs are running with there mouths covered.', 'They are playing basketball.', 'These dogs are for this woman.', 'yes it was very dirty.', 'people in a room with a lot of lights', 'Its like they have tild it on top of the mountain.', 'How is this road where this man is in afternoon time looking like in eyes?', 'It seems it has been tied to something.', 'On the this picture they are teo parents, one one had bowled down the other on is looking on the ground. Where are they?', 'Yes it is true,she looks very happy.', \"This same dog doesn't look happy.\", 'This is the place where women come to eat from.', 'Or they were near a river.', 'An elderly lady is sitted on a chair and facing down while holding a bag with one hand and the other on the chair.', 'A group of children is playing in water while splashing it.', 'and at a distance from where she is playing the game are vehicles packed', 'Yes he is together with the guys that areworking on the electricity in the area.', 'three ladies are standing smiling and behind them there are green trees', 'A dog is in the forest that has dry grass with a small road where there  is a furrow .', 'Two white dogs with some black fur are playing while one is down and the other is jumping from the tree.', 'the dog has white fur', \"it's wearing warm clothings\", 'there are three people behind the dog watching it run', 'This same man looks very surprised on his face as if he has seen something unexpected. The woman is carrying some papers in her hands.', 'The football pitch is looks very big.', 'This place is very nice. The rock on which this wall is built is on a high mountain and so it looks very nice.', 'where exactly is it playing from?', \"Is this man just shaving his beards and won't shave his hair?\", 'The front is not visible enough.', 'He is in a room where wood is carved', 'Two people behind him are also watching the games.', 'he is wearing specs, he has a blue and white bangle around his wrist and it seems he is focused on something', 'They are all running.', \"We cant see what he is Wearing at the bottom but it's no doubt a trousers.\", 'People are standing in what looks like a drinking place. there are a lot of people in this place.', 'The dog has a black belt around the neck and it  has a cut tail.', 'they are climbing a tree then holding the rope while standing at the end of the tree', 'And also the a group of supporters around the showground watching in awe.', 'Maybe this woman is just passing time where she is sleeping.', 'She has a black bag around her neck.', 'He looks happy from the way he is smiling maybe  he is with an older loved one.', 'He is putting on blue clothes.', 'A woman is holding a white rope extending from a poster.', 'one of them is wearing a white shirt while another is carrying a bag', 'A black dog is jumping up.', 'A number of men dressed in the same clothes are in the bush in the afternoon ', 'Why are they all shirtless.?', 'You are right. Have you noticed that they also have shovels?', 'six white gentlemen with a lady are standing while they are others sited', 'Women are in a beautiful building and are wearing the same things. What do you think they are about to start doing?', 'Yes I agree and they are happy with what they are doing.', 'This man is a soldier.', 'Yes my friend, they like havig such times especially in the summer.', \"It's like this thing is to help the boat nit to sink.\", \"That's right, I love the way the building looks, especially the wall, there's no dirt on it.\", 'What are these four people doing at this place', 'And the joking one must be too jovial that the friend is so excited that she is even held her tummy.', 'The dogs has fur with two colors a black color and a white color.', 'It was playing  in the soil because even its fur is dirty.', 'Two dogs, a small one and a big one are at the bush with a lot of trees and leaves on the ground.', 'the dog with white fur has red fur on the waist while the other has red color all the body', 'This gentleman though, he is so focused on his way without any side checks.', 'A white man is standing in a shop.', 'yes there going somewhere, maybe school or to the market', 'A young lady is on a boat at sea.', 'Today she has followed to witness and she will be very happy.', '3 of these people are together talking', 'A woman has her baby on her laps and is sitting on the entrance of the house.', 'they look so happy as though they are friends', \"Yes that's accurate, the one driving this vehicle is quite young, have you seen this young man?\", 'A male dog is climbing an hill.', \"This place where they are looks like it's near a river and it also looks like it's somewhat of a forest...because some parts don't have trees while other parts in the distance have trees\", 'There is another dog behind.', \"It is true. It's like he was told to clap for him to be given something and then he is happy watching something and clapping.\", 'A white-kinned man and a woman are sittting by a building.', 'A white young man is in a big store where they sale different things.', \"It's like this mother and her children are outside a wooden house.\", 'Behind them there aere some greenish flowers.', 'This dog has been well taught by the owner.', 'A boy is on a skateboard. He is wearing a white top.', 'He was looking suprised being captured.', \"very true and there are also coats. there's also a young man standing there. it's like he's guarding the umbrellas.\", 'A white man wearing redish clothes is dancing where he is working outside.', 'it seems this is where he trains his dog to run and do other things from', \"A very cute dog with lots of fur is playing in the field, have you noticed what it's done?\", 'I will try one day so that i can also feel nice.', 'while others are just playing', 'This boy is looking at the person taking a picture of him.', 'It is good for them to play like this, it makes them clever.', 'It looks like it is her turn to explain something to the rest of the group.', 'The dogs too look very clean because they have black as well as white spots.', 'there are no people as she is swinging', \"yes, I think it's food they sell in this shop for them to have chopaick meat.\", \"There doesn't seem to be anyone at this play ground. The dog is just alone.\", 'He! Careful with what you say. Thats why people beat. Yes im not arguing that this child is bright and what he has made is a pyramid. Do you even know what a pyramid is?', 'how many are they?', 'Behind them are some other people moving around by themselves, they have their own plans.', 'It looks like there are red cars.', 'Yes this is also her job and her fruits are very sweet.', 'Many are sited in the group and watching the game', 'is he jumping so as to compete?', 'He is wearing baggy clothes.', 'I now see how much an elderly person must monitor kids, else you find them hurt.', 'It looks like these people were celebrating something on this day or they came to watch those who wore like long dolls.', 'The clothes they are wearing has stickers with numbers', 'All the men are looking at the money.', 'They can be leading the football match.', 'It seems they are in a competitive game. However, the road they are using is looking dirty because of the fallen leaves from the trees', 'group of people have gathered together outside in the sun', 'Behind the dog there are different types of grass scattered.', 'It looks like he was cycling a bicycle in the bush.', 'Marriage is better with the right rib, that is why you see them all smiles.', 'A man is on water and he is wearing blue clothes', 'Yes it looks very nice. And these young people found time come and play and exercise.', 'It looks like a lot of people are watching this game even if it is late.', 'they are people selling tomatoes and mangoes', 'He is high up shirtless.', 'What is this white skinned child wearing?', 'the one behind is wearing a red coat and a black hat, and he too is taking the lead in campaigning for the man in the poster.', 'Cars are passing in the same area with people.', 'They are standing outside buildings, both of them wearing hats.', 'Maybe he is trying to kick the ball.', 'The white man who is wearing a bluish hat is standing in a room.', \"Then there's a lady near her with her hands in the air that's close to another lady with shaggy black hair.\", \"Most likely the person would have hydrophobia if not we'll trained.\", 'they are both covered in a vail', 'a small dog is jumping over a metal', 'Maybe she is just reading for leisure or maybe it is school work.', 'They are watching a movie.', 'Down there is a big hole.', 'The old man is wearing a white shirt and is seated on a chair while the boy is wearing a grey short and trousers. His shirt has a blue flower on it.', 'Both are wearing black shirts.', 'Indeed, one of them must be the owner of this room.', \"and down they are bottles maybe that's what they drinking\", 'A crowd of people is on the streets protesting with posters, seems they are not happy with their government.', 'A young man is on his bicycle and has jumped high with it while letting go with one hand in mode air.', 'A person is playing  a game in a place were people play games from.', 'three school going children all of them boys are on a slide', 'the dog is small and it has thick fur', 'Everyone looks sad and not laughing.', 'there are three children, one boy and two other girls', 'Her knees are up as she is sleeping down. What is she doing down?', \"Your beheads have grown please go and shave',the wife tells the husband.\", 'are these dogs are like', 'A man wearing shorts sleved shirt has jumped up with him hands up', 'A dog is playing on the seashore.', 'It seems he is watching closely on how men are playing. ', 'truly, these are quite advanced in years. perhaps they all want to learn how to knit, in order to pass some time, or simply for leisure.', 'A man is standing and holding a very big guitar.', 'It looks like that is how he is preventing boredom, and the place he is in is fenced off wirth a red net.', 'This little girl is unpacking jigsaws that she intends to put together', 'People are moving aimlessly where there are children and old people.?', 'These two white men who are on the tarred road both have put on black trousers,one puts on white shirt..', 'What is the young girl doing?', 'Alot of  big vehicle tares have been ligned and people are entering there', 'Different people are in one place, they are young and old both male and female.', \"she's in front of people and it seems she's at work guiding people\", 'It seems the animal is being chased where it is coming from because  it is running very fast.', 'Dogs are playful, the white one is just rolling on floor.', 'the little girl is wearing a red shirt  and white short.  the little boy however is a blue shirt and a red trousers.', 'The ladies are three with one man.', 'In addition, she has hair on her head reach her forehead and this time was at night.', 'Most of them are having head covers. what is the reason?', 'his hands are in the pockets of the jacket and he is also wearing a headsock', 'And these doves look neat as they also are white.', \"but it's suprising why shes sleeping down\", 'one line on the back is leaning on her bag because she needs to be comfortable and sleeping she has blonde short hair and she is wearing a red Jersey', 'A man with a skateboard is in the air.', 'he is playing tennis', 'He is running away from the animals behind him.', 'The good thing is he has a light illuminating where he is looking.', 'other men are watching what is happening', 'no they have different colors', 'There is a light dog.', 'Boys are playing ice hockey.', 'The horse looks like it is eating grassoutside the fence because of the way it has bowed its head.', 'It is running towards a ball.', 'A white young girl is playing with a cat with darkish fur.', 'There are people sitting on the green chair and beside it there are bicycles for four children.', 'he appears he is looking at something  in front', 'A white man is jumping in the river with a swimming short.', 'There is a tree behind the child.', 'And the house looks like it is made of two houses, opne on top of the other.', 'Beside the ground, there is a fence and a  green feild.', 'a man and a woman are standing near a vehicle kissing each other.', 'Is this the same game they play one on one side and the other one on the opposite side?', \"Yes I have, the one with white patches has widely opened it's mouth as though it wants to bite the other.\", 'A dog is jumping in the play ground.', 'He is well braced and dressed in protective clothing.', 'yes, there is a huge black bull with horns that is facing a different direction', 'Perhaps he is scared of falling.', 'Nearby, there are small trees, though others have started drying up.', 'This place is very nice and well mantained and it has green beautiful grass.', 'The two women are fighting to run to the white rock.', 'There are words on the cheque that say, \"children\\'s food basket\". Have you seen how it\\'s written?', 'One if the two had got a green tennis ball in the mouth.', 'These people look like a couple.', 'Once she blows, small things white things are flying out of it.', 'This old man is reading a news paper.', 'why are they all having small bicycles?', 'it has jumped very high and there are some men sitting on a vehichle cheering for it', 'Just like every other lady before the mirror, they spend more time delaying themselves.', 'I have seen they are dancing and they are wearing diffrent dresses but they are putting balck on top and the ones playing gitters are at a distance.', 'the dog is looking very wet', 'She is also sun basking.', 'What things are in this building where these people are gathered?', 'They all look happy and are smilling', 'The dog looks brown.', 'Looks like these dogs are running towards something they have seen in the woods.', \"maybe she knew it will splash and she's just happy to play there\", 'Is the the place where they wrestle from?', 'stone young men are playing', \"the man who's on his friend's back has lifted his legs\", 'yes there are alot of clouds', 'I see how they are holding flowers in their hands and hunging each other.', 'Two old women with bold heads.', 'A seat is behind this child but he is not sitting yet', 'Similar looking motorcycles are parked and have the same colour.', 'Two of them are standing on a swing.', 'It looks like these guys are enjoying the game.', 'The whole crew is in readiness for the event, thus the two are hugging.', 'as they are running they are stepping in dry grass', 'What has she lifted?', 'the other one is a woman with a necklaces around her neck, rings on her fingers and a watch', 'Two men,one with a cap.', 'The ladies have a hard,dry skin due to the mud.', 'Why are they not clear?', 'This man looks he is the groom and the woman looks like the bride.', 'four people are sitting on some rocks, the ones on the right are women and the ones on the left are men', 'Near the road ,there are green grass.', 'They are other vehicles on the road', \"Two men are standing under an open vehicle that's on a tarred road\", 'these girls are getting ready to jump into the water, one is even higher than the rest', 'Is it that she is doing nothing?', 'The boy is standing on the side of the lake', 'Each one is doing something different from the other have you noticed?', 'Behind this vehicle there is a building which has a lot of windows and in front of it there is a broken building.', 'What exactly is happening here?', 'An elderly white woman who is a marketeer is smiling as she is packing some vegetables into her bag.', 'it is painted with different colors', 'Yes my friend, if you went and tried to remove them from where they are playing from you can fight.', 'The woman sited in front of the other has put food she is eating on her mouth', 'A young boy is with a little girl viewing the animals.', \"And he was just alone, i don't kniw if he was waiting for people to enter then it starts off.\", 'there are words on many buildings maybe they are the names of each building.', 'He is bandaging himself because he hurt himself while working.', 'Two children and a woman are sitting on a chair.', \"This man is not focussed on the one singing. It's like his mind is somewhere else.\", 'on his right are some logs however they are not very tall.', 'behind the policeman folding his hands there is a black man', 'There are many other people there', 'in the office there are keyboards and other different things', 'a white is jumping over the hills', 'Yes this is a nice place to have games from.', 'the man sitting in the middle is wearing a wristwatch on his left hand', 'She has put  some cups on a stand.', 'there are three chairs with no one seated on them', 'Yes it looks like there is no one at home.', \"this place is full of white flowers, can it be a children's school?\", 'These dogs have similar colours.', 'It is like they are watching something that makes them happy', \"yes you are right, because that's what can cause people to gather like this\", 'There seems to houses and shops on the roadside because there are buildings there.', 'Beside the police man are two cars, one dark and one bright in color.', 'Below the mountain there are people who want to start climbing.', 'He has knelt to remove a wheel.', 'Two ladies are by the seashore relaying.', 'Three people are having fun at a play-park in the middle of the town.', 'She is not even sitting anywhere.', 'They are from cutting the grass where it is laying.', 'A girl is sitting down and there is a dog.', 'This woman is leaning on the man. If this man just moves, the woman can fall.', 'three dogs are playing on a green lawn during noon time', 'This old man has alot of white beards.', 'This place looks like fields that are under mountains, these people should live close by because there is a hut houses close by.', 'he too is a white man, he is wearing a black coat and hat', 'the cat is on top of the billboard that is standing against the wall looking down', 'A white skinned boy is walking along the road with headphones in his ears', 'This white gentleman who is playing netball in the ground looks tall and has put on white short short.', 'he is wearing a red cap', 'The people behind her are a huge crowd wearing different colors', 'She is wearing a white top and has long dark hair.', 'And there are sebvceral small pots on a table with some wood pieces.', 'Along the road there are tall buildings and there is also an old man walking.', 'It looks like at this time the sea is very full and there are a lot of waves on it.', 'She also has a handbag which is hanging on her shoulders', 'This palce has been made in such a way that people go and have fun and do other things like talking and charting thats why they have put chairs for people to sit.', 'This is where people wait for buses.', 'This lady they slept at the station because there was no bus,that is why she has bought some food early un the morning.', 'She is concentrating. What could she be doing?', 'Near this old woman sitting on a stool is a stage light beaming, and the window to her left has got a drawing of a some figure.', 'There are some potatoes that are in the cart. Maybe they are going to sell them', 'This man is wearing a ring and he is getting something from his pockets.', 'He is putting on a white shirt while seated in a vehicle.', 'The child is playing with something.', \"A lady is walking and she's carrying a guitar in her hand.\", 'on his side is a very huge building, and even though it is around noon time, there is no one passing in this part of the town', 'They must be selling to passers by and to other people in this town.', \"She's wearing a beautiful black dress.\", 'He is wearing a black trousers.', \"a woman wearing a black jump suit is standing and she's put a red flower on the chest of the suit\", 'It seems like this man prepares some food that he sells in this area', 'A man is in the bush resting.', 'This place is likely to be most visited by a variety of people.', 'Well not so sure but it could be that also, because there are many police officers in this place.', 'Ayoung man is jumping in the air and other people are taking pictures.', 'What is going on in this place?', 'Helping each in saving life, this is true health practice.', 'Yes I have seen them, they are alot and are wearing the same colored clothes, they should be playing a game.', \"I'm wondering why the mother hasn't picked the baby to stop it from crying\", \"In between them, there is a brown dog, maybe they are with it that's why they are not chasing it.\", 'Their skin is Chinese, you wonder the fish type our friends eat, but the salesman is of another race.', 'This building has been built in the middle of many trees it looks like a forest.', 'These men appear furious, what could be wrong?', 'One among these riders is in a brownish hat.', \"There's a red dog squatting close to the building and a black garbage bin \", 'In this market place there are a lot of stand shops', \"It's outside a restaurant\", 'Two dogs running,a black one and a red one.', \"it looks very excited to take this toy where it's going\", 'A dog is in the field.', 'They are three road signs on the road', 'They are two young men walking on his right', 'behind them are some trees on the side of the road and various vehicles are parked too.', 'A man with a black cap and a blue shirt is taking pictures.', 'On top of one building there is a picture depicting road signs', \"The child seems to be enjoying himself on his father's shoulders.\", \"They are on a hill full of sand. Maybe it's blocking the motorbike from being ridden.\", 'Where are these women and the man?', 'They are all smartly dressed with most of them in black and white shirts inside.', 'There is somewhere this woman is going, just looking at what she is wearing, how she is walking and the bag she is carrying  around her waist you can tell. Have you seen where she is going?', 'There are young ones and those who are older and are at a big pool.', 'They are all wearing same clothes.', 'The entrance of the building is closed with a rope for notification, and someone is sitting just by the entrance.', 'There is a blue cloth in the ceiling and it looks like most of the shops only sale clothes.', 'My friend look at how good this place is looking. Where do you think this is?', 'Perhaps there is something happening at this place, they must be celebrating something.', 'There are many other different women swimming in the river.', 'It seems like the dogs are just playing and not biting each other.', 'four women are passing near shops coming from different places', 'The man is putting on a white shirt while the other hand is holding the bottle.', 'It could be they are playing draft or cards.', 'There are also other people standing in the same area.', 'They are putting on black and yellow clothes.', 'They are wearing green hats and green shirts with a red ribbon on the shoulder.', 'Truly and they two are also showing off their teeth.', \"that's right, food shouldn't be eaten in a dirty place that's why this place is clean\", 'The lady looks like she knows the guy that is in front.', 'Even the place he is looks like some kind of waiting area, maybe for a hospital.', 'two men are facing upwards with theri hands raised like they are dancing', 'A man and woman are sitting down.', 'Nine people are squatting outside.', 'This man seems to be worried, what is he going through?', 'One old woman in the crowd is looking for something to buy', \"That is why I am telling you that I will take you out to remove the shame. These young people can't go out to have a good time on their own. I will also take you.\", 'Maybe she sees properly but she is looking down because she  is lost in thoughts.', 'yes it sould be a motor bike because a bicycle with 4 wheels can be difficult to ride', 'A middle aged white man is on a wagon.', 'He has really taken long,anyway first i smoke some cigerattes outside as we wait for him.', 'The man is wearing a blue shirt and an helmet', 'it like a lot of people facing that side are watching something', 'Her outfit is black and she has long black hair', 'Hahaha hahaha you were almost shocking me, as I questioned any other besides him.', 'There is one lady seated on a white chair where one dog with white fur is standing', 'They are playing a game of lotto.', 'two kids are seated together and they are eating maize', 'okay, maybe they have been brought to this place by their parents so that they can see the stars', 'there is a building behind', 'How is this boy playing this game?', \"yes it's from his heart, it seems he is alone, are they other people too?\", 'there are mountains in front', 'Behind her their is a green lawn.', 'Is it possible for him to ride his bicycle as the vehicle is coming in this same road?', 'some young ones are on the road with their bicycles', 'a woman has very long hair', 'This picture shows a young man with an two elderly people, where are these people?', 'Some are on their bicycles and some are just standing.', 'There seems to be flowers and grass.', \"that's is very true, her hair is already wet, it seems she put it in water for a while\", 'Yes i have seen they are just exchanging the girls goes infront the boy cames back.', 'There is also a very nice building that has been built at the place where he is.', 'He has some earrings on his ears', \"This woman's looks though, as if she is not impressed with her daughter?\", \"on top there is some material that's is hanged\", 'There are three people, one man walking, one woman sited on a seat while the other is standing behind them. ', 'Two white skinned men are standing in front of the people', 'This place is very nice full of mountains and trees planted close to one another.', 'They are not cheering because they first want to hear the song they are singing.', 'behind them is a huge and well maintained building', 'And the talking man is could be a lawyer, as if they are in court.', 'These men who are in two groups, others on white and others in red are playing football.', 'they are three boys wearing the same attire while the other four are in different ones', 'indeed they are two teams', 'Yea dear, all of them are in black.', 'And the people are in the middle of tall buiildings.', \"There are other people too in this room. It's like they were celebrating something.\", 'They said all children must learn how to fix and make electronic devices to prepare for the competition coming next month.', 'These horses have different colours, one is white and one is grayish and the riders are also wearing different clothes.', 'I think this person is training how to shoot a gun', 'A lady in a grey shirt and a black trousers is standing inside a room in the afternoon.', 'On is standing on this side while the other is standing on the other side, then between then is a plank on top and a fish net at the bottom ', 'What is this thing that this middle aged man has climbed on?', \"It's like it is in the night because it seems to be dark at this place.\", 'It seems like he is about to fall', 'Maybe its at home or at a bar because one can see beer there.', 'A gentleman is playing as he rolls in a ring metal, there are houses behind him and another man is passing by in black.', 'a white skinned man from England has raised his hand while holding a wig', ' A young man has a hat on.', 'They appear to  lovers and they are in love.', 'This game is hard that is why they are wearing protective clothing.', 'Shes playing in a green ground and she has a white cap.', 'A woman is sitted with a camera in the hands.', 'two young girls are lying down playing with water', 'Her hair and body are wet and water has slashed after raising the hand.', 'This game is usually played in competition between different countries.', 'A woman and a cat. The cat has bitten the person on the nose', 'young men are standing in a que', 'His attire is of a cycling competition.', \"Yes he has a racket in his hands trying to hit the ball that will be thrown to him and there's another person behind him that will catch it Incase he misses.\", 'Small children are playing.', \"these people are in the bush, that's why lights can't be on because it's still day time\", 'A small dog with big ears.', 'This man is in a pulling battle with a horse.', 'Is this man the owner of thsi shop.', 'They seem to be in a running race.', 'The man is also in spectacles and a windbreaker.', 'A small girl is playing alone in water besides the river.', 'he is wearing sothing black', 'the man is standing while watching', 'maybe he is looking at something where he is standing', 'he is wearing a black cap', \"When a dog runs like this, it means it's being called to go and get food\", 'Though, it is not really known where this dog is rushing to', 'There are trees with fresh leaves behind the fence', 'The football ground is secured by a white wood fence', 'A  little girl is being instructed by a man.', 'The teacher and the student are dressed in white.', 'The man is holding up the same board she is kicking.', 'The man is teaching her karate moves.', \"Yes there are very thick trees and these people are wearing very thick shoes so that they don't catch a cold.\", 'Yes and there are a lot of trees in this place have you seen?', 'Five people are in a very cold place and they are wearing warm clothes ', 'These warm clothes are to protect them from the cold because this place looks very cold. They are also wearing helmets.', 'The other one on the roof is wearing a red shirt sleeved shirt and a blue trousers and it looks like he wants to get down at this moment.', 'The man below is also wearing a grey long sleeved shirt and a blue trousers and is holding a stick.', 'Three men are outside, two are on the roof and one is down looking at those on the roof.', 'The two men on top look like they were cleaning the roof. maybe it was leaking and they went to repair it. They all look like they know their job well.', 'A group of people is gathered listening to what the one in front is saying.', 'Why are they wearing sweaters and head socks?', 'Because this place is really cold and has ice. That is why.', 'Is it because of the ice that they are wearing these things they have on their feet?', 'The child is is her they are just getting some fresh air.', 'Behind them,there is a building,does it mean that is where they stay?', 'Yes that is where they stay.', 'Is this the child or grandchild?', 'Look how beautful this place is, boys are palying volyball. Look closely.', 'I have seen, and they are all wearing short pants though with different colours the other side there are only two players there is one on the middle and there is a need in between.', 'I have seen they are not wearing shirts just different shorts with colors others black others red, on the other side there is something.', 'What is surprising is that the people who have come to watch are looking the other way maybe they are watching other games though I have seen something like a baloon where kids are playing, are you thinking what I am thinking?', 'The amazing thing is things have been well arranged in this shop and thy have stuck the prices for the items on the wall.', 'She looks happy because she is even laughing as she is holding the plate.', 'This shop looks like they only seel food in it.', 'You are right and it looks clean.Also they have stuck the prices to help the customers.', 'A man is sitting in the house peeling something.', 'This man is in the sitting room.', 'He does ot look very happy. What could be bothering him?', 'Maybe what he is peeling is very hard.', 'they must have gotten in through a hole at the top with ropes that they tied in their waists', 'but how did they get into such a cave becuase it doesnt look like there is an entrance', 'it looks like they just discovered this place and have never been here before', 'what are they doing here?', 'A child is walking on a plank fearlessly.', 'She is dressed in a sky blue dress.', 'A lady is being taught Gymnastics by an instructor.', 'There are different kinds of buildings and roads.', 'Down below, there appears to be houses, looks like people come to play from here.', \"This person seems to be very young, he hasn't tied a rope in his waist to help him not fall down.\", 'Men and women are outside in front of the buildings standing and others are seated.', 'To the left there are two men who are near the following building its like they have come to eat from that building where they sell food', 'The store where they are standing is a boutique and there are clothes for both makes and females.', \"It's like they have come to buy clothes but in front of them there are people who are standing on male sculptures.\", 'and besides the light skinned girl is a man playing his drums', 'all the people are dressed in the same shirts', 'A light skinned lady is wearing a blue top, black shorts and sneakers', 'she is blowing a trumplet and it seems the lady in front of her is also playing a trumplet', 'There are different kinds of lighting in this place.', 'There are three things used for  betting, not knowing which one he will go for.', 'An old man is in a building that looks like a casino betting place.', 'You are right and it looks like this is a drilling competition and if you look closely again this person in red had something with holes in it.', 'You are right, and there are people watching her. There is this man taking a picture of her who has a lot belly and is wearing something red.', 'I think she wants to drill something. If we look closely she has a drill bit and a drilling machine.', 'It is not a competition. I think this person is showing them something and how to drill using the machine.', 'A woman is in her house cleaning.', \"The table where she's cleaning looks clean and shiny.\", 'On top of a chair is a bag where she has put papers.', 'Why are these kids with side plates gathered?', 'It seems these kids are smoking meat together, this should be a celebration or they are celebrating something ', 'Four young boys are standing while holding side plates', 'On one of their sides is fire and a barbeque wire where they smoking meat', 'No, it seems he is being trained on how to hit someone.', 'A man has bent another threatening to punch him.', 'Is this man a trainer on how to fight?', \"That's not known, they could just be friends.\", 'Some gentlemen are on bikes in the bush.', 'Some of them are wearing white shirts.', 'Yea, and they are so pretty with their flowers blooming.', 'And in the sides there are nice green trees around.', 'Yes, it is setting as can be seen from the clouds that are looking redish and thick.', 'Maybe it is not dark it is because it is evening and the sun is setting.', 'The boy is white and he has black short hair.', 'A boy is in the sea splashing water as he swims.', 'Among them are two ladies with and a man.', 'Some people are sited around a table.', 'It seems as though they are worried about something.', 'They are sited underneath an umbrella and they sited outside what looks like a restaraunt.', 'Most likely, because there are a few others already swimming.', 'And the gents are so excited, everyone is anxious to go in.', 'You are right my dear friend, and they seem to be big time friends or childhood family friends.', 'Three gentlemen are without tops nearby the river.', 'Behind him,there are buildings which are white and brown.', 'A soldier with red shirt and a cap is leaning on a fence.', 'A soldier with glasses and some green flowers at the building.', 'He has paid attention in front as if he is looking for something.', 'Who brought this child to the river?', 'Yes, she is wearing a life jacket that is helping her not to drown because the river is deep.', 'She is wearing a life jacket to prevent her from drowning?', 'A young girl wearing a red swimming costume is swimming in the river.', 'Behind them are people walking and a vehicle used to ferry fuel, water or other similar things.', 'These people seem to be undertaking the important job of making sure that whatever is happening in this place goes over smoothly.', 'One of these men looks like a high ranking military man.', 'The other one is holding papers in his hand, showing the other something at a distance away.', 'The part where ropes are joined  can be seen on both sides of the swing.', 'The kid may not be alone in the bushes  because it looks thick.', 'It is very thick because there are thick trees,', 'A child is on a swing that is in the bushes swinging  with both legs raised.', 'At tyhe top of there shop there is a plank on whidh is written the name of the shop.There is a bill board on top of the shop bearing the name of the shop', 'There is a black dog outside the shop and it is looking at the old man entering the shop.', 'And there is a bicycle leaning on the door of the shop.', 'An o;ld man is  entering a shop and has his hand in the trousers pocket.', 'a man with two kids are outside holding an orange tree', 'they have uprooted it and the father and son are holding it, do they want to plant it again?', 'or is it that they want it to grow inside a plastic then plant it when they cultivate the place well as they are doing?', 'it seems even the son is digging with the father', 'A man is frying fritters and has a wooden fork in his hands and wants to turn them with it.', 'A young man is cooking wearing a black jamper and beads around the neck.', 'There is a white table behind this young man on top of which are a it and a bottle and something for the wall painted black', 'Under the table is a chili bottle and a tumbler and on the other side are fruits and foods made from wheat and maize.', 'And behind the ols man ther are people standing and some sitting. ', 'The old man is at the shore of the ocean playing with a small ball in his hands.', 'The ocean is looking very wide and also as if reached into the sky.', 'There ican be seen white clouds ion the sky.', \"But this gent also, can't he think of what would happen next if it snapped?\", 'A gentleman is playing on water even having backflipped.', 'he is swinging while he is sliding on a rope', 'he has splashed water on the river while sliding on', \"it's good because he is passing through water, because if the rope were to break he'd just fall in\", 'this man has probably closed his eyes because he has splashed a lot of water', 'The rope looks quite small. Is it strong enough?', 'It has flashed lights and the flag of America flys over.', 'This is a government vehicle of Police Services, from the top lights.', 'A service car driving by the lakeshores is amidst the fearless flock of birds.', 'And the vehicle is parked in front of the flock of birds of the river.', \"yes that's true and one has a string around the neck.\", 'Or maybe there was something one was explaining to the friend what was in front.', 'The man infront is taller than the one behind.', 'It seems like these gentlemen are looking at something.', 'Or maybe there are friends ahead whom they were watching and talking about.', 'yes it can, it looks like there are other people at this place.', 'Among these gentlemen o e is wearing a black cap.', 'Two white gentlemen are standing.', 'yes, maybe they were just visiting at this time', 'The other one seems to going round his friends while clapping.', \"That's true, one of them has lifted his hands like he is clapping.\", 'In thier smiling,  it seems they just want to dance because the audience looks happy at what these men are trying to do.', 'They look like they want to dance or they want to fight. They all look muscular.', 'Two men are watching the sunset.', \"It's for clearing the path were they are passing.\", \"It's because it is evening that is why we can't see them clearly.\", 'Why are these men not clearly visible on their faces?', 'Yes and this man is sitted besides the river.', 'I have agreed because they are sitted on the chair in the evening time.', 'And this man has put his dog on his body.', 'Yes and ahead of the man and the dog there is a small tree.', 'The dog has a cut tail and it has a black belt around its neck maybe it is used to identify it.', 'The water can be seen from where it begins and there is grass on the ground that may have been brought by the waves.', 'It can be the waves because paw prints are being printed everywhere it is jumping because it is wet.', 'A grey dog is running on wet sand on the seashore.', 'a lady is on her stand or shop', 'she is selling different types of materials', 'the bigger materials are hanged on the hanger', 'the materials looked like they are for women', 'That true and it is night time.', 'A white man is roasting meat outside at night.', 'He looks happy to be doing this job.', 'He had prepared to do this job so that a photo of him could be taken while he is roasting meat.', 'Two children are playing sound instruments.', 'What is the girl holding?', 'And they are all playing their instruments during the afternoons.', 'On her right is someone playing a white guitar.', 'She must like music a lot.', \"There's also lighting that's orange.\", 'with the look of things, she knows how to play the guitar.', 'There must be people watching her or maybe she is just practicing.', 'It seems like this lady is at a singing show.', 'They were playing the instruments in a dark place with lights on.', 'A lady is playing music.', 'This instrument player is wearing back clothings. .', 'A woman is standing while playing the guitar.', 'four people are at the shore of the beach and there are waves on the beach.', 'there is one woman, a young lady, two old men and a young man and the old woman is looking on the ground her left side ', 'the men are wearing different types of shorts together with the women who are wearing trousers. The young man present however is wearing a trousers.', 'they are all wearing shirts only the woman is wearing a green vest and a white trousers. she has her hair tied back too.', 'A big grey dog is walking in the afternoon.', 'It raising one leg and has bent as it is walking.', 'And it is walking on green grass.', \"Maybe it's tired or maybe it wants to drink water\", 'What can cause it to expose its tongue in the mouth?', \"It has just exposed its tongue and it's not biting anything\", 'A dog is walking in the grass with a chain in its neck', 'But what is biting with its mouth? Is it a tortoise or what?', \"It even has a belt around it's neck.\", 'definitely,because behind them at a distance is a house with other people sited, they should really enjoy this place.', 'A man and a woman are sited on a lawn, the man is very excited as he looks at the woman.', 'This place is very nice and looks green, people should enjoy being in this place.', \"It's like he is removing something from his hands and wearing a watch.\", 'This man is wearing a life jacket.', 'This man is holding onto the rope that is helping him move on the water with his surfboard.', 'A man is surfboarding.', 'He is wearing a blue short under surfboard has shoes in which this man has put his feet in.', 'The place has different cups showing.', 'The woman pouring beer in glass has long hair.', 'A woman is pouring beer in a glass cup on the table.', 'There are cups which are plastic type.', 'What is this boy holding in his hands?', 'A boy with small eyes is standing outside in the afternoon.', 'Very true and he is wearing a blue shirt that is white in the arms.', 'He looks happy as he is playing with this toy.', 'A man and woman are on a tree, chatting.', 'The woman is lying a little.', 'There is a house in view at a distance.', 'They appear to be friends.', 'A man has jumped whilst crossing the river', 'A girl jumps in water with clothes on.', 'He is also wearing gumboots', 'The child is wearing a boots as she jumps in water.', \"He is wearing them so that he doesn't get socked on his feets\", \"It'll be nice if this child doesn't hurt herself because the water doesn't look deep.\", 'There are very big stones in this river.', 'The water has stones on one end and grass on the other.', 'What can you say about his long foot steps?', 'in front there is a lady standing has a bag on her shoulder', 'there is a big blue building', 'there are a lot of things in the room where the man is', 'a man  is bending and holding a box', 'A  boy  wearing a white shirt and trousers with a yellow robe is exercising', 'The boy is standing on one foot and the foot is in the air. He is paying attention to what he is doing because his eyes are focused at one point and he is using all his strength', 'What is this boy doing to exercise the body?', 'This boy is learning the sport called in English karate. It seems there is someone teaching him', 'And the man is the one carrying the baby, This looks like a loving family.', 'A man and woman are with their baby.', 'They are here to buy stuff for their home.', 'It seems they are in a super market and this man is wearing a red jumper.', 'The cups in it are all similar.', 'The room looks nice because things are well arranged.', 'And she looks happy because she knows the food will be ready soon.', 'White young people are playing basketball.', 'Two gents have ran fast, are they trying to catch the ball?', 'Well, this game is played in a way that one player needs to run past the ball catcher to the finish line.', 'And just the way you have explained it, this sport sounds interesting my dear.', 'Two quards are checking if the train is ok.', 'Is this not the train which needs to start off soon to another area?', 'Yes this is the train,there was just a small problm they were fixing.', 'Because they said that people should come early but how possible is it that the train is not in good shape?', 'It seems these are on a journey, looking at how they have their bags on their backs and they all are wearing helmets.', 'I have seen, They are climbing a hill and there are a lot of rocks. That is why they have metal canes.', \"People exercises I'm different ways, but these people in the picture are wearing metal shoes. But have you seen what they are doing?\", 'You are right. These people are climbing a mountain and this mountain looks smooth and it has sand.', 'yes the ropes are too help him get down', 'is it that he wants to get off the mountain that he has ropes tied to his waist?', \"I can't do what he is doing I'm afraid of such\", \"I think the ropes are meant to ensure that while he is going down the mountain he doesn't fall\", 'A gentleman is on top of a building.', 'His has lifted his legs up while his hands ate on the wall.', 'There are two tall buildings on both his sides.', 'The buildings have doors that are made of glass.', 'there are other people in this restaurant sitting behind him', 'he has a cardboard hat on his head with only cutouts of his nose and his eyes', 'a little child is in a restaurant', 'there are some words and some drawings on the cardboard box', 'That stick was floating on water in the river', \"Why didn't it catch fish instead of a stick?\", 'A dog is in the river with a stick in its mouth.', 'Is this dog playing with its owner?', \"A brown dog is walking in water  in the shallow end of the river and it's carrying a stick with its mouth\", 'The owners are nowhere to be seen and this is a quite big river.', \"Can this dog's owner throw a stick for it into this river?\", \"It seems it thought it was fish only to find that it's a stick\", 'Maybe it is a dog that loves picking every stick it sees.', 'The child who is walking is wearing a black trouser and a strpipped shirt which is having  two colours black and white', 'The child who is having brown is with who at this place?', 'This child who is walking in the afternoon even the shadow can be seen on the ground where there small stone', 'It is like this child is just alone and as he moves his legs are leaving footprints. ', 'A lady is taking pictures of the people riding on their bikes', \"The bicycle is decorated with alot of things including it's tyres\", 'where are they situated exactly? is it outside or inside?', 'On the other side there is a huge crowd of people who are sitting and standing', 'it seems they are just outside as the dark clouds are showing and even some trees.', 'Both the lady standing and the one on the bike are smiling', 'One of the men behind the bike is holding a lady by the waist', 'a variety of people are in the same place, enjoying themselves around night time.', 'what is the dog doing in the water?', 'the water looks very clean', 'a black dog is in the water', 'maybe it was getting the ball which is in its mouth', 'And he is in a book store as we can see behind him there are books, and they are many. Have you seen them?', 'No big man that is not blood. That is just a red spot that he has on the nose. Maybe someone punched him there.', 'I have see and there is a sign behind that they sell books so if you want one, you just need to come here.', 'Is this person hurt? I think he is bleeding from the nose. Or did he just put it there?', \"That's good because it's getting late, its not safe to be on the river at night.\", 'It looks like thay are done fishing and now they are going back to the river bank.', 'Two men are crossing the river at night?', \"Yes thats true, i believe thats the reason why they are leaving because it's getting late.\", 'A man dressed in black is on top between two walls.', 'He has fire on one hand then he is only holding on to the wall with his legs.', \"That's true, these reasons are in front of a storey building.\", 'The yellow building has glad doors and windows.', 'Two dogs are playing in snow.', \"It's like these dogs are coming from the tress behind.\", 'yes because one is infront while the other is behind.', 'No I think these dogs are chasing one another.', 'This woman is wearing spectacles.', 'Behind her, there is a chair with clothes placed on it.', 'On the left hand, she is wearing a ring like one married.', 'A young woman is seated in a chair, and is smiling.', 'These are well trained dogs, they were being trained by the soldiers that came in the area.', \"Indeed tey were trained well that's why you are seeing them compete with other dogs from the city and we hope that they will do well.\", 'Yes they piced four dogs from this area to go and compete.', 'Are these the dogs that were selected to compete with other dogs from different areas?', 'A boy child is  on top of the building', 'He is holding his waist while looking down. What is he seeing?', 'He is  seeing people playing the ball on the yard surrounding', 'Every one in the yard surrounding is male and they are all white skinned. What game are they playing?', 'A woman with her three dogs.', 'A woman with a balack shirt has dogs.', 'All the dogs are looking at the woman.', 'The dogs  long and their legs too.', 'Does he only want to clean the wall or even paint it so that it can look nice?', 'A young man has climbed on something and wants to clean the wall.', 'It looks like he wants to paint it because the wall is dirty.', \"It will be a good thing if they the wall because since it's tall it Should be looking nice because it's noticable to all the people walking in the road.\", 'yeah I can see that but there is also a woman whose head is the only thing I see', \"have you seen that isn't even very bright despite the lights\", \"I can only see a man wearing a grey shirt and he's even holding his chin\", \"is little dark and the people inside it I'm not very noticeable\", 'A man is on top  holding to a green robe.', 'The mountain looks big so thats why he is using the robe.', 'Maybe he wants to go to the river.', 'What is this gentleman doing on this road alone?', 'This road looks big and people or vehiecles do not oftenly use it and there snows all over.', 'A white man who is wearing white shirt and black trouser is on the road alone.', 'This gentleman is trying to remove his red car from the snows.', 'The ball is red.', \"it even has a dog collar belt around it's neck\", 'There are also some trees in the background.', 'The man behind is wearing black with a blue trousor the one infront is  wearing  a red shirt  a green pants.', 'What you have said is true they are working they have put on protective clothes. Now what are they wearing?', 'Its good to have a job to sustain you aswell as protective cothes when working so that you safe gaurd your life.', 'These men are working thats why they are putting on helments and work suits though they have diffent helments.', 'A young girl is dancing.', 'There is a person looking at her.', 'There are baloons on the floor, her face is painted and she has something on her head.', 'It looks like she is celebrating her birthday.', 'This dog has a black mouth and the eyes too.There are small small stones where it is waking from.', 'It seems to be in the bush.', \"It has a choke collar in it's neck and it looks tired.\", 'A dog is walking on the shore of the river while looking down.', 'Yes he has really remembered her because this area has a lot of women.', 'A man is sitted while eating and drinking.', \"Why did'nt i come with my wife?'the man is asking himsedlf.\", 'And he even knows that the wife really likes this type of food.', \"It even has a shovel in it's hand playing with it, I dont know if it's taping sand.\", 'This child is bare footed and the place he is at is Sandy.', 'Maybe the people who were with this child went to find sand or just to play in sand.', 'A young child is squating and playing with sand.', \"It seems she's waiting for something or someone because she's covering her head as she's bent and her face is not showing.\", \"She's next to a washing machine, why does she look worried?\", \"If that's the case then she's tired, it could be that she's waiting for the clothes in the washing machine so that she packs them.\", \"That could be true and there's a fridge near her full of drinks.\", \"The are not even scared of drowning, it's like they have been swimming for a long time.\", 'Yes my friend, and young children enjoy playing in water.', 'There are big stones in near the river.', 'The girl is leading those behind her.', 'These children are very happy to be playing in the water.', 'The children are near the river.', 'The children has wet hair.', 'Young boys and girls are on the river.', 'she skipping the rope that she is holding', 'and close to these vehicles are houses', 'a girl child wearing a jean trouser with a grey is standing outside and playing a game', 'They have really done a good job and everyone is thankful because they have power.', \"That's why he is laughing, he is with the guys that were fixing electricity they were cracking jokes.\", 'Is this man part of the group that has come to fix electricity in the area?', 'A man is wearing an orange shire while putting on dark shades and a blue helmet.', 'the one on the middle is watching the ladies getting pictures.all there have red hair', 'a lady on the right side has a very big camera', 'there is a play and ladies with papers are the ones leading .they are standing in front with those capturing photos', 'even though the sun is out everyone is wearing warm clothes.whats happening?', 'The dog has black fur and it has raised  its ears with its tail relaxed as it runs.', 'It has opened its mouth  with its tongue removed  to help it breathe because  it is tired.', 'On the side of the road there are mountains that follow the shore  where the road is.', 'There are a lot of trees that have green leaves far  behind and the forest looks big.', 'Maybe it a building  for prayers because it is very big. There is another red building that is also big in front', 'There are alot of cars outside, maybe its a congregating place.', 'The tree has shed all its leaves and where the  dog is sitting  the grass is nicely trimmed.', 'There are green plants that have grown around the tree the dog is jumping  from.', 'this dog is running in the bush with a doll on its mouth', 'they have removed a rope on the neck and they have put a belt', 'it is wearing a belt on its neck', 'and there trees where the dog is running with a doll on its mouth', 'it looks to be running to something', 'a dog is playing outside', \"yes because it seems out side where the dog is running it's cold\", 'the dog has alot of happiness', 'it looks like the three people are related-they are family.', \"It's like the people people behind are the reason why this dog is running away.\", 'The place where the dog is running from has sand.', 'Yes, they have thrown the toy that the dog plays with, that is why the dog is running.', 'there are electricity poles behind the people and the dog', 'there is a dog with lashious fur running', 'all three are kneeling one of them is wearing a hat', 'All of them seem to be waiting for something. Perharps they are waiting for a vehicle to pick them or perharps vehicles to stop so that they may cross the road.', 'All of them are wearing winter clothes. The other man is also wearing a scarf.', 'One of the men is wearing headphones and is wearing a reflective vest usually worn in construction sites.', 'Two men and one woman are standing in front of buildings.', 'A boy child in a football pitch.', 'He is playing footbal alone without people.', 'He is wearing a blue shirt and an orange short.', 'He is wearing foootball boots a socks that have the same colour with his shirt.', 'How is this man looking?', 'This man looks fat and short and is wearing a think jersey and a hat and is raising his hands.', 'Is he merely standing?', 'A white man is on a wall that has been built on top of a rock.', 'A man is standing on a rock on top where there is a construction.', 'The  man is just alone as he is taking pictures.', 'The stone appears roundish. who else is with him?', 'Not really. he has also stretched his hands', 'How is this place where this man is looking?', 'with whom is this dog, and what is it doing?', 'it is playing on some green grass and on its left, is a small green ball that it was initially playing with.', 'it is simply alone.it is playing with the water coming out from a hose pipe, hence it is actually wet.', 'a black fluffy dog is playing outside during the day.', 'A man is seated in the baber shop and has cream on his back of the neck', \"I don't know, you know how men behave maybe he doesn't want.\", 'Even his hair looks to be a lot, why isnt he shaving it?', 'It looks like it is raining.', 'A child with shoes is running.', 'The child is running with jis shadow showing.', 'There is a car passing.', 'He appears to be a wood carver', 'He appears to be cutting the wood', 'One man is working with some wood', 'He has on a work suit', 'A white young boy is standing in the ground with a ball stick.', 'on the other chairs there are elderly and young people seated', 'and there are a lot of chairs with different colours', 'No he is not alone,he is with his parents,they went with him so that he can wath some games.', 'Is this child alone in this ground?', 'where is this child?', 'It looks like this child is immitating the players in the ground.', 'a child is standing while holding something that looks like a stick in his hands', \"there's a tree on one side\", 'have you noticed that while sitting he has lifted is legs then under his thighs is a brown bag?', \"there's a black bag on the ground\", 'a young man is sited alone on a lawn', 'he seems lost in thought', 'it seems as though he is explaining something, he has put his left hand on top of his right hand', 'a man in a green shirt and a jean is sited', 'he could be waiting for someone', 'Yes, I have, and the place he is at is full of grass and trees it seems good for relaxing', 'They have even dressed them with different cloths.', 'What are the dogs doing?', 'Maybe there is a running race.', 'Four dogs are in the ground.', 'A shirtless man wearing a black hat and glasses is on top of something.', 'He has a big black light, the kind that people who do house plays use or those that sing on stages that he is placing nicely.', 'There are many metals where he is and This man is even wearing headphones. What is he having in his hands?', \"It's true, this man also has tattoos on his right hand up to all his back and he is facing this side.\", 'Those two can be together they can even be lovers.', 'The man with black hair and the lady with whitish hair seem like they are together.', 'The man who is wearing a hat is leaning on the wall and he is wearing a white  warm cloth with black lines.', \"it seems that an event in the evening. one man is wearing a black hat and he's holding your phone on his right hand.\", 'The ground where the dog is playing has green grass but has patches where there is just sand.', 'A big nicely fat dog is running while carrying what looks like a playing toy using the mouth.', 'while running it has raised its ears as though it is playing.', 'where there is no grass , there is white sand while the remaining parts have grass which is not trimmed.', 'and behind him is a man is a brown jersey and a group of people playing a different game', 'children are playing on a lawn and they are wearing yellow shirts', 'what game are they playing?', \"right, behind them is a man that's covered himself with a green blanket\", 'A white building with blue labels is afar behind him, written as Vive MotoGP en TVE with one on top.', 'A motorcyclist is standing nearby his black ride.', 'With his handlebar up, he is then rounding about his motorbike.', 'A man is on a motor bike with one tyre up.', 'He is putting on black clothes and people are watching him.', 'He is wearing a helmet.', \"His sports attire is of a black coat, blue trouser, and in his bike's tires a yellow line.\", 'There are people in the sides watching the man.', 'He is wearing a black helmet and black shoes.', 'He is sleeping on black wood.', 'Yes it is true he is leaning his head on a pole covered with beads.', 'It looks like the reason why she has covered her face with a clothe is due to the sun.', 'A woman is sleeping down while covering her face.', 'An old woman with a black shirt is sitted on a chair near the road.', 'A red chair is near the building.', 'She looks like she is waiting for somethig.', 'It looks like hs looking at something through the glasses she is wearing.', 'Behind him there is a straight tree and further back there is what looks like a shop where they sell food.', 'And he is raising his hands in the air and is wearing a white shirt.', 'He has worn a white shirt  with a green short that  has flowers drawn on it  and white shoes.', 'Have you noticed how nice the place looks?', 'A young boy is standing on a small  thing that has been built with  his hands raised.', 'Yes this place looks very nice with no litter around.', 'The person can be in the city because there are a lot of vehicles that can be seen behind and a tall building .', 'He is also wearing a green short with black lines and also white shoes and white socks.', 'A young boy is standing on a rock.', 'A person has thrown a big stik in the air.', 'The dogs look like they are chasing each other.', 'He is putting on warm clothes.', 'There are two dogs near the river.', 'This white skinned woman looks like she is happy.', 'This woman is wearing a white top.', 'This poster is white in color and has black and green writings.', 'What is the written on the poster being held by a white skinned woman?', 'two young men are standing on the road announcing what they are reading on papers', 'they are also buildings and the men have long hair', \"there's a young man and lady standing behind them\", 'they are wearing blue shirts', 'They have put a red rope around its neck.', 'There is a bowed man behind it.', 'Why has he bowed?', 'He is holding a rope on his left hand.', 'These men in this place are with huge machines that they use to make rails', 'How does this place full of these people look like?', \"This place that's in the bush is full of tall, huge, green trees\", 'All the children are putting on small shorts.', \"It must be hot because there's some water that has been splashed.\", \"These children seem to be playing in the water or it's raining.\", \"There doesn't seem to be any rains, it's just water being splashed.\", 'They are putting on blue shorts.', 'The place is near the river.', 'They are putting on swimming shorts.', 'Children are playing on green grass.', 'Three white young children without shirts.', 'Yes these are worksuits. They are even wearing helmets to protect them from falling objects and safety shoes to protect their feet.', 'Three young men are mantaining the road.', 'They are all wearing the same clothes.', 'Yes I have seen. They are using the shovels to repare the road which has a lot of potholes ', 'no it seems that they are actually coming out of the water and they are out already', 'and on the other side are boats', \"oh, that's right, among the ladies that are sure, over of them is putting on shoes while the ones standing seem to taking a picture\", 'are they about to get on the river since they are carrying a boat?', 'They are wearing the same because they are in church and are about to start singing. They are choirs.', 'Yes. That is why they are even putting where to put their songs as they sing so that they can be looking at them.', 'You are right and they are wearing similar black skirts and blue long sleeved shirts.', 'Another think I like is this stage nice and has been well kept.', 'Two men are on the river helming a boat.', \"If these boats capsized they have clothes to protect them so that they don't drown.\", \"Yes they are very small and they can drown them if they don't know how to swim.\", 'Have you seen that the boats they are in are very small?', 'Two old men are in a river during afternoon time.', 'There are even high mountains on the sides of the river.', 'They are on a river in a boat.', \"Yes each man is on one's his boat.\", 'Andjt looks like another man is on a red boat.', 'A young man is looking at the window.', 'A white man is lying down.', 'He is also holding a book.', 'On the left side there is a book.', 'On his right side there is a black bag.', 'He is wearing a green military kombat.', 'Yes, with his shoes and bag down.', 'He is wearing a soldiers uniform.', 'A child is with an old lady.', 'A woman is with a baby that is seated next to the fires, the woman is cooking something.', 'They have also made fire you warm them and they are cooking something.', \"Maybe it's very cold that's why they are wearing warm clothes.\", \"It's like these people left there house for a short period so that they can stay outside for a bit.\", 'Both are putting on warm jerseys.', 'The place has other people walking others seated.', 'But it looks like they are in winter because the clothes they are wearing are very warm.', \"Yes thats it, it's up to you to decide when you can go to such a place.\", 'I like how the boat is looking. It looks white and clean.', \"The boat doesn't seem to be very big. It is of medium size.\", 'A woman is in top of a boat.', 'Then she has something round with a rope tied to it that she is lowering into the water.', 'A young man with hair is sited inside a building. My friend, would you like to have such hair?', 'Yes he loves doing so, that why he is sited on a chair next to the drums and I really love how clean his shirt and shorts look', \"It can't be dirty because they clean it everyday, this man is playing the drums, he enjoys doing so.\", 'The man near to the trees is walking while the other three are discussing using a book because the man with glasses seems to be reading a book', 'Four  people where there one woman and three men are in one place', 'How is this place looking in the eyes?', 'This seems to have alot of trees and bicycles', 'The one on the right must have made her friends laugh, because the middle one has laughed so much.', 'You just know in childhood, but the one on the left side is not smiling as if unaware of anything.', 'My dear it is said that the community always has that idle one, she is just rigid to realize how funny that is.', 'These metal rods are at different distances, one at a higher level and another one at a lower level.', 'The dog is jumping on three metal rods.', 'A dog is in a play field alone during the day.', 'It seems the place was a farming  field  and after harvesting dirt has remained.', 'It can be ther was a field that is why the dog has been playing in the dirt until it has become dirty.', 'A dog is laying on the ground while it looking infront with one of its legs raised in the air.', 'It seems the dog is playing in the soil and it is  happy.', 'It looks like these dogs are came here to play because they are playing.', 'These two dogs have different colors. The bigger one has white on the belly and grey on the rest of the body while the smaller one has a brown color with white spots.', 'What are these two dogs doing in this large forest?', 'It seems the one that has been bitten is less stronger than the one biting.', 'One of the dogs has bitten the other on  its neck.', 'They are in a bush.', 'There is no any other person apart from these dogs.', 'Two dogs are fighting.', 'How do these dogs that are not very fat looking in your eyes?', 'in the fight these dogs are having ,a dog with  red fur is biting the top lip of the other dog', 'the dog with white fur has a big head and it fat than the one having red fur', 'A brown dog and a white dog are fighting', 'the dog fighting ate not the only ones where they are playing from, behind these there other dogs having red fur sitting', 'Two men are standing chatting, a gentleman is then passing them by in the car side.', 'And the area the two men are standing by seems like entrance of their work place.', 'That is what life is all about dear, as a man you ought to have it anyhow else you hunger.', 'Indeed my dear imagine, he may have somewhere he is rushing to, modern gents are about so much more.', 'He is wearing a white shirt.', 'The man looks to be serious with what he is doing in the shop.', 'Yes and it looks like they only sale kitchen utensils.', 'two ladies with long hair and dressed in the same type of clothes are taking a walk', 'they even have the same type of hair, can these two be twins?', 'yes they can be twins, even their bodies look the same', 'and it seems like they are going somewhere together', 'She is on a sky blue boat.', 'She is at sea steering her boat.', 'She is fearless at sea.', 'She steers the boat alone as she heads towards the shore.', \"People are walking in the road nd one mother is holding her child's hands.\", 'The mother is taking te child for competition and other children.', 'The child looks like she really knows and the best in dancing,she can even win.', 'That is why the mother wants to her her by herself so that she can witness.', 'One man is even having a black bag behind him.', 'Two men with one man are standingin a crowd of people.', 'One man is putting on black clothes and the other one is putting onbrown clothes.', \"mikado's people are outside\", 'Are they at the station or they are waiting for soething?', 'They are waiting for the bus.', 'what what are they doing', 'some are sitting some standing', 'they are all wearing jerseys it might be cold', 'The child is dressed in a red top and bottom', \"Both are looking somewhere, it's like they have seen something.\", 'And this very house is surrounded by flowers.', 'That is why there is even a flower on the entrance.', 'the lady and the guy on her left are light while the one on her right is dark', 'one can conclude that he is the only one that knows where the camera person is the other two are looking on the sides', 'yes indeed they are, the dark guy is looking at where the picture is being taken', \"A young lady is taking a picture with two men and she's holding one on her left and the other on her right\", 'Yes he looks very young and his father is sited on the side facing outside, the place they are in is full of beautiful trees.', 'And on the left is their child given to drive them, some kids are quite sharp.', 'Yea it is, they are training them to be self reliable for anything in life.', 'Yes I have, the one driving should be very young such that even his small head is barely showing.', 'This picture shows a big car with huge tyres with some people in it, have you seen the person on top of the vehicle?', \"Yes, it is a lady sited holding on to some rope so that she doesn't fall off and get her neck broken.\", 'The place they are in seems to be a zoo.', 'You are right, even a lady standing up is having a good view of wildlife.', 'No I think this dog was in the hills.', 'This place looks like a bush.', 'yes I agree because this dog looks tired.', 'One whitish dog is running on the road', 'Yes and this dog looks happy.', 'This dog has its tail up when running', 'Besides the road there is green grass', 'This dog has opened its mouth and barking', 'The old man is playing with dogs.', 'The place where they are, looks nice and there are green  grasses and trees.', 'Where are they?', 'An old man is with two dogs on the grass.', 'They are at the playground.', 'This area looks like one of those parks white people have in their countries where they go rest. They also preserve the grass and the trees in this area', 'An old white man wearing a short-sleeved shirt and a short is playing with his dog in an area where the grass is green and well mowed, there are also some trees there', \"Is this old white man just playing with his dog or he's teaching it some tricks? White people love teaching their dogs how to obey commands. They usually want a dog to jump when they say 'jump!' and for it to sit when they say 'sit!'.\", \"That's a good question. this white man wants his dog to jump and grab the stick he has raised above it. He is teaching it to obey his commands, so that on any other given day he can simply say 'jump!' to it and it would jump without having to raise a stick above it\", 'Behind the dog in front,there is another dog trying to reach fast.', 'A grey dog is running in the ground full of sand.', 'A brown dog is playing in the ground and running to win.', \"They have a white thing on the dog's mouth.\", 'The dog behind can only be seen with legs.', 'It looks like they are games to make the dogs run.', 'The dog in front has something on the mouth.', 'It looks like these dogs run a lot.', 'Yes they have trained the dog well.', 'Yes, he has come to visit his son, daughter in law and his grandchildren.', \"But this doesn't look like his house because he has big and it looks like he is just resting. Have you seen?\", 'This old man is seated at a building, wearing a white shirt and a green trousers.', 'I have seen and it looks like he is clapping. Maybe they told him to sing. Just looks at what his mouth is doing.', 'Yes, is this old man coing from the village to come and visit?', 'It looks like he is waiting for his son to come and pick him up o that they can go home.', 'Who is this old man waiting for at this place?', 'An old man is sitting down besides him are his bags and a paper.', 'Maybe they are friends or lovers and one is showing affection to the other in this manner.', 'This woman is playing a guitar and singing at the same time.', 'Or she is of those who play music at the roadside and the man just stopped by to listen well to the music.', 'Is she playing and singing only for this man?', 'How is this young man in the store looking?', 'This young man has long hair and a big long nose.', 'This young man is looking at the items before he buys them.', 'What is this young ma doing ati this time?', 'This woman who is wearing a flowerly dress looks like is the mother of these four children.', 'Young men are in front of a large building.', 'The young man on the left is wearing a suit and has glasses on.', 'Two young men are chatting and one is even smiling.', 'There is a light shining on top of the building.', 'The dog has picked the toy for the child.', 'He also likes to throw it,but the dog likes to pick it and brings to the child.', 'Because the child also likes leaving the toy outside.', 'Yes ,it usually does like a human being that is ahy the owner likes it.', 'It seems it is getting dark and behind the man there is a vehicle and a tall building.', \"it can be that he doesn't see properly but the surprising thing is that he's not afraid of losing them as he is sliding.\", \"he is wearing glasses it can be because he doesn't see properly in the night.\", 'Behind the tall building there are tall trees. He is wearing a green short.', 'I can see the legs too, it looks like this is a community with a lot of people.', 'The place the boy is at looks like a village and the occupants are near.', \"I can even see two lady's legs at a building. Maybe that's where the child lives.\", 'A young boy without wearing a shirt is standing.', 'there are also wrapping machines in the building. one looks black and the other one looks grayish.', 'this picture is showing different umbrellas with different colours. others are red, others are blue and others are black. where do you think this is.?', 'this is just some building and inside it is where there are open umbrellas', \"true. it's like they came somewhere when it was raining but now they have left their umbrellas open so they can dry. what else can you see\", 'This man looks like he works in the construction of very big buildings.', 'Or someone who fits water pipes in buildings.', 'Indeed, you are the one who has spoken. He just looks like someone who works on big things, maybe even these pipes.', 'it is a tidy place and this man is wearing a hat', 'an old man is playing with his dog', 'the dog is running along with the old man and there seems to be obstacle courses around the area in which this duo is', 'it seems he is responsible for where the dog passes', 'A man is in the stadium with a dog running on his side', 'him and his dog are both running and it looks like this old man is trying to teach his dog something', 'he is wearing a red shirt, black jeans and a black hat while he is running', \"there's a chubby woman sitting in a chair nearby who looks like she came with this old man\", \"This dog has very shiny fur, it's neck, it's mouth and it's feet all have white fur.\", 'yes he is standing outside the fence', 'behind there is a person watching a dog jumping', 'it has jumped alot of metal rods', 'the dog is jumping the metal rods', 'On the edge of the field are some people, this dog is not here alone, they are people here to watch the game.', \"I have seen it is focused on where it's running with it's mouth open as it jumps the painted bars that have been put up.\", 'this dog is jumping in side the sports field', 'This dog is well taught and here to play or compete in this game of jumping over the bars', 'A man is sitted while talking on the phone.', 'He is looking so happy with his legs on the pipe.', 'Have you ever done this before?', 'Yes i have done it before,it is very nice.', 'some children are sited, done are eating while others are just sited', 'and they are all black children', \"no I don't think so from the way they are dressed, they look like they are orphans at an orphanage\", 'are they school going pupils?', 'And his hair looks filled up with sand.', 'This sand looks white in color.', 'And I think this boy was swimming then he decided to play on the sand afterwards.', 'A boy is sitting on sand.', 'three dogs, two big ones and one small one are in the forest.', 'It seem these three dogs are fighting for food. The two big ones have bitten into something that they are fighting for.', 'There is a smaller dog following the two bigger dogs behind.', 'Do you think these dogs are alone or with someone?', 'What are these dogs doing at this time?', 'How are these three dogs that are fighting for food looking?', 'A small one and one big one look reddish while the other one has black and white colors.', 'Three dogs are playing in a field of green grass.', 'These dogs are with somebody, and they are playing with a toy.', 'The rest are walking on their own.', 'People are sitted on the nice grass.', 'The people are sitted on a slashed grass.', 'The place looks like a school.', 'They are walking in the grass.', 'Six ladies are seated on the grass and behind them is a man in a tree.', 'It looks like these ladies are at college or university.', \"Yes you are right my friend, and it's like they are having a group discussion.\", 'What could be the reason why the other lady is kneeling out of everyone?', 'It seems it also wants to jump in because of how it has opened the mouth. The small ball is orange with blue lines. There is a big tree at the front.', 'One of the two has jumped trying to catch the small ball.', 'The field has green grass that is nicely  trimmed while it also has some dry grass that may have been cut.', \"The dog that  has jumped has raised it's fluffy  tail as though  it wants to do a flip because it has turned it's  head to look at the ball.\", 'Dogs that have white and black fur are in a feild, one dog has jumped as it tries to bite a small ball.', 'There are even trees near this play ground. And if I look closely I can see a vehicle passing.', \"The play ground looks very clean and there's no any visible dirt.\", 'The other dog is on the ground squatting as though it is waiting for the other to fail to catch the ball so that it can also jump.', 'she has white hair', 'very much,she is joyful', ' She is wearing a stripped white and black shirt with grey pants.', 'a child is swinging', 'This picture shows a little girl or boy that looks very happy , have you seen how happy they are?', 'Indeed! It seems she is enjoying swinging where she is and she has white hair.', 'she feels nice swinging on a swing', \"That's true, swinging from one side to the other is very thrilling and enjoyable, what clothes is she wearing?\", \"Indeed that's how she's dressed, the swing is really strong made of hard metal.\", \"I think it's just food they sell because many food shops don't sell other things\", 'and this is a shop were they sell different staffs', 'So do they just sell food or even other things', 'this big man is turning chopsticks of meat', 'A dog is in the play ground playing.', 'It is looking at something that has been thrown to it.', 'These look like they are very big fields.', 'and there is very beautiful green grass.', 'It even has its tail raised which has a lot of fur and has its legs bent in readness to jump.', \"It's true it wants to jump after what is in the air. \", \"It seems it's about to jump after  it to catch it with it's mouth.\", 'It must be with its master. He should be training it on how to jump .', 'A dog is on the grass and they have thrown something at it and it is looking upwards.', 'You see. Do not think more of yourself. This looks like the seashore because there is mud but have you seen what the child is wearing?', \"Stop looking down on me! You think I haven't been to school? Ok but honestly I don't know the meaning of what you have just said.\", 'I have seen. He is wearing a shirt and a blackish shirt with red in it and he is also wearing a black hat and is looking to the side.', 'You come and see children who are more intelligent than you. I think even in your childhood you never made anything like this. Am I lying?', 'the kids are playing on the grass', 'there is a big house and a lot of flowers just near to where the kids are playing', 'there is a lot of short green grass where the kids are playing', 'there are two girls and one boy', 'The groups are from different countries.', 'Are these children alone or they are with elders?', 'The children are with their parents in the house.', 'Three children are rnning on the gree grass.', 'These children are very happy they are even putting on white and red clothes.', 'He is ascending and descending.', 'The bicycle is red in colour.', 'He is also wearing proper attire for riding a bicycle in.', 'one woman is sitting and the other is standing. Where do they seem to be going', 'Two women are at the bus-stop.', 'The friend is sitting with the chin in the hands. Perhaps the worries of life are too much.', 'Not sure whether they have just come from work or going. One of the women appears to be wearing work clothes.', 'There are people behind.', 'A man is playing on a white wall.', 'T5he mn with a white shirt is on the white wall.', 'He is playing in the night.', 'A woman is selling fruits outside  the building.', 'Is this the woman who sale fruits outside the building?', 'Yes she has made it to be a selling point for her goods.', 'For sure everyone likes her ,because that is the only source of income she has for her family and children.', 'Amongst the players there are both white and black people and in the ground there is a net for scoring goals.', 'The other is wearing reddish shirts and white shorts', 'Amongst the players one team is wearing yellow shirts and black shorts', 'In a football ground there is a crowd of people', 'who else is this little boy with?', 'a little blonde boy is wearing a blue jersey, a black trousers and red shoes in a field.', 'behind him are people seated and one of then has a child on their laps.', 'definitely not.it is simply jumping on the side of the chair.', \"There're trees and electricity poles nearby.\", \"there's a spotlight where he is standing.\", 'It seems it is night time and he is playing in a road.', 'A man is skateboarding.', 'Just as you know about kids, fir him that is hight.', \"My dear but won't this kid hurt himself while doing so, because the heights are so big.\", 'Exactly, just as you can see he is not even concerned as long as he is doing what he desires.', \"Yes there are tall hills. It's surprising why they would chose this place for celebrating because the place does not look like it's occupied by people\", 'And this place they live in looks like a place of hills and trees.', 'Maybe these people like cold places.', 'There are people at this place that are acting a film to please people.', 'One is in front, one in the middle the other behind', 'The guy in the front is happy because looks like he will come out first in the race', 'There are three men running in total', 'Two men are running on the road', 'Three men are fighting for money.', 'There are people watching this game.', 'They are playing hand ball.', 'These two are putting on green clothes and some are putting on yellow clothes.', 'Why is he looking happy?', 'He is wearing a football attire labelled number twelve.', 'The boy happy and he has painted the cheeks.', 'A boy standing holding a ball.', 'Two men are are riding on slate boards on the road. others are standing watching those skating.', 'Among the men behind one is leaning on the ropes while the other is just holding it with the left hand', 'On thr side of the road there are three men standing watching the others as though they have already lost.', 'On the side of the road there is a bush. They have put a rope to demarcate the road and the bush.', 'these children are wearing similar clothing and white hats', 'what are these children doing in the middle of this gravel', \"the older people are simply watching with these children are doing these older people might be these children's parents\", 'they are doing different things some are sitting some are kneeling some are are clapping', 'When running,it is even removing dust with its mouth open and ears.', 'It looks like the dog is going somewhere.', 'It has a blue chain in the neck.', 'A black dog is running on the sand.', 'A white man is jumping on a white wood with a bike.', 'He looks like he still has strength.', 'His he very tired?', 'Yes it is true and he is putting on a helmet.', 'Both of them are on white garden chairs.', 'He then wears a white top with thirty years labels under.', 'She has black sunglasses on and the man a red cap.', \"A lady is leaned on to the man's arms on a chair.\", 'he is skating on his skateboard', 'what is he doing and why is he dressed this way?', 'yes you are right, his skateboard is white', 'he seems to be enjoying what he is doing', 'A man and a child are on the playing ground.', 'Look at how this will hurt the friend. They were playing and this one did a tackle and hit the friend in the legs and now the friend is in the air.', 'They also have a ball, maybe they are playing.', \"Maybe he doesn't want the child to fall on him.\", 'The man is laying down covering his face with both hands', 'If it is this one below, he is very scared that he has even put his hands up so that the friend does not fall ok him.', 'This one will just fall on the ground. the one below wanted to hit the ball but hit the friend instead and raised him high up.', \"I love how this place is looking. It is nice and we'll watered.\", 'A child has jumped with hands up.', 'They belong to two different teams', 'They are competing because the one who is dressed in black is also marking to get the ball', 'Yes these are the ones, the game seems to be very competitive.', 'Are these the most liked teams in the country?', 'The one who is dressed in white is one who has the ball and he is the one pushing the other', 'These are footballers', 'Two mature men are football', 'a man is walking on the road', 'the road is along a marker', 'you can also see houses', \"there's a group of people behind the man\", 'And on the ground is a red garment.', 'The child seems to be used to this.', 'It appears, though he should hurt himself while being caught.', 'The baby looks happy.', 'I am thinking there seems to be someone on the ground as the baby is in the air.', 'A little boy is in mid air.', 'He sseems to be very happy, the way he has opened up his hands. Maybe someone is trying to catch him.', \"He's not putting on anything on his upper body, he's only wearing a trouser.\", 'A kid has jumped from the top of the table to down where there is a blanket.', 'A child is playing with toys on a table made of wood and glass.', 'Where is this child playing with the toys from?', 'This child is wearing an orange shirt and a reddish short.', 'This child is playing from the house and some of his toys are yellow while others are black.', 'are they celebrating something?', 'they appear to be taking a photograph', 'what are they doing?', 'three persons are standing.', 'they seem to be celebrating leaders as they are having posters having names of these leaders.', 'very true. the entire crowd is happy and they really enjoy campaigning', 'an older woman is holding on to her bicycle and she seems excited to do this job', 'the older man near the side of the older woman is also standing with a blue poster and he too, is happy.', 'three white people are campaigning for a leader whose picture is on a poster', 'I think this police man is trying to light up a lighter so that he can smoke.', 'The area at which this policeman is standing are tall buildings which look like houses.', 'Behind a policeman there is a car passing behind.', \"Yes that's true and there is a police man standing besides the road.\", 'One looks very happy to have seen the other.', 'Two young men are standing in front of a building during the night.', 'They are standing quite close to each other. It seems they are about to take a photograph.', 'What are they doing outside during the night?', 'The young man on the left is shorter than the one on the right, and is even carrying a bag on his shoulder.', 'It is so dark outside that you cannot even see what is behind.', 'Perharps this is a chance meeting and that is why they have decided to get a photo.', 'They are both wearing jerseys as well as grey hats.', 'Two white men are standing.', 'There is a road behind him.', 'The loan grass looks healthy.', \"The child is up high'\", 'The whole place looks clean, maybe they maintain it well.', 'He is paying attention to what he is doing and on the wall in this room is a picture of a man and woman.', 'He is wearing a black and red jersey.', 'What is this  white man who is wearing a bluish hat is standing in a room doing?.', 'He is bent over, it seems he is looking at something like a phone.', \"Among them is a lady in a white crop top holding a bottle and her hair she's talking to a young man.\", \"It's clear all the people are doing different things, like on the red table near the young are beer bottles.\", 'This building is full of young ladies and men.', \"It seems it's during the night, what are they doing?\", 'What is this person doing there on the water', 'A person is sliding on the water with a heavy current.', 'At this place, there is water and so many trees', \"The way this heavy current is foaming, won't this person drown?\", 'Not really dear, as the person seems a professional swimmer.', 'It maybe playing skate boarding', 'Seeing how they are not hydrophobic,they are good swimmers.', 'Besides the water, it looks like there is someone', \"The water has gone up and besides as if it's raining\", 'the groom is wearing a black suit', 'they are standing at a wood fenced place', 'the bride is wearing a white wedding dress', 'a bride and groom. are holding a flower', \"the dog's fur is scattered\", 'the person is hiding only his leg and the arm are showing', 'there is a person standing in front where the dog is jumping', 'the dog is black and white in colour', 'There is a tree outside with a lot of leaves.', 'And there is a long curtain on the window.', 'A woman is sitting in a room near a window reading a book.', 'The curtain covers the window during the night.', 'A group of people is looking at something in front of them.', 'What can be they looking at in the dark place?', 'Why is the lady holding her head with her hand worriedly? ', 'She is completely taken by the movie.', 'He is putting on a white shirt and a blue trousers.', 'There is a box he is standing on.', 'A man is under the hill.', 'This hill looks like red and brown in color.', 'A boy and an old man are inside a room.', 'What are this boy and the old man wearing?', 'The boy is holding a metal that has four layers and is even raising the left foot.', \"If it's this one with black hair he even has something around his neck.\", 'It looks like they know how to play the drums well.', 'The one on on the other side even has a head covering.', 'Two young men are playing instruments.', \"That's how it looks like, the lady wearing white clothes seems to be thinking a lot about what they are discussing and reading.\", 'Two women with a man are seated. One woman is holding a cup in her hands, while another woman with a man are reading a book.', 'Looks like they are discussing a topic they learnt in college.', 'It seems they are students at some college. They must be in the bedroom.', 'what are they doing where they are standing', 'the one on the right has stretched his hands', 'three men are standing', 'they are with bottles in their hands', 'They are protesting about air pollution, the companies are producing a lot of chemicals in the air.', 'Others are having head socks on their heads.', \"It looks like it's very called because everyone has body warming clothes.\", \"Indeed, they are upset with what's happening to their environment.\", ' A  young man on a bike riding with one hand', 'a young man riding a bike', 'The ground is covered in grass.', 'The young man his bike is in the air', 'Indeed, he is so high from the ground.', \"He looks like he's jumping over a small hill.\", \"Seems he's doing some stunts on the bicycle.\", 'Under dark clouds.', 'Some words have been written  on the  wall of the building.', 'Behind him is a goal post that they use to score  during the  game.', 'He is trying to defend his team by not allowing the  other team to score.', 'He is standing at the goal post.', 'there are some houses and some grass behind them', 'one of them is on the left side of the slide the other is on top of it and the other is Midway down the slide the one sitting which really shocked like he has just seen something very surprising', 'these children are wearing similar clothing and one of them has something white hanging out of there pocket', 'it looks like they are in the play park', 'A dog with brown fur is in water swimming', \"the water is not deep so it can't drown.does it have a tail\", 'the eyes and mouth are black because the dog is white', \"it has a long tail even though it can't be seen clearly\", 'There are buildings at the end of the river.', 'Men and women are walking on the grass while putting on same clothes.', 'Everyone is putting on caps and holding drums to play.', 'Nearby there is a blue river.', 'what is that behind them', 'they are all playing where there is very short grass', 'it is a tall building which looks like a house where they stay', 'a man is playing with his children', 'She is wearing a dress and sleeping on a grey carpet. Where is she and what is near her hair ?', 'She is just alone and near her head there is a drinking  bottle.', 'She is crying out loud and is raising one hand in the air and the other is near the face.', 'Who is she with?', 'A girl child wearing a diaper and white socks is sleeping.', 'A girl is sleeping on the floor.', 'What is she doing on the floor?', 'It seems that is a grey chair and she must be in the room of the house. That orange and blue thing behind is a cattle for warming water.', 'She is now crying and she is upset.', 'Yes they like it because every morning they want to be looking at it and feel nice.', 'Yes because the wife is a very clean woman she has even put nice pictures of the children on the wall.', 'A man is shaving his behead with a matchine.', \"The husband answers her'do notworry my wife i am going to shave'.\", 'the dog sitting is under the black dog on the middle', '3 are black and the other is white all of them have plenty of fur', 'these dogs are wearing collars', 'three dogs are standing in one is sitting in the snow', 'A man wearing white has jumped and be has a ball in his hands .Are those wearing black lifted up their hands?.', 'yes , because they are competing and the goal post in very high on top', 'yes because they are abstracting him from scoring a goal.every one in the sports field is tall and black skinned', 'Among tht men in the group others are wearing white and others are wearing black', 'yes because it stepped on mud as it was jumping', \"it has mud on it's legs\", \"looking at how it's jumping you can tell that it has been well trained.\", \"There's a lot of sand on this seashore.\", \"it's jumping in water as it is running\", 'there is less water and alot of soil', 'the dog has jumped in water', \"It's like the dog wants to jump the on coming water.\", \"Apart from sand there's also a lot of mud because even the dog looks dirty.\", 'The one holding the cloth that seems to be a flag is responsible that the game is being played fairly.', 'One has held the other as though he wants to fall him down while two players are are watching from behind.', 'The referee is also watching while holding a cloth that seems to be a flag.', 'Two men are chasing after a ball in the playing field where there are a lot of fans watching.', 'these women look older in age, and everyone present in this classroom has come to learn how to knit', 'the woman in a black dress is even attempting to actually knit something on her own, as she is learning', 'three women are seated in a knitting classroom', 'He is standing outside and there is a stand in front of him.', 'This man is wearing black clothes and white Snickers.', 'I have never seen a guitar this big! It is a marvel.', 'And he is playing outside the building.', 'What is this young man wearing bluish shoes and a black helmet for protection against accidents doing?', 'He is pyiong the game of  skating on the tarred road.', 'He is wearing blue shoes and a black helmet on his head.', 'During the afternoon, a man is squatting on a tarred road ready to play a game.', 'This is a game that adults can play with children', 'One child and one white skinned man are sitting at a table', 'What are these two doing here?', 'That is because as they play, the child is learning something and also training their mind.', 'The man is eating a maize cob and the woman is having bracelets,', 'The man and woman are looking at each other . What are they doing?', 'There are a lot of people behind where they are sitting. What are they doing?', 'A man is riding a bicycle.', 'What type of clothes are these two white men who are on the tarred road wearing?', 'These two white men who are on the tarred road look fat and tall.', 'Two white men are moving on the tarred road.', 'How do these two white men who are on the tarred road look like?', 'a boy is kneeling on the floor while holding black pad that the girl is kicking', 'A young girl and a man are in a gym.', 'in the building, there are only blue and red lights', 'The man who is the trainer is kneeling while teaching her.', 'This young girl is bing trained how to play karate.', 'There are other people in this room who are watching the training session.', 'behind their is undressed mannequin', 'there are peolpe that waching behind as well', \"a young girl is in a room whereshe's been taught karate\", 'these tares have been put alongside the river', 'one man is wearing red clothes', 'on top of these tares there is a person standing', 'two people are in stagnant water in the tares', 'These two people are just showing their skills to the crowd', 'Two men are playing in the middle of the crowd', 'They are watching two men between ladies and they are paying attention to what they are watching.', 'A lot of people have surrounded them and they are watching', 'What are all these people doing?', \"On these two people's show, one is laying down and he has put his legs between and under the thighs of his friend\", 'What game is it that they are playing?', 'It is surrounded by lots of storey buildings and is tarred, but where they are dancing on a a black and white cloth.', 'How does this place look?', 'where is this lady?', \"she's wearing a suit, she should be talking about sensible things\", \"A woman is standing and speaking through a microphone and there's a table full of papers near her\", 'It has jumped high to get over the fence surrounding the yard it is jumping into .', 'Can it be that the wild animal is being chased where it is coming from?', 'It is jumping into a fenced area that has nicely trimmed grass.', 'A wild animal with grey fur is running as it is crossing the road coming from the bush.', 'There are very tall trees and houses in this place.', 'Two have black fur while the other one has white fur.', 'What are these dogs doing here?', 'They are playing in a surrounding like environment with trees.', 'It is just that way and they seem like big time friends.', 'They look like they are playing.', 'Three dogs are outside on a very big home surrounding.', 'what are they wearing?', 'with whom are these children, and where are they?', 'two children, a boy and a girl, are playing at around noon time.', 'these children are on their own. it appear that these children are along a sea shore as it is muddy and wet.', 'It seems so but there is no audience that is watching .', 'It seems they are done competing and they are just waiting for their prizes.', 'One is wearing something that looks like a watch in the neck. Two of them are holding papers in their hands.', 'Four people are standing together with three dogs.', 'And she is wearing a short white tunic with dark words written on it.', 'This lady is smiling, what can make her that way?', 'A light lady is standing besides a wall.', 'It seems like she was with people who making her laugh.', 'There is only one place for fetching water from it. a little girl is fetching while the older woman is arranging the containers properly.', 'Have they made a structure for fetching water from it?', 'It seems that is part of their culture.', 'he is wearing a black coat with many buttons and pockets', 'it looks like he is standing on a sidewalk', 'a young man is standing in front of a store', 'the store he is standing in front of has a large window showcasing differents items available for sale', 'Pelicans are flying in the sky.', 'Some pelicans are way ahead of the rest.', 'One of the birds has something that looks like food in its mouth.', 'They all have the same colured feathers.', \"The other birds look like they are trying to grab the other pelican's food.\", 'There are also trees afar off.', 'Yea you are right, and one other dove is stretched its beak trying to grab food from the other dove.', 'You speak rightly dear, the four are flying but the fifth is carrying some food.', 'Five doves are up in the skies flying.', \"maybe she's just happy to be in this place\", 'a woman is sleeping in snow and laughing', \"it's like someone is making her laugh or she's just happy sleeping on the cold snow\", \"it's suprising, maybe they ara playing a game with someone together\", 'Actually there is only one male and the other three are females, him and the other lady sitting up are in black but he has sunglasses on.', 'White ladies and gentlemen are together on the mountain top sitting and some laying down.', 'And another lady is in a red bomber jacket with a bandana around.', 'The last one is laying down searching for something else in her small black bag, having a white wrist watch.', 'Downwards are trees around the place they are in.', 'the other man and woman are wearing similar Jersey similar clothes and the area that all these people are in looks very sound in quiet and has many Hills', 'there are three women in one man for women two of them or lying down one on the stomach in the other on the back', \"five people are in a very convenient looking area and they look like they're on top of the hill they are standing\", 'one lying on the stomach even has other blanket laid out again is wearing a wrist watch and has their Jersey tied around their waist their hair is very black and they have have tied their hair behind their head', 'The man is near the industries.', 'There are birds near by.', 'The place looks like it has a railway.', 'The man is not putting on safety clothes.', 'a man is jumping in the air', 'he is also wearing tennis bands and and a hat to protect him from the sun', 'he is wearing a pink shirt, white shorts, and white sneakers.', 'he is wearing tennis playing clothes', 'He is also running with an open mouth.', 'A boy child is running.', 'While shouting he is having a stone to throw at the animals.', 'With an open mouth he has even shouted loudly.', 'The place he is working from is very dark.', 'A man is fixing a machine that makes work easier.', 'You may find that there is just a simple problem, but because it does not talk, you struggle so much.', 'He is wearing clothes appropriate for his work.', 'the white man is sitting on an animal that is tied with a white rope that is tied to a horse', 'it appears it is only the strong who can compete with animals', 'there are other people who are standing around and watching them', 'animal fights look cruel', 'are the dogs same colored?', \"the dog on the the left has something stuck to it's mouth that is full of ice water\", 'one is black then the other is white, both have dog collars around their necks', 'two dogs are standing in ice water', 'Is this the duck for the child,this white dog is holding?', 'Two dogs are playing.', 'Yes it looks like the child threw so that the dog can pick it.', 'The former worker stoped working,so the owner of the house is looking for new workers.', 'One is in front with its front two legs lifted upwards.', 'For sure the worker is not even sweeping the surrounding which is very dirty.', 'Two male dogs are playing outside on grass.', \"Yes that's true and these two dogs are at an area with so many leaves.\", 'The light dog is in front and it has something on the mouth.', 'The other boy is from the other group because he is  wearing  a black attire with orange on top.', 'One from one group is wearing a white jersey with a black short and he is holding a hockey  stick.', 'The competition looks fierce and requires a lot of energy,', 'The field is painted white and a long yellow line on the side.', 'The person behind them is wearing a white and black shirt, a black trousers and shoes.', 'Some hockey players are in a sports field with their referee.', 'Some people are sited outside the pitch watching the hockey game ', 'Maybe they wear protective clothing and helmets to reduce accidents.', 'Two men are wearing black shorts, one has red and white writings on it and is holding metal bars in his hands, he is wearing an helmet and skating shoes.', 'The dog looks scared because its tail is folded and it is barking at the horse.', 'The grass looks dry and it seems it ends where the tall green trees are starting.', 'A horse  is standing in a fenced place it stays in with its neck between the metallic  fences.', \"There is a brown dog that has a belt around the neck outside the horses'  fence.\", 'A black dog is playing on the snow.', 'What is the colour of the ball?', 'In front of tem there is  a ball which the dog is chasing.', 'At the end of the tal,there is color white.', 'There is color white in the neck and legs.', 'It is orange in colour.', 'It looks like it is about to play on the snow.', 'It seems to be in the afternoon.', 'A black dog is playing.', 'The girl looks happy, maybe she enjoys playing with the cat.', 'The girl is squatting as she looks up and a cat is sleeping on the table.', 'The girl is staring  at the cat as though she wants to kiss it.', 'The room looks  like a resting room in the house.', 'Little white children are swinging.', 'And one is boy and the other a girl.', 'A boy is wearing a blue shirt.', 'And there are play objects where they are playing from.', 'They are for the kids because they have wheels on the sides to help them not fall,', 'Two kids are hanging on a yellow ladder and there is a  green chair on the side.', 'The girl seems to be very careful as she is afraid of falling.', 'While a girl is in a black shirt and black hair.', 'The boy looks happy because he is smiling as he looks he looks behind .', 'a boy is standing holding something to play in', 'yes he is wearing clothes for playing in', 'yes he is holding his mouth', 'Yes it i big and at the end of it,there are buildings and some green trees.', 'They look like they are three in there and the river looks very big.', 'It is too small it can not be a boat,maybe it is just a tree.', 'He seems to know how to swim,he is even putting on a red swimming short.', 'A white young boy is smiled at the the camera while taking a picture.', 'As well as in a thick orange coat, his chicks are cracked by the cold like in June here in Zambia.', 'The child is happy to play around.', 'This young boy is wearing a cap to prevent the cold.', 'For sure this place is very cold, our friends are even strong, had it were some of us we would have died from the cold long ago.', \"He holds the snow ice, if it were here in Zambia you'd hear kids say an ice block from the rain.\", 'The child is very happy to have a snowball.', 'The place is very cold.', 'A child in the snow has made a snoball.', 'On this side there are seats somr are red and othwersa are white', 'In another room thwere is as man sitting and showing his back.', 'Two young women are in a house standing and smiling. One is wearing glasses and lifting the friend with the fingers.', 'And in the room, there are things on a table.', 'Why is the dog facing upwards?', 'A black dog is facing upwards the sky.', 'It is looking at a ball that is in the air.', 'Its standing on a ground which has many stones.', 'however, the vehicle behind them looks unique, it is used by rich or famous people.', 'there are a lot of vehicles around this place and people walking minding their business, maybe it is in town.', 'it seems like the woman just came from somewhere with this vehicle.', 'near them there is a man passing minding his own business', 'There is a rumoir that there will be a competition this evening,so he is preparing in advance.', 'Yes the competition will start this evening,so he wants to warm up.', 'a lady is playing the role of a goal keeper', 'Yes this game requires one on the left and the other person on the right.', 'she looks very slim', 'why did she bend like that', 'she is doing a warm up before she starts playing the game', 'A woman is playing a game od volleyball.', 'she is just wearing shorts and they are tight', \"Yes, they have flat faces and are very fat, the dog with one color is looking at something and has lifted it's ears. Have you seen the dog with it's mouth open?\", 'Well, these dogs are huge with big heads, mouths and they have flat faces.', 'Two dogs that have dotted fur are on a big field.', \"This picture shows huge dogs that look alike and have the same color except one that's white in color. Have you seen how huge the dogs are?\", 'One of the dogs has white fur and has a cut tail with relaxed ears and an open mouth.', 'Both of them have belts around their necks. One has a black belt and the other has a white belt.', 'The dogs are playing and barking with their mouths open.', 'The place where the dogs are looks rocky and has no grass maybe because it is near a mountain.', 'Behind the dog are people who are seated. It looks like they are writing something.', 'This dog is well trained to jump and play different games.', 'There are white ladies sitted on the chair.', 'A dog is jumping over an iron bar in a stadium.', \"Yes it's competing jumping over different tall iron bars.\", 'On the tables 0f these white ladies there are pens and papers, what can they be doing?.', 'These ladies are seeing and judging the play of these dogs.', 'These dogs appear to be competing and those behind are writing the scores.', 'It looks like this is not the only dog that people are here to watch. There are other dogs too.', 'He is under a very big tree.', 'There is also an old metallic object behind him.', \"But there seems to be a hole where he is passing. Can't he fall like this?\", \"No he can't fall. Just look on how focussed he is as he is riding. \", 'This young man looks like he is in a cycling competition.', 'He is wearing a green shirt and a green helmet.', 'True and the bicycle is speeding.', 'the one in front is elderly with a head cover and holding her cheek', 'two ladies are sited in a building with wooden sticks in it', 'then behind her is a you g girl peeping on the door trying to see what is happening outside', 'have you seen what the girl is looking at that elderly lady has not paid attention to?', \"Perhaps the helmet is too big and it's not fitting him properly that's why it seems like it's about to fall.\", \"Or maybe it's the his father, the boy has even worn a helmet on his head, though it looks like it's about to fall.\", 'A boy is riding a bicycle, it seems he is being taught on how to ride by the one who looks like the elder brother.', 'Two parents with their three children are standing, one of the children is a baby who has been lifted by the mother.', \"They all resemble, there are three houses behind. Perhaps it's where they stay.\", 'From the three houses, one is used as a kitchen while the other two as bedrooms.', \"Indeed, that's how it looks like. The house that's on the middle, there's a chair at the door.\", \"Yes you are right and this dog has something in the neck where they connect it's leash. But have you seen how the place is looking?\", 'Yes I have seen. It looks very big and very nice. Just looks at the cheeks and they head, it looks like a small cow.', \"My friend, I have never seen such a dog in my life. Just look at how fat it is, it is well fed an has a huge mouth. Just look at the tail and look at it's colour.\", 'There is a lot of sand where these women are.', 'Two women are playing baseball.', 'One woman is putting on a helmet.', 'Behind these women,there is some grass where people are standing.', 'This is a lot of money, it is coming to an amount of thirty seven thousand dollars, if converted to kwacha this is a lot of money and can benefit a lot of people.', \"Yes it's written in a way that some words are connected and the girl that has raised it is very happy.\", 'Yes let her rejoice. I too can be happy to be given a cheque with that amount of money in it.', 'Exactly how we behave at times when we have not others do, we go about falsely talking about them.', 'two similar working dogs are on the grass sitting', 'have you seen the dog on the right has a ball in its mouth', 'these dogs might be playing or one of them is trying to bite the other', 'Indeed it lacks a mouth shutter, thus it keeps on being a barker.', 'It is the one that did as both were sent to do, so the other dog can only bark.', 'the other dog is a black and is licking the dog on the right answer left ear', \"yeah I have seen it it's green and that's what they used to play tennis\", 'Two dogs are playing on the grass.', 'A man and a woman are with young children.', 'This is a very nice place.', 'Behind them the place looks clean and good.', 'They are sitted on a woodn chair.', 'They seem to be light in weight based on how they are roaming around in the air.', 'Behind, there seems to be a lot of this type of flowers in the grass.', 'They are a lot, the whole bush is field with these.', 'A woman is blowing at a flower.', 'What is this old man that is reading a newspaper wearing?', 'What is this old man doing as he s seated on a chair ?', 'An old white man is seated on a chair.', 'This old man is wearing a greyish sweater , a black hat and a red scarf around his neck.', 'what is the man dressesd in a red shirt wearing?', 'he is riding a bicycle without holding the handle bars. he seems to be the one winning', 'some young men are having fun with their bicycle.', 'One is running while clapping his hands.', 'Maybe he is trying to applause the dog.', 'Why is he clapping?', 'indeed this dog ia well trained because it has been able to jump without catching fire', 'and the hurdle it is jumping over has two torches on the sides that are lit', 'A man is seated in a vehicle watching a dog jumping.', 'a small dog that is in a competition has jumped from where it was placed to jump', 'truly the owner of the dog feeds it well after the games because it looks to be very well trained', 'A white lady is in the room painting her lips red.', 'Amanda L. Bennett is also President of a certain organization, she is preparing to leave.', 'This room is made up of planks, behind her a wall of planks is part of the house.', 'She has got long and black hair.', 'They are dancing on a very nice place with tall buildings and trees in the middle.', 'I Have seen nice tall buildings and in the middle they have planted nice short trees.', 'Two women are dancing and they are happy, on the floor is a box where people are putting the money as they pass.', 'two ladies are dancing', 'maybe the song they are dancing to is nice', 'the song they are listening to is nice', 'behind there are three men playing music', 'behind their is a group of people passing alongside the road', 'On the other side there is a man putting a red jacket,black trouser with a white shirt inside and a cape.', 'the dog has something in its neck', 'the dog has big ears and it looks very dangerous', 'a dog is carrying a stick in the mouth', 'there is a very big river behind the dog', 'She is wearing a green jersey.', 'A young lady is standing in the evenings.', \"She seems to be enjoying herself. She's having a good time.\", 'What could be happening in this building where these people of different ages are?', 'It seems like they have recieved a group of famous musicians in this building. There is singing and dancing and clapping.', 'Each is holding a paper upon which it is written, \"i love you\"', 'There is huge crowd behind them', 'yes, I have, the one at the end seems so focused on the love note as though she is thinking of something or someone', 'Moreover, the three ladies resembles each other very much', 'Three ladies are dressed like dolls', 'they are love notes that read,\"I love you,\" but have you noticed how this girl?', 'what is written on the papers that they are holding?', 'to her outfit, the one on the middle has large wings of a butterfly, while the other two are wearing crowns', 'three girls are standing and they are dressed in a similar way it seems they are celebrating', 'One can not know because there is just sand on the ground.', 'A dog is digging a hole with its mouth open.', 'I wonder what  this dog is digging.', 'Two dogs are running towards the east.', 'There are many trees around them.', 'One dog has black fur and the other has grey fur.', 'The grey dog has a collar around its neck but the black one has nothing.', 'a lot of kids love to play in water several times', 'it seems so, she just wants to play', \"a kid is afraid of water splashing from were it's standing\", \"or maybe she didn't expect that the water can splash like this or it's cold\", 'Three men wearing wrestling clothes are standing in front of a man dressed in black who is holding a paper.', 'It looks like this man is the one giving out the prizes to the winners.', 'Who is this man dressed in black?', 'Yes this is the place where these men ompete from.', 'three players are on one trying to get the ball from him', 'they are done people behind them watching them play', 'Men are fighting for a ball on the ground.', 'They are fighting by the flowers and they are putting on shirts with numbers wrtten on.', 'No there are on flowers, this is green grass on the ground.', 'The way the man has balloned his cheeks, one can tell that when playing this game you need a lot of strength.', 'There are people watching this same game.', 'one off the players has fallen to the ground', 'they are playing with rugby', 'they are wearing same shorts and shoes', 'a man is carrying his friend on his back', 'they are both wearing white shirts', \"it seems it's on a hill\", 'a dog is on top of a big rock', 'there other high hill away from where the dog is', \"A dog is getting off a hill and looking at where it's coming from\", 'it is standing looking upwards', \"certainly because it can't be walking about aimlessly, because it's hot in rocks to walk without reason\", \"it e maybe it was chasing something and wants to go back to where it's from\", 'the sky is clear and it seems the dog wants something', 'Acording to how they are dressed,it is true the do swim for competition.', 'Three white men are standing recieving presents.', 'What kind of presents are they recieving?', 'They look like they swim for competition.', 'There are different types of ars where the man is .', 'The women without hair are not looking nice.', 'The two women are very happy.', 'They are all putting on same clothes.', 'A child is getting clothes from a hanger', 'The child is wearing a yellow shirt', 'Near the hanger is a white box', 'There are alot of clothes on the hanger', \"There's a small heel that the motorcycles need to jump over.\", 'One person is jumping over this hill with the motorcycle.', 'There is someone watching over the parked motorcycles.', 'There are tents and cars nearby.', 'It seems that they are all her children.', 'A lady is with three young children.', 'All the three are wearing the same exact clothes.', \"They are in a children's play park.\", 'How is this white woman and her two children who are playing looking like ?', 'Its looking like this white woman and two children are playing .', 'A  white woman and two of her children are standing on the scale.', 'What is this white woman and her children doing ?', 'Yes you are right, it is probably the reason why these men started playing football so that they dont feel how cold the water is.', 'Indeed, a lot of men enjoy the game of football.', \"What's nice is that even if they seat they have water nearby.\", 'Four young men are playing football in sand besides the river.', 'There are also others on bikes behind them.', 'True, looks like they were racing.', 'Perhaps they were racing and those hugging have won.', 'Lots of people here look like they were riding their bicycles together and now they are done.', 'Behind, there are also other people who are hugging and they are on a bicycle.', 'Two women are hugging. One of the two women is wearing a helmet for a bicycle.', 'They are encouraging each prior the game, it is vital.', 'Two cyclist females are hugging each other.', 'One is in a white sports helmet.', 'Surely my dear, dogs of this kind are not ordinary but fierce and alert.', 'The two dogs are black and white.', 'The place the dogs are in has got dry grass with medium rocks.', 'Two dogs are in snow playing.', 'two dogs are chasing each other', 'maybe they are going somewhere or they are just running', 'there are alot of stones in this building', 'My dear, these are dogs are furious such that they can even bite you.', 'the black one is in front', 'A woman is standing  on the grass.', 'The woman is wearing a black trousers.', 'There is a big dog in front of him,', 'He is holding a small white dog.', 'two people are sited on chairs and in between them is a table with two black cups and a white plate', 'one is an elderly man with beards with a walking stick were he is leaning his hands and his folded his feet', 'no they are not, they are facing different directions and the lady has a bag where she is sited', 'since they are close to each other are they discussing something?', 'She is putting on a black cap.', 'The two men are happy.', 'There are boys putting on shorts.', 'These men look like they are in a crowd of people.', 'They have put mud on where they are playing from', 'Two ladies are playing in the mud', 'One lady has been over taken and she is about to fall down', 'She has opened her mouth as she is falling', 'Where are these two little boys?', 'It appears that perhaps they are looking for something.', 'What are they doing at the sea shore in the evenings?', 'Two little boys are walking in the evening.', 'Do they want to swim?', 'Two young men are at the river.', 'They are on the sea shore.', 'Because the picture was taken in the evening.', 'No they are just throwing stones into the river.', 'Beside where this woman is sitting there is an empty chair.', 'A man with a black suit and a white shirt is among the women.', 'Where this man is sitting there is a woman where a white drees.', 'It looks like this man is getting something to drink.', 'what are they doing?', 'it looks like they are just resting and they be having their pictures taken', 'it looks like they just came ro visit this rocky place', 'there are two adults, both with children sitting on their laps, they are most likely family', 'Two men are in the air with their motorbikes.', 'These people are in a competition.', 'The road looks to have a lot of sand and dust.', 'Behind there are people following them.', \"There's another vehicle coming behind them\", 'One of the young men is dressed in black', \"there's fire on the ground\", 'Three young men are standing close to a vehicle.', 'Behind the vehicle, these two men are standing by another vehicle surrounded by many people.', 'It seems they are reparing the motor vehicle which they have opened, and have they have removed the front tyres.', 'What are these two men wearing a blue shirt and the other a white shirt, then one is wearing shorts while the other grey trousers, doing in the middle of the tarred road in the afternoon?', 'These two men are wearing a blue shirt and the other a white shirt, then one is wearing shorts while the other grey trousers.', 'three little girls are at the pool they all are wearing swimming costumes', 'thres a small white mental fence on which towels are hung', 'they are also wearing swimming goggles and one has goggles with', 'there are umbrellas to sit under and chairs too', 'A lady is sitting on woods.', \"Yes but it seems she is with people because she's looking at someone.\", 'In the woods she is sitting, there are two pots on the left.', 'There are four green papers on the floor.', \"There's a shelter near him\", 'The shelter is made up of clothes', \"There's trees under the shelter and then covered with clothes\", 'The boy is wearing a short and a short sleeved shirt and a black hat', 'This looks like outside a church because there is a post which is saying Church.', 'Four young men seated outside the building.', 'Explain how this area where the big  yellow tractor is looking?', 'This big vehicle is painted yellow and it has a big provision   to use for lift things.', 'How is this tractor looking?', 'On this picture there are tractor as it is lifting a broken wall.', 'These appear to be taking part in national sports games', 'There appears to be a good number of people who are playing different games in this place', 'Those not taking part in the games are sitting on the sidelines and cheering', 'One white skinned is swinging on an iron bar', 'Well it looks parked, almost under a tree.', 'At a distance behind her is a green vehicle. is it moving or is it parked?', 'That is very true. and in each vegetable that she is selling, there is a price tag. she is wearing a green jersey.', 'Why she is packing it could be that her customer has bought a lot of vegetables among other things from her.', 'Two Indian women are making traditional laces', 'and they all have short hair', 'they have displayed the things they have crafted in their workshop', 'their workshop is full of different items', 'Yes my friend it looks like this is a school for children and they are very excited.', 'A woman who is a teacher is with a lot of pupils who are playing.', 'These girls are making a lot of different things and the place they are in seems to have a lot of toys.', 'Yes my friend, children like playig in front of elders because they are shown different things.', 'And also the one behind is holding food she is eating', 'Two white women are sitting in the bush', 'Where they are seated there are bags down, looks like they are on a tour!', 'The woman seated in front looks like she is watching something in front of her', 'That is so true dear, and this place is full of many trees.', 'An the game range is well fenced to keep the animals within and not escape.', 'The little girl is even lifted her leg up.', 'This person is inside the house where he is standing.', \"That's what it seems because he looks like someone who was waiting for something.\", 'I think he is standing in an elevator and waiting for it to start off.', \"That's what it seems like he is coming from an office where he works from or going.\", 'two women are standing on the road and one looks surprised.', 'there is other people behind the man, perhaps they are also trying to cross the road.', 'there are some people walking behind them and the man is on phone.', 'maybe the friend is telling her something surprising and they are both carrying small bags.', 'The little boy is behind and holding something black used to bandage, they are both paying attention to what they are doing', 'A man in a blue shirt and blue trousers is with a little boy with a grey shirt and blue trousers.', 'They are standing and both wearing white hats.', 'What are these two doing?', 'This is the woman who is taking care of these kids making sure that everything is okay.', 'There are different pieces of cloths on view. Who would they belong to?', 'The girl seems elated with something.', 'This woman seems to be making different things. Maybe she is making them for different people.', \"It's like the lady behind him I'd backing him because it looks like this man is singing too.\", 'It looks like there are a lot of people in this place. They are just crossing each other.', 'Have you seen how the man standing behind is looking?', 'it seems as if he is on a long journey. this is because he is carrying a big, red bag.', 'what is this young man doing?', 'a young man is standing along a sea shore on some stones.', 'what else is at this sea asides the sea itself and some stones?', 'two white policemen are standing by the road one is folding his hands', 'a man and woman are going into a shop,the man has a child on his shoulders', 'the man selling is wearing a blue shirt holding his chin', 'on the ground there are three long metals, two red ones, one  black,vand there two lights on top', 'They have all come to cheer the football players. Some of them are standing as they cheer.', 'What are they doing on the pitch?', 'There are other footbal players on the pitch', 'Two people are in a football field', 'a man is sitted in the office', 'the look looks like an entertainment room', 'the red table has a lot of different kinds of things', 'he is wearing black big gloves', 'A man is in a place full of snow.', 'What is the man doing at this place?', 'A man is jumping through a big hole in the snow.', 'He looks prepared,he is wearing protective  clothing on his legs,body and hands.', 'How is he looking?', 'he is sure that he is protected as he jumps', 'he is wearing protective clothing', 'the clothes he is wearing are black from head to toe', 'he is wearing a red helmet', 'Yes this is the same competition and pople have come to watch.', 'Is this the same competition which occurs every year?', 'A group of people is watching a game of competition.', 'This place looks nice,one can tell from the look of the buildings.', 'two men and a woman are sitted on chairs', \"there's a huge window in front of them looking out to buildings and a road.\", 'they are on their computers and it looks like they are working', 'all three have there jackets hung on their chairs', 'There are other chairs in this room where people who want to come and eat can sit.', 'It looks like she is with someone on the other side because there is a clothe that has been hang on a chair.', 'The same woman who is sitting is wearing a blue shirt while the cups that are on the table are white.', 'A young woman is seated on a chair in the dining room.', 'She has also hanged a black clothing on a chair.', 'She seems unhappy.', 'That is evident from the way she is holding to herself.', \"The wall of this room is built using well burnt bricks but it looks dirty because it hasn't been painted.\", \"women's discussions, one can just say there is something difficult but its just a white person with a lot to say.\", 'a man and two women are seated on chars like they are having a meeting', 'all three of them are women, they are in a hotel or a hospital discussing', 'two of them are wearing black clothes while one is wearing a white shirt.', 'The neighbors seems too have their own things they are doing.', 'A woman has reached hom from the market.', 'The road is so quiet and the neighbors are just passing the other way.', 'She is thinking about who she will find home.', 'young girls and boys are writing on papers while sitted', 'maybe they are drawing because the child on the right is holding crayons.', \"that's how it seems, there is also some water bottles of the ground for drinking.\", 'each one has a book to use, are they writing or drawing?', 'They are simply playing while seated.', 'The colours of their fur are white and gray.', 'Three dogs are in the field during the afternoon', 'A group of men and women is sitting on the table and eating different types of food', 'One lady sitting at the middle is pointing at something and that is where everyone is looking at', 'The food is already ready and a man who is standing has started serving them', 'These people on the table are very happy it looks like they have seen or watched something funny', 'these people look like there is some information they want to communicate to the country or their place', \"it's seems they are angry, their hearts are full of frustration\", 'a there a lot of things that anger people, thats why others move with posters on the road so that people can know their complaints', 'a lot of people have gathered, with paper posters', 'This man is wearing a blue helmet.', 'A man is standing somewhere very white and is carrying something on his back.', 'On top of what this man is carrying seems to be green vegetables.', 'But the side of the road looks dirty because there are rocks and papers.', 'A police man is walking with his hand in his pocket.', 'Looks like the policeman has knocked off from work.', 'The house has a lot of tall tree.', 'Yes and seems he knows the importance of tree in the yard.', 'And she is wearing glasses.', 'A lady is alone at the mountain.', 'This lady is climbing on a high mountain.', 'She has tied her self with ropes to avoid falling.', 'There are some metal tools on the ground for reparing the lorry with.', 'The old man has also opened the bonnet of the lorry.', 'A n old man is repairing a lorry.', 'There is also a reddish looking  tool that is laying on the ground.', 'Then while running their footprints remain on the ground.', 'And one of the two is ran past her friend.', 'And both of them are in minies.', 'Indeed, and it is like the one behind is not a good.', 'And there is an area for sitting iso that people rest in a cool breeze.', 'That is why there are climbing areas since children like climbing.', 'This place was created for relaxing and having fun, especially for children', 'Right here, you can sit if you have come with your children and watch them play.', 'She is just holding onto some metal rods and her legs are raised.', 'A child is playing alone.', 'This child is a little girl.', 'What are they doing on the grass?', 'A brown dog is sleeping on the grass.', 'There is something it playing with and it has even opened its mouth.', 'Behind it the grass is much longer than where it is laying.', 'One girl is sitting down and the dogs are playing.', 'The bag for the woman is on the ground.', 'He is watching the dogs play.', 'There are a lot of dogs in the field.', 'A man and a woman are at a dancing game.', 'Yes I have seen. Even this man is standing in a way that he cannot lose his balance and make the woman fall.', 'The woman is wearing a red dress, red shoes and red gloves.', 'It looks like these two really know how to dance by just looking at how they are standing.', 'the bigger one has black fur on its body however the legs are brown. the smaller one has white and some brown fur.the smallest one is having all colours on its entire body.', 'they are playing football. the dog that is in front has a green ball in its mouth as the others are following it.', 'what kind of fur does this dog have?', 'what kind of game are  these dogs playing?', 'There is a river behind him and a tree besides him.', 'And he is wearing a cap on his head.', 'A white old man is sitted on a chair.', 'Black men and women of different ages are in one place.', 'They are dressed in different clothes, two men among them are shirtless while two ladies have their hair in a mess.', \"Then there's a table with a box on it that looks like a book\", \"A white lady is looking at a book, there's a man near her looking at pictures on the wall\", \"There's another lady wearing a red coat, it seems this place is cold\", \"There's another man facing the wall that's wearing spectacles\", 'not sure if it even has an owner', 'the board that it is sitting on is white in colour and has red letters on a yellow background', 'near it are flowers that are boardered off by an iron fence', 'it looks like this cat plays up  here most of the time', 'Behind this young man is a vehicle that is stationary', 'It could be that he is near a bus station', \"Thats because some of these music player are very loud such that one wouldn't even hear when someone is calling them\", 'This is not encouraged because you never know what is happening around you', 'A white gentleman is holding the ball in his hand. ', 'It seems what does this white gentleman who is holding the ball in his hand doing?', 'It looks like at this time this white gentleman is playing netball in the ground.', 'How does this white gentleman who is playing netball in the ground look like?', 'one of his hands is touching his head  while the other one is pointing where he is going', 'there are some words written on it', \"the clouds look dark. what's on the shirt that he is  wearing?\", 'a man is jumping', 'The lady is smiling and she faces get right', 'they are some people on the other side as she plays with the toy with rainbow colors', 'she is wearing a red shirt with a black trousers', 'A lady is looking at the camera person while holding a play toy with different colors', 'Could it be that the young lady pushes the wheelchair, else we are not so sure about their relationship?', 'This patriarch is female, despite her leaning downward the hat is clear.', 'A young lady is held a patriarch on a wheelchair, she is like one praying.', 'Indeed it is a woman, the young lady besides is also put on white shoes.', 'A young man is frying something in a sucepan.', 'A young woman is looking at what the man is cooking.', 'There is a blue bucket containing floor bon the table.', 'There is also a small basin with many eggs. ', 'Among these seven boys there is white skin and black skin.', 'How is the place where these seven boys are looking?', 'On this picture seven boys walking on the road.', 'Who is this young child that is playing near the sea with?', 'It looks like this child playing near the sea is just alone.', 'What is on the sea where this young child is?', 'There is a lady among them wearing a hat on her head', 'The men and women are walking together', 'Nearer to them is a man who is sitting on the sides of the road on a chair', 'Its true and on the other side there is a nice building indeed this is a place where people go and rest.', 'This place is well mentained and they have plainted nice trees. What else can you see their.', 'This is a big place where people go to have lesure and they have use steel to build this place. What else can you see?', 'I can see different people sitting under on the chair under the trees so that the trees gives them the shed.', 'This man who is sitting here must be waiting for a bus to pick him up.', 'One elderly man is sitting on a chair in a station.', 'There is a woman passing on the side, in front of the shops.', 'What kind of place is this?', 'A lady is drinking tea and a scone.', 'It is very cold indeed and she does not have strength,hence this food will help her.', 'It looks like she woke up with hunger.', 'Yes tea will give her warmth and strength.', 'It looks like she is working using this computer that is why she looks focussed.', 'That is a mouse. She is using it to operate the computer.', 'A woman is seated on a chair pressing the computer.', 'What is that thing in her right hand that she is moving?', 'The woman is in front of the Church audience singing in praise team.', 'A white lady in black is leaning on the wall with her back.', 'And this picture frame has got a mosaic painting.', 'While another woman with long hair is seated on a yellow chair also singing.', 'They are both wearing hats', 'Two young men are sitting on a cart drawn by a donkey', 'They appear to be very tired', 'They are passing in between the houses', 'Yes, this man has come to buy something.', 'A man wearing a white short and blue shirt is standing.', 'There is also a white woman who is dressed in in white.', 'It is the  car they use at different work places.', 'What kind of car is the man driving?', 'A young man is in a car.', 'Yes it is true,he is putting on a blue trousers.', 'They are inside a house looking at each other', 'A cat is looking at a child.', 'The child is sitted on a blanket.', \" On the child's left there is a black cat.\", \"The river doesn't look clean.\", \"She seems to be at a quiet place, perhaps people don't come here often.\", \"That's how it seems because there's only trees and grass at this place.\", 'There seems to be a river near.', 'a young man walking has carried a bag, and some other stuff in his hand as well as an umbrella', 'he is wearing a grey trousers and a white shirt. his bag is white.', 'perhaps he is moving at a time when people are not just passing', 'he is walking on the side and on top of a building seems to be CCTV cameras to reduce theft.', 'Maybe it is someone who wants something that is being sold at this shop', 'This young man is on the phone. Who is he talking to?', 'Two white skinned men are standing in front of a small shop that has a variety of goods', 'A lady with brown hair is standing in a room.', \"She's slightly bent her head down and has put her hand in her mouth.\", \"There's an inbuilt cupboard in this room, where exactly is she?\", \"She's in the kitchen because there are dishes packed very well.\", 'This place is full of turns.', 'He is also wearing a blue shirt.', 'A  young man is on his bicycle.', 'Yes that is quite right.', \"behind the lady there is a woman  with her hair reaching the shoulders and she's wearing black glasses\", \"its true, and she's holding a black cap and a red book\", 'this woman has long white hair , the other in front is reaching the forehead', \"a woman is wearing  a white lob, and she's painted her nails red\", \"That's true. There's a tiny house next to him that looks to be a birdhouse in which the pigeons stay\", 'This same area has cloths of different colours that have been hung around to provide some more shade', \"And it seems as though some crumbs that the pigeons eat drop from whatever he sells and that's why there are a number of them nearby\", 'It seems the man is just alone on this palcre cause no other person is seen.', 'It seems its hot season and his wearing a sleeveless shirt.', 'He has food on a plate that his eating.', \"He is under a tree where there's some shade.\", 'Everyone in this place is doing something else.', 'A crowd of people is about different activities, some reading, others walking, more just chatting.', 'In Universities people are ever minding their own business.', 'Yea dear, as it looks like a University.', 'A police officer is standing by the roadside looking in the sidewalks, and then a crowd of people is standing behind him.', 'And among the crowd behind him are his fellow police officers and civilians passing by.', 'The building they are standing by looks like a Government infrastructure, could it be that it is a police station?', 'Or it could also be that they are guarding these premises, as you know police department is multi purpose.', 'People are looking at the water and the buildings.', 'Some are looking at the water,some are chating,its a nice place.', 'A nice place where family and friends are found.', 'This is a place where old,young and children come to rest and play from.', 'Where is this place that this man and woman are?', 'The area they are sitting is very big they are sitting just fine without squeezing each other.', 'Looks like they are coming from different places but for the same agenda.', 'A group of people sitting in chairs in front of a building.', 'Operation is critical, thus they need light to see the target part of work.', 'And also have got head lamps for lighting.', 'Two medical doctors are operating on a patient.', 'They both have put on blue PPEs.', \"Yes they are two cars with different colors, they are also bicycles and this place is full of trees that have bloomed and also houses that we can't see.\", 'Yes I have seen two red and black on one side of the cars.', 'I should agree so, others are sited under a red umbrella with writings and a bicycle drawing on it. Have you seen the vehicles?', 'Even though the child is still too young,  in that case I would  have slapped  the mother', \"she just wanting maybe the mother doesn't cease from being amazed\", 'A child from Philippines has fallen down from a stroller', 'the mother has tied some ropes around its waist', \"A.man and a woman are seated on the road and have put a table and there's food on it.\", 'On one side, there is a woman who is having something used for carrying things, perhaps she us using it to carry her bag.', \"It must be a bag, it seems its very heavy that's why she is using something to carry it.\", 'It looks like it wants to get the food from the table.', 'Two light skinned men are by the market buying some fish.', 'This area is lit with lights, as if it is in the night huh.', 'There are flowers in his front, and above his head appears a mirror like CCTV camera.', 'This fishmonger is in a white shirt with red dots in the sides of the neck and chest.', 'Maybe she wants to see if her daughter knows how to use a microscope.', 'A girl is looking through the microscope.', 'Her parents are chatting.', 'Her mother is putting on glasses and she is looking at her daughter.', 'Indeed dear, it seems he is shouting or singing loudly.', 'The man in blue is shouted loud.', 'It could be that the money they worked for is peanut.', 'Four men are by the roadside.', 'Horse riders are racing in the race track fields.', 'Your sight is so clear, a horse is an animal hence you need to be careful before it shakes you off.', 'He is leaned forward as he rides, trying to balance up.', 'This is even the first one in front, though seems falling.', \"There's a white building full of posters behind him\", 'A man in a red shirt with white stripes and a stripped trousers is walking.', 'A the wall of the building is a poster with blue writings on it.', 'A young man is walking in the afternoon and he has bumped into a dog close to a building.', 'This woman is talking on the phone on her ear where she is talking', 'She is wearing a redish shirt and carrying a handbag', 'She has even tied her black hair with a small tie', 'Some are people sited outside shops', 'They are people sited on tables having food', \"There's a lady standing outside the door\", \"She's selling food\", 'It looks like it was playing with a ball,then it ran to see something.', 'Yes and behind the dog,there is a green tree.', 'It looks like they do not even run fast because they are too fat.', 'Maybe they are not that big.', 'what is that in its mouth', 'looks like a plastic toy that likes to play with', 'it looks like this dog is taking this toy somewhere', 'what dog is running on the grass on its own', 'It is raising dust as it tries to catch the ball.', 'It looks brown with its mouth open.', 'It wants to catch the small black ball.', 'The field has green grass.', \"there's a vehicle on the left\", 'Then they are robots on the other side', 'And they are two young men riding their motorcycles on the road at night', 'Then they are also huge street lights on the road', ' A young man is riding a bicycle, he is wearing white shorts and shoes', 'there is a group of people at the far end and aslo a building', 'He is wearing a white hat in a different direction.', 'At a distance where is he facing on his left is a river.', 'they are also wearing sunglasses.', 'from the way they are dresses, it is clear that this place is very hot', 'two white people, a gentleman and a lady are together and the young man is seated on a big metal', 'they are both wearing sunglasses and are staring at something on their right', 'He is happy to be in town.', 'Is this man visiting this town or his just capturing the poeple in it.', 'It is nice they have said alot of things about this yown.', 'In this place there is a yellow car.', 'A crowd of people is in a public place', 'This place has alot of tall big buildings and vehicles', 'One man from the crowd is wearing a black shirt and another a white one', 'One lady with blonde hair is speaking on phone as she is walking', 'A man dressed in black is carrying a child on his shoulders and in front of him is a woman walking.', 'It looks like this man is with his wife who is in front of him.', \"Yes it's like he remained behind because he was looking at something on his left.\", 'It seems so, looks like they have long way to go, looking at the way they have dressed.', 'It looks dirty with sand, though it looks like they will manage to remove it from the sand.', 'A young man is pushing a motorbike. He wants to move it out of the dirt. Another person is also assisting in pushing it.', 'Two women and a man are walking.', 'It looks like there are in the middle of the hills.', 'It is true they are walking in the hills while trees are near the path.', 'One man and one woman are carrying bags on their backs with cameras', \"That's true, it seems they work for the same company, they look very clean. Others are listening to music while others are pressing their phone. Cleanliness is important.\", 'This picture depicts a place full of people, what do you think this place is?', 'It could be at the airport or bus station because it is full of different people that are well dressed.', 'You are right. They have just drawn this. I thought it is just dirty. There is also a tall building near this wall.', \"I have seen. The wall is dirty but it's painted. Or maybe they have just written something in green.\", 'And there are no people in the road she is just alone and trees. Have you seen how dirty the way is?', 'Maybe she is going somewhere and she is running late because there is no way someone can walk like this.', 'And there are big trees in this place and this pool is near big storey buildings.', 'It is because they have come to play, so some are jumping into the water and they are enjoying playing.', 'Some are chatting, others are just seated in water and others are standing. Why are they far?', 'Young men and young women are gathered at one place in the afternoon.', 'They are holding different flags in their hands of unknown coutries.', 'They are wearing blue caps, white shirts with red stripes and white trousers.', 'There is a huge building behind them made of red pan bricks.', 'Three men are in foot ball field.', 'And also they stand at the entrance of a theatre-like building.', 'An old woman and man have gazed upwardly.', 'They are lookimg at the Chinese letters in black.', 'A certain lady is in a cap with her hands holding a small bag at the back.', 'Could this be a very big building?', 'There are both men and women in this place.', 'Different people are walking.', 'This is in the forest and they have even made a long bridge. You can just tell by the mountains that this is really in the forest.', \"You are right, they have even made a bridge. It's like there is a ditch below. Have you seen that there are people walking?\", 'I have seen they are four and all women. It looks like they are going to watch the mountains.', 'It is true. And this place has a lot of big rocks.', 'A group of five people, with two women who seem to be hugging.', 'They look like they are screaming for something.', \"They are all putting on spectacles, only one doesn't have them on.\", 'There is a poster that is long and it is surrounding the whole place.', 'She looks like she is from swimming.', 'This woman is resting in a mat that she has put down.', 'There are big rocks on the river banks.', 'A woman is resting by the river.', 'The dogs look very similar, maybe the big one is the mother of the smaller dog.', 'It looks like the big dog is about to bite the smaller one because it has opened its mouth.', 'A small and big dog are playing  together on the grass.', 'The smaller one is tied with a rope in its neck.', 'in the road, there is another woman carrying a black bag', 'there feet marks everywhere the dog  was passing', \"and people are looking at them but one woman is standing looking like taking a picture,and she's wearing a trousers\", 'this animal is so big, and on the side of the dog there is a small ball', 'Near them there is a man holding a poster which is talking about the word of God.', 'The father and the child are walking while putting on red and black caps.', 'The father is holding the red cup on his hands.', 'The father is putting on black glasses.', \"I have seen that there's a bottle on their middle, it seems they are drinking while the ones sited down are playing a game.\", 'Yes they are playing a game, the two that are sited are the ones playing, one of them has a cigarette in his mouth, what game are they playing?', 'The young boy with nice hair is wearing a headband.', 'There is a girl standing next to him wearing a black head band and she has her hands in her pockets.', 'There are two ladies behind this young man chatting.', 'It looks like these people are waiting for something or someone.', 'Two men are on the motor bikes with helmets.', 'Behind them,there are motor bikes going in a different dirrection.', 'There are on a black and red motor bikes.', 'All of them on the motor bikes are going to different places.', 'A number of male and female soldiers are standing.', 'If it is this woman in front, she looks like she is crying because she even has frowns on her face.', \"Yes others seem to be crying and others seem to be laughing. I don't know what is happening.\", 'But have you seen how they are all looking on their faces?', 'So true as they have teased, one in front with twisted toes.', 'Yea dear and the two are in white and one in a black shirt.', 'Among them two have black hair and one redish.', 'Three ladies are skitting.', 'I just saw the cleanliness in this place and knew, this how restaurants should be', \"this building is pure white it's like not sand goes through\", 'two young women are chatting while seated', \"it looks like a restaurant, just look at what's written behind the ladies\", \"That's how ladies behave, you might think that she is not hearing what you are saying yet she is.\", 'Yes it looks like the one behind is friends with the guy that is front and he is escorting her', 'The guys are trying to talk to the lady but she is busy on her phone.', 'Two guys and one lady are walking on the side of the road.', 'This old man looks tired or worried.', 'An old man is sitting on a chair, putting his hands together.', 'This is a chair made from wood, then fitted with cushions for sitting.', 'He may be waiting for results for his tests or the tests done on a loved one in the hospital.', 'They are doing it for snow, like we used to sing for the rains, do you remember ?', 'Everyone has blue in what they are wearing, and they have short hair', 'This children look like they are adults, they are even wearing thick coats', 'yes, they  want rain thats why they are dancing, its surprising that even adults do something like this', 'It looks dark where they are.', 'The lady is dressed in all black and she has blonde hair.', 'The man is wearing a red headsock, glasses, a black shirt and a grey short.', 'Yes, she has done the peace sign with her hands.', \"The rest are paying attention to what's happening in front of them but she is looking elsehwere and happy.\", 'They are all dressed in same clothes, why is that?', 'It seems they are students and are wearing uniform. Have you seen this lady in front?', 'Where is this man going?', \"It looks like he has problems and he doesn't know what to do.\", 'It looks like he is going to see his friend at the shop behind the wall.', 'Behind the market there are many modern buildings', 'A crowd of white people are in a market place where they are selling assorted things', 'One woman wearing a red outfit is selling vegetables', 'They are selling many things in this market  such as bananas, potatoes and vegetables', 'You just see people in a picture and you want to take me out? Have some control big man. And look these are children who have gone out to have a good time.', 'I have seen. They are enjoying themselves, they are eating together, and chatting and laughing. And one is just alone.', \"Let me also take you, don't be looking like this all hungry here. Cant you you see that your friends have gone to eat food? Let me also take you out I buy you something.\", 'No it is fine, and on the other side there are adults eating and enjoying eating together. Have you seen?', 'A white skinned woman that has black short hair is walking on a straight road while looking down .', 'The grass on the side of the road is nicely trimmed and there is a wall built near where he is.', 'She is wearing white shirt inside and a blue jersey outside with a red skirt.', 'She is weraing glasses and she has bowed her head down maybe because she doesnt see clearly.', \"it's seems his carrying his family there going somewere\", 'it looks like a motor bike because his not doing anything', 'and maybe this bike can speed, because his riding on the road where cars should be passing', 'the old man is riding a bike with four wheels and some people are boarding it', 'There are buildings and roads and electrical cables in this place.', 'How does this place where this man on the wagon is look?', 'A fluffy black Carmel is pulling this wagon with two wheels that this man is on.', 'What is this wagon carrying that this middle aged man is on?', \"Why has the man i told to bring the car taken so long?',the friend asks.\", 'Two men are standing outside the building and one is holding an umbrella.', 'It looks like there is somewhere he has passed,because he can not take this long.', 'You can go and smoke because you are used to smoke,you do not feel good if you have not smoked.', 'the lady in front is wearing is wearing a trousers and a long sleeved shirt', 'A man and a woman wearing helmets are riding their bicycles while back packs', 'behind them are hills and a number of trees', 'They are riding in a gravel and it is a narrow road', 'in front of the woman in red there are two men chating , one man is without hair and in a black shirt .', 'and this woman seated and chating is carrying a  white bag, wearing a shirt sleeved shirt  and a white trousers,with one leg over the other', 'where to rest, they have painted green with words in white', 'a group of women and men have gathered  near a park, it seems they are waiting for something', 'One lady is in a place which has a lot of people seated', 'She is facing these people and has a black hand bag', 'She has a camera she is using to capture the crowd seated', 'The crowd of people look excited and are drinking something', 'A man is standing behind two other men with a lady going down the street.', 'And the other man is standing behind them.', 'Which other man are you referring to as there is only one of such a description?', 'I am definitely talking about the same man in a black top.', 'A crowd of different people are at the sea area', 'And others are swimming in the sea that has boats in it', 'Other people are seated close to the sea and others are lying down', 'Other people are walking whist others are seated in the umbrella sheltered area', 'Even though it seems the game is tough.', 'And behind them is a a place where food has been kept.', 'They seem to be having fun in this room where they are.', 'Eight men are sitting telling stories.', 'it seems the maize is tasting so good because they seem to be enjoying it', 'the two kids are both wearing shorts', 'one of the kids is wearing a pair of socks', \"the kids who's wearing red clothes has already finished eating his maize while his friend has only eaten part of it\", 'two black boys look worried', 'they are looking through a telescope', 'do you think they are students learning something?', 'they are not uniforms but one is wearing a hat is hard to tell if they are students', 'a child is wearing warm clothes for protection from coldness', 'yes he looks happy because he is smiling', 'yes there are alot of people behind', 'it seems people behind are playing', 'The boy is wearing black shoes, a white shirt and a blue trousers.', 'A man is playing a game of riding a skate body  with some tires.', 'How is the boy playing this game dressed?', 'This boy is riding a skate body on a metal bar fixed on the corridor of a building. Behind this man there a person who is walking.', 'A white nab is playing his sound instrument even though he looks really sad', 'he seems to be playing wholeheartedly, he is wearing a white shirt that is folded in the hands', \"I see he is not sad but it's because the song he is singing is touching his heart\", 'he has removed the shirt', 'ther are buildings inside the trees', 'there are trees along side the river', 'a child is jumping in the water', 'A baby girl is sitting.', 'She is playing with the mud she is sitting in.', 'She has removed the red dress she was wearing.', 'She is sitting in the mud.', 'A young boy is riding a bicycle in between buildings.', 'It is possible but the vehicle has to leave him some space.', 'Is this young man the one who was drawing that hand on the wall?', \"No this hand has been there for a long time. Infact this young man can't even reach where this hand is starting from.\", 'behind them are big houses with a Honda outside', 'what else can you see?', 'one is pushing the bicycle in front while the other is sited on it enjoying', 'Is this when she is coming back from the gym?', 'a woman is drinking water from a tap', 'she has tied her hair behind with a green ribbon', 'A small girl child is drinking water from the tap.', 'the water looks very clean', 'this place looks very hot because the woman is even sweating', 'The gym really does a good job for these young men and women ,they do not usually get sick.', 'Yes this is the time she is back from the gym,she usually goes to stretch her legs.', 'They have told everyone in the compound has been told to be going to the gym so that they can be healthy.', 'And it is around evening time.', 'He is attempting to get a bag.', 'He is also wearing a white cap.', 'It seems he has just drowned.', \"Yes, that's how they are dressed, they work so hard in order to get paid on the month-end.\", 'They are all differently dressed, the one in front is wearing a blue and yellow jersey while the one is wearing a very white shirt.', 'This is inside a kitchen because it is full of stoves where they put huge pots.', 'In the bushes and hils,that is where the boys are playing from.', 'They look so happy as they are cycling their bicycles.', 'Small boys are playing with their bicycles in the bush.', 'Some boys hae been put on the bicycle sits by their friends.', 'A woman is seated on top of a big rock.', 'Why is she wearing something without sleeves and shades?', \"Perhaps it's sunny and she wants some fresh air.\", 'On the ground, there are a lot of plants and flowers that look beautiful.', 'she might have dived in a while ago', 'and she is very happy to play in water', 'she is even wearing a swimming costume', 'A small girl is jumping in water alone', 'and there is a wood behind her', 'the child looks really happy', \"diving in this way in water, it means she's really clever\", 'A child is diving into the water in a basin', 'Again there trees behind her', \"Thats true they are just exchanging the girls doesn't want to over swing like the boy. what else can you see?\", 'Thats true thats how its made and there a lot of trees some close some  spacely and they also put a swing.', 'There is a a fence made of steel and it is a short fence.', 'A boy and a girl have gone out to have fun an the swings. Have you seen how this boy is swinging?', 'But there is something he is looking at because he is looking on the other side.', 'Maybe this young man is repairing the vehicle below him.', 'It appears this young man is working because he is wearing a helmet and has raised a metal bar.', 'A young man is standing on the side of the rail line.', 'He is also wearing a neck chain around his neck', 'He is not wearing a shirt', 'A man is singing songs', 'His body is covered with tattoes', 'My dear these people are more of a family.', 'You are right dear, as the tall lady on the right seems to be the mother for the lady on the left and her dad', 'My dear you even know very well how mothers monitor their girls, she may be doing otherwise.', 'Two ladies and a man are in store buying home utensils.', 'there are also short trees behind', 'a man is walking in the middle of building and talking on the phone', 'there are two people walking behind', 'in front there us a steal board that has four wheels', 'The child is wearing a onesie.', 'The child is bummed', 'The young lady sings she is holding the tiny dolls', 'The young lady on the chair is holding tiny dolls', 'One is playing the guitar while the other has a microphone', 'This one must be singing while the others are playing the instruments', 'No he too appears to have a guitar, it has just moved to the side', 'He must then know how to sing and play the guitar', 'This is a very nice place full of sand, rocks, stones and a huge rock on the river, have you seen the little child?', \"That's true, he is playing in water or stepping in water so as to jump on to the next rock, have you seen the place he's in?\", 'I have seen him playing with water, wearing blue shorts, he is enjoying playing with water.', \"Indeed it is a very beautiful place that's full of trees that have been planted so closely to each other.\", 'Is this crowd here to watch these men?', 'Yes they have come to watch these men because they are musicians.', 'Two men are playing guitars.', 'But why are they not cheering?', 'A crowd of people are gathered in a dance hall', 'every man is with a lady, it should be dancing in twos', \"that's true even the ones on the side seem happy that they will dance together\", 'at first I thought they were kissing', 'The woman is in a green top and having white papers in her hands.', 'Then one of the men is having an envelope in his hands.', 'Oh yes, whatever is in that envelope is unknown but if those corrupt this could only be money.', 'A man is talking to another man and woman a building.', 'This stadium looks big and there are green grass in it and it has a short fence.', 'What are these men wearing different colors doing?', 'Different men are at a very big stadium in broad daylight.', 'some little boys are playing soccer', 'behind them is a lot of black soil on one side of the sports field', 'it seems they are playing against each other as teams', 'some are dressed in blue while others are dressed in white', 'some footballers are inside a sports field playing', 'one of the players in white is in the air trying to catch the ball', 'Yes dear, the singers also look quite professional in their singing.', 'Yea, and at the end are the two gentlemen looking very smart.', 'Some singers are singing with music sheets in their hands.', 'My dear have you also noticed that they dressed alike?', 'An old woman is in town holding a baby ion her hands, with a book in her right hand.', 'And there is a whitish lorry behind.', 'A young woman and a young child are coming off ther road and turning into another road to the left.', \"It's like they are father and daughter because the man looks old and the woman looks young.\", 'A man and a woman are hugging.', 'The man and the woman that are hugging are both wearing similar white shirts.', 'The room looks dark because there is only one light.', 'A teacher is teaching women how to make a school project.', 'She is the only teacher they have who knows how to make and repair radios.', 'Yes she is the only teacher they have who knows how to fix and make radios.', 'Yes the competition will be next month hence,all the children must learn how to make radios.', 'I have seen how the are busy on these horses. The one in front wearing red is the one that will win.', 'It is true he will win because he pulled his horse very hard and it outran all the others and went to the front.', 'And I have seen the one behind is dissapointed and is yelling at his horse so that it can run faster.', 'My friend come and see how they are competing to ride horses. Have you seen how they are standing as they are riding the horses?', 'yes that can also be true', \"guns make a lot of noise when shooting, maybe that's why his covering his ears\", 'yes, maybe his a police trying to check if the gun is ok', 'this person has pointed a gun trying to shoot a board in front', \"She is  making clay pots some of flowers others without and she's paying attention to what she Iis doing.\", 'What is she making out of clay?', 'She is  making things out of clay using both her hands.', 'She is  wearing spectacles and she has black hair.', 'Two men are on sand playing a game', 'At the edge is a fence, umbrellas and tents, it seems they are at the beach', 'He is also wearing black shorts and a black hat.', 'One is dressed in red while the other is in a grey shirt.', 'This thing that this man has climbed on looks like a boat that does not work.', 'What else is in this place where this man with short black hair is?', 'This place has water and there is a lot of wood. It seems like there was a wooden house and then it got destroyed and there are also other utensils.', 'A man wearing a blue jersey and a greyish trousers has climbed on something.', 'This is a syringe.', 'A person is holding something that they use in the hospital and had out something in it.', 'What he has put in the syringe is dropping on the table.', 'The houses  are at the far end', \"there's another man on the road walking at a distance\", 'He is wearing shorts and a shirt', 'A young man is playing on a skateboard', 'One white skinned man is kissing someone on the cheek.', 'The person being kissed on the ckeek seems very happy.', 'They must be close friends or lovers.', 'For sure he does, except it is so true that prevention is way much more better than cure.', 'I am sure he is aware of what he is doing dear, he believes in his act and that he is careful with everything.', 'Yea dear, the only worry is when things fall apart there is so much sorrow and all the happiness disappeared.', 'This gent looks like having a fan time by this game.', \"they're welcome their country's soldiers, like we observe when our soldiers return from peace keeping\", \"everyone here is holding their country's flag\", 'that thing he has lifted is a black wig, those hats our friends wear.', 'this people ate really happy, just see how the man is screaming', 'The young man in a cap is participating in games.', 'He is in a running race.', 'another young man is watching the game from behind.', 'There is a crowed of people behind him.', 'It looks like they are discussing something or they are about to kiss.', 'How are they looking?', 'A lady is sleeping facing upwards and a young man is on top of the lady hugging her.', 'A young man and a lady are lying down on the grass in the yard.', 'Young men are at a play ground playing games.', 'When playing this game they also wear things to protect their chests because this game is difficult.', 'The shoes too that are wearing are able to protect them even when they are stepped on.', \"Yes they are wearing things to protect their faces so that they don't break their teeth when they collide.\", 'Young woman is paying attention to the hall she is playing.', 'She is putting on a black band on her hand.', 'They are playing and using a gree ball.', 'A woman with a blue shirt and awhite short is holding a stick for the ball.', 'a woman is on a cliff playing with a dog on the grass , shes throwing something at the dog and the dog is trying to catch.', \"the dog is playing with has opened its mouth, and it's been dressed with a belt round it's neck\", 'the woman is sitting down and stretched her right hand', 'behind the dog there are a lot of green trees', 'the lady has short black hair and has hanged the camera in the neck and in her hand', 'Maybe thats what the dog wants to catch.', 'She is with a white dog which has openned its mouth.', 'What is the woman doing with the dog?', 'The woman has thrown something that is in red in color.', 'where the are. there is a shop with books', 'there are different buildings in town, some are tall , others short, and some with  words others with pictures', 'the shop inside the building seems to be one and it has different types of products', 'this seems to be a building with different shops', \"If one hasn't paid attention they'd think he's a woman because of the long hair.\", 'And this child just came out of the water.', 'A child is standing with hands in the air filled with joy.', 'She has very nice and long hair.', 'A white woman is playing a ball game with her hands.', 'What kind of places would you find people playing this game?', 'This is not sand by the beach, but has been put in these places used for playing and competing to simulate the beach.', 'This game is sometimes played indoors although this woma in playing it on the sand.', 'In this picture there is a woman and a brown cat.', \"How is the woman's facial expression as the cat is biting her?\", 'All creatures bite. They can bite and they have got teeth', \"So a cat can also bite? I never knew that that's how it is\", 'It could be that she provoked or maybe she squeezed its ribs', 'This woman has tightened her face to show that she is feeling pain.', 'What is this woman doing with a cat on her face?', \"The cat is biting this woman's nose.\", 'But what has caused the cat to bite this person?', 'there is something they are putting in the cup', 'there are other people behind them', 'it appears there is food in this building', 'what are they doing?', 'A white person is on their bicycle.', 'He is even wearing sports sunglasses with a helmet.', 'Yea dear, he looks to have been well trained.', 'Have you noticed how the one in front is trying to hit the ball using the racket? ', \"I have seen it, it's well built with grass in it.\", 'Some people are in a sports field playing a game where they are playing tennis have you seen how the sports field looks like?', \"Yes there's someone behind trying to hold the ball and they are lots of people dressed in black that have come to watch the game.\", 'Yes they are fighting for the first position to slide.', 'For a long time now,their parents have always told them to play in harmony.', 'If their parents find them fighting they will be beaten.', 'Are they fighting to go on the playing pipe?', \"my sister there are no lights in the farm, look closely there's just trees.\", 'men of different races are sitting in a farm in the mountains.', 'she is drawing with chalk', 'this place is lit up with lights if different colours', 'The dog with big ears is playing with a small stick.', 'The grass is nice.', 'The small dog has a big head.', 'The place has small leaves where it is playing.', 'They are on grounds where they compete with animals.', 'The way he is pulling this horse, perharps it is the one he works with in their work of competing with others.', 'There are also many people who have come to watch on the same grounds.', 'It looks like he is the owner of this shop.', 'He has aworker but he is not working today.', 'The meat looks nice,are they no workers in the shop.', 'A man is cutting meat in the shop.', 'Other people are on the side of the road, watching.', 'All in total who are running are seven.', 'In the middle of the road they are running from,there are two men who are seeing what is happening.', 'What kind of games are the men and women playing?', 'Men and women are playing.', 'Other people are just walking along the road.', 'It is true because there are two women in front of them putting on black pants.', 'There are men who are also running.', 'The same gaming center has lights like RGB all over.', 'Hahaha it is a bonanza game, these are those games that have both the young and old addicted.', 'An old white folk is alone pressing on some button machines in a cafe.', 'Bonanza and other alike games can be exciting even if solo.', 'For her she is not even paying attention to how big the river is, she is just concentrating on playing.', 'This river is quite big even if this girl is not scared.', 'I am sure she is with someone older who is looking after her,  maybe she has been told to be playing besides the river.', 'If a strong wind came she can easily be carried away and that would be her death.']\n"
          ]
        }
      ],
      "source": [
        "references = test_dataset[\"translation\"]\n",
        "print(references) # Check if the references is list"
      ]
    },
    {
      "cell_type": "code",
      "execution_count": 47,
      "metadata": {
        "id": "-Yd83hrErKeh",
        "vscode": {
          "languageId": "plaintext"
        },
        "executionInfo": {
          "status": "ok",
          "timestamp": 1745472452463,
          "user_tz": -420,
          "elapsed": 6956,
          "user": {
            "displayName": "",
            "userId": ""
          }
        }
      },
      "outputs": [],
      "source": [
        "audio_arrays = [a[\"array\"].astype(np.float32) for a in test_dataset[\"audio\"]]"
      ]
    },
    {
      "cell_type": "code",
      "source": [],
      "metadata": {
        "id": "821eVkbFlMGn",
        "executionInfo": {
          "status": "ok",
          "timestamp": 1745472452464,
          "user_tz": -420,
          "elapsed": 11,
          "user": {
            "displayName": "",
            "userId": ""
          }
        }
      },
      "execution_count": 47,
      "outputs": []
    },
    {
      "cell_type": "code",
      "execution_count": 48,
      "metadata": {
        "id": "apS1AGNLuP-T",
        "executionInfo": {
          "status": "ok",
          "timestamp": 1745472452464,
          "user_tz": -420,
          "elapsed": 10,
          "user": {
            "displayName": "",
            "userId": ""
          }
        }
      },
      "outputs": [],
      "source": [
        "\n",
        "# audio_arrays"
      ]
    },
    {
      "cell_type": "code",
      "execution_count": 49,
      "metadata": {
        "id": "sHuWfMUSy4BN",
        "executionInfo": {
          "status": "ok",
          "timestamp": 1745472452464,
          "user_tz": -420,
          "elapsed": 9,
          "user": {
            "displayName": "",
            "userId": ""
          }
        }
      },
      "outputs": [],
      "source": [
        "assert len(audio_arrays) == len(references)"
      ]
    },
    {
      "cell_type": "code",
      "source": [
        "len(audio_arrays)"
      ],
      "metadata": {
        "id": "BzM6xyU10M7w",
        "colab": {
          "base_uri": "https://localhost:8080/"
        },
        "executionInfo": {
          "status": "ok",
          "timestamp": 1745472452464,
          "user_tz": -420,
          "elapsed": 9,
          "user": {
            "displayName": "",
            "userId": ""
          }
        },
        "outputId": "0646e938-86b5-4e50-9772-ea7a8b051c79"
      },
      "execution_count": 50,
      "outputs": [
        {
          "output_type": "execute_result",
          "data": {
            "text/plain": [
              "2763"
            ]
          },
          "metadata": {},
          "execution_count": 50
        }
      ]
    },
    {
      "cell_type": "code",
      "source": [
        "len(references)"
      ],
      "metadata": {
        "id": "2Zq0XIcf0Oun",
        "colab": {
          "base_uri": "https://localhost:8080/"
        },
        "executionInfo": {
          "status": "ok",
          "timestamp": 1745472452464,
          "user_tz": -420,
          "elapsed": 8,
          "user": {
            "displayName": "",
            "userId": ""
          }
        },
        "outputId": "edb09f2e-6e49-4f72-c755-e95bde449e24"
      },
      "execution_count": 51,
      "outputs": [
        {
          "output_type": "execute_result",
          "data": {
            "text/plain": [
              "2763"
            ]
          },
          "metadata": {},
          "execution_count": 51
        }
      ]
    },
    {
      "cell_type": "markdown",
      "metadata": {
        "id": "ONvgJHIFrKej"
      },
      "source": [
        "# Cascaded"
      ]
    },
    {
      "cell_type": "markdown",
      "metadata": {
        "id": "kj3bYhDarKek"
      },
      "source": [
        "## transcribe"
      ]
    },
    {
      "cell_type": "code",
      "execution_count": 52,
      "metadata": {
        "id": "AFDzzAF_rKek",
        "vscode": {
          "languageId": "plaintext"
        },
        "executionInfo": {
          "status": "ok",
          "timestamp": 1745472452464,
          "user_tz": -420,
          "elapsed": 6,
          "user": {
            "displayName": "",
            "userId": ""
          }
        }
      },
      "outputs": [],
      "source": [
        "# model_id = \"kreasof-ai/whisper-medium-bem2en\"\n",
        "# output_dir=\"ct2-whisper-medium-transcription-finetuned\"\n",
        "# commit_hash= \"2b91ce20bd264d43947d18db44d7d08e84ae49ee\"\n",
        "\n",
        "# !ct2-transformers-converter \\\n",
        "# --model {model_id} \\\n",
        "# --output_dir {output_dir} \\\n",
        "# --revision {commit_hash} \\\n",
        "# --quantization float16 \\\n",
        "# --copy_files tokenizer_config.json\\\n",
        "# --force"
      ]
    },
    {
      "cell_type": "code",
      "source": [
        "model_id = \"openai/whisper-small\"\n",
        "output_dir=\"ct2-whisper-small-transcription-baseline\"\n",
        "\n",
        "!ct2-transformers-converter \\\n",
        "--model {model_id} \\\n",
        "--output_dir {output_dir} \\\n",
        "--quantization float16 \\\n",
        "--copy_files tokenizer_config.json\\\n",
        "--force"
      ],
      "metadata": {
        "colab": {
          "base_uri": "https://localhost:8080/"
        },
        "id": "ng7XGLY1AtFT",
        "executionInfo": {
          "status": "ok",
          "timestamp": 1745472475619,
          "user_tz": -420,
          "elapsed": 23160,
          "user": {
            "displayName": "",
            "userId": ""
          }
        },
        "outputId": "98c69651-17da-4b6c-fce7-726d500e14ed"
      },
      "execution_count": 53,
      "outputs": [
        {
          "output_type": "stream",
          "name": "stdout",
          "text": [
            "/usr/local/lib/python3.10/dist-packages/transformers/utils/hub.py:128: FutureWarning: Using `TRANSFORMERS_CACHE` is deprecated and will be removed in v5 of Transformers. Use `HF_HOME` instead.\n",
            "  warnings.warn(\n",
            "2025-04-24 05:27:41.726099: I tensorflow/core/util/port.cc:153] oneDNN custom operations are on. You may see slightly different numerical results due to floating-point round-off errors from different computation orders. To turn them off, set the environment variable `TF_ENABLE_ONEDNN_OPTS=0`.\n",
            "2025-04-24 05:27:42.167097: E external/local_xla/xla/stream_executor/cuda/cuda_fft.cc:485] Unable to register cuFFT factory: Attempting to register factory for plugin cuFFT when one has already been registered\n",
            "2025-04-24 05:27:42.327677: E external/local_xla/xla/stream_executor/cuda/cuda_dnn.cc:8454] Unable to register cuDNN factory: Attempting to register factory for plugin cuDNN when one has already been registered\n",
            "2025-04-24 05:27:42.369529: E external/local_xla/xla/stream_executor/cuda/cuda_blas.cc:1452] Unable to register cuBLAS factory: Attempting to register factory for plugin cuBLAS when one has already been registered\n",
            "2025-04-24 05:27:42.678796: I tensorflow/core/platform/cpu_feature_guard.cc:210] This TensorFlow binary is optimized to use available CPU instructions in performance-critical operations.\n",
            "To enable the following instructions: AVX2 AVX512F AVX512_VNNI FMA, in other operations, rebuild TensorFlow with the appropriate compiler flags.\n",
            "2025-04-24 05:27:44.983769: W tensorflow/compiler/tf2tensorrt/utils/py_utils.cc:38] TF-TRT Warning: Could not find TensorRT\n"
          ]
        }
      ]
    },
    {
      "cell_type": "code",
      "execution_count": 54,
      "metadata": {
        "id": "bt_R20bOrKel",
        "vscode": {
          "languageId": "plaintext"
        },
        "executionInfo": {
          "status": "ok",
          "timestamp": 1745472476222,
          "user_tz": -420,
          "elapsed": 607,
          "user": {
            "displayName": "",
            "userId": ""
          }
        }
      },
      "outputs": [],
      "source": [
        "from faster_whisper import WhisperModel\n",
        "\n",
        "model_name = output_dir\n",
        "\n",
        "model = WhisperModel(model_name, device=\"cuda\", compute_type=\"float16\")"
      ]
    },
    {
      "cell_type": "code",
      "execution_count": 55,
      "metadata": {
        "id": "h39pvQ_drKel",
        "vscode": {
          "languageId": "plaintext"
        },
        "colab": {
          "base_uri": "https://localhost:8080/"
        },
        "executionInfo": {
          "status": "ok",
          "timestamp": 1745472476222,
          "user_tz": -420,
          "elapsed": 2,
          "user": {
            "displayName": "",
            "userId": ""
          }
        },
        "outputId": "b7ac4040-2b3b-4ad6-830d-2a014fa8f851"
      },
      "outputs": [
        {
          "output_type": "execute_result",
          "data": {
            "text/plain": [
              "{'audio': {'path': '15_7474_3_152_02_211030-180248_bem_8cc_elicit_1.wav',\n",
              "  'array': array([ 0.00000000e+00,  0.00000000e+00,  0.00000000e+00, ...,\n",
              "         -9.15527344e-05, -6.10351562e-05, -6.10351562e-05]),\n",
              "  'sampling_rate': 16000},\n",
              " 'sentence': 'nafwala na amakalashi ku menso',\n",
              " 'translation': 'he is wearing glasses as well',\n",
              " 'speaker_id': 152}"
            ]
          },
          "metadata": {},
          "execution_count": 55
        }
      ],
      "source": [
        "test_dataset[0]"
      ]
    },
    {
      "cell_type": "code",
      "execution_count": 56,
      "metadata": {
        "id": "xshZ0ayArKem",
        "vscode": {
          "languageId": "plaintext"
        },
        "executionInfo": {
          "status": "ok",
          "timestamp": 1745472476631,
          "user_tz": -420,
          "elapsed": 410,
          "user": {
            "displayName": "",
            "userId": ""
          }
        }
      },
      "outputs": [],
      "source": [
        "tgt_lang = \"en\"\n",
        "\n",
        "transcriptions = []\n",
        "segments, info = model.transcribe(audio_arrays[0],\n",
        "                                beam_size=5,\n",
        "                                language=tgt_lang,\n",
        "                                vad_filter=True\n",
        "                                )\n",
        "transcription = \" \".join([segment.text.strip() for segment in segments])\n",
        "transcriptions.append(transcription)"
      ]
    },
    {
      "cell_type": "code",
      "execution_count": 57,
      "metadata": {
        "id": "c9f5SkCxrKem",
        "vscode": {
          "languageId": "plaintext"
        },
        "colab": {
          "base_uri": "https://localhost:8080/"
        },
        "executionInfo": {
          "status": "ok",
          "timestamp": 1745472476632,
          "user_tz": -420,
          "elapsed": 7,
          "user": {
            "displayName": "",
            "userId": ""
          }
        },
        "outputId": "f6e75e53-d63d-4ff6-d1e5-1832b3bf54a0"
      },
      "outputs": [
        {
          "output_type": "stream",
          "name": "stdout",
          "text": [
            "[\"Now, let's start the process.\"]\n"
          ]
        }
      ],
      "source": [
        "print(transcriptions)"
      ]
    },
    {
      "cell_type": "code",
      "execution_count": 58,
      "metadata": {
        "id": "9247xz-mrKem",
        "vscode": {
          "languageId": "plaintext"
        },
        "colab": {
          "base_uri": "https://localhost:8080/",
          "height": 49,
          "referenced_widgets": [
            "3a4f42e7c6b24d219785ce2bedb1847d",
            "d257ec89e2444af8951c50cf2fda5a71",
            "0df53553841c4db0928794e115cbf7c3",
            "044ad7bfe3a04efbbaef9595304cc873",
            "06260ea59fc14f12aec1f5b6d56687de",
            "17c0b9ae72b041869c1f476050629b8d",
            "473ac7c8d41a4b2bb30fa05ed5b828d1",
            "9031f1bd09eb460ab29161a26df381ec",
            "3225f58f83c4464093736e7fbd3e658e",
            "24152e674b0e4841a4915408ef730e31",
            "27fa98fb916243e19a2abc33bbdc2528"
          ]
        },
        "outputId": "d873d56d-5f46-46ea-81ee-43aa8d150e61",
        "executionInfo": {
          "status": "ok",
          "timestamp": 1745474353316,
          "user_tz": -420,
          "elapsed": 1876689,
          "user": {
            "displayName": "",
            "userId": ""
          }
        }
      },
      "outputs": [
        {
          "output_type": "display_data",
          "data": {
            "text/plain": [
              "  0%|          | 0/2763 [00:00<?, ?it/s]"
            ],
            "application/vnd.jupyter.widget-view+json": {
              "version_major": 2,
              "version_minor": 0,
              "model_id": "3a4f42e7c6b24d219785ce2bedb1847d"
            }
          },
          "metadata": {}
        }
      ],
      "source": [
        "from tqdm.auto import tqdm\n",
        "\n",
        "tgt_lang = \"en\"\n",
        "\n",
        "transcriptions = []\n",
        "\n",
        "for audio_array in tqdm(audio_arrays, total=len(audio_arrays)):\n",
        "    segments, info = model.transcribe(audio_array,\n",
        "                                        beam_size=5,\n",
        "                                        language=tgt_lang,\n",
        "                                        vad_filter=True)\n",
        "    transcription = \" \".join([segment.text.strip() for segment in segments])\n",
        "    transcriptions.append(transcription)"
      ]
    },
    {
      "cell_type": "code",
      "execution_count": 59,
      "metadata": {
        "id": "n4MYqLfqrKen",
        "vscode": {
          "languageId": "plaintext"
        },
        "colab": {
          "base_uri": "https://localhost:8080/"
        },
        "executionInfo": {
          "status": "ok",
          "timestamp": 1745474353316,
          "user_tz": -420,
          "elapsed": 18,
          "user": {
            "displayName": "",
            "userId": ""
          }
        },
        "outputId": "6e0756c0-ec26-4822-f45c-f06eff63550f"
      },
      "outputs": [
        {
          "output_type": "stream",
          "name": "stdout",
          "text": [
            "Now, let's start the process.\n",
            "If you don't have earphones, you don't have to buy a new one.\n",
            "This is the end of this video. Thank you for watching.\n",
            "This is what I'm going to show you. This is what I'm going to show you. This is what I'm going to show you.\n",
            "Awao mewari pamutenge yangan da umo afuere ishatsu yami to mito Iriyama boku ayatari ero ne toroshi Iriyama kumbi makumbi\n",
            "If you've ever been to Kunsapatu, if you're a Kuttelelele, you might want to come and visit the place.\n",
            "Namayu Arendamumusebo Nabi Kanumwana Pamawea\n",
            "That's it, that's it. It's time to say goodbye. I hope you enjoy watching this video. And I'll see you in the next video.\n",
            "Now we are going to dry the bamboo shoots and cut them into pieces.\n",
            "Nangulimbi, gulivamu avamu furuise.\n",
            "I will see you in the next video.\n",
            "Come on, I can't be better than full of amazapato-kuri and full of shawava.\n",
            "I'm going to make a fire so that it doesn't burn. I'm going to make a fire so that it doesn't burn.\n",
            "I hope that you liked this video. I hope you liked it. I hope you liked it. See you in the next video.\n",
            "Number 6. Finishing your Casana Rich Tapalunko Toa Peminine\n",
            "Eri o Pachi Bomba Bari Kobeka po ichi laiti, icha koata ama lembo, icha kasana no kobeka\n",
            "Hmmmm Go in amaranam Go Fin chiare chi da Na ko e Tana cho Mo 1964 Elio Na warama Galase Buch Br y, Fin chiare chi da Oui\n",
            "Mumbarie Tevulo, but we come on not to put up a quick I want to\n",
            "I hope you liked this video because I will see you in the next video, bye.\n",
            "I'm gonna cover it for kuma. I'm gonna cover it for kuma.\n"
          ]
        }
      ],
      "source": [
        "print(*transcriptions[:20], sep=\"\\n\")"
      ]
    },
    {
      "cell_type": "markdown",
      "metadata": {
        "id": "dVErRYtVrKen"
      },
      "source": [
        "## MT (NLLB)"
      ]
    },
    {
      "cell_type": "code",
      "execution_count": 60,
      "metadata": {
        "id": "Vi6avQ16rKen",
        "vscode": {
          "languageId": "plaintext"
        },
        "executionInfo": {
          "status": "ok",
          "timestamp": 1745474353316,
          "user_tz": -420,
          "elapsed": 4,
          "user": {
            "displayName": "",
            "userId": ""
          }
        }
      },
      "outputs": [],
      "source": [
        "# mt_model_name = \"kreasof-ai/nllb-200-distilled-600M-bem2en-flores200\"\n",
        "# output_mt = \"ct2-nllb-be-en-finetuned\"\n",
        "# commit_hash = \"ede0247483834828669a0a44366bd1763d176733\"\n",
        "# !ct2-transformers-converter --model {mt_model_name} --revision {commit_hash} --quantization float16 --output_dir {output_mt} --force"
      ]
    },
    {
      "cell_type": "code",
      "source": [
        "mt_model_name = \"facebook/nllb-200-3.3B\"\n",
        "output_mt = \"ct2-nllb-bem-eng-baseline\"\n",
        "!ct2-transformers-converter --model {mt_model_name} --quantization float16 --output_dir {output_mt} --force"
      ],
      "metadata": {
        "colab": {
          "base_uri": "https://localhost:8080/"
        },
        "id": "hWufsTeEBATg",
        "outputId": "499e0d25-b73b-4a7a-ea0f-5e5c1ed68049"
      },
      "execution_count": null,
      "outputs": [
        {
          "output_type": "stream",
          "name": "stdout",
          "text": [
            "/usr/local/lib/python3.10/dist-packages/transformers/utils/hub.py:128: FutureWarning: Using `TRANSFORMERS_CACHE` is deprecated and will be removed in v5 of Transformers. Use `HF_HOME` instead.\n",
            "  warnings.warn(\n",
            "2025-04-24 06:23:43.745843: I tensorflow/core/util/port.cc:153] oneDNN custom operations are on. You may see slightly different numerical results due to floating-point round-off errors from different computation orders. To turn them off, set the environment variable `TF_ENABLE_ONEDNN_OPTS=0`.\n",
            "2025-04-24 06:23:44.202094: E external/local_xla/xla/stream_executor/cuda/cuda_fft.cc:485] Unable to register cuFFT factory: Attempting to register factory for plugin cuFFT when one has already been registered\n",
            "2025-04-24 06:23:44.359757: E external/local_xla/xla/stream_executor/cuda/cuda_dnn.cc:8454] Unable to register cuDNN factory: Attempting to register factory for plugin cuDNN when one has already been registered\n",
            "2025-04-24 06:23:44.407696: E external/local_xla/xla/stream_executor/cuda/cuda_blas.cc:1452] Unable to register cuBLAS factory: Attempting to register factory for plugin cuBLAS when one has already been registered\n",
            "2025-04-24 06:23:44.736672: I tensorflow/core/platform/cpu_feature_guard.cc:210] This TensorFlow binary is optimized to use available CPU instructions in performance-critical operations.\n",
            "To enable the following instructions: AVX2 AVX512F AVX512_VNNI FMA, in other operations, rebuild TensorFlow with the appropriate compiler flags.\n",
            "2025-04-24 06:23:47.021941: W tensorflow/compiler/tf2tensorrt/utils/py_utils.cc:38] TF-TRT Warning: Could not find TensorRT\n",
            "Downloading shards: 100% 3/3 [00:00<00:00, 1875.53it/s]\n",
            "Loading checkpoint shards: 100% 3/3 [00:01<00:00,  2.02it/s]\n"
          ]
        }
      ]
    },
    {
      "cell_type": "code",
      "source": [],
      "metadata": {
        "id": "EcoKrlHgbTzd"
      },
      "execution_count": null,
      "outputs": []
    },
    {
      "cell_type": "code",
      "source": [
        "# !sudo rm -rf ct2-nllb-be-en-baseline/"
      ],
      "metadata": {
        "id": "W8fibMWuz6lO",
        "executionInfo": {
          "status": "ok",
          "timestamp": 1745475167295,
          "user_tz": -420,
          "elapsed": 222,
          "user": {
            "displayName": "",
            "userId": ""
          }
        }
      },
      "execution_count": 72,
      "outputs": []
    },
    {
      "cell_type": "code",
      "execution_count": 63,
      "metadata": {
        "id": "rm4unIgZrKen",
        "vscode": {
          "languageId": "plaintext"
        },
        "executionInfo": {
          "status": "ok",
          "timestamp": 1745474438089,
          "user_tz": -420,
          "elapsed": 6,
          "user": {
            "displayName": "",
            "userId": ""
          }
        }
      },
      "outputs": [],
      "source": [
        "# !wget https://s3.amazonaws.com/opennmt-models/nllb-200/flores200_sacrebleu_tokenizer_spm.model"
      ]
    },
    {
      "cell_type": "code",
      "execution_count": null,
      "metadata": {
        "id": "gWXU1N6ZrKen",
        "vscode": {
          "languageId": "plaintext"
        }
      },
      "outputs": [],
      "source": [
        "import os\n",
        "\n",
        "directory = \"/content/\"\n",
        "\n",
        "ct2_model_name = output_mt\n",
        "\n",
        "ct_model_path = os.path.join(directory, ct2_model_name)\n",
        "sp_model_path = os.path.join(directory, \"flores200_sacrebleu_tokenizer_spm.model\")"
      ]
    },
    {
      "cell_type": "code",
      "execution_count": null,
      "metadata": {
        "id": "3f7OdYdwrKeo",
        "vscode": {
          "languageId": "plaintext"
        }
      },
      "outputs": [],
      "source": [
        "import ctranslate2\n",
        "import sentencepiece as spm\n",
        "import torch\n",
        "\n",
        "device = \"cuda\" if torch.cuda.is_available() else \"cpu\"\n",
        "\n",
        "sp = spm.SentencePieceProcessor()\n",
        "sp.load(sp_model_path)\n",
        "\n",
        "translator = ctranslate2.Translator(ct_model_path, device=device)"
      ]
    },
    {
      "cell_type": "code",
      "execution_count": null,
      "metadata": {
        "id": "bKI_V8SZrKeo",
        "vscode": {
          "languageId": "plaintext"
        },
        "executionInfo": {
          "status": "aborted",
          "timestamp": 1745475249035,
          "user_tz": -420,
          "elapsed": 2,
          "user": {
            "displayName": "",
            "userId": ""
          }
        }
      },
      "outputs": [],
      "source": [
        "# Translate\n",
        "\n",
        "# src_lang = \"ben_Beng\"\n",
        "# tgt_lang = \"eng_Latn\"\n",
        "\n",
        "src_lang = \"bem_Latn\"\n",
        "tgt_lang = \"eng_Latn\"\n",
        "\n",
        "beam_size = 5\n",
        "\n",
        "source_sentences = transcriptions\n",
        "\n",
        "source_sents = [sent.strip() for sent in source_sentences]\n",
        "target_prefix = [[tgt_lang]] * len(source_sents)\n",
        "\n",
        "# Subword the source sentences\n",
        "source_sents_subworded = sp.encode_as_pieces(source_sents)\n",
        "source_sents_subworded = [[src_lang] + sent + [\"</s>\"] for sent in source_sents_subworded]\n",
        "\n",
        "# Translate the source sente nces\n",
        "translations = translator.translate_batch(source_sents_subworded,\n",
        "                                          batch_type=\"tokens\",\n",
        "                                          max_batch_size=2024,\n",
        "                                          beam_size=beam_size,\n",
        "                                          target_prefix=target_prefix)\n",
        "translations = [translation.hypotheses[0] for translation in translations]\n",
        "\n",
        "# Desubword the target sentences\n",
        "translations_desubword = sp.decode(translations)\n",
        "translations_desubword = [sent[len(tgt_lang):].strip() for sent in translations_desubword]\n",
        "\n",
        "print(*translations_desubword[:10], sep=\"\\n\")"
      ]
    },
    {
      "cell_type": "code",
      "execution_count": null,
      "metadata": {
        "id": "PHLeXRdUrKeo",
        "vscode": {
          "languageId": "plaintext"
        },
        "executionInfo": {
          "status": "aborted",
          "timestamp": 1745475249035,
          "user_tz": -420,
          "elapsed": 1,
          "user": {
            "displayName": "",
            "userId": ""
          }
        }
      },
      "outputs": [],
      "source": [
        "import sacrebleu\n",
        "\n",
        "translations = translations_desubword\n",
        "\n",
        "# Calculate BLEU\n",
        "bleu = sacrebleu.corpus_bleu(translations, [references])\n",
        "bleu = round(bleu.score, 2)\n",
        "\n",
        "# Calculate CHRF\n",
        "chrf = sacrebleu.corpus_chrf(translations, [references], word_order=2)  # for chrF++ word_order=2\n",
        "chrf = round(chrf.score, 2)\n",
        "\n",
        "print(model_name)\n",
        "print(\"BLEU\\tChrF++\")\n",
        "print(f\"{bleu}\\t{chrf}\")"
      ]
    },
    {
      "cell_type": "code",
      "execution_count": null,
      "metadata": {
        "id": "cat5s0vnyH-c",
        "executionInfo": {
          "status": "aborted",
          "timestamp": 1745475249035,
          "user_tz": -420,
          "elapsed": 1,
          "user": {
            "displayName": "",
            "userId": ""
          }
        }
      },
      "outputs": [],
      "source": []
    },
    {
      "cell_type": "markdown",
      "source": [
        "# Comet"
      ],
      "metadata": {
        "id": "mQ5NJvlnekaR"
      }
    },
    {
      "cell_type": "code",
      "source": [
        "!pip install -U unbabel-comet -q"
      ],
      "metadata": {
        "id": "RyKlMSRaek-y"
      },
      "execution_count": null,
      "outputs": []
    },
    {
      "cell_type": "code",
      "source": [
        "from comet import download_model, load_from_checkpoint"
      ],
      "metadata": {
        "id": "EkiHQt24fWUU"
      },
      "execution_count": null,
      "outputs": []
    },
    {
      "cell_type": "code",
      "source": [
        "lst_data = [{\"src\": src, \"mt\":mt, \"ref\":ref} for src, mt, ref in zip(source_sentences, translations_desubword, references)]"
      ],
      "metadata": {
        "id": "0jU6b2ZiepCX"
      },
      "execution_count": null,
      "outputs": []
    },
    {
      "cell_type": "code",
      "source": [
        "model_path = download_model(\"masakhane/africomet-mtl\")\n",
        "model = load_from_checkpoint(model_path)\n",
        "data = lst_data\n",
        "model_output = model.predict(data, batch_size=8, gpus=1)\n",
        "print (model_output)"
      ],
      "metadata": {
        "id": "sjJ8AcSfete0"
      },
      "execution_count": null,
      "outputs": []
    },
    {
      "cell_type": "code",
      "source": [
        "sys_score = model_output[\"system_score\"]"
      ],
      "metadata": {
        "id": "HUjLi9MzeyIY"
      },
      "execution_count": null,
      "outputs": []
    },
    {
      "cell_type": "code",
      "source": [
        "print(\"COMET:\", round(sys_score*100, 2))"
      ],
      "metadata": {
        "id": "b-TA6bEle0eO"
      },
      "execution_count": null,
      "outputs": []
    },
    {
      "cell_type": "code",
      "source": [
        "sys_score"
      ],
      "metadata": {
        "id": "dJV97_wDe2xW"
      },
      "execution_count": null,
      "outputs": []
    }
  ],
  "metadata": {
    "accelerator": "GPU",
    "colab": {
      "gpuType": "L4",
      "provenance": [],
      "name": "bem_en_cascaded_Evaluation_final.ipynb"
    },
    "kernelspec": {
      "display_name": "Python 3",
      "name": "python3"
    },
    "language_info": {
      "name": "python"
    },
    "widgets": {
      "application/vnd.jupyter.widget-state+json": {
        "4c018ea1a6d44e808714f48b299559a7": {
          "model_module": "@jupyter-widgets/controls",
          "model_name": "HBoxModel",
          "model_module_version": "1.5.0",
          "state": {
            "_dom_classes": [],
            "_model_module": "@jupyter-widgets/controls",
            "_model_module_version": "1.5.0",
            "_model_name": "HBoxModel",
            "_view_count": null,
            "_view_module": "@jupyter-widgets/controls",
            "_view_module_version": "1.5.0",
            "_view_name": "HBoxView",
            "box_style": "",
            "children": [
              "IPY_MODEL_6fd46f6eb96a4dd395c46a46d40a68f2",
              "IPY_MODEL_c52243b529d74450993bc59dfcea9525",
              "IPY_MODEL_368b31bdacff4763b61fda0c02a14a24"
            ],
            "layout": "IPY_MODEL_b9cc67b810674a43bd8095c06d767e7c"
          }
        },
        "6fd46f6eb96a4dd395c46a46d40a68f2": {
          "model_module": "@jupyter-widgets/controls",
          "model_name": "HTMLModel",
          "model_module_version": "1.5.0",
          "state": {
            "_dom_classes": [],
            "_model_module": "@jupyter-widgets/controls",
            "_model_module_version": "1.5.0",
            "_model_name": "HTMLModel",
            "_view_count": null,
            "_view_module": "@jupyter-widgets/controls",
            "_view_module_version": "1.5.0",
            "_view_name": "HTMLView",
            "description": "",
            "description_tooltip": null,
            "layout": "IPY_MODEL_9474ed90c667409286d469b652bc13cc",
            "placeholder": "​",
            "style": "IPY_MODEL_1f575756a03e442bac19d1098bdeed5e",
            "value": "Resolving data files: 100%"
          }
        },
        "c52243b529d74450993bc59dfcea9525": {
          "model_module": "@jupyter-widgets/controls",
          "model_name": "FloatProgressModel",
          "model_module_version": "1.5.0",
          "state": {
            "_dom_classes": [],
            "_model_module": "@jupyter-widgets/controls",
            "_model_module_version": "1.5.0",
            "_model_name": "FloatProgressModel",
            "_view_count": null,
            "_view_module": "@jupyter-widgets/controls",
            "_view_module_version": "1.5.0",
            "_view_name": "ProgressView",
            "bar_style": "success",
            "description": "",
            "description_tooltip": null,
            "layout": "IPY_MODEL_96cfbb2da35d4b95b2a96a98beffe819",
            "max": 41,
            "min": 0,
            "orientation": "horizontal",
            "style": "IPY_MODEL_f2d025d966f9470297324c0884cc44ba",
            "value": 41
          }
        },
        "368b31bdacff4763b61fda0c02a14a24": {
          "model_module": "@jupyter-widgets/controls",
          "model_name": "HTMLModel",
          "model_module_version": "1.5.0",
          "state": {
            "_dom_classes": [],
            "_model_module": "@jupyter-widgets/controls",
            "_model_module_version": "1.5.0",
            "_model_name": "HTMLModel",
            "_view_count": null,
            "_view_module": "@jupyter-widgets/controls",
            "_view_module_version": "1.5.0",
            "_view_name": "HTMLView",
            "description": "",
            "description_tooltip": null,
            "layout": "IPY_MODEL_240e87c86b5d4e939a92ecbba24b5f13",
            "placeholder": "​",
            "style": "IPY_MODEL_471fb33225b541ba939c418abe3c2188",
            "value": " 41/41 [00:00&lt;00:00,  4.22it/s]"
          }
        },
        "b9cc67b810674a43bd8095c06d767e7c": {
          "model_module": "@jupyter-widgets/base",
          "model_name": "LayoutModel",
          "model_module_version": "1.2.0",
          "state": {
            "_model_module": "@jupyter-widgets/base",
            "_model_module_version": "1.2.0",
            "_model_name": "LayoutModel",
            "_view_count": null,
            "_view_module": "@jupyter-widgets/base",
            "_view_module_version": "1.2.0",
            "_view_name": "LayoutView",
            "align_content": null,
            "align_items": null,
            "align_self": null,
            "border": null,
            "bottom": null,
            "display": null,
            "flex": null,
            "flex_flow": null,
            "grid_area": null,
            "grid_auto_columns": null,
            "grid_auto_flow": null,
            "grid_auto_rows": null,
            "grid_column": null,
            "grid_gap": null,
            "grid_row": null,
            "grid_template_areas": null,
            "grid_template_columns": null,
            "grid_template_rows": null,
            "height": null,
            "justify_content": null,
            "justify_items": null,
            "left": null,
            "margin": null,
            "max_height": null,
            "max_width": null,
            "min_height": null,
            "min_width": null,
            "object_fit": null,
            "object_position": null,
            "order": null,
            "overflow": null,
            "overflow_x": null,
            "overflow_y": null,
            "padding": null,
            "right": null,
            "top": null,
            "visibility": null,
            "width": null
          }
        },
        "9474ed90c667409286d469b652bc13cc": {
          "model_module": "@jupyter-widgets/base",
          "model_name": "LayoutModel",
          "model_module_version": "1.2.0",
          "state": {
            "_model_module": "@jupyter-widgets/base",
            "_model_module_version": "1.2.0",
            "_model_name": "LayoutModel",
            "_view_count": null,
            "_view_module": "@jupyter-widgets/base",
            "_view_module_version": "1.2.0",
            "_view_name": "LayoutView",
            "align_content": null,
            "align_items": null,
            "align_self": null,
            "border": null,
            "bottom": null,
            "display": null,
            "flex": null,
            "flex_flow": null,
            "grid_area": null,
            "grid_auto_columns": null,
            "grid_auto_flow": null,
            "grid_auto_rows": null,
            "grid_column": null,
            "grid_gap": null,
            "grid_row": null,
            "grid_template_areas": null,
            "grid_template_columns": null,
            "grid_template_rows": null,
            "height": null,
            "justify_content": null,
            "justify_items": null,
            "left": null,
            "margin": null,
            "max_height": null,
            "max_width": null,
            "min_height": null,
            "min_width": null,
            "object_fit": null,
            "object_position": null,
            "order": null,
            "overflow": null,
            "overflow_x": null,
            "overflow_y": null,
            "padding": null,
            "right": null,
            "top": null,
            "visibility": null,
            "width": null
          }
        },
        "1f575756a03e442bac19d1098bdeed5e": {
          "model_module": "@jupyter-widgets/controls",
          "model_name": "DescriptionStyleModel",
          "model_module_version": "1.5.0",
          "state": {
            "_model_module": "@jupyter-widgets/controls",
            "_model_module_version": "1.5.0",
            "_model_name": "DescriptionStyleModel",
            "_view_count": null,
            "_view_module": "@jupyter-widgets/base",
            "_view_module_version": "1.2.0",
            "_view_name": "StyleView",
            "description_width": ""
          }
        },
        "96cfbb2da35d4b95b2a96a98beffe819": {
          "model_module": "@jupyter-widgets/base",
          "model_name": "LayoutModel",
          "model_module_version": "1.2.0",
          "state": {
            "_model_module": "@jupyter-widgets/base",
            "_model_module_version": "1.2.0",
            "_model_name": "LayoutModel",
            "_view_count": null,
            "_view_module": "@jupyter-widgets/base",
            "_view_module_version": "1.2.0",
            "_view_name": "LayoutView",
            "align_content": null,
            "align_items": null,
            "align_self": null,
            "border": null,
            "bottom": null,
            "display": null,
            "flex": null,
            "flex_flow": null,
            "grid_area": null,
            "grid_auto_columns": null,
            "grid_auto_flow": null,
            "grid_auto_rows": null,
            "grid_column": null,
            "grid_gap": null,
            "grid_row": null,
            "grid_template_areas": null,
            "grid_template_columns": null,
            "grid_template_rows": null,
            "height": null,
            "justify_content": null,
            "justify_items": null,
            "left": null,
            "margin": null,
            "max_height": null,
            "max_width": null,
            "min_height": null,
            "min_width": null,
            "object_fit": null,
            "object_position": null,
            "order": null,
            "overflow": null,
            "overflow_x": null,
            "overflow_y": null,
            "padding": null,
            "right": null,
            "top": null,
            "visibility": null,
            "width": null
          }
        },
        "f2d025d966f9470297324c0884cc44ba": {
          "model_module": "@jupyter-widgets/controls",
          "model_name": "ProgressStyleModel",
          "model_module_version": "1.5.0",
          "state": {
            "_model_module": "@jupyter-widgets/controls",
            "_model_module_version": "1.5.0",
            "_model_name": "ProgressStyleModel",
            "_view_count": null,
            "_view_module": "@jupyter-widgets/base",
            "_view_module_version": "1.2.0",
            "_view_name": "StyleView",
            "bar_color": null,
            "description_width": ""
          }
        },
        "240e87c86b5d4e939a92ecbba24b5f13": {
          "model_module": "@jupyter-widgets/base",
          "model_name": "LayoutModel",
          "model_module_version": "1.2.0",
          "state": {
            "_model_module": "@jupyter-widgets/base",
            "_model_module_version": "1.2.0",
            "_model_name": "LayoutModel",
            "_view_count": null,
            "_view_module": "@jupyter-widgets/base",
            "_view_module_version": "1.2.0",
            "_view_name": "LayoutView",
            "align_content": null,
            "align_items": null,
            "align_self": null,
            "border": null,
            "bottom": null,
            "display": null,
            "flex": null,
            "flex_flow": null,
            "grid_area": null,
            "grid_auto_columns": null,
            "grid_auto_flow": null,
            "grid_auto_rows": null,
            "grid_column": null,
            "grid_gap": null,
            "grid_row": null,
            "grid_template_areas": null,
            "grid_template_columns": null,
            "grid_template_rows": null,
            "height": null,
            "justify_content": null,
            "justify_items": null,
            "left": null,
            "margin": null,
            "max_height": null,
            "max_width": null,
            "min_height": null,
            "min_width": null,
            "object_fit": null,
            "object_position": null,
            "order": null,
            "overflow": null,
            "overflow_x": null,
            "overflow_y": null,
            "padding": null,
            "right": null,
            "top": null,
            "visibility": null,
            "width": null
          }
        },
        "471fb33225b541ba939c418abe3c2188": {
          "model_module": "@jupyter-widgets/controls",
          "model_name": "DescriptionStyleModel",
          "model_module_version": "1.5.0",
          "state": {
            "_model_module": "@jupyter-widgets/controls",
            "_model_module_version": "1.5.0",
            "_model_name": "DescriptionStyleModel",
            "_view_count": null,
            "_view_module": "@jupyter-widgets/base",
            "_view_module_version": "1.2.0",
            "_view_name": "StyleView",
            "description_width": ""
          }
        },
        "8c4c4d3a0c9f401da4fd3bea0f34d0a4": {
          "model_module": "@jupyter-widgets/controls",
          "model_name": "HBoxModel",
          "model_module_version": "1.5.0",
          "state": {
            "_dom_classes": [],
            "_model_module": "@jupyter-widgets/controls",
            "_model_module_version": "1.5.0",
            "_model_name": "HBoxModel",
            "_view_count": null,
            "_view_module": "@jupyter-widgets/controls",
            "_view_module_version": "1.5.0",
            "_view_name": "HBoxView",
            "box_style": "",
            "children": [
              "IPY_MODEL_3306143d776b4f94a78aefa60bae405b",
              "IPY_MODEL_0ac150af904347348030037e3d03a582",
              "IPY_MODEL_019fc77d31b84fd7abda786ce2f60625"
            ],
            "layout": "IPY_MODEL_43678ba4009e486882a3d947a218dec7"
          }
        },
        "3306143d776b4f94a78aefa60bae405b": {
          "model_module": "@jupyter-widgets/controls",
          "model_name": "HTMLModel",
          "model_module_version": "1.5.0",
          "state": {
            "_dom_classes": [],
            "_model_module": "@jupyter-widgets/controls",
            "_model_module_version": "1.5.0",
            "_model_name": "HTMLModel",
            "_view_count": null,
            "_view_module": "@jupyter-widgets/controls",
            "_view_module_version": "1.5.0",
            "_view_name": "HTMLView",
            "description": "",
            "description_tooltip": null,
            "layout": "IPY_MODEL_05bc7d9c79044c7280d4bcbeb5417862",
            "placeholder": "​",
            "style": "IPY_MODEL_fb1c122396d04763a9b095ea79705489",
            "value": "Resolving data files: 100%"
          }
        },
        "0ac150af904347348030037e3d03a582": {
          "model_module": "@jupyter-widgets/controls",
          "model_name": "FloatProgressModel",
          "model_module_version": "1.5.0",
          "state": {
            "_dom_classes": [],
            "_model_module": "@jupyter-widgets/controls",
            "_model_module_version": "1.5.0",
            "_model_name": "FloatProgressModel",
            "_view_count": null,
            "_view_module": "@jupyter-widgets/controls",
            "_view_module_version": "1.5.0",
            "_view_name": "ProgressView",
            "bar_style": "success",
            "description": "",
            "description_tooltip": null,
            "layout": "IPY_MODEL_cb3b2fb4acce45cfa30c093bdbe0d6d9",
            "max": 41,
            "min": 0,
            "orientation": "horizontal",
            "style": "IPY_MODEL_e24424c3c5ce43508aa3b47dc6293b66",
            "value": 41
          }
        },
        "019fc77d31b84fd7abda786ce2f60625": {
          "model_module": "@jupyter-widgets/controls",
          "model_name": "HTMLModel",
          "model_module_version": "1.5.0",
          "state": {
            "_dom_classes": [],
            "_model_module": "@jupyter-widgets/controls",
            "_model_module_version": "1.5.0",
            "_model_name": "HTMLModel",
            "_view_count": null,
            "_view_module": "@jupyter-widgets/controls",
            "_view_module_version": "1.5.0",
            "_view_name": "HTMLView",
            "description": "",
            "description_tooltip": null,
            "layout": "IPY_MODEL_487ea6f98a644ff5a8f33a77b442bd90",
            "placeholder": "​",
            "style": "IPY_MODEL_c3ec5aa55e07476fa98c1929b303eabf",
            "value": " 41/41 [00:00&lt;00:00, 1782.74it/s]"
          }
        },
        "43678ba4009e486882a3d947a218dec7": {
          "model_module": "@jupyter-widgets/base",
          "model_name": "LayoutModel",
          "model_module_version": "1.2.0",
          "state": {
            "_model_module": "@jupyter-widgets/base",
            "_model_module_version": "1.2.0",
            "_model_name": "LayoutModel",
            "_view_count": null,
            "_view_module": "@jupyter-widgets/base",
            "_view_module_version": "1.2.0",
            "_view_name": "LayoutView",
            "align_content": null,
            "align_items": null,
            "align_self": null,
            "border": null,
            "bottom": null,
            "display": null,
            "flex": null,
            "flex_flow": null,
            "grid_area": null,
            "grid_auto_columns": null,
            "grid_auto_flow": null,
            "grid_auto_rows": null,
            "grid_column": null,
            "grid_gap": null,
            "grid_row": null,
            "grid_template_areas": null,
            "grid_template_columns": null,
            "grid_template_rows": null,
            "height": null,
            "justify_content": null,
            "justify_items": null,
            "left": null,
            "margin": null,
            "max_height": null,
            "max_width": null,
            "min_height": null,
            "min_width": null,
            "object_fit": null,
            "object_position": null,
            "order": null,
            "overflow": null,
            "overflow_x": null,
            "overflow_y": null,
            "padding": null,
            "right": null,
            "top": null,
            "visibility": null,
            "width": null
          }
        },
        "05bc7d9c79044c7280d4bcbeb5417862": {
          "model_module": "@jupyter-widgets/base",
          "model_name": "LayoutModel",
          "model_module_version": "1.2.0",
          "state": {
            "_model_module": "@jupyter-widgets/base",
            "_model_module_version": "1.2.0",
            "_model_name": "LayoutModel",
            "_view_count": null,
            "_view_module": "@jupyter-widgets/base",
            "_view_module_version": "1.2.0",
            "_view_name": "LayoutView",
            "align_content": null,
            "align_items": null,
            "align_self": null,
            "border": null,
            "bottom": null,
            "display": null,
            "flex": null,
            "flex_flow": null,
            "grid_area": null,
            "grid_auto_columns": null,
            "grid_auto_flow": null,
            "grid_auto_rows": null,
            "grid_column": null,
            "grid_gap": null,
            "grid_row": null,
            "grid_template_areas": null,
            "grid_template_columns": null,
            "grid_template_rows": null,
            "height": null,
            "justify_content": null,
            "justify_items": null,
            "left": null,
            "margin": null,
            "max_height": null,
            "max_width": null,
            "min_height": null,
            "min_width": null,
            "object_fit": null,
            "object_position": null,
            "order": null,
            "overflow": null,
            "overflow_x": null,
            "overflow_y": null,
            "padding": null,
            "right": null,
            "top": null,
            "visibility": null,
            "width": null
          }
        },
        "fb1c122396d04763a9b095ea79705489": {
          "model_module": "@jupyter-widgets/controls",
          "model_name": "DescriptionStyleModel",
          "model_module_version": "1.5.0",
          "state": {
            "_model_module": "@jupyter-widgets/controls",
            "_model_module_version": "1.5.0",
            "_model_name": "DescriptionStyleModel",
            "_view_count": null,
            "_view_module": "@jupyter-widgets/base",
            "_view_module_version": "1.2.0",
            "_view_name": "StyleView",
            "description_width": ""
          }
        },
        "cb3b2fb4acce45cfa30c093bdbe0d6d9": {
          "model_module": "@jupyter-widgets/base",
          "model_name": "LayoutModel",
          "model_module_version": "1.2.0",
          "state": {
            "_model_module": "@jupyter-widgets/base",
            "_model_module_version": "1.2.0",
            "_model_name": "LayoutModel",
            "_view_count": null,
            "_view_module": "@jupyter-widgets/base",
            "_view_module_version": "1.2.0",
            "_view_name": "LayoutView",
            "align_content": null,
            "align_items": null,
            "align_self": null,
            "border": null,
            "bottom": null,
            "display": null,
            "flex": null,
            "flex_flow": null,
            "grid_area": null,
            "grid_auto_columns": null,
            "grid_auto_flow": null,
            "grid_auto_rows": null,
            "grid_column": null,
            "grid_gap": null,
            "grid_row": null,
            "grid_template_areas": null,
            "grid_template_columns": null,
            "grid_template_rows": null,
            "height": null,
            "justify_content": null,
            "justify_items": null,
            "left": null,
            "margin": null,
            "max_height": null,
            "max_width": null,
            "min_height": null,
            "min_width": null,
            "object_fit": null,
            "object_position": null,
            "order": null,
            "overflow": null,
            "overflow_x": null,
            "overflow_y": null,
            "padding": null,
            "right": null,
            "top": null,
            "visibility": null,
            "width": null
          }
        },
        "e24424c3c5ce43508aa3b47dc6293b66": {
          "model_module": "@jupyter-widgets/controls",
          "model_name": "ProgressStyleModel",
          "model_module_version": "1.5.0",
          "state": {
            "_model_module": "@jupyter-widgets/controls",
            "_model_module_version": "1.5.0",
            "_model_name": "ProgressStyleModel",
            "_view_count": null,
            "_view_module": "@jupyter-widgets/base",
            "_view_module_version": "1.2.0",
            "_view_name": "StyleView",
            "bar_color": null,
            "description_width": ""
          }
        },
        "487ea6f98a644ff5a8f33a77b442bd90": {
          "model_module": "@jupyter-widgets/base",
          "model_name": "LayoutModel",
          "model_module_version": "1.2.0",
          "state": {
            "_model_module": "@jupyter-widgets/base",
            "_model_module_version": "1.2.0",
            "_model_name": "LayoutModel",
            "_view_count": null,
            "_view_module": "@jupyter-widgets/base",
            "_view_module_version": "1.2.0",
            "_view_name": "LayoutView",
            "align_content": null,
            "align_items": null,
            "align_self": null,
            "border": null,
            "bottom": null,
            "display": null,
            "flex": null,
            "flex_flow": null,
            "grid_area": null,
            "grid_auto_columns": null,
            "grid_auto_flow": null,
            "grid_auto_rows": null,
            "grid_column": null,
            "grid_gap": null,
            "grid_row": null,
            "grid_template_areas": null,
            "grid_template_columns": null,
            "grid_template_rows": null,
            "height": null,
            "justify_content": null,
            "justify_items": null,
            "left": null,
            "margin": null,
            "max_height": null,
            "max_width": null,
            "min_height": null,
            "min_width": null,
            "object_fit": null,
            "object_position": null,
            "order": null,
            "overflow": null,
            "overflow_x": null,
            "overflow_y": null,
            "padding": null,
            "right": null,
            "top": null,
            "visibility": null,
            "width": null
          }
        },
        "c3ec5aa55e07476fa98c1929b303eabf": {
          "model_module": "@jupyter-widgets/controls",
          "model_name": "DescriptionStyleModel",
          "model_module_version": "1.5.0",
          "state": {
            "_model_module": "@jupyter-widgets/controls",
            "_model_module_version": "1.5.0",
            "_model_name": "DescriptionStyleModel",
            "_view_count": null,
            "_view_module": "@jupyter-widgets/base",
            "_view_module_version": "1.2.0",
            "_view_name": "StyleView",
            "description_width": ""
          }
        },
        "3a4f42e7c6b24d219785ce2bedb1847d": {
          "model_module": "@jupyter-widgets/controls",
          "model_name": "HBoxModel",
          "model_module_version": "1.5.0",
          "state": {
            "_dom_classes": [],
            "_model_module": "@jupyter-widgets/controls",
            "_model_module_version": "1.5.0",
            "_model_name": "HBoxModel",
            "_view_count": null,
            "_view_module": "@jupyter-widgets/controls",
            "_view_module_version": "1.5.0",
            "_view_name": "HBoxView",
            "box_style": "",
            "children": [
              "IPY_MODEL_d257ec89e2444af8951c50cf2fda5a71",
              "IPY_MODEL_0df53553841c4db0928794e115cbf7c3",
              "IPY_MODEL_044ad7bfe3a04efbbaef9595304cc873"
            ],
            "layout": "IPY_MODEL_06260ea59fc14f12aec1f5b6d56687de"
          }
        },
        "d257ec89e2444af8951c50cf2fda5a71": {
          "model_module": "@jupyter-widgets/controls",
          "model_name": "HTMLModel",
          "model_module_version": "1.5.0",
          "state": {
            "_dom_classes": [],
            "_model_module": "@jupyter-widgets/controls",
            "_model_module_version": "1.5.0",
            "_model_name": "HTMLModel",
            "_view_count": null,
            "_view_module": "@jupyter-widgets/controls",
            "_view_module_version": "1.5.0",
            "_view_name": "HTMLView",
            "description": "",
            "description_tooltip": null,
            "layout": "IPY_MODEL_17c0b9ae72b041869c1f476050629b8d",
            "placeholder": "​",
            "style": "IPY_MODEL_473ac7c8d41a4b2bb30fa05ed5b828d1",
            "value": "100%"
          }
        },
        "0df53553841c4db0928794e115cbf7c3": {
          "model_module": "@jupyter-widgets/controls",
          "model_name": "FloatProgressModel",
          "model_module_version": "1.5.0",
          "state": {
            "_dom_classes": [],
            "_model_module": "@jupyter-widgets/controls",
            "_model_module_version": "1.5.0",
            "_model_name": "FloatProgressModel",
            "_view_count": null,
            "_view_module": "@jupyter-widgets/controls",
            "_view_module_version": "1.5.0",
            "_view_name": "ProgressView",
            "bar_style": "success",
            "description": "",
            "description_tooltip": null,
            "layout": "IPY_MODEL_9031f1bd09eb460ab29161a26df381ec",
            "max": 2763,
            "min": 0,
            "orientation": "horizontal",
            "style": "IPY_MODEL_3225f58f83c4464093736e7fbd3e658e",
            "value": 2763
          }
        },
        "044ad7bfe3a04efbbaef9595304cc873": {
          "model_module": "@jupyter-widgets/controls",
          "model_name": "HTMLModel",
          "model_module_version": "1.5.0",
          "state": {
            "_dom_classes": [],
            "_model_module": "@jupyter-widgets/controls",
            "_model_module_version": "1.5.0",
            "_model_name": "HTMLModel",
            "_view_count": null,
            "_view_module": "@jupyter-widgets/controls",
            "_view_module_version": "1.5.0",
            "_view_name": "HTMLView",
            "description": "",
            "description_tooltip": null,
            "layout": "IPY_MODEL_24152e674b0e4841a4915408ef730e31",
            "placeholder": "​",
            "style": "IPY_MODEL_27fa98fb916243e19a2abc33bbdc2528",
            "value": " 2763/2763 [31:16&lt;00:00,  1.30it/s]"
          }
        },
        "06260ea59fc14f12aec1f5b6d56687de": {
          "model_module": "@jupyter-widgets/base",
          "model_name": "LayoutModel",
          "model_module_version": "1.2.0",
          "state": {
            "_model_module": "@jupyter-widgets/base",
            "_model_module_version": "1.2.0",
            "_model_name": "LayoutModel",
            "_view_count": null,
            "_view_module": "@jupyter-widgets/base",
            "_view_module_version": "1.2.0",
            "_view_name": "LayoutView",
            "align_content": null,
            "align_items": null,
            "align_self": null,
            "border": null,
            "bottom": null,
            "display": null,
            "flex": null,
            "flex_flow": null,
            "grid_area": null,
            "grid_auto_columns": null,
            "grid_auto_flow": null,
            "grid_auto_rows": null,
            "grid_column": null,
            "grid_gap": null,
            "grid_row": null,
            "grid_template_areas": null,
            "grid_template_columns": null,
            "grid_template_rows": null,
            "height": null,
            "justify_content": null,
            "justify_items": null,
            "left": null,
            "margin": null,
            "max_height": null,
            "max_width": null,
            "min_height": null,
            "min_width": null,
            "object_fit": null,
            "object_position": null,
            "order": null,
            "overflow": null,
            "overflow_x": null,
            "overflow_y": null,
            "padding": null,
            "right": null,
            "top": null,
            "visibility": null,
            "width": null
          }
        },
        "17c0b9ae72b041869c1f476050629b8d": {
          "model_module": "@jupyter-widgets/base",
          "model_name": "LayoutModel",
          "model_module_version": "1.2.0",
          "state": {
            "_model_module": "@jupyter-widgets/base",
            "_model_module_version": "1.2.0",
            "_model_name": "LayoutModel",
            "_view_count": null,
            "_view_module": "@jupyter-widgets/base",
            "_view_module_version": "1.2.0",
            "_view_name": "LayoutView",
            "align_content": null,
            "align_items": null,
            "align_self": null,
            "border": null,
            "bottom": null,
            "display": null,
            "flex": null,
            "flex_flow": null,
            "grid_area": null,
            "grid_auto_columns": null,
            "grid_auto_flow": null,
            "grid_auto_rows": null,
            "grid_column": null,
            "grid_gap": null,
            "grid_row": null,
            "grid_template_areas": null,
            "grid_template_columns": null,
            "grid_template_rows": null,
            "height": null,
            "justify_content": null,
            "justify_items": null,
            "left": null,
            "margin": null,
            "max_height": null,
            "max_width": null,
            "min_height": null,
            "min_width": null,
            "object_fit": null,
            "object_position": null,
            "order": null,
            "overflow": null,
            "overflow_x": null,
            "overflow_y": null,
            "padding": null,
            "right": null,
            "top": null,
            "visibility": null,
            "width": null
          }
        },
        "473ac7c8d41a4b2bb30fa05ed5b828d1": {
          "model_module": "@jupyter-widgets/controls",
          "model_name": "DescriptionStyleModel",
          "model_module_version": "1.5.0",
          "state": {
            "_model_module": "@jupyter-widgets/controls",
            "_model_module_version": "1.5.0",
            "_model_name": "DescriptionStyleModel",
            "_view_count": null,
            "_view_module": "@jupyter-widgets/base",
            "_view_module_version": "1.2.0",
            "_view_name": "StyleView",
            "description_width": ""
          }
        },
        "9031f1bd09eb460ab29161a26df381ec": {
          "model_module": "@jupyter-widgets/base",
          "model_name": "LayoutModel",
          "model_module_version": "1.2.0",
          "state": {
            "_model_module": "@jupyter-widgets/base",
            "_model_module_version": "1.2.0",
            "_model_name": "LayoutModel",
            "_view_count": null,
            "_view_module": "@jupyter-widgets/base",
            "_view_module_version": "1.2.0",
            "_view_name": "LayoutView",
            "align_content": null,
            "align_items": null,
            "align_self": null,
            "border": null,
            "bottom": null,
            "display": null,
            "flex": null,
            "flex_flow": null,
            "grid_area": null,
            "grid_auto_columns": null,
            "grid_auto_flow": null,
            "grid_auto_rows": null,
            "grid_column": null,
            "grid_gap": null,
            "grid_row": null,
            "grid_template_areas": null,
            "grid_template_columns": null,
            "grid_template_rows": null,
            "height": null,
            "justify_content": null,
            "justify_items": null,
            "left": null,
            "margin": null,
            "max_height": null,
            "max_width": null,
            "min_height": null,
            "min_width": null,
            "object_fit": null,
            "object_position": null,
            "order": null,
            "overflow": null,
            "overflow_x": null,
            "overflow_y": null,
            "padding": null,
            "right": null,
            "top": null,
            "visibility": null,
            "width": null
          }
        },
        "3225f58f83c4464093736e7fbd3e658e": {
          "model_module": "@jupyter-widgets/controls",
          "model_name": "ProgressStyleModel",
          "model_module_version": "1.5.0",
          "state": {
            "_model_module": "@jupyter-widgets/controls",
            "_model_module_version": "1.5.0",
            "_model_name": "ProgressStyleModel",
            "_view_count": null,
            "_view_module": "@jupyter-widgets/base",
            "_view_module_version": "1.2.0",
            "_view_name": "StyleView",
            "bar_color": null,
            "description_width": ""
          }
        },
        "24152e674b0e4841a4915408ef730e31": {
          "model_module": "@jupyter-widgets/base",
          "model_name": "LayoutModel",
          "model_module_version": "1.2.0",
          "state": {
            "_model_module": "@jupyter-widgets/base",
            "_model_module_version": "1.2.0",
            "_model_name": "LayoutModel",
            "_view_count": null,
            "_view_module": "@jupyter-widgets/base",
            "_view_module_version": "1.2.0",
            "_view_name": "LayoutView",
            "align_content": null,
            "align_items": null,
            "align_self": null,
            "border": null,
            "bottom": null,
            "display": null,
            "flex": null,
            "flex_flow": null,
            "grid_area": null,
            "grid_auto_columns": null,
            "grid_auto_flow": null,
            "grid_auto_rows": null,
            "grid_column": null,
            "grid_gap": null,
            "grid_row": null,
            "grid_template_areas": null,
            "grid_template_columns": null,
            "grid_template_rows": null,
            "height": null,
            "justify_content": null,
            "justify_items": null,
            "left": null,
            "margin": null,
            "max_height": null,
            "max_width": null,
            "min_height": null,
            "min_width": null,
            "object_fit": null,
            "object_position": null,
            "order": null,
            "overflow": null,
            "overflow_x": null,
            "overflow_y": null,
            "padding": null,
            "right": null,
            "top": null,
            "visibility": null,
            "width": null
          }
        },
        "27fa98fb916243e19a2abc33bbdc2528": {
          "model_module": "@jupyter-widgets/controls",
          "model_name": "DescriptionStyleModel",
          "model_module_version": "1.5.0",
          "state": {
            "_model_module": "@jupyter-widgets/controls",
            "_model_module_version": "1.5.0",
            "_model_name": "DescriptionStyleModel",
            "_view_count": null,
            "_view_module": "@jupyter-widgets/base",
            "_view_module_version": "1.2.0",
            "_view_name": "StyleView",
            "description_width": ""
          }
        }
      }
    }
  },
  "nbformat": 4,
  "nbformat_minor": 0
}