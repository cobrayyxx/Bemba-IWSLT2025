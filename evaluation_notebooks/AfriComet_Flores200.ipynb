{
  "nbformat": 4,
  "nbformat_minor": 0,
  "metadata": {
    "colab": {
      "provenance": [],
      "gpuType": "T4"
    },
    "kernelspec": {
      "name": "python3",
      "display_name": "Python 3"
    },
    "language_info": {
      "name": "python"
    },
    "accelerator": "GPU",
    "widgets": {
      "application/vnd.jupyter.widget-state+json": {
        "e54097852faa454787dadb247d69d10c": {
          "model_module": "@jupyter-widgets/controls",
          "model_name": "HBoxModel",
          "model_module_version": "1.5.0",
          "state": {
            "_dom_classes": [],
            "_model_module": "@jupyter-widgets/controls",
            "_model_module_version": "1.5.0",
            "_model_name": "HBoxModel",
            "_view_count": null,
            "_view_module": "@jupyter-widgets/controls",
            "_view_module_version": "1.5.0",
            "_view_name": "HBoxView",
            "box_style": "",
            "children": [
              "IPY_MODEL_51fc36c071b348739bda5f31760d0f55",
              "IPY_MODEL_31dd1f5f32974984a6ad25538f4ae2ae",
              "IPY_MODEL_4457a634fb264cbd80976b9b451e18ba"
            ],
            "layout": "IPY_MODEL_27cfd69c0b65446bbeaf7871d220a811"
          }
        },
        "51fc36c071b348739bda5f31760d0f55": {
          "model_module": "@jupyter-widgets/controls",
          "model_name": "HTMLModel",
          "model_module_version": "1.5.0",
          "state": {
            "_dom_classes": [],
            "_model_module": "@jupyter-widgets/controls",
            "_model_module_version": "1.5.0",
            "_model_name": "HTMLModel",
            "_view_count": null,
            "_view_module": "@jupyter-widgets/controls",
            "_view_module_version": "1.5.0",
            "_view_name": "HTMLView",
            "description": "",
            "description_tooltip": null,
            "layout": "IPY_MODEL_dc2c15b7e5834954ad48157a254b2287",
            "placeholder": "​",
            "style": "IPY_MODEL_8c3c8a0412d94991b7500d7e0f391fda",
            "value": "README.md: 100%"
          }
        },
        "31dd1f5f32974984a6ad25538f4ae2ae": {
          "model_module": "@jupyter-widgets/controls",
          "model_name": "FloatProgressModel",
          "model_module_version": "1.5.0",
          "state": {
            "_dom_classes": [],
            "_model_module": "@jupyter-widgets/controls",
            "_model_module_version": "1.5.0",
            "_model_name": "FloatProgressModel",
            "_view_count": null,
            "_view_module": "@jupyter-widgets/controls",
            "_view_module_version": "1.5.0",
            "_view_name": "ProgressView",
            "bar_style": "success",
            "description": "",
            "description_tooltip": null,
            "layout": "IPY_MODEL_3265df7b28fa4baca9bc8db31a09f4d3",
            "max": 441,
            "min": 0,
            "orientation": "horizontal",
            "style": "IPY_MODEL_ea4f7af34ac24b70ace4c69199c96e72",
            "value": 441
          }
        },
        "4457a634fb264cbd80976b9b451e18ba": {
          "model_module": "@jupyter-widgets/controls",
          "model_name": "HTMLModel",
          "model_module_version": "1.5.0",
          "state": {
            "_dom_classes": [],
            "_model_module": "@jupyter-widgets/controls",
            "_model_module_version": "1.5.0",
            "_model_name": "HTMLModel",
            "_view_count": null,
            "_view_module": "@jupyter-widgets/controls",
            "_view_module_version": "1.5.0",
            "_view_name": "HTMLView",
            "description": "",
            "description_tooltip": null,
            "layout": "IPY_MODEL_75d67f0594d14cfd87b0357b1bcf4966",
            "placeholder": "​",
            "style": "IPY_MODEL_3398866c43fe4294a450fa7051ec1426",
            "value": " 441/441 [00:00&lt;00:00, 11.0kB/s]"
          }
        },
        "27cfd69c0b65446bbeaf7871d220a811": {
          "model_module": "@jupyter-widgets/base",
          "model_name": "LayoutModel",
          "model_module_version": "1.2.0",
          "state": {
            "_model_module": "@jupyter-widgets/base",
            "_model_module_version": "1.2.0",
            "_model_name": "LayoutModel",
            "_view_count": null,
            "_view_module": "@jupyter-widgets/base",
            "_view_module_version": "1.2.0",
            "_view_name": "LayoutView",
            "align_content": null,
            "align_items": null,
            "align_self": null,
            "border": null,
            "bottom": null,
            "display": null,
            "flex": null,
            "flex_flow": null,
            "grid_area": null,
            "grid_auto_columns": null,
            "grid_auto_flow": null,
            "grid_auto_rows": null,
            "grid_column": null,
            "grid_gap": null,
            "grid_row": null,
            "grid_template_areas": null,
            "grid_template_columns": null,
            "grid_template_rows": null,
            "height": null,
            "justify_content": null,
            "justify_items": null,
            "left": null,
            "margin": null,
            "max_height": null,
            "max_width": null,
            "min_height": null,
            "min_width": null,
            "object_fit": null,
            "object_position": null,
            "order": null,
            "overflow": null,
            "overflow_x": null,
            "overflow_y": null,
            "padding": null,
            "right": null,
            "top": null,
            "visibility": null,
            "width": null
          }
        },
        "dc2c15b7e5834954ad48157a254b2287": {
          "model_module": "@jupyter-widgets/base",
          "model_name": "LayoutModel",
          "model_module_version": "1.2.0",
          "state": {
            "_model_module": "@jupyter-widgets/base",
            "_model_module_version": "1.2.0",
            "_model_name": "LayoutModel",
            "_view_count": null,
            "_view_module": "@jupyter-widgets/base",
            "_view_module_version": "1.2.0",
            "_view_name": "LayoutView",
            "align_content": null,
            "align_items": null,
            "align_self": null,
            "border": null,
            "bottom": null,
            "display": null,
            "flex": null,
            "flex_flow": null,
            "grid_area": null,
            "grid_auto_columns": null,
            "grid_auto_flow": null,
            "grid_auto_rows": null,
            "grid_column": null,
            "grid_gap": null,
            "grid_row": null,
            "grid_template_areas": null,
            "grid_template_columns": null,
            "grid_template_rows": null,
            "height": null,
            "justify_content": null,
            "justify_items": null,
            "left": null,
            "margin": null,
            "max_height": null,
            "max_width": null,
            "min_height": null,
            "min_width": null,
            "object_fit": null,
            "object_position": null,
            "order": null,
            "overflow": null,
            "overflow_x": null,
            "overflow_y": null,
            "padding": null,
            "right": null,
            "top": null,
            "visibility": null,
            "width": null
          }
        },
        "8c3c8a0412d94991b7500d7e0f391fda": {
          "model_module": "@jupyter-widgets/controls",
          "model_name": "DescriptionStyleModel",
          "model_module_version": "1.5.0",
          "state": {
            "_model_module": "@jupyter-widgets/controls",
            "_model_module_version": "1.5.0",
            "_model_name": "DescriptionStyleModel",
            "_view_count": null,
            "_view_module": "@jupyter-widgets/base",
            "_view_module_version": "1.2.0",
            "_view_name": "StyleView",
            "description_width": ""
          }
        },
        "3265df7b28fa4baca9bc8db31a09f4d3": {
          "model_module": "@jupyter-widgets/base",
          "model_name": "LayoutModel",
          "model_module_version": "1.2.0",
          "state": {
            "_model_module": "@jupyter-widgets/base",
            "_model_module_version": "1.2.0",
            "_model_name": "LayoutModel",
            "_view_count": null,
            "_view_module": "@jupyter-widgets/base",
            "_view_module_version": "1.2.0",
            "_view_name": "LayoutView",
            "align_content": null,
            "align_items": null,
            "align_self": null,
            "border": null,
            "bottom": null,
            "display": null,
            "flex": null,
            "flex_flow": null,
            "grid_area": null,
            "grid_auto_columns": null,
            "grid_auto_flow": null,
            "grid_auto_rows": null,
            "grid_column": null,
            "grid_gap": null,
            "grid_row": null,
            "grid_template_areas": null,
            "grid_template_columns": null,
            "grid_template_rows": null,
            "height": null,
            "justify_content": null,
            "justify_items": null,
            "left": null,
            "margin": null,
            "max_height": null,
            "max_width": null,
            "min_height": null,
            "min_width": null,
            "object_fit": null,
            "object_position": null,
            "order": null,
            "overflow": null,
            "overflow_x": null,
            "overflow_y": null,
            "padding": null,
            "right": null,
            "top": null,
            "visibility": null,
            "width": null
          }
        },
        "ea4f7af34ac24b70ace4c69199c96e72": {
          "model_module": "@jupyter-widgets/controls",
          "model_name": "ProgressStyleModel",
          "model_module_version": "1.5.0",
          "state": {
            "_model_module": "@jupyter-widgets/controls",
            "_model_module_version": "1.5.0",
            "_model_name": "ProgressStyleModel",
            "_view_count": null,
            "_view_module": "@jupyter-widgets/base",
            "_view_module_version": "1.2.0",
            "_view_name": "StyleView",
            "bar_color": null,
            "description_width": ""
          }
        },
        "75d67f0594d14cfd87b0357b1bcf4966": {
          "model_module": "@jupyter-widgets/base",
          "model_name": "LayoutModel",
          "model_module_version": "1.2.0",
          "state": {
            "_model_module": "@jupyter-widgets/base",
            "_model_module_version": "1.2.0",
            "_model_name": "LayoutModel",
            "_view_count": null,
            "_view_module": "@jupyter-widgets/base",
            "_view_module_version": "1.2.0",
            "_view_name": "LayoutView",
            "align_content": null,
            "align_items": null,
            "align_self": null,
            "border": null,
            "bottom": null,
            "display": null,
            "flex": null,
            "flex_flow": null,
            "grid_area": null,
            "grid_auto_columns": null,
            "grid_auto_flow": null,
            "grid_auto_rows": null,
            "grid_column": null,
            "grid_gap": null,
            "grid_row": null,
            "grid_template_areas": null,
            "grid_template_columns": null,
            "grid_template_rows": null,
            "height": null,
            "justify_content": null,
            "justify_items": null,
            "left": null,
            "margin": null,
            "max_height": null,
            "max_width": null,
            "min_height": null,
            "min_width": null,
            "object_fit": null,
            "object_position": null,
            "order": null,
            "overflow": null,
            "overflow_x": null,
            "overflow_y": null,
            "padding": null,
            "right": null,
            "top": null,
            "visibility": null,
            "width": null
          }
        },
        "3398866c43fe4294a450fa7051ec1426": {
          "model_module": "@jupyter-widgets/controls",
          "model_name": "DescriptionStyleModel",
          "model_module_version": "1.5.0",
          "state": {
            "_model_module": "@jupyter-widgets/controls",
            "_model_module_version": "1.5.0",
            "_model_name": "DescriptionStyleModel",
            "_view_count": null,
            "_view_module": "@jupyter-widgets/base",
            "_view_module_version": "1.2.0",
            "_view_name": "StyleView",
            "description_width": ""
          }
        },
        "92c79da762d74750b01661f1449a61d1": {
          "model_module": "@jupyter-widgets/controls",
          "model_name": "HBoxModel",
          "model_module_version": "1.5.0",
          "state": {
            "_dom_classes": [],
            "_model_module": "@jupyter-widgets/controls",
            "_model_module_version": "1.5.0",
            "_model_name": "HBoxModel",
            "_view_count": null,
            "_view_module": "@jupyter-widgets/controls",
            "_view_module_version": "1.5.0",
            "_view_name": "HBoxView",
            "box_style": "",
            "children": [
              "IPY_MODEL_7610986d7a294542a7818ad013010340",
              "IPY_MODEL_1f22d8c0471c4f55bb57816c66623ec3",
              "IPY_MODEL_aff984553a664e4e98152fdba85410bc"
            ],
            "layout": "IPY_MODEL_7e371fec8fca4106bb1ee4f2a48a3231"
          }
        },
        "7610986d7a294542a7818ad013010340": {
          "model_module": "@jupyter-widgets/controls",
          "model_name": "HTMLModel",
          "model_module_version": "1.5.0",
          "state": {
            "_dom_classes": [],
            "_model_module": "@jupyter-widgets/controls",
            "_model_module_version": "1.5.0",
            "_model_name": "HTMLModel",
            "_view_count": null,
            "_view_module": "@jupyter-widgets/controls",
            "_view_module_version": "1.5.0",
            "_view_name": "HTMLView",
            "description": "",
            "description_tooltip": null,
            "layout": "IPY_MODEL_7a00170142684c4c9033a82369db4697",
            "placeholder": "​",
            "style": "IPY_MODEL_5594a701b5034d629bf94eda72faa14a",
            "value": "dev-00000-of-00001.parquet: 100%"
          }
        },
        "1f22d8c0471c4f55bb57816c66623ec3": {
          "model_module": "@jupyter-widgets/controls",
          "model_name": "FloatProgressModel",
          "model_module_version": "1.5.0",
          "state": {
            "_dom_classes": [],
            "_model_module": "@jupyter-widgets/controls",
            "_model_module_version": "1.5.0",
            "_model_name": "FloatProgressModel",
            "_view_count": null,
            "_view_module": "@jupyter-widgets/controls",
            "_view_module_version": "1.5.0",
            "_view_name": "ProgressView",
            "bar_style": "success",
            "description": "",
            "description_tooltip": null,
            "layout": "IPY_MODEL_71b4e55ed78b488b8dce607c3f855068",
            "max": 192909,
            "min": 0,
            "orientation": "horizontal",
            "style": "IPY_MODEL_4b60c150344c471d98e4eecac88087b3",
            "value": 192909
          }
        },
        "aff984553a664e4e98152fdba85410bc": {
          "model_module": "@jupyter-widgets/controls",
          "model_name": "HTMLModel",
          "model_module_version": "1.5.0",
          "state": {
            "_dom_classes": [],
            "_model_module": "@jupyter-widgets/controls",
            "_model_module_version": "1.5.0",
            "_model_name": "HTMLModel",
            "_view_count": null,
            "_view_module": "@jupyter-widgets/controls",
            "_view_module_version": "1.5.0",
            "_view_name": "HTMLView",
            "description": "",
            "description_tooltip": null,
            "layout": "IPY_MODEL_30d6a7b50b99465f992855d4f62bebb0",
            "placeholder": "​",
            "style": "IPY_MODEL_15e0a284839b42009f6d7f7f3630bc40",
            "value": " 193k/193k [00:00&lt;00:00, 3.46MB/s]"
          }
        },
        "7e371fec8fca4106bb1ee4f2a48a3231": {
          "model_module": "@jupyter-widgets/base",
          "model_name": "LayoutModel",
          "model_module_version": "1.2.0",
          "state": {
            "_model_module": "@jupyter-widgets/base",
            "_model_module_version": "1.2.0",
            "_model_name": "LayoutModel",
            "_view_count": null,
            "_view_module": "@jupyter-widgets/base",
            "_view_module_version": "1.2.0",
            "_view_name": "LayoutView",
            "align_content": null,
            "align_items": null,
            "align_self": null,
            "border": null,
            "bottom": null,
            "display": null,
            "flex": null,
            "flex_flow": null,
            "grid_area": null,
            "grid_auto_columns": null,
            "grid_auto_flow": null,
            "grid_auto_rows": null,
            "grid_column": null,
            "grid_gap": null,
            "grid_row": null,
            "grid_template_areas": null,
            "grid_template_columns": null,
            "grid_template_rows": null,
            "height": null,
            "justify_content": null,
            "justify_items": null,
            "left": null,
            "margin": null,
            "max_height": null,
            "max_width": null,
            "min_height": null,
            "min_width": null,
            "object_fit": null,
            "object_position": null,
            "order": null,
            "overflow": null,
            "overflow_x": null,
            "overflow_y": null,
            "padding": null,
            "right": null,
            "top": null,
            "visibility": null,
            "width": null
          }
        },
        "7a00170142684c4c9033a82369db4697": {
          "model_module": "@jupyter-widgets/base",
          "model_name": "LayoutModel",
          "model_module_version": "1.2.0",
          "state": {
            "_model_module": "@jupyter-widgets/base",
            "_model_module_version": "1.2.0",
            "_model_name": "LayoutModel",
            "_view_count": null,
            "_view_module": "@jupyter-widgets/base",
            "_view_module_version": "1.2.0",
            "_view_name": "LayoutView",
            "align_content": null,
            "align_items": null,
            "align_self": null,
            "border": null,
            "bottom": null,
            "display": null,
            "flex": null,
            "flex_flow": null,
            "grid_area": null,
            "grid_auto_columns": null,
            "grid_auto_flow": null,
            "grid_auto_rows": null,
            "grid_column": null,
            "grid_gap": null,
            "grid_row": null,
            "grid_template_areas": null,
            "grid_template_columns": null,
            "grid_template_rows": null,
            "height": null,
            "justify_content": null,
            "justify_items": null,
            "left": null,
            "margin": null,
            "max_height": null,
            "max_width": null,
            "min_height": null,
            "min_width": null,
            "object_fit": null,
            "object_position": null,
            "order": null,
            "overflow": null,
            "overflow_x": null,
            "overflow_y": null,
            "padding": null,
            "right": null,
            "top": null,
            "visibility": null,
            "width": null
          }
        },
        "5594a701b5034d629bf94eda72faa14a": {
          "model_module": "@jupyter-widgets/controls",
          "model_name": "DescriptionStyleModel",
          "model_module_version": "1.5.0",
          "state": {
            "_model_module": "@jupyter-widgets/controls",
            "_model_module_version": "1.5.0",
            "_model_name": "DescriptionStyleModel",
            "_view_count": null,
            "_view_module": "@jupyter-widgets/base",
            "_view_module_version": "1.2.0",
            "_view_name": "StyleView",
            "description_width": ""
          }
        },
        "71b4e55ed78b488b8dce607c3f855068": {
          "model_module": "@jupyter-widgets/base",
          "model_name": "LayoutModel",
          "model_module_version": "1.2.0",
          "state": {
            "_model_module": "@jupyter-widgets/base",
            "_model_module_version": "1.2.0",
            "_model_name": "LayoutModel",
            "_view_count": null,
            "_view_module": "@jupyter-widgets/base",
            "_view_module_version": "1.2.0",
            "_view_name": "LayoutView",
            "align_content": null,
            "align_items": null,
            "align_self": null,
            "border": null,
            "bottom": null,
            "display": null,
            "flex": null,
            "flex_flow": null,
            "grid_area": null,
            "grid_auto_columns": null,
            "grid_auto_flow": null,
            "grid_auto_rows": null,
            "grid_column": null,
            "grid_gap": null,
            "grid_row": null,
            "grid_template_areas": null,
            "grid_template_columns": null,
            "grid_template_rows": null,
            "height": null,
            "justify_content": null,
            "justify_items": null,
            "left": null,
            "margin": null,
            "max_height": null,
            "max_width": null,
            "min_height": null,
            "min_width": null,
            "object_fit": null,
            "object_position": null,
            "order": null,
            "overflow": null,
            "overflow_x": null,
            "overflow_y": null,
            "padding": null,
            "right": null,
            "top": null,
            "visibility": null,
            "width": null
          }
        },
        "4b60c150344c471d98e4eecac88087b3": {
          "model_module": "@jupyter-widgets/controls",
          "model_name": "ProgressStyleModel",
          "model_module_version": "1.5.0",
          "state": {
            "_model_module": "@jupyter-widgets/controls",
            "_model_module_version": "1.5.0",
            "_model_name": "ProgressStyleModel",
            "_view_count": null,
            "_view_module": "@jupyter-widgets/base",
            "_view_module_version": "1.2.0",
            "_view_name": "StyleView",
            "bar_color": null,
            "description_width": ""
          }
        },
        "30d6a7b50b99465f992855d4f62bebb0": {
          "model_module": "@jupyter-widgets/base",
          "model_name": "LayoutModel",
          "model_module_version": "1.2.0",
          "state": {
            "_model_module": "@jupyter-widgets/base",
            "_model_module_version": "1.2.0",
            "_model_name": "LayoutModel",
            "_view_count": null,
            "_view_module": "@jupyter-widgets/base",
            "_view_module_version": "1.2.0",
            "_view_name": "LayoutView",
            "align_content": null,
            "align_items": null,
            "align_self": null,
            "border": null,
            "bottom": null,
            "display": null,
            "flex": null,
            "flex_flow": null,
            "grid_area": null,
            "grid_auto_columns": null,
            "grid_auto_flow": null,
            "grid_auto_rows": null,
            "grid_column": null,
            "grid_gap": null,
            "grid_row": null,
            "grid_template_areas": null,
            "grid_template_columns": null,
            "grid_template_rows": null,
            "height": null,
            "justify_content": null,
            "justify_items": null,
            "left": null,
            "margin": null,
            "max_height": null,
            "max_width": null,
            "min_height": null,
            "min_width": null,
            "object_fit": null,
            "object_position": null,
            "order": null,
            "overflow": null,
            "overflow_x": null,
            "overflow_y": null,
            "padding": null,
            "right": null,
            "top": null,
            "visibility": null,
            "width": null
          }
        },
        "15e0a284839b42009f6d7f7f3630bc40": {
          "model_module": "@jupyter-widgets/controls",
          "model_name": "DescriptionStyleModel",
          "model_module_version": "1.5.0",
          "state": {
            "_model_module": "@jupyter-widgets/controls",
            "_model_module_version": "1.5.0",
            "_model_name": "DescriptionStyleModel",
            "_view_count": null,
            "_view_module": "@jupyter-widgets/base",
            "_view_module_version": "1.2.0",
            "_view_name": "StyleView",
            "description_width": ""
          }
        },
        "6901010ddc4349e3b623ee57308042fe": {
          "model_module": "@jupyter-widgets/controls",
          "model_name": "HBoxModel",
          "model_module_version": "1.5.0",
          "state": {
            "_dom_classes": [],
            "_model_module": "@jupyter-widgets/controls",
            "_model_module_version": "1.5.0",
            "_model_name": "HBoxModel",
            "_view_count": null,
            "_view_module": "@jupyter-widgets/controls",
            "_view_module_version": "1.5.0",
            "_view_name": "HBoxView",
            "box_style": "",
            "children": [
              "IPY_MODEL_dfb415395f864ab89c73d5e668ec4a8f",
              "IPY_MODEL_ba22df02e7f5454c871cb3dd46341658",
              "IPY_MODEL_da0c4717c45f412398000154ced12bd2"
            ],
            "layout": "IPY_MODEL_6e227a79f3684b6394d1ac4fe3c701e8"
          }
        },
        "dfb415395f864ab89c73d5e668ec4a8f": {
          "model_module": "@jupyter-widgets/controls",
          "model_name": "HTMLModel",
          "model_module_version": "1.5.0",
          "state": {
            "_dom_classes": [],
            "_model_module": "@jupyter-widgets/controls",
            "_model_module_version": "1.5.0",
            "_model_name": "HTMLModel",
            "_view_count": null,
            "_view_module": "@jupyter-widgets/controls",
            "_view_module_version": "1.5.0",
            "_view_name": "HTMLView",
            "description": "",
            "description_tooltip": null,
            "layout": "IPY_MODEL_58665e9111a74397a04dcb02d4d25538",
            "placeholder": "​",
            "style": "IPY_MODEL_45900f8cac92461c928c6d6f48bdbb79",
            "value": "devtest-00000-of-00001.parquet: 100%"
          }
        },
        "ba22df02e7f5454c871cb3dd46341658": {
          "model_module": "@jupyter-widgets/controls",
          "model_name": "FloatProgressModel",
          "model_module_version": "1.5.0",
          "state": {
            "_dom_classes": [],
            "_model_module": "@jupyter-widgets/controls",
            "_model_module_version": "1.5.0",
            "_model_name": "FloatProgressModel",
            "_view_count": null,
            "_view_module": "@jupyter-widgets/controls",
            "_view_module_version": "1.5.0",
            "_view_name": "ProgressView",
            "bar_style": "success",
            "description": "",
            "description_tooltip": null,
            "layout": "IPY_MODEL_7f265205d1244a29bdcacd3b39be6a74",
            "max": 202538,
            "min": 0,
            "orientation": "horizontal",
            "style": "IPY_MODEL_2050f9e60107489b8263ef2b8f8f2d2c",
            "value": 202538
          }
        },
        "da0c4717c45f412398000154ced12bd2": {
          "model_module": "@jupyter-widgets/controls",
          "model_name": "HTMLModel",
          "model_module_version": "1.5.0",
          "state": {
            "_dom_classes": [],
            "_model_module": "@jupyter-widgets/controls",
            "_model_module_version": "1.5.0",
            "_model_name": "HTMLModel",
            "_view_count": null,
            "_view_module": "@jupyter-widgets/controls",
            "_view_module_version": "1.5.0",
            "_view_name": "HTMLView",
            "description": "",
            "description_tooltip": null,
            "layout": "IPY_MODEL_b3e08c4d96e2419baa154aef91d79102",
            "placeholder": "​",
            "style": "IPY_MODEL_ea4199f038674e18b2ad609fca7971a1",
            "value": " 203k/203k [00:00&lt;00:00, 5.46MB/s]"
          }
        },
        "6e227a79f3684b6394d1ac4fe3c701e8": {
          "model_module": "@jupyter-widgets/base",
          "model_name": "LayoutModel",
          "model_module_version": "1.2.0",
          "state": {
            "_model_module": "@jupyter-widgets/base",
            "_model_module_version": "1.2.0",
            "_model_name": "LayoutModel",
            "_view_count": null,
            "_view_module": "@jupyter-widgets/base",
            "_view_module_version": "1.2.0",
            "_view_name": "LayoutView",
            "align_content": null,
            "align_items": null,
            "align_self": null,
            "border": null,
            "bottom": null,
            "display": null,
            "flex": null,
            "flex_flow": null,
            "grid_area": null,
            "grid_auto_columns": null,
            "grid_auto_flow": null,
            "grid_auto_rows": null,
            "grid_column": null,
            "grid_gap": null,
            "grid_row": null,
            "grid_template_areas": null,
            "grid_template_columns": null,
            "grid_template_rows": null,
            "height": null,
            "justify_content": null,
            "justify_items": null,
            "left": null,
            "margin": null,
            "max_height": null,
            "max_width": null,
            "min_height": null,
            "min_width": null,
            "object_fit": null,
            "object_position": null,
            "order": null,
            "overflow": null,
            "overflow_x": null,
            "overflow_y": null,
            "padding": null,
            "right": null,
            "top": null,
            "visibility": null,
            "width": null
          }
        },
        "58665e9111a74397a04dcb02d4d25538": {
          "model_module": "@jupyter-widgets/base",
          "model_name": "LayoutModel",
          "model_module_version": "1.2.0",
          "state": {
            "_model_module": "@jupyter-widgets/base",
            "_model_module_version": "1.2.0",
            "_model_name": "LayoutModel",
            "_view_count": null,
            "_view_module": "@jupyter-widgets/base",
            "_view_module_version": "1.2.0",
            "_view_name": "LayoutView",
            "align_content": null,
            "align_items": null,
            "align_self": null,
            "border": null,
            "bottom": null,
            "display": null,
            "flex": null,
            "flex_flow": null,
            "grid_area": null,
            "grid_auto_columns": null,
            "grid_auto_flow": null,
            "grid_auto_rows": null,
            "grid_column": null,
            "grid_gap": null,
            "grid_row": null,
            "grid_template_areas": null,
            "grid_template_columns": null,
            "grid_template_rows": null,
            "height": null,
            "justify_content": null,
            "justify_items": null,
            "left": null,
            "margin": null,
            "max_height": null,
            "max_width": null,
            "min_height": null,
            "min_width": null,
            "object_fit": null,
            "object_position": null,
            "order": null,
            "overflow": null,
            "overflow_x": null,
            "overflow_y": null,
            "padding": null,
            "right": null,
            "top": null,
            "visibility": null,
            "width": null
          }
        },
        "45900f8cac92461c928c6d6f48bdbb79": {
          "model_module": "@jupyter-widgets/controls",
          "model_name": "DescriptionStyleModel",
          "model_module_version": "1.5.0",
          "state": {
            "_model_module": "@jupyter-widgets/controls",
            "_model_module_version": "1.5.0",
            "_model_name": "DescriptionStyleModel",
            "_view_count": null,
            "_view_module": "@jupyter-widgets/base",
            "_view_module_version": "1.2.0",
            "_view_name": "StyleView",
            "description_width": ""
          }
        },
        "7f265205d1244a29bdcacd3b39be6a74": {
          "model_module": "@jupyter-widgets/base",
          "model_name": "LayoutModel",
          "model_module_version": "1.2.0",
          "state": {
            "_model_module": "@jupyter-widgets/base",
            "_model_module_version": "1.2.0",
            "_model_name": "LayoutModel",
            "_view_count": null,
            "_view_module": "@jupyter-widgets/base",
            "_view_module_version": "1.2.0",
            "_view_name": "LayoutView",
            "align_content": null,
            "align_items": null,
            "align_self": null,
            "border": null,
            "bottom": null,
            "display": null,
            "flex": null,
            "flex_flow": null,
            "grid_area": null,
            "grid_auto_columns": null,
            "grid_auto_flow": null,
            "grid_auto_rows": null,
            "grid_column": null,
            "grid_gap": null,
            "grid_row": null,
            "grid_template_areas": null,
            "grid_template_columns": null,
            "grid_template_rows": null,
            "height": null,
            "justify_content": null,
            "justify_items": null,
            "left": null,
            "margin": null,
            "max_height": null,
            "max_width": null,
            "min_height": null,
            "min_width": null,
            "object_fit": null,
            "object_position": null,
            "order": null,
            "overflow": null,
            "overflow_x": null,
            "overflow_y": null,
            "padding": null,
            "right": null,
            "top": null,
            "visibility": null,
            "width": null
          }
        },
        "2050f9e60107489b8263ef2b8f8f2d2c": {
          "model_module": "@jupyter-widgets/controls",
          "model_name": "ProgressStyleModel",
          "model_module_version": "1.5.0",
          "state": {
            "_model_module": "@jupyter-widgets/controls",
            "_model_module_version": "1.5.0",
            "_model_name": "ProgressStyleModel",
            "_view_count": null,
            "_view_module": "@jupyter-widgets/base",
            "_view_module_version": "1.2.0",
            "_view_name": "StyleView",
            "bar_color": null,
            "description_width": ""
          }
        },
        "b3e08c4d96e2419baa154aef91d79102": {
          "model_module": "@jupyter-widgets/base",
          "model_name": "LayoutModel",
          "model_module_version": "1.2.0",
          "state": {
            "_model_module": "@jupyter-widgets/base",
            "_model_module_version": "1.2.0",
            "_model_name": "LayoutModel",
            "_view_count": null,
            "_view_module": "@jupyter-widgets/base",
            "_view_module_version": "1.2.0",
            "_view_name": "LayoutView",
            "align_content": null,
            "align_items": null,
            "align_self": null,
            "border": null,
            "bottom": null,
            "display": null,
            "flex": null,
            "flex_flow": null,
            "grid_area": null,
            "grid_auto_columns": null,
            "grid_auto_flow": null,
            "grid_auto_rows": null,
            "grid_column": null,
            "grid_gap": null,
            "grid_row": null,
            "grid_template_areas": null,
            "grid_template_columns": null,
            "grid_template_rows": null,
            "height": null,
            "justify_content": null,
            "justify_items": null,
            "left": null,
            "margin": null,
            "max_height": null,
            "max_width": null,
            "min_height": null,
            "min_width": null,
            "object_fit": null,
            "object_position": null,
            "order": null,
            "overflow": null,
            "overflow_x": null,
            "overflow_y": null,
            "padding": null,
            "right": null,
            "top": null,
            "visibility": null,
            "width": null
          }
        },
        "ea4199f038674e18b2ad609fca7971a1": {
          "model_module": "@jupyter-widgets/controls",
          "model_name": "DescriptionStyleModel",
          "model_module_version": "1.5.0",
          "state": {
            "_model_module": "@jupyter-widgets/controls",
            "_model_module_version": "1.5.0",
            "_model_name": "DescriptionStyleModel",
            "_view_count": null,
            "_view_module": "@jupyter-widgets/base",
            "_view_module_version": "1.2.0",
            "_view_name": "StyleView",
            "description_width": ""
          }
        },
        "eea32fd3921d46db84d47ef53977f431": {
          "model_module": "@jupyter-widgets/controls",
          "model_name": "HBoxModel",
          "model_module_version": "1.5.0",
          "state": {
            "_dom_classes": [],
            "_model_module": "@jupyter-widgets/controls",
            "_model_module_version": "1.5.0",
            "_model_name": "HBoxModel",
            "_view_count": null,
            "_view_module": "@jupyter-widgets/controls",
            "_view_module_version": "1.5.0",
            "_view_name": "HBoxView",
            "box_style": "",
            "children": [
              "IPY_MODEL_e8e589c74a7044728f7d34d02872003e",
              "IPY_MODEL_1db8904c601a4c99a992220fa533b456",
              "IPY_MODEL_3d44a471b8d14df897ffea0b2991705e"
            ],
            "layout": "IPY_MODEL_7d0a0a3924564338a9b40bb46c635896"
          }
        },
        "e8e589c74a7044728f7d34d02872003e": {
          "model_module": "@jupyter-widgets/controls",
          "model_name": "HTMLModel",
          "model_module_version": "1.5.0",
          "state": {
            "_dom_classes": [],
            "_model_module": "@jupyter-widgets/controls",
            "_model_module_version": "1.5.0",
            "_model_name": "HTMLModel",
            "_view_count": null,
            "_view_module": "@jupyter-widgets/controls",
            "_view_module_version": "1.5.0",
            "_view_name": "HTMLView",
            "description": "",
            "description_tooltip": null,
            "layout": "IPY_MODEL_71cf60c779a948d7a66d626a42811fdb",
            "placeholder": "​",
            "style": "IPY_MODEL_60d3bdd030e645e5ad14a757601bb8ad",
            "value": "Generating dev split: 100%"
          }
        },
        "1db8904c601a4c99a992220fa533b456": {
          "model_module": "@jupyter-widgets/controls",
          "model_name": "FloatProgressModel",
          "model_module_version": "1.5.0",
          "state": {
            "_dom_classes": [],
            "_model_module": "@jupyter-widgets/controls",
            "_model_module_version": "1.5.0",
            "_model_name": "FloatProgressModel",
            "_view_count": null,
            "_view_module": "@jupyter-widgets/controls",
            "_view_module_version": "1.5.0",
            "_view_name": "ProgressView",
            "bar_style": "success",
            "description": "",
            "description_tooltip": null,
            "layout": "IPY_MODEL_32e6f51abb1d4f4aafd15357ae1baddd",
            "max": 997,
            "min": 0,
            "orientation": "horizontal",
            "style": "IPY_MODEL_295fbd85b4144f3397005c9c4ef852bb",
            "value": 997
          }
        },
        "3d44a471b8d14df897ffea0b2991705e": {
          "model_module": "@jupyter-widgets/controls",
          "model_name": "HTMLModel",
          "model_module_version": "1.5.0",
          "state": {
            "_dom_classes": [],
            "_model_module": "@jupyter-widgets/controls",
            "_model_module_version": "1.5.0",
            "_model_name": "HTMLModel",
            "_view_count": null,
            "_view_module": "@jupyter-widgets/controls",
            "_view_module_version": "1.5.0",
            "_view_name": "HTMLView",
            "description": "",
            "description_tooltip": null,
            "layout": "IPY_MODEL_9916d7a81a94425bbe8a2fc140f60cbd",
            "placeholder": "​",
            "style": "IPY_MODEL_6205699efb2542368e6ad05131215a9e",
            "value": " 997/997 [00:00&lt;00:00, 6413.42 examples/s]"
          }
        },
        "7d0a0a3924564338a9b40bb46c635896": {
          "model_module": "@jupyter-widgets/base",
          "model_name": "LayoutModel",
          "model_module_version": "1.2.0",
          "state": {
            "_model_module": "@jupyter-widgets/base",
            "_model_module_version": "1.2.0",
            "_model_name": "LayoutModel",
            "_view_count": null,
            "_view_module": "@jupyter-widgets/base",
            "_view_module_version": "1.2.0",
            "_view_name": "LayoutView",
            "align_content": null,
            "align_items": null,
            "align_self": null,
            "border": null,
            "bottom": null,
            "display": null,
            "flex": null,
            "flex_flow": null,
            "grid_area": null,
            "grid_auto_columns": null,
            "grid_auto_flow": null,
            "grid_auto_rows": null,
            "grid_column": null,
            "grid_gap": null,
            "grid_row": null,
            "grid_template_areas": null,
            "grid_template_columns": null,
            "grid_template_rows": null,
            "height": null,
            "justify_content": null,
            "justify_items": null,
            "left": null,
            "margin": null,
            "max_height": null,
            "max_width": null,
            "min_height": null,
            "min_width": null,
            "object_fit": null,
            "object_position": null,
            "order": null,
            "overflow": null,
            "overflow_x": null,
            "overflow_y": null,
            "padding": null,
            "right": null,
            "top": null,
            "visibility": null,
            "width": null
          }
        },
        "71cf60c779a948d7a66d626a42811fdb": {
          "model_module": "@jupyter-widgets/base",
          "model_name": "LayoutModel",
          "model_module_version": "1.2.0",
          "state": {
            "_model_module": "@jupyter-widgets/base",
            "_model_module_version": "1.2.0",
            "_model_name": "LayoutModel",
            "_view_count": null,
            "_view_module": "@jupyter-widgets/base",
            "_view_module_version": "1.2.0",
            "_view_name": "LayoutView",
            "align_content": null,
            "align_items": null,
            "align_self": null,
            "border": null,
            "bottom": null,
            "display": null,
            "flex": null,
            "flex_flow": null,
            "grid_area": null,
            "grid_auto_columns": null,
            "grid_auto_flow": null,
            "grid_auto_rows": null,
            "grid_column": null,
            "grid_gap": null,
            "grid_row": null,
            "grid_template_areas": null,
            "grid_template_columns": null,
            "grid_template_rows": null,
            "height": null,
            "justify_content": null,
            "justify_items": null,
            "left": null,
            "margin": null,
            "max_height": null,
            "max_width": null,
            "min_height": null,
            "min_width": null,
            "object_fit": null,
            "object_position": null,
            "order": null,
            "overflow": null,
            "overflow_x": null,
            "overflow_y": null,
            "padding": null,
            "right": null,
            "top": null,
            "visibility": null,
            "width": null
          }
        },
        "60d3bdd030e645e5ad14a757601bb8ad": {
          "model_module": "@jupyter-widgets/controls",
          "model_name": "DescriptionStyleModel",
          "model_module_version": "1.5.0",
          "state": {
            "_model_module": "@jupyter-widgets/controls",
            "_model_module_version": "1.5.0",
            "_model_name": "DescriptionStyleModel",
            "_view_count": null,
            "_view_module": "@jupyter-widgets/base",
            "_view_module_version": "1.2.0",
            "_view_name": "StyleView",
            "description_width": ""
          }
        },
        "32e6f51abb1d4f4aafd15357ae1baddd": {
          "model_module": "@jupyter-widgets/base",
          "model_name": "LayoutModel",
          "model_module_version": "1.2.0",
          "state": {
            "_model_module": "@jupyter-widgets/base",
            "_model_module_version": "1.2.0",
            "_model_name": "LayoutModel",
            "_view_count": null,
            "_view_module": "@jupyter-widgets/base",
            "_view_module_version": "1.2.0",
            "_view_name": "LayoutView",
            "align_content": null,
            "align_items": null,
            "align_self": null,
            "border": null,
            "bottom": null,
            "display": null,
            "flex": null,
            "flex_flow": null,
            "grid_area": null,
            "grid_auto_columns": null,
            "grid_auto_flow": null,
            "grid_auto_rows": null,
            "grid_column": null,
            "grid_gap": null,
            "grid_row": null,
            "grid_template_areas": null,
            "grid_template_columns": null,
            "grid_template_rows": null,
            "height": null,
            "justify_content": null,
            "justify_items": null,
            "left": null,
            "margin": null,
            "max_height": null,
            "max_width": null,
            "min_height": null,
            "min_width": null,
            "object_fit": null,
            "object_position": null,
            "order": null,
            "overflow": null,
            "overflow_x": null,
            "overflow_y": null,
            "padding": null,
            "right": null,
            "top": null,
            "visibility": null,
            "width": null
          }
        },
        "295fbd85b4144f3397005c9c4ef852bb": {
          "model_module": "@jupyter-widgets/controls",
          "model_name": "ProgressStyleModel",
          "model_module_version": "1.5.0",
          "state": {
            "_model_module": "@jupyter-widgets/controls",
            "_model_module_version": "1.5.0",
            "_model_name": "ProgressStyleModel",
            "_view_count": null,
            "_view_module": "@jupyter-widgets/base",
            "_view_module_version": "1.2.0",
            "_view_name": "StyleView",
            "bar_color": null,
            "description_width": ""
          }
        },
        "9916d7a81a94425bbe8a2fc140f60cbd": {
          "model_module": "@jupyter-widgets/base",
          "model_name": "LayoutModel",
          "model_module_version": "1.2.0",
          "state": {
            "_model_module": "@jupyter-widgets/base",
            "_model_module_version": "1.2.0",
            "_model_name": "LayoutModel",
            "_view_count": null,
            "_view_module": "@jupyter-widgets/base",
            "_view_module_version": "1.2.0",
            "_view_name": "LayoutView",
            "align_content": null,
            "align_items": null,
            "align_self": null,
            "border": null,
            "bottom": null,
            "display": null,
            "flex": null,
            "flex_flow": null,
            "grid_area": null,
            "grid_auto_columns": null,
            "grid_auto_flow": null,
            "grid_auto_rows": null,
            "grid_column": null,
            "grid_gap": null,
            "grid_row": null,
            "grid_template_areas": null,
            "grid_template_columns": null,
            "grid_template_rows": null,
            "height": null,
            "justify_content": null,
            "justify_items": null,
            "left": null,
            "margin": null,
            "max_height": null,
            "max_width": null,
            "min_height": null,
            "min_width": null,
            "object_fit": null,
            "object_position": null,
            "order": null,
            "overflow": null,
            "overflow_x": null,
            "overflow_y": null,
            "padding": null,
            "right": null,
            "top": null,
            "visibility": null,
            "width": null
          }
        },
        "6205699efb2542368e6ad05131215a9e": {
          "model_module": "@jupyter-widgets/controls",
          "model_name": "DescriptionStyleModel",
          "model_module_version": "1.5.0",
          "state": {
            "_model_module": "@jupyter-widgets/controls",
            "_model_module_version": "1.5.0",
            "_model_name": "DescriptionStyleModel",
            "_view_count": null,
            "_view_module": "@jupyter-widgets/base",
            "_view_module_version": "1.2.0",
            "_view_name": "StyleView",
            "description_width": ""
          }
        },
        "de04f193d186473a98895a30afafc61c": {
          "model_module": "@jupyter-widgets/controls",
          "model_name": "HBoxModel",
          "model_module_version": "1.5.0",
          "state": {
            "_dom_classes": [],
            "_model_module": "@jupyter-widgets/controls",
            "_model_module_version": "1.5.0",
            "_model_name": "HBoxModel",
            "_view_count": null,
            "_view_module": "@jupyter-widgets/controls",
            "_view_module_version": "1.5.0",
            "_view_name": "HBoxView",
            "box_style": "",
            "children": [
              "IPY_MODEL_3f4ea8dc6546489b9086e3d5883f400b",
              "IPY_MODEL_4b0d2b4da750459da3c4733d6df815d4",
              "IPY_MODEL_8dadd68e4d00462e86b3f7dd27585972"
            ],
            "layout": "IPY_MODEL_37cdbae3af5c4303ab987bad31393fb9"
          }
        },
        "3f4ea8dc6546489b9086e3d5883f400b": {
          "model_module": "@jupyter-widgets/controls",
          "model_name": "HTMLModel",
          "model_module_version": "1.5.0",
          "state": {
            "_dom_classes": [],
            "_model_module": "@jupyter-widgets/controls",
            "_model_module_version": "1.5.0",
            "_model_name": "HTMLModel",
            "_view_count": null,
            "_view_module": "@jupyter-widgets/controls",
            "_view_module_version": "1.5.0",
            "_view_name": "HTMLView",
            "description": "",
            "description_tooltip": null,
            "layout": "IPY_MODEL_bc88a7e431714175a05a4806212eda2d",
            "placeholder": "​",
            "style": "IPY_MODEL_9c9ad1314030440d9dcb32ae4d76d855",
            "value": "Generating devtest split: 100%"
          }
        },
        "4b0d2b4da750459da3c4733d6df815d4": {
          "model_module": "@jupyter-widgets/controls",
          "model_name": "FloatProgressModel",
          "model_module_version": "1.5.0",
          "state": {
            "_dom_classes": [],
            "_model_module": "@jupyter-widgets/controls",
            "_model_module_version": "1.5.0",
            "_model_name": "FloatProgressModel",
            "_view_count": null,
            "_view_module": "@jupyter-widgets/controls",
            "_view_module_version": "1.5.0",
            "_view_name": "ProgressView",
            "bar_style": "success",
            "description": "",
            "description_tooltip": null,
            "layout": "IPY_MODEL_9d3dc4dd6b7142628c5ddd8966da65c2",
            "max": 1012,
            "min": 0,
            "orientation": "horizontal",
            "style": "IPY_MODEL_9629fddc349541ef9541f1570a815143",
            "value": 1012
          }
        },
        "8dadd68e4d00462e86b3f7dd27585972": {
          "model_module": "@jupyter-widgets/controls",
          "model_name": "HTMLModel",
          "model_module_version": "1.5.0",
          "state": {
            "_dom_classes": [],
            "_model_module": "@jupyter-widgets/controls",
            "_model_module_version": "1.5.0",
            "_model_name": "HTMLModel",
            "_view_count": null,
            "_view_module": "@jupyter-widgets/controls",
            "_view_module_version": "1.5.0",
            "_view_name": "HTMLView",
            "description": "",
            "description_tooltip": null,
            "layout": "IPY_MODEL_3b1d21ab4f9d4a8b9820c3663a30652b",
            "placeholder": "​",
            "style": "IPY_MODEL_61a473ce9aab44f6b4a24d32fd15282f",
            "value": " 1012/1012 [00:00&lt;00:00, 18913.72 examples/s]"
          }
        },
        "37cdbae3af5c4303ab987bad31393fb9": {
          "model_module": "@jupyter-widgets/base",
          "model_name": "LayoutModel",
          "model_module_version": "1.2.0",
          "state": {
            "_model_module": "@jupyter-widgets/base",
            "_model_module_version": "1.2.0",
            "_model_name": "LayoutModel",
            "_view_count": null,
            "_view_module": "@jupyter-widgets/base",
            "_view_module_version": "1.2.0",
            "_view_name": "LayoutView",
            "align_content": null,
            "align_items": null,
            "align_self": null,
            "border": null,
            "bottom": null,
            "display": null,
            "flex": null,
            "flex_flow": null,
            "grid_area": null,
            "grid_auto_columns": null,
            "grid_auto_flow": null,
            "grid_auto_rows": null,
            "grid_column": null,
            "grid_gap": null,
            "grid_row": null,
            "grid_template_areas": null,
            "grid_template_columns": null,
            "grid_template_rows": null,
            "height": null,
            "justify_content": null,
            "justify_items": null,
            "left": null,
            "margin": null,
            "max_height": null,
            "max_width": null,
            "min_height": null,
            "min_width": null,
            "object_fit": null,
            "object_position": null,
            "order": null,
            "overflow": null,
            "overflow_x": null,
            "overflow_y": null,
            "padding": null,
            "right": null,
            "top": null,
            "visibility": null,
            "width": null
          }
        },
        "bc88a7e431714175a05a4806212eda2d": {
          "model_module": "@jupyter-widgets/base",
          "model_name": "LayoutModel",
          "model_module_version": "1.2.0",
          "state": {
            "_model_module": "@jupyter-widgets/base",
            "_model_module_version": "1.2.0",
            "_model_name": "LayoutModel",
            "_view_count": null,
            "_view_module": "@jupyter-widgets/base",
            "_view_module_version": "1.2.0",
            "_view_name": "LayoutView",
            "align_content": null,
            "align_items": null,
            "align_self": null,
            "border": null,
            "bottom": null,
            "display": null,
            "flex": null,
            "flex_flow": null,
            "grid_area": null,
            "grid_auto_columns": null,
            "grid_auto_flow": null,
            "grid_auto_rows": null,
            "grid_column": null,
            "grid_gap": null,
            "grid_row": null,
            "grid_template_areas": null,
            "grid_template_columns": null,
            "grid_template_rows": null,
            "height": null,
            "justify_content": null,
            "justify_items": null,
            "left": null,
            "margin": null,
            "max_height": null,
            "max_width": null,
            "min_height": null,
            "min_width": null,
            "object_fit": null,
            "object_position": null,
            "order": null,
            "overflow": null,
            "overflow_x": null,
            "overflow_y": null,
            "padding": null,
            "right": null,
            "top": null,
            "visibility": null,
            "width": null
          }
        },
        "9c9ad1314030440d9dcb32ae4d76d855": {
          "model_module": "@jupyter-widgets/controls",
          "model_name": "DescriptionStyleModel",
          "model_module_version": "1.5.0",
          "state": {
            "_model_module": "@jupyter-widgets/controls",
            "_model_module_version": "1.5.0",
            "_model_name": "DescriptionStyleModel",
            "_view_count": null,
            "_view_module": "@jupyter-widgets/base",
            "_view_module_version": "1.2.0",
            "_view_name": "StyleView",
            "description_width": ""
          }
        },
        "9d3dc4dd6b7142628c5ddd8966da65c2": {
          "model_module": "@jupyter-widgets/base",
          "model_name": "LayoutModel",
          "model_module_version": "1.2.0",
          "state": {
            "_model_module": "@jupyter-widgets/base",
            "_model_module_version": "1.2.0",
            "_model_name": "LayoutModel",
            "_view_count": null,
            "_view_module": "@jupyter-widgets/base",
            "_view_module_version": "1.2.0",
            "_view_name": "LayoutView",
            "align_content": null,
            "align_items": null,
            "align_self": null,
            "border": null,
            "bottom": null,
            "display": null,
            "flex": null,
            "flex_flow": null,
            "grid_area": null,
            "grid_auto_columns": null,
            "grid_auto_flow": null,
            "grid_auto_rows": null,
            "grid_column": null,
            "grid_gap": null,
            "grid_row": null,
            "grid_template_areas": null,
            "grid_template_columns": null,
            "grid_template_rows": null,
            "height": null,
            "justify_content": null,
            "justify_items": null,
            "left": null,
            "margin": null,
            "max_height": null,
            "max_width": null,
            "min_height": null,
            "min_width": null,
            "object_fit": null,
            "object_position": null,
            "order": null,
            "overflow": null,
            "overflow_x": null,
            "overflow_y": null,
            "padding": null,
            "right": null,
            "top": null,
            "visibility": null,
            "width": null
          }
        },
        "9629fddc349541ef9541f1570a815143": {
          "model_module": "@jupyter-widgets/controls",
          "model_name": "ProgressStyleModel",
          "model_module_version": "1.5.0",
          "state": {
            "_model_module": "@jupyter-widgets/controls",
            "_model_module_version": "1.5.0",
            "_model_name": "ProgressStyleModel",
            "_view_count": null,
            "_view_module": "@jupyter-widgets/base",
            "_view_module_version": "1.2.0",
            "_view_name": "StyleView",
            "bar_color": null,
            "description_width": ""
          }
        },
        "3b1d21ab4f9d4a8b9820c3663a30652b": {
          "model_module": "@jupyter-widgets/base",
          "model_name": "LayoutModel",
          "model_module_version": "1.2.0",
          "state": {
            "_model_module": "@jupyter-widgets/base",
            "_model_module_version": "1.2.0",
            "_model_name": "LayoutModel",
            "_view_count": null,
            "_view_module": "@jupyter-widgets/base",
            "_view_module_version": "1.2.0",
            "_view_name": "LayoutView",
            "align_content": null,
            "align_items": null,
            "align_self": null,
            "border": null,
            "bottom": null,
            "display": null,
            "flex": null,
            "flex_flow": null,
            "grid_area": null,
            "grid_auto_columns": null,
            "grid_auto_flow": null,
            "grid_auto_rows": null,
            "grid_column": null,
            "grid_gap": null,
            "grid_row": null,
            "grid_template_areas": null,
            "grid_template_columns": null,
            "grid_template_rows": null,
            "height": null,
            "justify_content": null,
            "justify_items": null,
            "left": null,
            "margin": null,
            "max_height": null,
            "max_width": null,
            "min_height": null,
            "min_width": null,
            "object_fit": null,
            "object_position": null,
            "order": null,
            "overflow": null,
            "overflow_x": null,
            "overflow_y": null,
            "padding": null,
            "right": null,
            "top": null,
            "visibility": null,
            "width": null
          }
        },
        "61a473ce9aab44f6b4a24d32fd15282f": {
          "model_module": "@jupyter-widgets/controls",
          "model_name": "DescriptionStyleModel",
          "model_module_version": "1.5.0",
          "state": {
            "_model_module": "@jupyter-widgets/controls",
            "_model_module_version": "1.5.0",
            "_model_name": "DescriptionStyleModel",
            "_view_count": null,
            "_view_module": "@jupyter-widgets/base",
            "_view_module_version": "1.2.0",
            "_view_name": "StyleView",
            "description_width": ""
          }
        },
        "90856e5de9be435da89757754ff52c73": {
          "model_module": "@jupyter-widgets/controls",
          "model_name": "HBoxModel",
          "model_module_version": "1.5.0",
          "state": {
            "_dom_classes": [],
            "_model_module": "@jupyter-widgets/controls",
            "_model_module_version": "1.5.0",
            "_model_name": "HBoxModel",
            "_view_count": null,
            "_view_module": "@jupyter-widgets/controls",
            "_view_module_version": "1.5.0",
            "_view_name": "HBoxView",
            "box_style": "",
            "children": [
              "IPY_MODEL_1d153ba5d47e476aaf4f63c878602313",
              "IPY_MODEL_71e4d6889310493dbc67d62886287d40",
              "IPY_MODEL_49d5736ff30c46debba56f2ee91f22f1"
            ],
            "layout": "IPY_MODEL_ab9798db01cb463d836796be48d1f779"
          }
        },
        "1d153ba5d47e476aaf4f63c878602313": {
          "model_module": "@jupyter-widgets/controls",
          "model_name": "HTMLModel",
          "model_module_version": "1.5.0",
          "state": {
            "_dom_classes": [],
            "_model_module": "@jupyter-widgets/controls",
            "_model_module_version": "1.5.0",
            "_model_name": "HTMLModel",
            "_view_count": null,
            "_view_module": "@jupyter-widgets/controls",
            "_view_module_version": "1.5.0",
            "_view_name": "HTMLView",
            "description": "",
            "description_tooltip": null,
            "layout": "IPY_MODEL_bca426320ff64718966938a2609fc7b9",
            "placeholder": "​",
            "style": "IPY_MODEL_c87fb0a1c92647b7918218b9e61cb146",
            "value": "Fetching 4 files: 100%"
          }
        },
        "71e4d6889310493dbc67d62886287d40": {
          "model_module": "@jupyter-widgets/controls",
          "model_name": "FloatProgressModel",
          "model_module_version": "1.5.0",
          "state": {
            "_dom_classes": [],
            "_model_module": "@jupyter-widgets/controls",
            "_model_module_version": "1.5.0",
            "_model_name": "FloatProgressModel",
            "_view_count": null,
            "_view_module": "@jupyter-widgets/controls",
            "_view_module_version": "1.5.0",
            "_view_name": "ProgressView",
            "bar_style": "success",
            "description": "",
            "description_tooltip": null,
            "layout": "IPY_MODEL_2c60191aae27426ea406a4c23b97467c",
            "max": 4,
            "min": 0,
            "orientation": "horizontal",
            "style": "IPY_MODEL_0cc94fa7e7f343bf88e54d571d56ddf0",
            "value": 4
          }
        },
        "49d5736ff30c46debba56f2ee91f22f1": {
          "model_module": "@jupyter-widgets/controls",
          "model_name": "HTMLModel",
          "model_module_version": "1.5.0",
          "state": {
            "_dom_classes": [],
            "_model_module": "@jupyter-widgets/controls",
            "_model_module_version": "1.5.0",
            "_model_name": "HTMLModel",
            "_view_count": null,
            "_view_module": "@jupyter-widgets/controls",
            "_view_module_version": "1.5.0",
            "_view_name": "HTMLView",
            "description": "",
            "description_tooltip": null,
            "layout": "IPY_MODEL_5472a13a29334cddbf12481df8137b00",
            "placeholder": "​",
            "style": "IPY_MODEL_f83451b7d8d041a093afaf0ad1fd7426",
            "value": " 4/4 [00:00&lt;00:00, 390.30it/s]"
          }
        },
        "ab9798db01cb463d836796be48d1f779": {
          "model_module": "@jupyter-widgets/base",
          "model_name": "LayoutModel",
          "model_module_version": "1.2.0",
          "state": {
            "_model_module": "@jupyter-widgets/base",
            "_model_module_version": "1.2.0",
            "_model_name": "LayoutModel",
            "_view_count": null,
            "_view_module": "@jupyter-widgets/base",
            "_view_module_version": "1.2.0",
            "_view_name": "LayoutView",
            "align_content": null,
            "align_items": null,
            "align_self": null,
            "border": null,
            "bottom": null,
            "display": null,
            "flex": null,
            "flex_flow": null,
            "grid_area": null,
            "grid_auto_columns": null,
            "grid_auto_flow": null,
            "grid_auto_rows": null,
            "grid_column": null,
            "grid_gap": null,
            "grid_row": null,
            "grid_template_areas": null,
            "grid_template_columns": null,
            "grid_template_rows": null,
            "height": null,
            "justify_content": null,
            "justify_items": null,
            "left": null,
            "margin": null,
            "max_height": null,
            "max_width": null,
            "min_height": null,
            "min_width": null,
            "object_fit": null,
            "object_position": null,
            "order": null,
            "overflow": null,
            "overflow_x": null,
            "overflow_y": null,
            "padding": null,
            "right": null,
            "top": null,
            "visibility": null,
            "width": null
          }
        },
        "bca426320ff64718966938a2609fc7b9": {
          "model_module": "@jupyter-widgets/base",
          "model_name": "LayoutModel",
          "model_module_version": "1.2.0",
          "state": {
            "_model_module": "@jupyter-widgets/base",
            "_model_module_version": "1.2.0",
            "_model_name": "LayoutModel",
            "_view_count": null,
            "_view_module": "@jupyter-widgets/base",
            "_view_module_version": "1.2.0",
            "_view_name": "LayoutView",
            "align_content": null,
            "align_items": null,
            "align_self": null,
            "border": null,
            "bottom": null,
            "display": null,
            "flex": null,
            "flex_flow": null,
            "grid_area": null,
            "grid_auto_columns": null,
            "grid_auto_flow": null,
            "grid_auto_rows": null,
            "grid_column": null,
            "grid_gap": null,
            "grid_row": null,
            "grid_template_areas": null,
            "grid_template_columns": null,
            "grid_template_rows": null,
            "height": null,
            "justify_content": null,
            "justify_items": null,
            "left": null,
            "margin": null,
            "max_height": null,
            "max_width": null,
            "min_height": null,
            "min_width": null,
            "object_fit": null,
            "object_position": null,
            "order": null,
            "overflow": null,
            "overflow_x": null,
            "overflow_y": null,
            "padding": null,
            "right": null,
            "top": null,
            "visibility": null,
            "width": null
          }
        },
        "c87fb0a1c92647b7918218b9e61cb146": {
          "model_module": "@jupyter-widgets/controls",
          "model_name": "DescriptionStyleModel",
          "model_module_version": "1.5.0",
          "state": {
            "_model_module": "@jupyter-widgets/controls",
            "_model_module_version": "1.5.0",
            "_model_name": "DescriptionStyleModel",
            "_view_count": null,
            "_view_module": "@jupyter-widgets/base",
            "_view_module_version": "1.2.0",
            "_view_name": "StyleView",
            "description_width": ""
          }
        },
        "2c60191aae27426ea406a4c23b97467c": {
          "model_module": "@jupyter-widgets/base",
          "model_name": "LayoutModel",
          "model_module_version": "1.2.0",
          "state": {
            "_model_module": "@jupyter-widgets/base",
            "_model_module_version": "1.2.0",
            "_model_name": "LayoutModel",
            "_view_count": null,
            "_view_module": "@jupyter-widgets/base",
            "_view_module_version": "1.2.0",
            "_view_name": "LayoutView",
            "align_content": null,
            "align_items": null,
            "align_self": null,
            "border": null,
            "bottom": null,
            "display": null,
            "flex": null,
            "flex_flow": null,
            "grid_area": null,
            "grid_auto_columns": null,
            "grid_auto_flow": null,
            "grid_auto_rows": null,
            "grid_column": null,
            "grid_gap": null,
            "grid_row": null,
            "grid_template_areas": null,
            "grid_template_columns": null,
            "grid_template_rows": null,
            "height": null,
            "justify_content": null,
            "justify_items": null,
            "left": null,
            "margin": null,
            "max_height": null,
            "max_width": null,
            "min_height": null,
            "min_width": null,
            "object_fit": null,
            "object_position": null,
            "order": null,
            "overflow": null,
            "overflow_x": null,
            "overflow_y": null,
            "padding": null,
            "right": null,
            "top": null,
            "visibility": null,
            "width": null
          }
        },
        "0cc94fa7e7f343bf88e54d571d56ddf0": {
          "model_module": "@jupyter-widgets/controls",
          "model_name": "ProgressStyleModel",
          "model_module_version": "1.5.0",
          "state": {
            "_model_module": "@jupyter-widgets/controls",
            "_model_module_version": "1.5.0",
            "_model_name": "ProgressStyleModel",
            "_view_count": null,
            "_view_module": "@jupyter-widgets/base",
            "_view_module_version": "1.2.0",
            "_view_name": "StyleView",
            "bar_color": null,
            "description_width": ""
          }
        },
        "5472a13a29334cddbf12481df8137b00": {
          "model_module": "@jupyter-widgets/base",
          "model_name": "LayoutModel",
          "model_module_version": "1.2.0",
          "state": {
            "_model_module": "@jupyter-widgets/base",
            "_model_module_version": "1.2.0",
            "_model_name": "LayoutModel",
            "_view_count": null,
            "_view_module": "@jupyter-widgets/base",
            "_view_module_version": "1.2.0",
            "_view_name": "LayoutView",
            "align_content": null,
            "align_items": null,
            "align_self": null,
            "border": null,
            "bottom": null,
            "display": null,
            "flex": null,
            "flex_flow": null,
            "grid_area": null,
            "grid_auto_columns": null,
            "grid_auto_flow": null,
            "grid_auto_rows": null,
            "grid_column": null,
            "grid_gap": null,
            "grid_row": null,
            "grid_template_areas": null,
            "grid_template_columns": null,
            "grid_template_rows": null,
            "height": null,
            "justify_content": null,
            "justify_items": null,
            "left": null,
            "margin": null,
            "max_height": null,
            "max_width": null,
            "min_height": null,
            "min_width": null,
            "object_fit": null,
            "object_position": null,
            "order": null,
            "overflow": null,
            "overflow_x": null,
            "overflow_y": null,
            "padding": null,
            "right": null,
            "top": null,
            "visibility": null,
            "width": null
          }
        },
        "f83451b7d8d041a093afaf0ad1fd7426": {
          "model_module": "@jupyter-widgets/controls",
          "model_name": "DescriptionStyleModel",
          "model_module_version": "1.5.0",
          "state": {
            "_model_module": "@jupyter-widgets/controls",
            "_model_module_version": "1.5.0",
            "_model_name": "DescriptionStyleModel",
            "_view_count": null,
            "_view_module": "@jupyter-widgets/base",
            "_view_module_version": "1.2.0",
            "_view_name": "StyleView",
            "description_width": ""
          }
        }
      }
    }
  },
  "cells": [
    {
      "cell_type": "code",
      "source": [
        "!pip install --upgrade pip -q\n",
        "!pip install -U unbabel-comet -q\n",
        "!pip install ctranslate2 -q\n",
        "!pip install datasets -q"
      ],
      "metadata": {
        "colab": {
          "base_uri": "https://localhost:8080/"
        },
        "id": "FhI7JX1LUsLR",
        "outputId": "b2362728-99f5-471e-fce5-d1c1a67878d9"
      },
      "execution_count": null,
      "outputs": [
        {
          "output_type": "stream",
          "name": "stdout",
          "text": [
            "\u001b[2K   \u001b[90m━━━━━━━━━━━━━━━━━━━━━━━━━━━━━━━━━━━━━━━━\u001b[0m \u001b[32m1.8/1.8 MB\u001b[0m \u001b[31m31.0 MB/s\u001b[0m eta \u001b[36m0:00:00\u001b[0m\n",
            "\u001b[2K   \u001b[90m━━━━━━━━━━━━━━━━━━━━━━━━━━━━━━━━━━━━━━━━\u001b[0m \u001b[32m18.3/18.3 MB\u001b[0m \u001b[31m112.7 MB/s\u001b[0m eta \u001b[36m0:00:00\u001b[0m\n",
            "\u001b[2K   \u001b[90m━━━━━━━━━━━━━━━━━━━━━━━━━━━━━━━━━━━━━━━━\u001b[0m \u001b[32m823.0/823.0 kB\u001b[0m \u001b[31m37.0 MB/s\u001b[0m eta \u001b[36m0:00:00\u001b[0m\n",
            "\u001b[2K   \u001b[90m━━━━━━━━━━━━━━━━━━━━━━━━━━━━━━━━━━━━━━━━\u001b[0m \u001b[32m363.4/363.4 MB\u001b[0m \u001b[31m60.9 MB/s\u001b[0m eta \u001b[36m0:00:00\u001b[0m\n",
            "\u001b[2K   \u001b[90m━━━━━━━━━━━━━━━━━━━━━━━━━━━━━━━━━━━━━━━━\u001b[0m \u001b[32m13.8/13.8 MB\u001b[0m \u001b[31m162.7 MB/s\u001b[0m eta \u001b[36m0:00:00\u001b[0m\n",
            "\u001b[2K   \u001b[90m━━━━━━━━━━━━━━━━━━━━━━━━━━━━━━━━━━━━━━━━\u001b[0m \u001b[32m24.6/24.6 MB\u001b[0m \u001b[31m179.0 MB/s\u001b[0m eta \u001b[36m0:00:00\u001b[0m\n",
            "\u001b[2K   \u001b[90m━━━━━━━━━━━━━━━━━━━━━━━━━━━━━━━━━━━━━━━━\u001b[0m \u001b[32m883.7/883.7 kB\u001b[0m \u001b[31m43.1 MB/s\u001b[0m eta \u001b[36m0:00:00\u001b[0m\n",
            "\u001b[2K   \u001b[90m━━━━━━━━━━━━━━━━━━━━━━━━━━━━━━━━━━━━━━━━\u001b[0m \u001b[32m664.8/664.8 MB\u001b[0m \u001b[31m35.0 MB/s\u001b[0m eta \u001b[36m0:00:00\u001b[0m\n",
            "\u001b[2K   \u001b[90m━━━━━━━━━━━━━━━━━━━━━━━━━━━━━━━━━━━━━━━━\u001b[0m \u001b[32m211.5/211.5 MB\u001b[0m \u001b[31m71.7 MB/s\u001b[0m eta \u001b[36m0:00:00\u001b[0m\n",
            "\u001b[2K   \u001b[90m━━━━━━━━━━━━━━━━━━━━━━━━━━━━━━━━━━━━━━━━\u001b[0m \u001b[32m56.3/56.3 MB\u001b[0m \u001b[31m61.3 MB/s\u001b[0m eta \u001b[36m0:00:00\u001b[0m\n",
            "\u001b[2K   \u001b[90m━━━━━━━━━━━━━━━━━━━━━━━━━━━━━━━━━━━━━━━━\u001b[0m \u001b[32m127.9/127.9 MB\u001b[0m \u001b[31m67.1 MB/s\u001b[0m eta \u001b[36m0:00:00\u001b[0m\n",
            "\u001b[2K   \u001b[90m━━━━━━━━━━━━━━━━━━━━━━━━━━━━━━━━━━━━━━━━\u001b[0m \u001b[32m207.5/207.5 MB\u001b[0m \u001b[31m68.6 MB/s\u001b[0m eta \u001b[36m0:00:00\u001b[0m\n",
            "\u001b[2K   \u001b[90m━━━━━━━━━━━━━━━━━━━━━━━━━━━━━━━━━━━━━━━━\u001b[0m \u001b[32m21.1/21.1 MB\u001b[0m \u001b[31m176.7 MB/s\u001b[0m eta \u001b[36m0:00:00\u001b[0m\n",
            "\u001b[2K   \u001b[90m━━━━━━━━━━━━━━━━━━━━━━━━━━━━━━━━━━━━━━━━\u001b[0m \u001b[32m529.7/529.7 kB\u001b[0m \u001b[31m19.1 MB/s\u001b[0m eta \u001b[36m0:00:00\u001b[0m\n",
            "\u001b[?25h\u001b[31mERROR: pip's dependency resolver does not currently take into account all the packages that are installed. This behaviour is the source of the following dependency conflicts.\n",
            "ydf 0.11.0 requires protobuf<6.0.0,>=5.29.1, but you have protobuf 4.25.6 which is incompatible.\n",
            "grpcio-status 1.71.0 requires protobuf<6.0dev,>=5.26.1, but you have protobuf 4.25.6 which is incompatible.\n",
            "thinc 8.3.6 requires numpy<3.0.0,>=2.0.0, but you have numpy 1.26.4 which is incompatible.\u001b[0m\u001b[31m\n",
            "\u001b[2K   \u001b[90m━━━━━━━━━━━━━━━━━━━━━━━━━━━━━━━━━━━━━━━━\u001b[0m \u001b[32m38.6/38.6 MB\u001b[0m \u001b[31m74.7 MB/s\u001b[0m eta \u001b[36m0:00:00\u001b[0m\n",
            "\u001b[?25h\u001b[31mERROR: pip's dependency resolver does not currently take into account all the packages that are installed. This behaviour is the source of the following dependency conflicts.\n",
            "gcsfs 2025.3.2 requires fsspec==2025.3.2, but you have fsspec 2024.12.0 which is incompatible.\u001b[0m\u001b[31m\n",
            "\u001b[0m"
          ]
        }
      ]
    },
    {
      "cell_type": "code",
      "source": [
        "!apt update\n",
        "!apt install libcudnn9-cuda-12\n",
        "!pip install nvidia-cublas-cu12 nvidia-cudnn-cu12==9.*\n",
        "\n",
        "!export LD_LIBRARY_PATH=`python3 -c 'import os; import nvidia.cublas.lib; import nvidia.cudnn.lib; print(os.path.dirname(nvidia.cublas.lib.__file__) + \":\" + os.path.dirname(nvidia.cudnn.lib.__file__))'`\n"
      ],
      "metadata": {
        "colab": {
          "base_uri": "https://localhost:8080/"
        },
        "id": "vp7b2EyDZQFc",
        "outputId": "d3e18830-604e-4307-945b-afd475a8337a"
      },
      "execution_count": null,
      "outputs": [
        {
          "output_type": "stream",
          "name": "stdout",
          "text": [
            "\u001b[33m\r0% [Working]\u001b[0m\r            \rGet:1 https://cloud.r-project.org/bin/linux/ubuntu jammy-cran40/ InRelease [3,632 B]\n",
            "\u001b[33m\r0% [Waiting for headers] [Connecting to security.ubuntu.com (185.125.190.82)] [\u001b[0m\u001b[33m\r0% [Waiting for headers] [Connecting to security.ubuntu.com (185.125.190.82)] [\u001b[0m\r                                                                               \rHit:2 https://developer.download.nvidia.com/compute/cuda/repos/ubuntu2204/x86_64  InRelease\n",
            "\u001b[33m\r0% [Waiting for headers] [Connecting to security.ubuntu.com (185.125.190.82)] [\u001b[0m\r                                                                               \rHit:3 http://archive.ubuntu.com/ubuntu jammy InRelease\n",
            "Get:4 http://archive.ubuntu.com/ubuntu jammy-updates InRelease [128 kB]\n",
            "Get:5 https://cloud.r-project.org/bin/linux/ubuntu jammy-cran40/ Packages [73.0 kB]\n",
            "Get:6 http://security.ubuntu.com/ubuntu jammy-security InRelease [129 kB]\n",
            "Get:7 https://r2u.stat.illinois.edu/ubuntu jammy InRelease [6,555 B]\n",
            "Get:8 http://archive.ubuntu.com/ubuntu jammy-backports InRelease [127 kB]\n",
            "Get:9 https://r2u.stat.illinois.edu/ubuntu jammy/main amd64 Packages [2,694 kB]\n",
            "Hit:10 https://ppa.launchpadcontent.net/deadsnakes/ppa/ubuntu jammy InRelease\n",
            "Get:11 http://archive.ubuntu.com/ubuntu jammy-updates/universe amd64 Packages [1,542 kB]\n",
            "Hit:12 https://ppa.launchpadcontent.net/graphics-drivers/ppa/ubuntu jammy InRelease\n",
            "Hit:13 https://ppa.launchpadcontent.net/ubuntugis/ppa/ubuntu jammy InRelease\n",
            "Get:14 http://archive.ubuntu.com/ubuntu jammy-updates/restricted amd64 Packages [4,161 kB]\n",
            "Get:15 https://r2u.stat.illinois.edu/ubuntu jammy/main all Packages [8,836 kB]\n",
            "Get:16 http://archive.ubuntu.com/ubuntu jammy-updates/main amd64 Packages [3,101 kB]\n",
            "Get:17 http://archive.ubuntu.com/ubuntu jammy-backports/universe amd64 Packages [35.2 kB]\n",
            "Get:18 http://security.ubuntu.com/ubuntu jammy-security/main amd64 Packages [2,788 kB]\n",
            "Get:19 http://security.ubuntu.com/ubuntu jammy-security/universe amd64 Packages [1,243 kB]\n",
            "Fetched 24.9 MB in 2s (10.4 MB/s)\n",
            "Reading package lists... Done\n",
            "Building dependency tree... Done\n",
            "Reading state information... Done\n",
            "47 packages can be upgraded. Run 'apt list --upgradable' to see them.\n",
            "\u001b[1;33mW: \u001b[0mSkipping acquire of configured file 'main/source/Sources' as repository 'https://r2u.stat.illinois.edu/ubuntu jammy InRelease' does not seem to provide it (sources.list entry misspelt?)\u001b[0m\n",
            "Reading package lists... Done\n",
            "Building dependency tree... Done\n",
            "Reading state information... Done\n",
            "The following additional packages will be installed:\n",
            "  libcudnn9-dev-cuda-12\n",
            "The following held packages will be changed:\n",
            "  libcudnn9-cuda-12\n",
            "The following packages will be upgraded:\n",
            "  libcudnn9-cuda-12 libcudnn9-dev-cuda-12\n",
            "2 upgraded, 0 newly installed, 0 to remove and 45 not upgraded.\n",
            "\u001b[1;31mE: \u001b[0mHeld packages were changed and -y was used without --allow-change-held-packages.\u001b[0m\n",
            "Requirement already satisfied: nvidia-cublas-cu12 in /usr/local/lib/python3.11/dist-packages (12.4.5.8)\n",
            "Requirement already satisfied: nvidia-cudnn-cu12==9.* in /usr/local/lib/python3.11/dist-packages (9.1.0.70)\n"
          ]
        }
      ]
    },
    {
      "cell_type": "markdown",
      "source": [
        "### restart the machine after installing the unbabel-comet"
      ],
      "metadata": {
        "id": "2Ijj-A93ZQlf"
      }
    },
    {
      "cell_type": "code",
      "source": [
        "from datasets import load_dataset"
      ],
      "metadata": {
        "id": "pAf5efigcm4l"
      },
      "execution_count": null,
      "outputs": []
    },
    {
      "cell_type": "markdown",
      "source": [
        "# Translation"
      ],
      "metadata": {
        "id": "8b8rPzYPcnMT"
      }
    },
    {
      "cell_type": "code",
      "source": [
        "dataset_name = \"kreasof-ai/flores200-en-bem\"\n",
        "test_dataset = load_dataset(dataset_name, trust_remote_code=True, split=\"devtest\")"
      ],
      "metadata": {
        "colab": {
          "base_uri": "https://localhost:8080/",
          "height": 177,
          "referenced_widgets": [
            "e54097852faa454787dadb247d69d10c",
            "51fc36c071b348739bda5f31760d0f55",
            "31dd1f5f32974984a6ad25538f4ae2ae",
            "4457a634fb264cbd80976b9b451e18ba",
            "27cfd69c0b65446bbeaf7871d220a811",
            "dc2c15b7e5834954ad48157a254b2287",
            "8c3c8a0412d94991b7500d7e0f391fda",
            "3265df7b28fa4baca9bc8db31a09f4d3",
            "ea4f7af34ac24b70ace4c69199c96e72",
            "75d67f0594d14cfd87b0357b1bcf4966",
            "3398866c43fe4294a450fa7051ec1426",
            "92c79da762d74750b01661f1449a61d1",
            "7610986d7a294542a7818ad013010340",
            "1f22d8c0471c4f55bb57816c66623ec3",
            "aff984553a664e4e98152fdba85410bc",
            "7e371fec8fca4106bb1ee4f2a48a3231",
            "7a00170142684c4c9033a82369db4697",
            "5594a701b5034d629bf94eda72faa14a",
            "71b4e55ed78b488b8dce607c3f855068",
            "4b60c150344c471d98e4eecac88087b3",
            "30d6a7b50b99465f992855d4f62bebb0",
            "15e0a284839b42009f6d7f7f3630bc40",
            "6901010ddc4349e3b623ee57308042fe",
            "dfb415395f864ab89c73d5e668ec4a8f",
            "ba22df02e7f5454c871cb3dd46341658",
            "da0c4717c45f412398000154ced12bd2",
            "6e227a79f3684b6394d1ac4fe3c701e8",
            "58665e9111a74397a04dcb02d4d25538",
            "45900f8cac92461c928c6d6f48bdbb79",
            "7f265205d1244a29bdcacd3b39be6a74",
            "2050f9e60107489b8263ef2b8f8f2d2c",
            "b3e08c4d96e2419baa154aef91d79102",
            "ea4199f038674e18b2ad609fca7971a1",
            "eea32fd3921d46db84d47ef53977f431",
            "e8e589c74a7044728f7d34d02872003e",
            "1db8904c601a4c99a992220fa533b456",
            "3d44a471b8d14df897ffea0b2991705e",
            "7d0a0a3924564338a9b40bb46c635896",
            "71cf60c779a948d7a66d626a42811fdb",
            "60d3bdd030e645e5ad14a757601bb8ad",
            "32e6f51abb1d4f4aafd15357ae1baddd",
            "295fbd85b4144f3397005c9c4ef852bb",
            "9916d7a81a94425bbe8a2fc140f60cbd",
            "6205699efb2542368e6ad05131215a9e",
            "de04f193d186473a98895a30afafc61c",
            "3f4ea8dc6546489b9086e3d5883f400b",
            "4b0d2b4da750459da3c4733d6df815d4",
            "8dadd68e4d00462e86b3f7dd27585972",
            "37cdbae3af5c4303ab987bad31393fb9",
            "bc88a7e431714175a05a4806212eda2d",
            "9c9ad1314030440d9dcb32ae4d76d855",
            "9d3dc4dd6b7142628c5ddd8966da65c2",
            "9629fddc349541ef9541f1570a815143",
            "3b1d21ab4f9d4a8b9820c3663a30652b",
            "61a473ce9aab44f6b4a24d32fd15282f"
          ]
        },
        "id": "9Pqbzw2qhSzM",
        "outputId": "94067de0-51f8-4bd2-e7e8-6936fabad666"
      },
      "execution_count": null,
      "outputs": [
        {
          "output_type": "display_data",
          "data": {
            "text/plain": [
              "README.md:   0%|          | 0.00/441 [00:00<?, ?B/s]"
            ],
            "application/vnd.jupyter.widget-view+json": {
              "version_major": 2,
              "version_minor": 0,
              "model_id": "e54097852faa454787dadb247d69d10c"
            }
          },
          "metadata": {}
        },
        {
          "output_type": "display_data",
          "data": {
            "text/plain": [
              "dev-00000-of-00001.parquet:   0%|          | 0.00/193k [00:00<?, ?B/s]"
            ],
            "application/vnd.jupyter.widget-view+json": {
              "version_major": 2,
              "version_minor": 0,
              "model_id": "92c79da762d74750b01661f1449a61d1"
            }
          },
          "metadata": {}
        },
        {
          "output_type": "display_data",
          "data": {
            "text/plain": [
              "devtest-00000-of-00001.parquet:   0%|          | 0.00/203k [00:00<?, ?B/s]"
            ],
            "application/vnd.jupyter.widget-view+json": {
              "version_major": 2,
              "version_minor": 0,
              "model_id": "6901010ddc4349e3b623ee57308042fe"
            }
          },
          "metadata": {}
        },
        {
          "output_type": "display_data",
          "data": {
            "text/plain": [
              "Generating dev split:   0%|          | 0/997 [00:00<?, ? examples/s]"
            ],
            "application/vnd.jupyter.widget-view+json": {
              "version_major": 2,
              "version_minor": 0,
              "model_id": "eea32fd3921d46db84d47ef53977f431"
            }
          },
          "metadata": {}
        },
        {
          "output_type": "display_data",
          "data": {
            "text/plain": [
              "Generating devtest split:   0%|          | 0/1012 [00:00<?, ? examples/s]"
            ],
            "application/vnd.jupyter.widget-view+json": {
              "version_major": 2,
              "version_minor": 0,
              "model_id": "de04f193d186473a98895a30afafc61c"
            }
          },
          "metadata": {}
        }
      ]
    },
    {
      "cell_type": "code",
      "source": [
        "test_dataset"
      ],
      "metadata": {
        "colab": {
          "base_uri": "https://localhost:8080/"
        },
        "id": "oFA2Msy7iWJU",
        "outputId": "8b6886bd-ea8a-4948-f8f3-2346f4808231"
      },
      "execution_count": null,
      "outputs": [
        {
          "output_type": "execute_result",
          "data": {
            "text/plain": [
              "Dataset({\n",
              "    features: ['text_bem', 'text_en', 'id'],\n",
              "    num_rows: 1012\n",
              "})"
            ]
          },
          "metadata": {},
          "execution_count": 3
        }
      ]
    },
    {
      "cell_type": "code",
      "source": [
        "references = test_dataset[\"text_en\"]\n",
        "print(references[:10]) # Check if the references is list"
      ],
      "metadata": {
        "colab": {
          "base_uri": "https://localhost:8080/"
        },
        "id": "aTcXNIc5ibQv",
        "outputId": "2982f9ea-db1a-4ff1-f9d7-1b1db2544b17"
      },
      "execution_count": null,
      "outputs": [
        {
          "output_type": "stream",
          "name": "stdout",
          "text": [
            "['\"We now have 4-month-old mice that are non-diabetic that used to be diabetic,\" he added.', 'Dr. Ehud Ur, professor of medicine at Dalhousie University in Halifax, Nova Scotia and chair of the clinical and scientific division of the Canadian Diabetes Association cautioned that the research is still in its early days.', 'Like some other experts, he is skeptical about whether diabetes can be cured, noting that these findings have no relevance to people who already have Type 1 diabetes.', 'On Monday, Sara Danius, permanent secretary of the Nobel Committee for Literature at the Swedish Academy, publicly announced during a radio program on Sveriges Radio in Sweden the committee, unable to reach Bob Dylan directly about winning the 2016 Nobel Prize in Literature, had abandoned its efforts to reach him.', 'Danius said, \"Right now we are doing nothing. I have called and sent emails to his closest collaborator and received very friendly replies. For now, that is certainly enough.\"', \"Previously, Ring's CEO, Jamie Siminoff, remarked the company started when his doorbell wasn't audible from his shop in his garage.\", 'He built a WiFi door bell, he said.', 'Siminoff said sales boosted after his 2013 appearance in a Shark Tank episode where the show panel declined funding the startup.', 'In late 2017, Siminoff appeared on shopping television channel QVC.', 'Ring also settled a lawsuit with competing security company, the ADT Corporation.']\n"
          ]
        }
      ]
    },
    {
      "cell_type": "code",
      "source": [
        "source_sentences = test_dataset[\"text_bem\"]\n",
        "print(source_sentences[:10])"
      ],
      "metadata": {
        "colab": {
          "base_uri": "https://localhost:8080/"
        },
        "id": "79U5oUYRieT_",
        "outputId": "db8fcf95-cdcf-412b-b924-a00fc8e0256c"
      },
      "execution_count": null,
      "outputs": [
        {
          "output_type": "stream",
          "name": "stdout",
          "text": [
            "['“Natukwata nomba ba kwindi abali ne myeshi 4 abo pali ino nshita abashikwete ubulwele bwa dayabetisi ubo bakwete kale,” efyo balundilepo.', 'Bashing’anga ba Ehud Ur, ba pulofesa bafya miti pe sukulu likalamba ilya Dalhousie University mu Halifax, Nova Scotia kabili abakumupando mu ciputulwa ca fipatala ne miti mu kabungwe ka Canadian Diabetes Association bapeele ubusoko bwakuti ukufwailisha kucili munshiku shakutendekela.', 'Pamo fye nga bambi abafikukile insakwe, nabo bene bacili baletwishika nga cakuti ubulwele bwa dayabetisi kuti bwaposhiwa, ukwishiba ukuti ifilesangwa muli uku kufwailisha tafikwete ubupilibulo ku bantu abo abakwata kale dayabetisi ya Musango 1.', 'Pali Cimo, ba Sara Danius, ba kalemba mukalamba aba kabungwe ka Nobel Committee for Literature pa Swedish Academy, babilishe linkpalwalala ilyo kwali pulogilamu ya pa cilimba pa mulabasa wa Sveriges Radio mu Sweden ukutila akabungwe, panuma ya kufilwa ukufika kuli Bob Dylan pa mulandu wakucimfya icikombe ca 2016 Nobel Prize mufya Kulemba, kalilabileko ku kwesha kwa kufika kuli wena.', 'Ba Danius batile, “Pali ino nshita tapali ifyo tulecita. Nalituma ama foni na ma imelo kuli kakondenkanya uwa mupalamina sana elyo nalipokelela amasuko aya mutende sana. Pali ino nshita, ico cine cili fye bwino sana.”', 'Ku nshiku sha kunuma, Umukalamba we bumba lya Ring, Jamie Siminoff, alandile ukutila akampani kakwe katendeke ilyo inyenjele ya ciibi cakwe tayaleumfwika sana ukufuma kwi tuuka lyakwe mu garaji yakwe.', 'Alipangile inyenjele yapa cibi iya WiFi, efyo alandile.', 'Siminoff atile amakwebo yalilundilwepo panuma ya kumoneka kwakwe ukwa mu 2013 mu lyashi lya Shark Tank umo abasangilwe muli ili lyashi balikene ukulipilila indalama sha kutendekela.', 'Mu kupwa kwa mwaka wa 2017, Siminoff alimonekele pa mulabasa wa fikope uwa makwebo uwa QVC.', 'Ibumba lya Ring nalyena lyalipwishishe umulandu waliko na kampani ka bucingo ako alecimfyanya nakena, aka ADT Corporation.']\n"
          ]
        }
      ]
    },
    {
      "cell_type": "code",
      "source": [],
      "metadata": {
        "id": "cuyi1cZRinyZ"
      },
      "execution_count": null,
      "outputs": []
    },
    {
      "cell_type": "code",
      "source": [
        "!sudo rm -rf ct2-nllb-be-en-finetuned/"
      ],
      "metadata": {
        "id": "-oloQKmxioVD"
      },
      "execution_count": null,
      "outputs": []
    },
    {
      "cell_type": "code",
      "source": [
        "mt_model_name = \"kreasof-ai/nllb-200-distilled-600M-bem2en-bt\"\n",
        "output_mt = \"ct2-nllb-be-en-finetuned\"\n",
        "commit_hash = \"c9719f8190f68fdb8e801a0ed748a6312e7167a6\"\n",
        "!ct2-transformers-converter --model {mt_model_name} --revision {commit_hash} --quantization float16 --output_dir {output_mt} --force"
      ],
      "metadata": {
        "colab": {
          "base_uri": "https://localhost:8080/"
        },
        "id": "Rb3r8zxDcw8J",
        "outputId": "027824f3-1ffc-4a09-b640-137cbce4bf01"
      },
      "execution_count": null,
      "outputs": [
        {
          "output_type": "stream",
          "name": "stdout",
          "text": [
            "2025-04-16 08:27:27.048750: E external/local_xla/xla/stream_executor/cuda/cuda_fft.cc:477] Unable to register cuFFT factory: Attempting to register factory for plugin cuFFT when one has already been registered\n",
            "WARNING: All log messages before absl::InitializeLog() is called are written to STDERR\n",
            "E0000 00:00:1744792047.078419    7414 cuda_dnn.cc:8310] Unable to register cuDNN factory: Attempting to register factory for plugin cuDNN when one has already been registered\n",
            "E0000 00:00:1744792047.087959    7414 cuda_blas.cc:1418] Unable to register cuBLAS factory: Attempting to register factory for plugin cuBLAS when one has already been registered\n",
            "model.safetensors: 100% 2.46G/2.46G [00:58<00:00, 41.8MB/s]\n"
          ]
        }
      ]
    },
    {
      "cell_type": "code",
      "source": [
        "# !wget https://s3.amazonaws.com/opennmt-models/nllb-200/flores200_sacrebleu_tokenizer_spm.model"
      ],
      "metadata": {
        "id": "dwijdXFqc5Lh"
      },
      "execution_count": null,
      "outputs": []
    },
    {
      "cell_type": "code",
      "source": [
        "import os\n",
        "\n",
        "directory = \"/content/\"\n",
        "\n",
        "ct2_model_name = output_mt\n",
        "\n",
        "ct_model_path = os.path.join(directory, ct2_model_name)\n",
        "sp_model_path = os.path.join(directory, \"flores200_sacrebleu_tokenizer_spm.model\")"
      ],
      "metadata": {
        "id": "egg9oOSxc6cf"
      },
      "execution_count": null,
      "outputs": []
    },
    {
      "cell_type": "code",
      "source": [
        "import ctranslate2\n",
        "import sentencepiece as spm\n",
        "import torch\n",
        "\n",
        "device = \"cuda\" if torch.cuda.is_available() else \"cpu\"\n",
        "\n",
        "sp = spm.SentencePieceProcessor()\n",
        "sp.load(sp_model_path)\n",
        "\n",
        "translator = ctranslate2.Translator(ct_model_path, device=device)"
      ],
      "metadata": {
        "id": "-VGi8QoKc9V7"
      },
      "execution_count": null,
      "outputs": []
    },
    {
      "cell_type": "code",
      "source": [
        "# Translate\n",
        "\n",
        "# src_lang = \"ben_Beng\"\n",
        "# tgt_lang = \"eng_Latn\"\n",
        "\n",
        "src_lang = \"bem_Latn\"\n",
        "tgt_lang = \"eng_Latn\"\n",
        "\n",
        "beam_size = 5\n",
        "\n",
        "source_sents = [sent.strip() for sent in source_sentences]\n",
        "target_prefix = [[tgt_lang]] * len(source_sents)\n",
        "\n",
        "# Subword the source sentences\n",
        "source_sents_subworded = sp.encode_as_pieces(source_sents)\n",
        "source_sents_subworded = [[src_lang] + sent + [\"</s>\"] for sent in source_sents_subworded]\n",
        "\n",
        "# Translate the source sentences\n",
        "translations = translator.translate_batch(source_sents_subworded,\n",
        "                                          batch_type=\"tokens\",\n",
        "                                          max_batch_size=2024,\n",
        "                                          beam_size=beam_size,\n",
        "                                          target_prefix=target_prefix)\n",
        "translations = [translation.hypotheses[0] for translation in translations]\n",
        "\n",
        "# Desubword the target sentences\n",
        "translations_desubword = sp.decode(translations)\n",
        "translations_desubword = [sent[len(tgt_lang):].strip() for sent in translations_desubword]\n",
        "\n",
        "print(*translations_desubword[:10], sep=\"\\n\")"
      ],
      "metadata": {
        "colab": {
          "base_uri": "https://localhost:8080/"
        },
        "id": "yQ26sLNscues",
        "outputId": "e6c8d18a-bdfc-4e08-8349-1fa9f0ba90dc"
      },
      "execution_count": null,
      "outputs": [
        {
          "output_type": "stream",
          "name": "stdout",
          "text": [
            "⁇ We now have children who are four months old and currently do not have the type of diabetes they already had ⁇  that's what they added. ⁇\n",
            "Dr. Ehud Ur, professor of medicine at Dalhousie University in Halifax, Nova Scotia and chair of the department of hospitals and medicine at the Canadian Diabetes Association, announced that the research is still ongoing.\n",
            "Just like other people who have developed diabetes, they also still doubt whether diabetes can be cured, knowing that what is found in this study has no meaning for people who already have type 1 diabetes.\n",
            "On Monday, Sara Danius, the secretary-general of the Swedish Academy's Nobel Committee for Literature, announced a link to a radio programme on Sveriges Radio in Sweden that the organisation, after failing to reach out to Bob Dylan as the winner of the 2016 Nobel Prize in Literature, had forgotten about its attempt to reach out to her.\n",
            "Mr. Danius said,  ⁇ For now, we are doing nothing. ⁇ I have phoned and emailed to the correspondent who is closest to me and I have received a very peaceful reply. ⁇ For now, that is just fine. ⁇\n",
            "A few days ago, Ring CEO Jamie Siminoff said that his company was founded when the bell to his door was not yet ringing from his garage.\n",
            "He made a wire fence for the Wifi door, he said.\n",
            "Siminoff said that the sales increased after his 2013 appearance in the story \"Shark Tank\" in which the participants refused to pay the starting fee.\n",
            "In late 2017, Siminoff appeared on the commercial satellite channel QVC.\n",
            "Ring also settled a lawsuit against the hedge fund he was competing with, ADT Corporation.\n"
          ]
        }
      ]
    },
    {
      "cell_type": "code",
      "source": [
        "# translations_desubword"
      ],
      "metadata": {
        "id": "o5LfZuLycu7J"
      },
      "execution_count": null,
      "outputs": []
    },
    {
      "cell_type": "code",
      "source": [
        "lst_data = [{\"src\": src, \"mt\":mt, \"ref\":ref} for src, mt, ref in zip(source_sentences, translations_desubword, references)]"
      ],
      "metadata": {
        "id": "OLYT-q7Fi36n"
      },
      "execution_count": null,
      "outputs": []
    },
    {
      "cell_type": "code",
      "source": [
        "lst_data[:2]"
      ],
      "metadata": {
        "colab": {
          "base_uri": "https://localhost:8080/"
        },
        "id": "357OzeIfjwm6",
        "outputId": "5c326f32-a4ae-4ace-c1d4-5346c50e50c0"
      },
      "execution_count": null,
      "outputs": [
        {
          "output_type": "execute_result",
          "data": {
            "text/plain": [
              "[{'src': '“Natukwata nomba ba kwindi abali ne myeshi 4 abo pali ino nshita abashikwete ubulwele bwa dayabetisi ubo bakwete kale,” efyo balundilepo.',\n",
              "  'mt': \"⁇ We now have children who are four months old and currently do not have the type of diabetes they already had ⁇  that's what they added. ⁇\",\n",
              "  'ref': '\"We now have 4-month-old mice that are non-diabetic that used to be diabetic,\" he added.'},\n",
              " {'src': 'Bashing’anga ba Ehud Ur, ba pulofesa bafya miti pe sukulu likalamba ilya Dalhousie University mu Halifax, Nova Scotia kabili abakumupando mu ciputulwa ca fipatala ne miti mu kabungwe ka Canadian Diabetes Association bapeele ubusoko bwakuti ukufwailisha kucili munshiku shakutendekela.',\n",
              "  'mt': 'Dr. Ehud Ur, professor of medicine at Dalhousie University in Halifax, Nova Scotia and chair of the department of hospitals and medicine at the Canadian Diabetes Association, announced that the research is still ongoing.',\n",
              "  'ref': 'Dr. Ehud Ur, professor of medicine at Dalhousie University in Halifax, Nova Scotia and chair of the clinical and scientific division of the Canadian Diabetes Association cautioned that the research is still in its early days.'}]"
            ]
          },
          "metadata": {},
          "execution_count": 47
        }
      ]
    },
    {
      "cell_type": "code",
      "source": [
        "len(lst_data)"
      ],
      "metadata": {
        "colab": {
          "base_uri": "https://localhost:8080/"
        },
        "id": "jcA69WExkQiq",
        "outputId": "bc22f8ca-cd0f-4a50-de07-9001943918fe"
      },
      "execution_count": null,
      "outputs": [
        {
          "output_type": "execute_result",
          "data": {
            "text/plain": [
              "1012"
            ]
          },
          "metadata": {},
          "execution_count": 48
        }
      ]
    },
    {
      "cell_type": "code",
      "execution_count": null,
      "metadata": {
        "id": "5k6yh4fOUgYS"
      },
      "outputs": [],
      "source": [
        "from comet import download_model, load_from_checkpoint"
      ]
    },
    {
      "cell_type": "code",
      "source": [
        "model_path = download_model(\"masakhane/africomet-mtl\")\n",
        "model = load_from_checkpoint(model_path)\n",
        "# data = [\n",
        "#     {\n",
        "#         \"src\": \"Pali Cimo, abasayanshi ukufuma pe sukulu lya Stanford University School of Medicine babilishe ukupangwa kwa kabombelo kakupimina akapya akengasobolola insandesande mu misango yashiko; akantu kamo akanono akengapulintwa elyo akengapangwa ukubomfya amapulinta ya inkjet pa mutengo wa U.S cent imo cilakamo.\",\n",
        "#         \"mt\": \"On Monday, scientists from the Stanford University School of Medicine announced the invention of a new diagnostic tool that can sort cells; a smaller one that can be printed and manufactured using an inkjet printer for about one U.S. cent each.\",\n",
        "#         \"ref\": \"On Monday, scientists from the Stanford University School of Medicine announced the invention of a new diagnostic tool that can sort cells by type: a tiny printable chip that can be manufactured using standard inkjet printers for possibly about one U.S. cent each.\"\n",
        "#     },\n",
        "#     {\n",
        "#         \"src\": \"Kensha wa ndeke aishibikwe nge ntungulushi ya Squadron Dilokrit Pattavee.\",\n",
        "#         \"mt\": \"The pilot was identified as Squadron Leader Dilokrit Pattavee.\",\n",
        "#         \"ref\": \"The pilot was identified as Squadron Leader Dilokrit Pattavee.\"\n",
        "#     }\n",
        "# ]\n",
        "data = lst_data\n",
        "model_output = model.predict(data, batch_size=8, gpus=1)\n",
        "print (model_output)"
      ],
      "metadata": {
        "colab": {
          "base_uri": "https://localhost:8080/",
          "height": 208,
          "referenced_widgets": [
            "90856e5de9be435da89757754ff52c73",
            "1d153ba5d47e476aaf4f63c878602313",
            "71e4d6889310493dbc67d62886287d40",
            "49d5736ff30c46debba56f2ee91f22f1",
            "ab9798db01cb463d836796be48d1f779",
            "bca426320ff64718966938a2609fc7b9",
            "c87fb0a1c92647b7918218b9e61cb146",
            "2c60191aae27426ea406a4c23b97467c",
            "0cc94fa7e7f343bf88e54d571d56ddf0",
            "5472a13a29334cddbf12481df8137b00",
            "f83451b7d8d041a093afaf0ad1fd7426"
          ]
        },
        "id": "5tY43suPUmAl",
        "outputId": "d50ac367-ea09-4541-f358-abbea2abf6cd"
      },
      "execution_count": null,
      "outputs": [
        {
          "output_type": "display_data",
          "data": {
            "text/plain": [
              "Fetching 4 files:   0%|          | 0/4 [00:00<?, ?it/s]"
            ],
            "application/vnd.jupyter.widget-view+json": {
              "version_major": 2,
              "version_minor": 0,
              "model_id": "90856e5de9be435da89757754ff52c73"
            }
          },
          "metadata": {}
        },
        {
          "output_type": "stream",
          "name": "stderr",
          "text": [
            "INFO:pytorch_lightning.utilities.migration.utils:Lightning automatically upgraded your loaded checkpoint from v1.9.5 to v2.5.1. To apply the upgrade to your files permanently, run `python -m pytorch_lightning.utilities.upgrade_checkpoint ../root/.cache/huggingface/hub/models--masakhane--africomet-mtl/snapshots/c00016e2a120e8583b36c602d7be69ba1b45f088/checkpoints/model.ckpt`\n",
            "INFO:pytorch_lightning.utilities.rank_zero:You are using the plain ModelCheckpoint callback. Consider using LitModelCheckpoint which with seamless uploading to Model registry.\n",
            "INFO:pytorch_lightning.utilities.rank_zero:GPU available: True (cuda), used: True\n",
            "INFO:pytorch_lightning.utilities.rank_zero:TPU available: False, using: 0 TPU cores\n",
            "INFO:pytorch_lightning.utilities.rank_zero:HPU available: False, using: 0 HPUs\n",
            "INFO:pytorch_lightning.accelerators.cuda:LOCAL_RANK: 0 - CUDA_VISIBLE_DEVICES: [0]\n",
            "Predicting DataLoader 0: 100%|██████████| 127/127 [01:04<00:00,  1.98it/s]\n"
          ]
        },
        {
          "output_type": "stream",
          "name": "stdout",
          "text": [
            "Prediction([('scores', [0.5255526900291443, 0.5561572313308716, 0.6772773265838623, 0.5620836615562439, 0.6123297214508057, 0.5392388105392456, 0.6131290197372437, 0.64555424451828, 0.7083507776260376, 0.6974096298217773, 0.6749784350395203, 0.564297080039978, 0.5487426519393921, 0.6940420866012573, 0.5954757928848267, 0.5559263229370117, 0.501980185508728, 0.6318545341491699, 0.6694555282592773, 0.6582211852073669, 0.6110131740570068, 0.7197012305259705, -0.24361644685268402, 0.5835355520248413, 0.699002206325531, 0.6471350193023682, 0.6722435355186462, 0.4976375102996826, 0.6490117907524109, 0.6930856704711914, 0.5290774703025818, 0.41874346137046814, 0.4579453468322754, 0.7554575800895691, 0.7375271320343018, 0.495022714138031, 0.5747190117835999, 0.41093093156814575, 0.17317084968090057, 0.7111355662345886, 0.35663041472435, 0.7703100442886353, 0.6365886926651001, 0.7114216685295105, 0.5886107683181763, 0.6574130058288574, 0.6253101229667664, 0.6446874141693115, 0.6376681923866272, 0.35882672667503357, 0.38269755244255066, 0.3980531096458435, 0.30506062507629395, 0.1569654643535614, 0.35179683566093445, 0.6634649038314819, 0.5762832164764404, 0.6388797760009766, 0.29043471813201904, 0.588858962059021, 0.6564908027648926, 0.6927406191825867, 0.5956783294677734, 0.2630777359008789, 0.39187878370285034, 0.5363180637359619, 0.47949057817459106, 0.5810753703117371, 0.7185992002487183, 0.6117261648178101, 0.527688205242157, 0.6537595987319946, 0.40067166090011597, 0.549180269241333, 0.6515165567398071, 0.6032907962799072, 0.5683153867721558, 0.44545984268188477, 0.8320308923721313, 0.6720832586288452, 0.7327336072921753, 0.6736283302307129, 0.4105915427207947, 0.526414692401886, 0.5044068694114685, 0.48735281825065613, 0.3822481632232666, 0.2902137041091919, 0.662492036819458, 0.5693014860153198, 0.6106159090995789, 0.6136703491210938, 0.4823640286922455, 0.3435171842575073, 0.6199898719787598, 0.6728254556655884, 0.24414339661598206, 0.7245728969573975, 0.6713406443595886, 0.6675351858139038, 0.7301899790763855, 0.7230178713798523, 0.7340003848075867, 0.7181538939476013, -0.011843865737318993, 0.5245180130004883, 0.13300876319408417, 0.6081442832946777, 0.6241058111190796, 0.5950605869293213, 0.6183592677116394, 0.39226025342941284, 0.7545318007469177, 0.7005802392959595, 0.6671518683433533, 0.5494387149810791, 0.29290878772735596, 0.5641567707061768, 0.68944251537323, 0.4039650559425354, 0.6498860120773315, 0.5523430109024048, 0.7615398168563843, 0.7269244194030762, 0.7041829824447632, 0.6867651343345642, 0.6077821850776672, 0.4970225691795349, 0.6451034545898438, 0.6723834872245789, 0.6218170523643494, 0.5226542949676514, 0.7048680186271667, 0.6198810338973999, 0.620913028717041, 0.21037745475769043, 0.7281233668327332, 0.5595311522483826, 0.5734155178070068, 0.6758431792259216, 0.4262113571166992, 0.6122528910636902, 0.5891096591949463, 0.6081362962722778, 0.09801449626684189, 0.5372835993766785, 0.6534661054611206, 0.6578540802001953, 0.3052407503128052, 0.6906034350395203, 0.6516715288162231, 0.46600204706192017, 0.5040943026542664, 0.6562939882278442, 0.37637823820114136, 0.5876340270042419, 0.47925662994384766, 0.5014740228652954, -0.057062648236751556, 0.2230125516653061, 0.6363548040390015, 0.4457997977733612, 0.669603705406189, 0.6014018058776855, 0.49441152811050415, 0.5722383856773376, 0.5500288009643555, 0.6612736582756042, 0.5585792660713196, 0.6556805372238159, 0.6286383867263794, 0.6935495138168335, 0.19144073128700256, 0.283630907535553, 0.3477970063686371, 0.536872148513794, 0.7356324195861816, 0.32647955417633057, 0.6537014245986938, 0.6485996246337891, 0.6721915602684021, 0.7149419784545898, 0.3564528226852417, 0.705400824546814, 0.25205859541893005, 0.7806859016418457, 0.7291268110275269, 0.31577157974243164, 0.25508394837379456, 0.6128806471824646, 0.4567704200744629, -0.06265386939048767, 0.6264801025390625, 0.6161676645278931, 0.2557075023651123, 0.7576992511749268, 0.3371891975402832, 0.6064679026603699, 0.6407525539398193, 0.30261537432670593, 0.6643161177635193, 0.7090075016021729, 0.6707960963249207, 0.5725902915000916, 0.6809589266777039, 0.6618132591247559, 0.7313356399536133, 0.625231921672821, 0.5321035981178284, 0.42279860377311707, 0.7077207565307617, 0.7097363471984863, 0.6651303768157959, 0.7165510654449463, 0.6973616480827332, 0.5919495224952698, 0.5641344785690308, 0.5141104459762573, 0.5687568187713623, 0.6088797450065613, 0.6871451735496521, 0.7971408367156982, 0.6368662714958191, 0.5824763774871826, 0.6224592924118042, 0.6936119794845581, 0.5998741388320923, 0.535280704498291, 0.5920249223709106, 0.5248399972915649, 0.8163621425628662, 0.5158251523971558, 0.6073764562606812, 0.7280241847038269, 0.6629149913787842, 0.5235155820846558, 0.6871086359024048, 0.6474189758300781, 0.6314422488212585, 0.5805689692497253, 0.5064102411270142, 0.6660254001617432, 0.44516128301620483, 0.6523771286010742, 0.40320348739624023, 0.6264254450798035, 0.49233680963516235, 0.6240999102592468, 0.4716980457305908, 0.725448489189148, 0.7087662220001221, 0.6926326751708984, 0.5650813579559326, 0.3479176163673401, 0.6849724650382996, 0.5025436282157898, 0.6576687693595886, 0.24919939041137695, 0.26139408349990845, 0.4397673010826111, 0.6771974563598633, 0.3585183024406433, 0.8013420104980469, 0.4243933856487274, 0.74042147397995, 0.5750983953475952, 0.6723283529281616, 0.684157133102417, 0.7940855026245117, 0.7516199946403503, 0.06016744300723076, 0.519173264503479, 0.7088460326194763, 0.3163849711418152, 0.4658556580543518, 0.6587211489677429, 0.6699759364128113, 0.7348295450210571, 0.6245142221450806, 0.7291252613067627, 0.6827885508537292, 0.761982798576355, 0.7593737840652466, 0.689846396446228, 0.6391884088516235, 0.7476377487182617, 0.5588381290435791, 0.5621210932731628, 0.614754855632782, 0.4729077219963074, 0.63292396068573, 0.6417661905288696, 0.4094080924987793, 0.6754790544509888, 0.5320691466331482, 0.549091100692749, 0.4438338875770569, 0.6495477557182312, 0.47562751173973083, 0.5495395660400391, 0.3075796365737915, 0.5256098508834839, 0.5886038541793823, 0.7173852920532227, 0.3898320198059082, 0.034660693258047104, 0.681887149810791, 0.5617627501487732, 0.640659511089325, 0.6016389727592468, 0.6708763837814331, 0.6073185801506042, 0.6694966554641724, 0.643203854560852, 0.6775162220001221, 0.724929928779602, 0.5714370012283325, 0.39467287063598633, 0.49199149012565613, 0.16934427618980408, 0.3428190350532532, 0.39845284819602966, 0.6842465400695801, 0.6523036956787109, 0.7065315246582031, 0.1971406191587448, 0.642614483833313, 0.7018195390701294, 0.6053943634033203, 0.44299042224884033, 0.6560661196708679, 0.7585777640342712, 0.7326496839523315, -0.02480664849281311, 0.3904503285884857, 0.73673415184021, 0.6191612482070923, 0.5149340033531189, 0.48827168345451355, 0.6046666502952576, 0.6354340314865112, 0.6998234987258911, 0.32703548669815063, 0.38243889808654785, 0.5007015466690063, 0.5981817245483398, 0.7012022733688354, 0.7419246435165405, 0.46778759360313416, 0.2943914830684662, 0.4308386445045471, 0.22411243617534637, 0.6734058260917664, 0.5759625434875488, 0.6877371072769165, 0.6694006323814392, 0.7434274554252625, 0.695156455039978, 0.5043123960494995, 0.13229525089263916, 0.19830679893493652, 0.27457499504089355, 0.3847047686576843, 0.19057083129882812, 0.48581966757774353, 0.08933331072330475, 0.5452228784561157, 0.6121854782104492, 0.4983397126197815, 0.5931040644645691, 0.2116571068763733, 0.552113950252533, 0.5605846643447876, 0.49335306882858276, 0.6486210227012634, 0.5434966087341309, 0.25767064094543457, 0.6174765825271606, 0.7059540152549744, 0.7181326746940613, 0.7399502992630005, 0.5519096255302429, 0.45957836508750916, 0.6090052127838135, 0.5319250822067261, 0.4809129238128662, 0.5548855066299438, 0.604771077632904, 0.5847446322441101, 0.4573729932308197, 0.658104658126831, 0.7371069192886353, 0.7350467443466187, 0.6341614127159119, 0.6042758226394653, 0.11232411116361618, 0.6481125354766846, 0.5966758131980896, 0.36687082052230835, 0.6110560297966003, 0.729543924331665, 0.6910792589187622, 0.6155564188957214, 0.31101709604263306, 0.7037805914878845, 0.598481297492981, 0.4355913996696472, 0.7098196744918823, 0.6587880849838257, 0.719404935836792, 0.21504268050193787, 0.546707808971405, 0.5391070246696472, 0.562119722366333, 0.6612763404846191, 0.5937432646751404, 0.4821441173553467, 0.44722336530685425, 0.7343927621841431, 0.4649008512496948, 0.6184521913528442, 0.5969113707542419, 0.6006786227226257, 0.6765251159667969, 0.6841405630111694, 0.7406187057495117, 0.6413958668708801, 0.708694338798523, 0.6361586451530457, 0.6538042426109314, 0.6830665469169617, 0.4574345052242279, 0.7599183917045593, 0.4557585120201111, 0.6562902331352234, -0.07718124985694885, 0.4770805239677429, 0.37659749388694763, 0.7581844329833984, 0.6266143321990967, 0.5559844970703125, 0.5675745010375977, 0.7685106992721558, 0.4699464738368988, 0.6278727054595947, 0.39733439683914185, 0.5670541524887085, 0.47736483812332153, 0.7698792815208435, 0.7049620151519775, 0.6916265487670898, 0.6679341197013855, 0.6790968179702759, 0.5046376585960388, 0.3143065869808197, 0.24446678161621094, 0.4878275990486145, 0.5222831964492798, 0.4755191504955292, 0.6217431426048279, 0.6773209571838379, 0.6634788513183594, 0.5722437500953674, 0.7621071338653564, 0.7290643453598022, 0.7252179980278015, 0.6369597911834717, -0.6053158044815063, 0.24745512008666992, 0.48233458399772644, 0.5244637727737427, 0.6304415464401245, 0.6335543990135193, 0.6934281587600708, 0.6154124140739441, 0.7470930814743042, 0.6662248969078064, 0.6512401103973389, 0.6637689471244812, 0.7920252680778503, 0.6785308718681335, 0.6211131811141968, 0.3690776824951172, 0.494494765996933, 0.28884002566337585, 0.5651605725288391, 0.6692161560058594, 0.5439047813415527, 0.6974130868911743, 0.5451171398162842, 0.29032102227211, 0.686705470085144, 0.7757053375244141, 0.7401171922683716, 0.39872846007347107, 0.668427586555481, 0.6532517671585083, 0.5008132457733154, 0.5400633811950684, 0.6232279539108276, 0.6437609195709229, 0.4273661971092224, 0.5469396114349365, 0.49913954734802246, 0.517784833908081, 0.5115306377410889, 0.5578866004943848, 0.45506641268730164, 0.33726078271865845, 0.596480667591095, 0.3674883544445038, 0.44968706369400024, 0.35776185989379883, 0.5147034525871277, 0.7018696665763855, 0.6686634421348572, 0.6208276152610779, 0.3068319261074066, 0.583438515663147, 0.4561184346675873, 0.49996480345726013, 0.5725484490394592, 0.5268877744674683, 0.6803311109542847, 0.6476542353630066, 0.46337732672691345, 0.267798513174057, 0.5675459504127502, 0.48038944602012634, 0.6112278699874878, 0.5295708179473877, 0.642218291759491, 0.533447802066803, 0.58074951171875, 0.5137486457824707, 0.44856971502304077, 0.2920408248901367, 0.5049862861633301, 0.5591622591018677, 0.24124398827552795, 0.708145022392273, 0.643629789352417, 0.63441002368927, 0.3608367145061493, 0.5463757514953613, 0.6803706884384155, 0.6070475578308105, 0.6415249705314636, 0.6381328701972961, 0.676969051361084, 0.5907371044158936, 0.6740932464599609, 0.6825442314147949, 0.7042295932769775, 0.7607419490814209, 0.4597828984260559, 0.3449133336544037, 0.37062060832977295, 0.5074285268783569, 0.5395863056182861, 0.5628861784934998, 0.7232842445373535, 0.5928031802177429, 0.5693396925926208, 0.6169688105583191, 0.4187265634536743, 0.5092977285385132, 0.6493188738822937, 0.516403079032898, 0.7521771192550659, 0.7162813544273376, 0.7033955454826355, 0.6909539103507996, 0.6932088136672974, 0.37104445695877075, 0.33429545164108276, 0.7243527173995972, 0.5568064451217651, 0.6968268156051636, 0.4911288619041443, 0.43552491068840027, 0.129301980137825, 0.3452107310295105, 0.4081985354423523, 0.008129752241075039, 0.726162314414978, 0.7294535040855408, 0.6981286406517029, 0.41583776473999023, 0.6408109068870544, 0.6630562543869019, 0.6682567596435547, 0.5697404146194458, 0.386618435382843, 0.7286383509635925, 0.6433160305023193, 0.6252791285514832, 0.29287153482437134, 0.45717722177505493, 0.6261147260665894, 0.7609086036682129, 0.6693452596664429, 0.07850880175828934, 0.23241695761680603, 0.6433700323104858, 0.3770875632762909, 0.7273076772689819, 0.6293293237686157, 0.4638234078884125, 0.5568432211875916, 0.3852284848690033, 0.379275918006897, 0.23881077766418457, 0.7465900182723999, 0.5092931985855103, 0.3101622462272644, 0.5989721417427063, 0.40555065870285034, 0.46367010474205017, 0.6179416179656982, 0.6043890714645386, 0.7056640386581421, 0.7196566462516785, 0.5759775042533875, 0.4592383801937103, 0.6790715456008911, 0.6909975409507751, 0.7745406627655029, 0.6987504959106445, 0.7063491344451904, 0.6655896902084351, 0.4982944428920746, 0.7474995851516724, 0.7009425163269043, 0.7923459410667419, 0.6588386297225952, 0.6112355589866638, 0.6340209245681763, 0.7391383647918701, 0.7525879740715027, 0.7509419918060303, 0.7294002771377563, 0.46605169773101807, 0.533310055732727, 0.692584753036499, 0.7154455184936523, 0.6776629686355591, 0.7228039503097534, 0.6024511456489563, 0.17691567540168762, 0.6324338316917419, 0.6018651723861694, 0.10070186853408813, 0.2665814757347107, 0.49006253480911255, 0.4264640212059021, 0.6068301200866699, 0.7122328281402588, 0.3409588038921356, 0.44791755080223083, 0.5499472618103027, 0.671606183052063, 0.6245118975639343, 0.4858076274394989, 0.13016605377197266, 0.49090608954429626, 0.438504695892334, 0.6160503625869751, 0.4720607399940491, 0.60075843334198, 0.6500868201255798, 0.5988823175430298, 0.7420338988304138, 0.45427370071411133, 0.7097684741020203, 0.5882985591888428, 0.7384054660797119, 0.7003886103630066, 0.691412627696991, 0.5580583810806274, 0.6331209540367126, 0.6791093349456787, 0.6657614707946777, 0.6915750503540039, 0.6308184862136841, 0.33445796370506287, 0.7108902335166931, 0.30751416087150574, 0.39473944902420044, 0.40425819158554077, 0.5995126962661743, 0.532991349697113, 0.7046405673027039, 0.22310444712638855, 0.5864498615264893, 0.5914903879165649, 0.7179948091506958, 0.5574503540992737, 0.036232274025678635, 0.5938189029693604, 0.7807319164276123, 0.7192937135696411, 0.73585045337677, 0.5317956805229187, 0.5741981267929077, 0.4858185946941376, 0.5363539457321167, 0.701982855796814, 0.6719990968704224, 0.7396039962768555, 0.40987008810043335, 0.5804428458213806, 0.7462512850761414, 0.7310640215873718, 0.7031910419464111, 0.3757591247558594, 0.6574925780296326, 0.6874239444732666, 0.6977287530899048, 0.6810762882232666, 0.5728052854537964, 0.6958737373352051, 0.7534000277519226, 0.6303301453590393, 0.6069350242614746, 0.7128372192382812, 0.30431872606277466, 0.4838113784790039, 0.3056243658065796, 0.6253259181976318, 0.6443302631378174, 0.5446893572807312, 0.6822237372398376, 0.7128831148147583, 0.6631012558937073, 0.6824414134025574, 0.33731329441070557, 0.6958690881729126, 0.7577344179153442, 0.4929782748222351, 0.6840136051177979, 0.7036895155906677, 0.7065091133117676, 0.6909140944480896, 0.45999234914779663, 0.6512893438339233, 0.6841096878051758, 0.6994832754135132, 0.5001563429832458, 0.6550384759902954, 0.6959002017974854, 0.6925381422042847, 0.5964352488517761, 0.6979918479919434, 0.6056784987449646, 0.6840722560882568, 0.620573878288269, 0.5030621886253357, 0.62088942527771, 0.6007087826728821, 0.7647420167922974, 0.3249015808105469, 0.011810876429080963, 0.47758930921554565, 0.6516024470329285, 0.4043516516685486, 0.3418866991996765, 0.1863722801208496, 0.7501232028007507, 0.8075388669967651, 0.691408634185791, 0.7707454562187195, 0.6645934581756592, 0.29724735021591187, 0.7127809524536133, 0.45708411931991577, 0.5809245705604553, 0.3275356590747833, 0.5965316295623779, 0.7021111845970154, 0.5717582702636719, 0.16543622314929962, 0.5748141407966614, 0.7241036891937256, 0.5470532178878784, 0.5098456144332886, 0.4218946397304535, 0.6794050931930542, 0.6116070747375488, 0.3165650963783264, 0.6409986615180969, 0.3237323462963104, 0.6645209789276123, 0.3204088807106018, 0.3354259431362152, 0.6629536151885986, 0.5799298286437988, 0.5130481719970703, 0.5656958222389221, 0.47670865058898926, 0.643311619758606, 0.32370588183403015, 0.5845954418182373, 0.5915748476982117, 0.3420705199241638, 0.38211071491241455, 0.43059051036834717, 0.20425103604793549, 0.7197639346122742, 0.6045491695404053, 0.6240841746330261, 0.292126327753067, 0.6111727952957153, 0.7234582901000977, 0.5385505557060242, 0.5385247468948364, 0.7623502612113953, 0.12872539460659027, 0.10614308714866638, 0.04331831634044647, 0.489358514547348, 0.6237127184867859, 0.33902090787887573, 0.6280838847160339, 0.43408143520355225, 0.40609416365623474, 0.4275091886520386, 0.688368558883667, 0.5635534524917603, 0.28016921877861023, 0.660965621471405, 0.6727067828178406, 0.39389628171920776, 0.4453985095024109, 0.6809731721878052, 0.48153218626976013, 0.6794309020042419, 0.10038243979215622, 0.3581629991531372, 0.6534923911094666, 0.5531397461891174, 0.6115648746490479, 0.5809149146080017, 0.5165359377861023, 0.4796232581138611, 0.37012311816215515, 0.42232856154441833, 0.6916171908378601, 0.2905479669570923, -0.45992934703826904, 0.624148964881897, 0.6850335001945496, 0.6062123775482178, 0.6507717370986938, 0.5073935985565186, 0.3013434410095215, 0.29319390654563904, 0.5527853965759277, 0.492520272731781, 0.6819846034049988, 0.6243761777877808, 0.6928485631942749, 0.5702491402626038, 0.637471079826355, 0.4955107569694519, 0.527355968952179, 0.5963982343673706, 0.4299256205558777, 0.5743831992149353, 0.5877673625946045, 0.5352501273155212, 0.6007827520370483, 0.6214584708213806, 0.6214123964309692, 0.6239160895347595, 0.3156573474407196, 0.5096641778945923, 0.6543053388595581, 0.6187795996665955, 0.6635090708732605, 0.5275793075561523, 0.7005883455276489, 0.6128382682800293, 0.5102466344833374, 0.543491005897522, 0.623127818107605, 0.7116557359695435, 0.48292064666748047, 0.302501916885376, 0.3779006004333496, 0.5445944666862488, 0.490872859954834, 0.5410301089286804, 0.5069807767868042, 0.602189302444458, 0.6907138824462891, 0.6270215511322021, 0.678550660610199, 0.6540553569793701, 0.5100055932998657, 0.5039427280426025, 0.2512246370315552, 0.5284377932548523, 0.45655328035354614, 0.7178640365600586, 0.43075817823410034, 0.7373627424240112, 0.6110498309135437, 0.7240888476371765, 0.5716726779937744, 0.7185215950012207, 0.5078293085098267, 0.6349496245384216, 0.6227702498435974, 0.6236742734909058, 0.6567695140838623, 0.6858143210411072, 0.49016889929771423, 0.20515260100364685, 0.38573169708251953, 0.6827878952026367, 0.6747953295707703, 0.6854295134544373, 0.6580724120140076, 0.5564146041870117, 0.4041993021965027, 0.7310954332351685, 0.5466521978378296, 0.6250983476638794, 0.5005478858947754, 0.4333541989326477, 0.6213394999504089, 0.480442613363266, 0.5184217095375061, 0.36026662588119507, 0.6024428606033325, 0.6032746434211731, 0.739018440246582, 0.7537418603897095, 0.6428176164627075, 0.7004536390304565, 0.7753028869628906, 0.46335357427597046, 0.604947030544281, 0.5928295850753784, 0.3734755218029022, 0.46292802691459656, 0.5950366854667664, 0.5934404730796814, 0.8059054613113403, 0.6028341054916382, 0.4635135531425476, 0.5892503261566162, 0.4452841877937317, 0.48293179273605347, 0.6745384931564331, 0.6874184608459473, 0.7296518087387085, 0.5861636400222778, 0.4974167048931122, 0.6516952514648438, 0.42175883054733276, 0.6467565298080444, 0.550413966178894, 0.5708644986152649, 0.5160143375396729, 0.7311279773712158, 0.43210262060165405, 0.7293292880058289, 0.32752156257629395, 0.76390141248703, 0.6578552722930908, 0.6185922026634216, 0.598885178565979, 0.40580981969833374, 0.7299599051475525, 0.7151667475700378, 0.507434070110321, 0.6869218349456787, 0.6246663331985474, 0.768983781337738, 0.5785994529724121, 0.37235844135284424, 0.40046000480651855, 0.6482584476470947, 0.7268711924552917, 0.713020920753479, 0.44075965881347656, 0.5085204839706421, 0.19524794816970825, 0.6633337736129761, 0.35920387506484985, 0.7415992021560669, 0.7121707201004028, 0.4396112859249115, 0.6200555562973022, 0.6237651109695435, 0.7155806422233582, 0.5436258316040039, 0.6474046111106873, 0.19577595591545105, 0.6018895506858826, 0.32389387488365173, 0.4321308732032776, 0.7109000086784363, 0.609419047832489, 0.7045190334320068, 0.5075544118881226, 0.6113909482955933, 0.3796515464782715, 0.560623824596405, 0.5759704113006592]), ('system_score', 0.5563834967365923), ('metadata', Prediction([('src_scores', [0.48518797755241394, 0.40372687578201294, 0.6196491122245789, 0.4960707426071167, 0.4972366392612457, 0.37029945850372314, 0.5450518727302551, 0.625040590763092, 0.6773622035980225, 0.6890202164649963, 0.666231095790863, 0.4643060863018036, 0.4984792172908783, 0.6708319187164307, 0.5522305369377136, 0.5013883709907532, 0.34882745146751404, 0.5598927736282349, 0.6605586409568787, 0.6487839221954346, 0.6469354033470154, 0.7476659417152405, -0.2594154179096222, 0.5116471648216248, 0.7048478722572327, 0.6538782715797424, 0.6610170006752014, 0.24797245860099792, 0.6511895060539246, 0.6817626357078552, 0.46275898814201355, 0.2809463441371918, 0.48421669006347656, 0.751981794834137, 0.6620616912841797, 0.637061357498169, 0.4468618631362915, 0.34652629494667053, 0.29528239369392395, 0.7077089548110962, 0.2827461063861847, 0.7734296321868896, 0.6635671257972717, 0.7610238194465637, 0.5704161524772644, 0.49445903301239014, 0.6432463526725769, 0.646187961101532, 0.6301367282867432, 0.3564908802509308, 0.38250839710235596, 0.434663325548172, 0.48358461260795593, 0.2178257405757904, 0.23289361596107483, 0.6537832617759705, 0.5987924337387085, 0.6374249458312988, 0.3380931615829468, 0.739076554775238, 0.5723270773887634, 0.6888402700424194, 0.6014721393585205, 0.3709748685359955, 0.4818781316280365, 0.5368019938468933, 0.3894444406032562, 0.5730655193328857, 0.7073793411254883, 0.6459436416625977, 0.6020252704620361, 0.6332064867019653, 0.4338071644306183, 0.5543052554130554, 0.6575654149055481, 0.5489979386329651, 0.5224865078926086, 0.4521894156932831, 0.7730746865272522, 0.6505021452903748, 0.6759777665138245, 0.6660789847373962, 0.34635332226753235, 0.5555295348167419, 0.4383818507194519, 0.432729035615921, 0.00034451112151145935, 0.3928089439868927, 0.6462019681930542, 0.5724741220474243, 0.6042636036872864, 0.6181456446647644, 0.5113059282302856, 0.43310582637786865, 0.6655470728874207, 0.6817612051963806, 0.2202882468700409, 0.7199147343635559, 0.6760894060134888, 0.5799260139465332, 0.729666531085968, 0.7141657471656799, 0.7190502285957336, 0.7259267568588257, -0.016946978867053986, 0.5365279316902161, 0.5332890748977661, 0.5360532402992249, 0.675082802772522, 0.5895452499389648, 0.680820107460022, 0.4527307450771332, 0.747204601764679, 0.6148389577865601, 0.6418976187705994, 0.5496509671211243, 0.36196812987327576, 0.6119595766067505, 0.5556938052177429, 0.48457375168800354, 0.5983386635780334, 0.48735949397087097, 0.7494494318962097, 0.698381245136261, 0.679109513759613, 0.6293527483940125, 0.5224336385726929, 0.5299928784370422, 0.6846842169761658, 0.6622064709663391, 0.4453795850276947, 0.41950297355651855, 0.6914551258087158, 0.529037594795227, 0.7054740190505981, 0.30282852053642273, 0.7192396521568298, 0.5275271534919739, 0.4161622226238251, 0.5949083566665649, 0.3822137415409088, 0.5787745118141174, 0.5576428771018982, 0.630886971950531, 0.09924639761447906, 0.44913679361343384, 0.6317911148071289, 0.6307742595672607, 0.23982489109039307, 0.6882036328315735, 0.6474557518959045, 0.3822442591190338, 0.3883201777935028, 0.6782634854316711, 0.24320632219314575, 0.5478407144546509, 0.2848469018936157, 0.45396843552589417, -0.07630471885204315, 0.38389262557029724, 0.5678960680961609, 0.25071921944618225, 0.6658433675765991, 0.6214268207550049, 0.6148492693901062, 0.4465600550174713, 0.5351341366767883, 0.6932618021965027, 0.6032620072364807, 0.6877791285514832, 0.6423660516738892, 0.7255532145500183, 0.403730183839798, 0.2751453220844269, 0.4062126874923706, 0.41206905245780945, 0.7214285135269165, 0.48500117659568787, 0.6119252443313599, 0.5509289503097534, 0.7053136229515076, 0.73204505443573, 0.41617247462272644, 0.705435037612915, 0.3954838216304779, 0.7762197256088257, 0.7522922158241272, 0.3610634505748749, 0.16654521226882935, 0.5993711352348328, 0.4313558042049408, -0.04561302810907364, 0.5970035195350647, 0.5538098216056824, 0.37820473313331604, 0.6990697979927063, 0.11705898493528366, 0.5462666153907776, 0.6110504269599915, -0.20111337304115295, 0.6359712481498718, 0.698545515537262, 0.6716216206550598, 0.5380420088768005, 0.6235029101371765, 0.6539656519889832, 0.6812631487846375, 0.6093268990516663, 0.40684857964515686, 0.47953495383262634, 0.6965643763542175, 0.6980286836624146, 0.5709028244018555, 0.7344164252281189, 0.6554393172264099, 0.4920442998409271, 0.473806768655777, 0.60814368724823, 0.6661174297332764, 0.597569465637207, 0.6783187389373779, 0.7695057392120361, 0.6723195910453796, 0.42910391092300415, 0.5303148031234741, 0.6894540190696716, 0.5644279718399048, 0.5044238567352295, 0.5739049315452576, 0.448934406042099, 0.7710941433906555, 0.48270460963249207, 0.5033408403396606, 0.7192917466163635, 0.6575009226799011, 0.5474562644958496, 0.7135519981384277, 0.6498507857322693, 0.5206761956214905, 0.6024187207221985, 0.49279269576072693, 0.6878991723060608, 0.38012635707855225, 0.6879308819770813, 0.4377603530883789, 0.5184842944145203, 0.581393837928772, 0.6212978363037109, 0.22969940304756165, 0.7375014424324036, 0.7094422578811646, 0.6055295467376709, 0.5243629217147827, 0.7004977464675903, 0.6490824222564697, 0.4498926103115082, 0.680533230304718, 0.4613755941390991, 0.4842335879802704, 0.587254524230957, 0.6713052988052368, 0.3495315611362457, 0.7537609934806824, 0.2910707890987396, 0.7408302426338196, 0.6081517338752747, 0.624656617641449, 0.6703453063964844, 0.8114866614341736, 0.7129130959510803, 0.07408876717090607, 0.3639882802963257, 0.723577618598938, 0.2752378582954407, 0.3861558139324188, 0.6779295206069946, 0.6185731887817383, 0.7396466135978699, 0.6891310214996338, 0.7055395841598511, 0.6238430142402649, 0.7486827969551086, 0.6879668235778809, 0.6635279059410095, 0.6696600914001465, 0.7693285346031189, 0.6389291882514954, 0.6048857569694519, 0.5667532086372375, 0.42428210377693176, 0.6681656241416931, 0.6733728051185608, 0.41174888610839844, 0.6228343844413757, 0.5487822890281677, 0.581434428691864, 0.5734289288520813, 0.6827744245529175, 0.24982067942619324, 0.4419627785682678, 0.34511038661003113, 0.47937121987342834, 0.39255794882774353, 0.6594569087028503, 0.3756249248981476, 0.10380778461694717, 0.6873018145561218, 0.6489248275756836, 0.6192230582237244, 0.6384918093681335, 0.657443106174469, 0.6144796013832092, 0.6822874546051025, 0.5437705516815186, 0.608820378780365, 0.7486078143119812, 0.49586257338523865, 0.3461593687534332, 0.6235848069190979, 0.2547188103199005, 0.03393493965268135, 0.4492243230342865, 0.6682249307632446, 0.6645615100860596, 0.7153555750846863, 0.05855492129921913, 0.6625086069107056, 0.6519322991371155, 0.6502748727798462, 0.040064599364995956, 0.5985519289970398, 0.7236379981040955, 0.6245855093002319, -0.010787013918161392, 0.48354971408843994, 0.7376807928085327, 0.6100510358810425, 0.4055309593677521, 0.514655351638794, 0.5374187231063843, 0.6033810377120972, 0.7109338641166687, 0.229119211435318, 0.147129088640213, 0.3554750978946686, 0.6793456673622131, 0.722038745880127, 0.7149448990821838, 0.5212766528129578, 0.31245940923690796, 0.407282292842865, 0.3853883743286133, 0.6327577829360962, 0.6442100405693054, 0.6697278022766113, 0.6423525810241699, 0.733242392539978, 0.620781421661377, 0.41111165285110474, 0.17275673151016235, 0.13723617792129517, 0.3215324580669403, 0.03509996086359024, 0.12559473514556885, 0.4525277018547058, -0.05220677703619003, 0.470515638589859, 0.6946302056312561, 0.5820772647857666, 0.4919492304325104, 0.19310122728347778, 0.47634586691856384, 0.35143041610717773, 0.29228657484054565, 0.6861352324485779, 0.4762984812259674, 0.21071690320968628, 0.6384692788124084, 0.6917813420295715, 0.6919513940811157, 0.6872654557228088, 0.46294957399368286, 0.48055142164230347, 0.580745279788971, 0.4821798503398895, 0.527374804019928, 0.3474096953868866, 0.5381976962089539, 0.3921683132648468, 0.28590062260627747, 0.5608978271484375, 0.7111475467681885, 0.7299057841300964, 0.6196815967559814, 0.39745357632637024, 0.25246474146842957, 0.5494593977928162, 0.6274712085723877, 0.291000634431839, 0.4881417453289032, 0.7124093770980835, 0.6901148557662964, 0.6778844594955444, 0.3520444929599762, 0.6986448764801025, 0.5436663031578064, 0.48000672459602356, 0.6986362934112549, 0.7822005748748779, 0.6639561057090759, 0.24866795539855957, 0.5267960429191589, 0.34450361132621765, 0.4871600568294525, 0.6262674927711487, 0.4896525740623474, 0.26443248987197876, 0.28593581914901733, 0.720089852809906, 0.5639346241950989, 0.5230399966239929, 0.6927310824394226, 0.5991978645324707, 0.599143922328949, 0.6636266112327576, 0.734215497970581, 0.6024698615074158, 0.6824837327003479, 0.587250292301178, 0.7529134750366211, 0.6792688965797424, 0.3689854145050049, 0.7864999771118164, 0.4846995174884796, 0.6660358309745789, -0.09867625683546066, 0.40122291445732117, 0.17423537373542786, 0.7830806374549866, 0.5882285833358765, 0.4445478916168213, 0.4349886476993561, 0.773343026638031, 0.34869763255119324, 0.5442032217979431, 0.3887486159801483, 0.4091900885105133, 0.004000447690486908, 0.7601330876350403, 0.6777711510658264, 0.6218100786209106, 0.6445140242576599, 0.6533040404319763, 0.5567817091941833, 0.20533600449562073, 0.027575742453336716, 0.3847729563713074, 0.5472409129142761, 0.3038289248943329, 0.54233717918396, 0.6354349255561829, 0.605476438999176, 0.40110233426094055, 0.7265738844871521, 0.7213475108146667, 0.7280949950218201, 0.646600604057312, -0.6248647570610046, 0.23852595686912537, 0.5648170113563538, 0.5632506012916565, 0.6165393590927124, 0.6356406211853027, 0.6723135709762573, 0.5000252723693848, 0.765358030796051, 0.6408032178878784, 0.702630877494812, 0.6793174147605896, 0.7885754704475403, 0.6669695973396301, 0.6285069584846497, 0.3280373513698578, 0.13967426121234894, 0.0504627600312233, 0.43486183881759644, 0.728874683380127, 0.44174882769584656, 0.7076573967933655, 0.4859333336353302, 0.06348211318254471, 0.7359763383865356, 0.7656122446060181, 0.6922370791435242, 0.5321816802024841, 0.5776333808898926, 0.6896113157272339, 0.43361881375312805, 0.48810485005378723, 0.662550151348114, 0.6939875483512878, 0.5078385472297668, 0.6183711886405945, 0.4305778443813324, 0.5650494694709778, 0.4239511787891388, 0.3555505871772766, 0.3796520531177521, 0.3123561441898346, 0.6527761816978455, 0.4614175856113434, 0.5300979614257812, 0.4101232588291168, 0.5690434575080872, 0.7089213728904724, 0.7109183073043823, 0.6478703022003174, 0.21493631601333618, 0.5208457708358765, 0.4585936367511749, 0.4216656982898712, 0.5425836443901062, 0.5955416560173035, 0.6707075238227844, 0.6068885326385498, 0.6192383170127869, 0.09224504232406616, 0.4771808087825775, 0.5246769189834595, 0.6471446752548218, 0.3912758529186249, 0.6473528146743774, 0.4452374279499054, 0.6199628710746765, 0.41498541831970215, 0.2724358141422272, 0.3817916214466095, 0.5115501284599304, 0.4951595962047577, 0.18809837102890015, 0.7026360034942627, 0.6286008358001709, 0.6257098317146301, 0.3045523464679718, 0.41726863384246826, 0.6909796595573425, 0.5931601524353027, 0.5887724161148071, 0.6489347815513611, 0.5807546973228455, 0.4645824432373047, 0.6592651009559631, 0.6056216359138489, 0.7074810266494751, 0.7053757309913635, 0.6025500297546387, 0.010974336415529251, 0.7233775854110718, 0.298652708530426, 0.42999255657196045, 0.49634987115859985, 0.7129505276679993, 0.5369964838027954, 0.3837420642375946, 0.5949980616569519, 0.3281247019767761, 0.45945778489112854, 0.6276336908340454, 0.4476524293422699, 0.6817483305931091, 0.6975606083869934, 0.70002681016922, 0.6817597150802612, 0.5721856951713562, 0.32600244879722595, 0.1932602822780609, 0.7139310836791992, 0.597023069858551, 0.6498913764953613, 0.40886190533638, 0.26236647367477417, 0.21503284573554993, 0.33680614829063416, 0.5117391347885132, 0.0056485459208488464, 0.7027310729026794, 0.7329133152961731, 0.6125611066818237, 0.1701045036315918, 0.6006302237510681, 0.661432147026062, 0.6486954092979431, 0.4698256850242615, 0.29135486483573914, 0.7517979741096497, 0.71157306432724, 0.5271387696266174, 0.317555695772171, 0.29638737440109253, 0.6238027811050415, 0.760930597782135, 0.6831340193748474, 0.0359349325299263, 0.14985284209251404, 0.5832337141036987, 0.20378854870796204, 0.6697257161140442, 0.6448126435279846, 0.43034031987190247, 0.4139465391635895, 0.19773265719413757, 0.28759974241256714, 0.11268886178731918, 0.7039794325828552, 0.2949288785457611, 0.38988324999809265, 0.6125276684761047, 0.4809255599975586, 0.2173328995704651, 0.6051210761070251, 0.611472487449646, 0.6527747511863708, 0.7169749736785889, 0.4056166708469391, 0.12197819352149963, 0.5639354586601257, 0.6518258452415466, 0.7744849324226379, 0.6813116669654846, 0.7011025547981262, 0.6823061108589172, 0.08412577211856842, 0.7144257426261902, 0.709065318107605, 0.7814135551452637, 0.5898223519325256, 0.5582400560379028, 0.6354683041572571, 0.6980805993080139, 0.7435057759284973, 0.724968671798706, 0.7283152937889099, 0.5132634043693542, 0.23467272520065308, 0.6980169415473938, 0.7080056667327881, 0.6334052085876465, 0.7347127795219421, 0.5260873436927795, 0.1804371178150177, 0.5963677167892456, 0.6515371203422546, -0.04981318861246109, 0.25929558277130127, 0.5215975046157837, 0.18146035075187683, 0.5838415622711182, 0.7297012805938721, 0.19317716360092163, 0.4754902422428131, 0.40058037638664246, 0.6670146584510803, 0.6646011471748352, 0.4377383887767792, 0.08734966069459915, 0.2562237083911896, 0.24428007006645203, 0.5486385822296143, 0.2784315347671509, 0.6200894713401794, 0.655860424041748, 0.5948116183280945, 0.7284407019615173, 0.5859150290489197, 0.6640120148658752, 0.40965536236763, 0.7597255110740662, 0.697151243686676, 0.6570829153060913, 0.5334386825561523, 0.6189189553260803, 0.571510910987854, 0.640303909778595, 0.6608944535255432, 0.594390332698822, 0.39304906129837036, 0.6825445294380188, 0.2764592170715332, 0.39129742980003357, 0.21019980311393738, 0.6133667826652527, 0.5631079077720642, 0.6942982077598572, 0.14461813867092133, 0.5371627807617188, 0.37473636865615845, 0.7351369261741638, 0.4245186746120453, 0.09776394069194794, 0.41669708490371704, 0.8093355894088745, 0.6899178624153137, 0.7334210276603699, 0.26281023025512695, 0.45286110043525696, 0.30207231640815735, 0.3619721233844757, 0.6945813894271851, 0.6511202454566956, 0.7468782067298889, 0.7272558808326721, 0.41691854596138, 0.7277036309242249, 0.7260280251502991, 0.7165103554725647, 0.468273788690567, 0.642525315284729, 0.7010828852653503, 0.7504547238349915, 0.6010900139808655, 0.49878206849098206, 0.6522405743598938, 0.7352898120880127, 0.5245538353919983, 0.5471779704093933, 0.7114441990852356, 0.4078187942504883, 0.46945181488990784, 0.3737751245498657, 0.5776064395904541, 0.5699627995491028, 0.2965938448905945, 0.666402280330658, 0.715652585029602, 0.665534257888794, 0.6410726308822632, 0.4700489342212677, 0.7012361288070679, 0.7445257306098938, 0.5165748000144958, 0.6660031080245972, 0.659292995929718, 0.6567917466163635, 0.6673060655593872, 0.33223649859428406, 0.6121001243591309, 0.6656612157821655, 0.6125615239143372, 0.16827848553657532, 0.6489407420158386, 0.6503886580467224, 0.7205438017845154, 0.43712976574897766, 0.7215210199356079, 0.665063202381134, 0.6797264218330383, 0.5920373797416687, 0.49912503361701965, 0.5953691601753235, 0.4300360381603241, 0.7490165829658508, 0.378282368183136, 0.10643403977155685, 0.3519795835018158, 0.6212157011032104, 0.3881581127643585, 0.21541666984558105, 0.17995202541351318, 0.7076134085655212, 0.7677770256996155, 0.6516023278236389, 0.7736254334449768, 0.6524444222450256, 0.16123616695404053, 0.6761559247970581, 0.17336347699165344, 0.6186816096305847, 0.221803218126297, 0.5695777535438538, 0.6985118985176086, 0.33573657274246216, 0.21183103322982788, 0.6758832931518555, 0.7345644235610962, 0.6359935402870178, 0.4128488302230835, 0.210200697183609, 0.6306554675102234, 0.6208643317222595, 0.23960444331169128, 0.5702700018882751, 0.3247290849685669, 0.6650490164756775, 0.21223315596580505, 0.06637841463088989, 0.590722918510437, 0.4604009687900543, 0.32851919531822205, 0.425019770860672, 0.27350831031799316, 0.6312599778175354, 0.20072636008262634, 0.5061268210411072, 0.570925235748291, 0.2554522752761841, 0.24303564429283142, 0.1927177608013153, 0.25610098242759705, 0.708046019077301, 0.4389263689517975, 0.5463259816169739, 0.15083231031894684, 0.6146826148033142, 0.7611791491508484, 0.39446720480918884, 0.44092780351638794, 0.7504853010177612, 0.08704336732625961, 0.04063396155834198, 0.07470972836017609, 0.3706985414028168, 0.5160641074180603, 0.29891130328178406, 0.5104806423187256, 0.4293225109577179, 0.08258980512619019, 0.0747523084282875, 0.6728267669677734, 0.502926766872406, 0.2886243760585785, 0.6779194474220276, 0.643854022026062, 0.6244263052940369, 0.42134180665016174, 0.6821706891059875, 0.4145694077014923, 0.5793253183364868, -0.04596409946680069, 0.2941298186779022, 0.6614200472831726, 0.5389683246612549, 0.5365954637527466, 0.521538496017456, 0.27062568068504333, 0.358011394739151, 0.3050375282764435, 0.3778737485408783, 0.7014371752738953, 0.19999483227729797, -0.470382422208786, 0.6594895124435425, 0.640241265296936, 0.6140817999839783, 0.5803249478340149, 0.3700826168060303, 0.3549524247646332, 0.12608599662780762, 0.48249754309654236, 0.16639795899391174, 0.6171299815177917, 0.5737647414207458, 0.6737959980964661, 0.700712263584137, 0.5905670523643494, 0.39861664175987244, 0.37627771496772766, 0.394513875246048, 0.46221616864204407, 0.47703731060028076, 0.5529382824897766, 0.49258729815483093, 0.6019492745399475, 0.5868087410926819, 0.6445643305778503, 0.49322018027305603, 0.25715985894203186, 0.41904959082603455, 0.6469903588294983, 0.4468120038509369, 0.6100744009017944, 0.5711542963981628, 0.6822909712791443, 0.4669804871082306, 0.6237040162086487, 0.4724338948726654, 0.5954297184944153, 0.7628870606422424, 0.5791864991188049, 0.3402526080608368, 0.27517077326774597, 0.4457685947418213, 0.20006299018859863, 0.3054770231246948, 0.4251517653465271, 0.4343295395374298, 0.6796764731407166, 0.5693173408508301, 0.6649976968765259, 0.6848718523979187, 0.23674514889717102, 0.2498588263988495, -0.005040835589170456, 0.4492463171482086, 0.38598617911338806, 0.7158780097961426, 0.44567984342575073, 0.7085708975791931, 0.5740790367126465, 0.6967113614082336, 0.45945385098457336, 0.673870861530304, 0.3986438810825348, 0.6344063878059387, 0.6244563460350037, 0.5567086935043335, 0.6516420245170593, 0.68234783411026, 0.4685467779636383, 0.026901233941316605, 0.2590388059616089, 0.6538184285163879, 0.6764475703239441, 0.6714537143707275, 0.6240902543067932, 0.3338501751422882, 0.11811109632253647, 0.7020159363746643, 0.4881556034088135, 0.5133970975875854, 0.327279269695282, 0.03039834089577198, 0.6485525965690613, 0.18551450967788696, 0.3569977581501007, 0.19882667064666748, 0.562766969203949, 0.5087870955467224, 0.7062991261482239, 0.7485135197639465, 0.5625818371772766, 0.7100749611854553, 0.7551267743110657, 0.4110207259654999, 0.5901958346366882, 0.5480748414993286, 0.46692973375320435, 0.40597447752952576, 0.4332386553287506, 0.5664422512054443, 0.790803074836731, 0.7048017978668213, 0.2742478847503662, 0.4355849325656891, 0.3565662205219269, 0.32597747445106506, 0.640722393989563, 0.6381874680519104, 0.6981230974197388, 0.6082389950752258, 0.7293234467506409, 0.6470658183097839, 0.5049939751625061, 0.6871174573898315, 0.4950781762599945, 0.32279935479164124, 0.47084006667137146, 0.6816023588180542, 0.1596446931362152, 0.7156429886817932, 0.18506133556365967, 0.7634884715080261, 0.6065733432769775, 0.6668383479118347, 0.6052479147911072, 0.16441115736961365, 0.7019451260566711, 0.7310184240341187, 0.3385324776172638, 0.7099387049674988, 0.669596254825592, 0.7593294382095337, 0.48206451535224915, 0.09601651877164841, 0.2412569224834442, 0.5938672423362732, 0.7469256520271301, 0.7340442538261414, 0.35195478796958923, 0.4342997372150421, 0.1200164258480072, 0.5431102514266968, 0.24865686893463135, 0.7221581935882568, 0.6931171417236328, 0.06927531957626343, 0.6542132496833801, 0.5041140913963318, 0.5478163361549377, 0.2797495424747467, 0.576438307762146, 0.01982370764017105, 0.5394687056541443, 0.2150033414363861, 0.3042598068714142, 0.7107465267181396, 0.5545128583908081, 0.6429124474525452, 0.3337421119213104, 0.48666465282440186, 0.08446432650089264, 0.5060766339302063, 0.5872723460197449]), ('ref_scores', [0.6119460463523865, 0.64406418800354, 0.7238641381263733, 0.6383657455444336, 0.6840664744377136, 0.6699692606925964, 0.6666494011878967, 0.6643218398094177, 0.710936427116394, 0.7076111435890198, 0.6914498805999756, 0.6113960146903992, 0.5946661829948425, 0.7199288606643677, 0.6299344897270203, 0.605840265750885, 0.5890323519706726, 0.6839950084686279, 0.7163072228431702, 0.6640201210975647, 0.6088112592697144, 0.7116853594779968, -0.2812553346157074, 0.6213506460189819, 0.7147424817085266, 0.6746801733970642, 0.6922643780708313, 0.6190997958183289, 0.6576052308082581, 0.6977632641792297, 0.5150071382522583, 0.5064572095870972, 0.47394514083862305, 0.7648727297782898, 0.7888245582580566, 0.43521377444267273, 0.6684367656707764, 0.4491426646709442, 0.13272657990455627, 0.7139007449150085, 0.447070837020874, 0.772355854511261, 0.6413024067878723, 0.6901269555091858, 0.6530625224113464, 0.7817850708961487, 0.6811270713806152, 0.6440594792366028, 0.6314258575439453, 0.4243339002132416, 0.42996373772621155, 0.3885144889354706, 0.18394827842712402, 0.16655167937278748, 0.36672893166542053, 0.6823340058326721, 0.55359947681427, 0.6530643105506897, 0.25606220960617065, 0.5243331789970398, 0.7037978768348694, 0.7187662720680237, 0.6459068655967712, 0.18990477919578552, 0.40168505907058716, 0.5416419506072998, 0.5718825459480286, 0.5844038128852844, 0.7312065958976746, 0.6006550192832947, 0.49380847811698914, 0.6774889826774597, 0.3753143548965454, 0.5245239734649658, 0.6538978219032288, 0.6452145576477051, 0.6020594239234924, 0.4290224015712738, 0.8539665937423706, 0.6901153922080994, 0.7743577361106873, 0.6849508881568909, 0.4452545940876007, 0.5087375044822693, 0.5345574617385864, 0.5527146458625793, 0.596091628074646, 0.2272513210773468, 0.6999890208244324, 0.5717841982841492, 0.6321427226066589, 0.6097264289855957, 0.5022621154785156, 0.3999413549900055, 0.6086651682853699, 0.6575989127159119, 0.2786000072956085, 0.7299422025680542, 0.6842833161354065, 0.7392981648445129, 0.7373154759407043, 0.7357622981071472, 0.7520366311073303, 0.7095105648040771, -0.016078829765319824, 0.5521555542945862, -0.061751410365104675, 0.6955137252807617, 0.578521192073822, 0.6027902960777283, 0.5864450335502625, 0.47101762890815735, 0.7455273270606995, 0.7575773596763611, 0.6929894089698792, 0.5401785969734192, 0.27108532190322876, 0.6043286919593811, 0.786939799785614, 0.3882708251476288, 0.695594847202301, 0.6128825545310974, 0.7790203094482422, 0.7560380101203918, 0.7354993224143982, 0.7515043020248413, 0.6625003218650818, 0.4701281487941742, 0.6229986548423767, 0.7071389555931091, 0.7311912178993225, 0.5872947573661804, 0.712135910987854, 0.6974290013313293, 0.545992910861969, 0.18936648964881897, 0.7553784251213074, 0.6831521391868591, 0.6645214557647705, 0.7439774870872498, 0.4595016837120056, 0.6513962149620056, 0.6450629830360413, 0.5927289724349976, 0.10210662335157394, 0.6216199994087219, 0.6831521987915039, 0.6815308928489685, 0.3507216274738312, 0.7000496983528137, 0.6672387719154358, 0.574037492275238, 0.588874876499176, 0.6380059123039246, 0.4535001218318939, 0.643822193145752, 0.6123294234275818, 0.5754977464675903, -0.06483933329582214, 0.13671892881393433, 0.71993488073349, 0.622188925743103, 0.6916983723640442, 0.5985023379325867, 0.4473392069339752, 0.632716715335846, 0.5760567784309387, 0.6401247382164001, 0.5394815802574158, 0.6699514985084534, 0.6535363793373108, 0.6982043385505676, 0.029966507107019424, 0.26970911026000977, 0.33012744784355164, 0.6151809692382812, 0.7218433022499084, 0.25493302941322327, 0.6735014915466309, 0.7132235765457153, 0.6589475274085999, 0.7066014409065247, 0.32607704401016235, 0.7191274762153625, 0.13704252243041992, 0.7891018390655518, 0.7087144255638123, 0.30996569991111755, 0.32572126388549805, 0.6458272337913513, 0.5032715797424316, -0.06354997307062149, 0.6571481823921204, 0.6697661280632019, 0.20082882046699524, 0.7977973818778992, 0.4935891032218933, 0.661135196685791, 0.6655272841453552, 0.6049824953079224, 0.689885139465332, 0.722285807132721, 0.6838980317115784, 0.598720371723175, 0.711908757686615, 0.6808078289031982, 0.7517479062080383, 0.6490216851234436, 0.6520610451698303, 0.4222319722175598, 0.7263030409812927, 0.727783739566803, 0.7306051254272461, 0.7087263464927673, 0.7286168932914734, 0.6609818935394287, 0.6696520447731018, 0.42359378933906555, 0.5195116400718689, 0.6389356851577759, 0.6800050139427185, 0.8177383542060852, 0.6293042302131653, 0.6985411047935486, 0.6928694844245911, 0.7119987607002258, 0.6580591201782227, 0.5394627451896667, 0.6224554181098938, 0.6029713749885559, 0.8469223380088806, 0.5830579996109009, 0.676855742931366, 0.7374418377876282, 0.6546310782432556, 0.5229974389076233, 0.6778325438499451, 0.6634054183959961, 0.699806272983551, 0.5432971715927124, 0.5323161482810974, 0.6749888062477112, 0.5509392023086548, 0.6368089318275452, 0.3887002468109131, 0.7048812508583069, 0.4423942267894745, 0.578751266002655, 0.6555274724960327, 0.7182996273040771, 0.7102373838424683, 0.7459447383880615, 0.6306582093238831, 0.14439302682876587, 0.7177985310554504, 0.5475591421127319, 0.6609984040260315, 0.1456211656332016, 0.16719970107078552, 0.36760029196739197, 0.6790969967842102, 0.3348119854927063, 0.8328707814216614, 0.5189151167869568, 0.732543408870697, 0.55965656042099, 0.7175502181053162, 0.6881904006004333, 0.7681108713150024, 0.770971417427063, 0.05220537632703781, 0.6091973185539246, 0.6947673559188843, 0.3922198414802551, 0.5592324137687683, 0.6495380997657776, 0.7139232158660889, 0.7169046401977539, 0.5940024852752686, 0.7514533996582031, 0.7168030142784119, 0.7691368460655212, 0.8050413727760315, 0.7132349610328674, 0.6889023184776306, 0.7263155579566956, 0.5362393260002136, 0.5107580423355103, 0.6370622515678406, 0.5396349430084229, 0.6236574649810791, 0.6265974640846252, 0.4895842969417572, 0.7107512354850769, 0.5266831517219543, 0.6057522892951965, 0.31303131580352783, 0.6205461025238037, 0.6634443998336792, 0.6243197321891785, 0.35424038767814636, 0.6022858023643494, 0.7344720959663391, 0.7512690424919128, 0.44193318486213684, 0.01602987013757229, 0.7068728804588318, 0.5546941757202148, 0.6885260939598083, 0.6054093837738037, 0.6693627834320068, 0.606226921081543, 0.6839457154273987, 0.7178394794464111, 0.726381242275238, 0.7500264048576355, 0.644956648349762, 0.47780176997184753, 0.4200882017612457, 0.13086199760437012, 0.5530856847763062, 0.46490752696990967, 0.7108098864555359, 0.6485486030578613, 0.7099605202674866, 0.32472506165504456, 0.6361318230628967, 0.7349163889884949, 0.5673825740814209, 0.6776014566421509, 0.686444878578186, 0.7816653847694397, 0.8092287182807922, -0.02314899116754532, 0.3415416181087494, 0.7453001141548157, 0.6520059704780579, 0.5797491669654846, 0.4982426166534424, 0.6696061491966248, 0.6639910936355591, 0.6958597898483276, 0.3876183032989502, 0.5149027109146118, 0.6133742928504944, 0.5638020634651184, 0.6890930533409119, 0.758146345615387, 0.46482035517692566, 0.26340216398239136, 0.4535684883594513, 0.14464113116264343, 0.7120946049690247, 0.557757556438446, 0.7227150797843933, 0.6822937726974487, 0.769271194934845, 0.730358362197876, 0.6003158092498779, 0.13378141820430756, 0.30410709977149963, 0.24081382155418396, 0.6594155430793762, 0.28930917382240295, 0.5186207890510559, 0.1857191026210785, 0.6319729685783386, 0.5713264346122742, 0.4509660303592682, 0.6527888178825378, 0.2391883134841919, 0.6529658436775208, 0.6925813555717468, 0.6609259247779846, 0.6289887428283691, 0.617827296257019, 0.3292771875858307, 0.6082220077514648, 0.7163410782814026, 0.7436409592628479, 0.7778603434562683, 0.6113261580467224, 0.4160112142562866, 0.623651921749115, 0.596774697303772, 0.4386098086833954, 0.6766161322593689, 0.6610737442970276, 0.6825467348098755, 0.5965877175331116, 0.7095156311988831, 0.7557483315467834, 0.7217504382133484, 0.6631267666816711, 0.6793114542961121, 0.05157271400094032, 0.713726282119751, 0.6030104756355286, 0.4490467309951782, 0.6837495565414429, 0.7453448176383972, 0.7065090537071228, 0.6149690747261047, 0.34230756759643555, 0.7086710333824158, 0.650946319103241, 0.4617190659046173, 0.7152484059333801, 0.5609889030456543, 0.7575998306274414, 0.2023935616016388, 0.5708501935005188, 0.6632886528968811, 0.6374614238739014, 0.6956111192703247, 0.6604302525520325, 0.5570738911628723, 0.5461004972457886, 0.7616305947303772, 0.4595543146133423, 0.6931910514831543, 0.5850996971130371, 0.6441038250923157, 0.7240445017814636, 0.6969305872917175, 0.7471844553947449, 0.694936990737915, 0.7245048880577087, 0.6738911867141724, 0.5772923231124878, 0.689507246017456, 0.524260938167572, 0.7405063509941101, 0.5155284404754639, 0.6788976788520813, -0.056046195328235626, 0.5477407574653625, 0.594318151473999, 0.7343950867652893, 0.6746895909309387, 0.6320694088935852, 0.6795697212219238, 0.7582237124443054, 0.4847871959209442, 0.6988011002540588, 0.42995792627334595, 0.7083182334899902, 0.7431312203407288, 0.7772960066795349, 0.7414608597755432, 0.7351989150047302, 0.6948490738868713, 0.7078357338905334, 0.4653353989124298, 0.3765391409397125, 0.4833091199398041, 0.5246726274490356, 0.5803096294403076, 0.6088072657585144, 0.6834065318107605, 0.7087922692298889, 0.6975541710853577, 0.6897676587104797, 0.7898458242416382, 0.7425669431686401, 0.7274074554443359, 0.6175051927566528, -0.5824781060218811, 0.3323516845703125, 0.5267206430435181, 0.521335244178772, 0.6560763716697693, 0.6548288464546204, 0.7091987729072571, 0.6999320387840271, 0.723665177822113, 0.6940756440162659, 0.6274051070213318, 0.6637835502624512, 0.8006529211997986, 0.689587414264679, 0.5998705625534058, 0.4137306213378906, 0.7031423449516296, 0.4295254051685333, 0.6381239295005798, 0.6099293828010559, 0.5973170399665833, 0.69840008020401, 0.5901303291320801, 0.43210920691490173, 0.6494215130805969, 0.7852746844291687, 0.7434954643249512, 0.3747776746749878, 0.7337570190429688, 0.644788920879364, 0.5823861360549927, 0.5966190099716187, 0.577060878276825, 0.6132484078407288, 0.356290727853775, 0.5564725995063782, 0.537165105342865, 0.48399630188941956, 0.5697787404060364, 0.7140983939170837, 0.5210010409355164, 0.37524232268333435, 0.5952616333961487, 0.3829548954963684, 0.4472016990184784, 0.4227317273616791, 0.5088610649108887, 0.7152392864227295, 0.6573625206947327, 0.6244232654571533, 0.4604048430919647, 0.6325283646583557, 0.42861369252204895, 0.5325924158096313, 0.5775679349899292, 0.502425491809845, 0.6992766857147217, 0.6891352534294128, 0.46108299493789673, 0.455956369638443, 0.6205418109893799, 0.49465852975845337, 0.5934565663337708, 0.6174433827400208, 0.6373182535171509, 0.5867659449577332, 0.5156081914901733, 0.6404743194580078, 0.5569897890090942, 0.2289525866508484, 0.5165732502937317, 0.6407491564750671, 0.31227540969848633, 0.7124214768409729, 0.6661304831504822, 0.6549623608589172, 0.44069355726242065, 0.6064411401748657, 0.6764382123947144, 0.6357169151306152, 0.697956919670105, 0.6255143880844116, 0.751761257648468, 0.6654230952262878, 0.732805073261261, 0.7339673638343811, 0.7131509780883789, 0.80809086561203, 0.3827786147594452, 0.5470312833786011, 0.07882486283779144, 0.635485827922821, 0.6244526505470276, 0.643134593963623, 0.7341993451118469, 0.6696980595588684, 0.6541076302528381, 0.6270477771759033, 0.5363779664039612, 0.5359334349632263, 0.6780543923377991, 0.5572502017021179, 0.7936146855354309, 0.7388656735420227, 0.7008673548698425, 0.7073691487312317, 0.7777454257011414, 0.48886212706565857, 0.5568873286247253, 0.7377166152000427, 0.5628032088279724, 0.7338139414787292, 0.5658285021781921, 0.5804564356803894, 0.003661278635263443, 0.40414154529571533, 0.3440868556499481, 0.03312665969133377, 0.7536414861679077, 0.7335422039031982, 0.7860056757926941, 0.5964010953903198, 0.6978614926338196, 0.6712571382522583, 0.6801953911781311, 0.6442668437957764, 0.5171000361442566, 0.7107861638069153, 0.5961828827857971, 0.6952860355377197, 0.3067724406719208, 0.49460938572883606, 0.6419629454612732, 0.7470396161079407, 0.6413058638572693, 0.05970320850610733, 0.33744654059410095, 0.7086684703826904, 0.4917832612991333, 0.7633399367332458, 0.6487208604812622, 0.5162645578384399, 0.680892825126648, 0.5523012280464172, 0.44259586930274963, 0.3697376549243927, 0.7924164533615112, 0.6830199360847473, 0.2669985592365265, 0.6056386232376099, 0.35056960582733154, 0.6079898476600647, 0.657126247882843, 0.6497741341590881, 0.7460698485374451, 0.7237313985824585, 0.6801614165306091, 0.6972261071205139, 0.75447016954422, 0.7545632123947144, 0.7820101380348206, 0.7085584402084351, 0.7101385593414307, 0.6729018688201904, 0.7558590769767761, 0.7618724703788757, 0.7068719863891602, 0.7860987782478333, 0.7085227370262146, 0.6829193234443665, 0.6323326826095581, 0.7676697373390198, 0.7577318549156189, 0.7654697299003601, 0.728162944316864, 0.43612760305404663, 0.7050585746765137, 0.7057155966758728, 0.7303686738014221, 0.7114848494529724, 0.7067121267318726, 0.6669284701347351, 0.17588946223258972, 0.7014545202255249, 0.5670038461685181, 0.19551429152488708, 0.3460211157798767, 0.48119786381721497, 0.6392078995704651, 0.6641549468040466, 0.7128162980079651, 0.4468005895614624, 0.48522746562957764, 0.6843937039375305, 0.6912130117416382, 0.5869889855384827, 0.56373530626297, 0.13301783800125122, 0.6582170128822327, 0.6183621287345886, 0.6743395924568176, 0.6503505110740662, 0.5807813405990601, 0.6763413548469543, 0.6646794080734253, 0.764981210231781, 0.43163225054740906, 0.7387292981147766, 0.7010752558708191, 0.7318158149719238, 0.6997126936912537, 0.7201481461524963, 0.6374260783195496, 0.6541803479194641, 0.7363153100013733, 0.6892860531806946, 0.7209546566009521, 0.6954035758972168, 0.2768666744232178, 0.7327988743782043, 0.27084723114967346, 0.40459907054901123, 0.5227739214897156, 0.6013109683990479, 0.5312965512275696, 0.7342309355735779, 0.29057344794273376, 0.6453418135643005, 0.7332573533058167, 0.7135264277458191, 0.6812728047370911, 0.025121357291936874, 0.7019211649894714, 0.7566236853599548, 0.7527589201927185, 0.7427923679351807, 0.6797597408294678, 0.6688417196273804, 0.6043943762779236, 0.6486988663673401, 0.7078260183334351, 0.6921893954277039, 0.7270408868789673, 0.2505236566066742, 0.7039183974266052, 0.7548657059669495, 0.730624258518219, 0.7010166049003601, 0.3595249056816101, 0.6911496520042419, 0.6868345141410828, 0.6697773337364197, 0.7289572954177856, 0.6629818081855774, 0.7385191321372986, 0.7755129933357239, 0.7026509046554565, 0.637133777141571, 0.7074447274208069, 0.2767484188079834, 0.5575243830680847, 0.3138348460197449, 0.6757307648658752, 0.6912078261375427, 0.697564423084259, 0.7256284952163696, 0.7166914343833923, 0.677640438079834, 0.7088809013366699, 0.2899974286556244, 0.6954299211502075, 0.7715787291526794, 0.5693573355674744, 0.7152130007743835, 0.7444599270820618, 0.7436410784721375, 0.7188263535499573, 0.5885751843452454, 0.6893033385276794, 0.7006016373634338, 0.7449666857719421, 0.7207956910133362, 0.680983304977417, 0.7369372248649597, 0.6670514941215515, 0.7033351063728333, 0.6945205926895142, 0.5534846186637878, 0.7130253314971924, 0.6829356551170349, 0.49206072092056274, 0.651800811290741, 0.7501621246337891, 0.7809905409812927, 0.30150705575942993, -0.06329893320798874, 0.7100829482078552, 0.6868650317192078, 0.35797518491744995, 0.43538400530815125, 0.16169166564941406, 0.7797319293022156, 0.8304794430732727, 0.7195590138435364, 0.7816941142082214, 0.6836126446723938, 0.3653595745563507, 0.7576737999916077, 0.6423412561416626, 0.5920075178146362, 0.3869933784008026, 0.6312523484230042, 0.7039552927017212, 0.6996363401412964, 0.13592824339866638, 0.5298083424568176, 0.7402822375297546, 0.5207372903823853, 0.5721120238304138, 0.5692131519317627, 0.7199037671089172, 0.641418993473053, 0.38842907547950745, 0.7054550051689148, 0.27501440048217773, 0.6848535537719727, 0.3855535089969635, 0.5723158121109009, 0.7174921035766602, 0.6404278874397278, 0.6180033087730408, 0.6742957234382629, 0.570847749710083, 0.6719018816947937, 0.38223010301589966, 0.6347026228904724, 0.6193454265594482, 0.46285280585289, 0.5419558882713318, 0.5781645178794861, 0.3120623528957367, 0.7378849387168884, 0.7140841484069824, 0.6987566947937012, 0.3592032790184021, 0.6844622492790222, 0.7143041491508484, 0.663201630115509, 0.5960485339164734, 0.7711584568023682, 0.12770578265190125, 0.18039610981941223, 0.041801463812589645, 0.5941670536994934, 0.6910951137542725, 0.4079204201698303, 0.7273541688919067, 0.48452189564704895, 0.6415713429450989, 0.6551057696342468, 0.7139623165130615, 0.6626102328300476, 0.2592604458332062, 0.6707397103309631, 0.6994169354438782, 0.28546738624572754, 0.42479389905929565, 0.6907669305801392, 0.5879500508308411, 0.7540388703346252, 0.3281213045120239, 0.40713194012641907, 0.6719951033592224, 0.5703027844429016, 0.6549323201179504, 0.6122329235076904, 0.6899670958518982, 0.6062526106834412, 0.4644527733325958, 0.4878462255001068, 0.7013872861862183, 0.3755172789096832, -0.4349915683269501, 0.5579387545585632, 0.7448669075965881, 0.6078924536705017, 0.711290717124939, 0.5677044987678528, 0.2537806034088135, 0.36080169677734375, 0.6201379299163818, 0.6837893128395081, 0.735748827457428, 0.6538190841674805, 0.7183256149291992, 0.4456759989261627, 0.6776859164237976, 0.5829946398735046, 0.6327518224716187, 0.7107789516448975, 0.42297548055648804, 0.6578096747398376, 0.5924311876296997, 0.6025148630142212, 0.6123064160346985, 0.6518170833587646, 0.6385168433189392, 0.6908236145973206, 0.3131113350391388, 0.6433539986610413, 0.6720972657203674, 0.7240604162216187, 0.7092730402946472, 0.5228392481803894, 0.7219979763031006, 0.7082111835479736, 0.4200366139411926, 0.5954156517982483, 0.6433690190315247, 0.6985976696014404, 0.40388521552085876, 0.2993468642234802, 0.46188780665397644, 0.6136509776115417, 0.7056351900100708, 0.7086101174354553, 0.5885570645332336, 0.6884037852287292, 0.7059403657913208, 0.6991143822669983, 0.6846437454223633, 0.6306136846542358, 0.6416768431663513, 0.6548438668251038, 0.47463634610176086, 0.5792081356048584, 0.49984368681907654, 0.717557966709137, 0.47340157628059387, 0.7606133818626404, 0.6315520405769348, 0.7384483218193054, 0.6841210722923279, 0.753069281578064, 0.6203698515892029, 0.6302273869514465, 0.6567512154579163, 0.6701170802116394, 0.6773741841316223, 0.6985349655151367, 0.5144108533859253, 0.36135333776474, 0.4984106719493866, 0.7064357995986938, 0.6899769902229309, 0.7030310034751892, 0.7156787514686584, 0.6800480484962463, 0.5930858254432678, 0.769077479839325, 0.6066510677337646, 0.6990816593170166, 0.62049400806427, 0.6646710634231567, 0.5920327305793762, 0.6272589564323425, 0.6103765368461609, 0.4729376435279846, 0.6741378307342529, 0.674557089805603, 0.7560757994651794, 0.7483451962471008, 0.6848286390304565, 0.6970102190971375, 0.7792487740516663, 0.5439993143081665, 0.6134897470474243, 0.6290637850761414, 0.26591956615448, 0.5160525441169739, 0.7268261909484863, 0.630940854549408, 0.8219611644744873, 0.5316815376281738, 0.5717909336090088, 0.6862497925758362, 0.4768430292606354, 0.5753642916679382, 0.7176589965820312, 0.7192620038986206, 0.7314943075180054, 0.5905225872993469, 0.3113608658313751, 0.6573480367660522, 0.3833877146244049, 0.6003685593605042, 0.6002737879753113, 0.7401891350746155, 0.5837666392326355, 0.7746304869651794, 0.610490620136261, 0.7438941597938538, 0.37779393792152405, 0.7745922207832336, 0.6979398131370544, 0.5960708260536194, 0.5976298451423645, 0.564383864402771, 0.7531578540802002, 0.7128555774688721, 0.6077851057052612, 0.6546950936317444, 0.594706118106842, 0.7856395840644836, 0.6504883170127869, 0.544094979763031, 0.5269342064857483, 0.6768010258674622, 0.735857367515564, 0.702480137348175, 0.5215732455253601, 0.53541499376297, 0.2572946846485138, 0.7498820424079895, 0.4652845561504364, 0.7759473323822021, 0.7206416726112366, 0.6607446074485779, 0.6292806267738342, 0.702021062374115, 0.8253149390220642, 0.7072315216064453, 0.704611599445343, 0.3703728914260864, 0.6456720232963562, 0.44113388657569885, 0.5665833950042725, 0.724090039730072, 0.6778928637504578, 0.754830002784729, 0.6561333537101746, 0.7255805730819702, 0.5791467428207397, 0.6127116680145264, 0.6119599938392639]), ('unified_scores', [0.47952407598495483, 0.6206806898117065, 0.6883187890052795, 0.5518143773078918, 0.65568608045578, 0.5774475932121277, 0.6276856064796448, 0.6473001837730408, 0.7367536425590515, 0.6955976486206055, 0.6672540903091431, 0.6171889901161194, 0.5530825257301331, 0.6913654208183289, 0.6042622327804565, 0.5605503916740417, 0.5680806040763855, 0.6516757607460022, 0.6315007209777832, 0.6618595719337463, 0.5772928595542908, 0.6997522711753845, -0.19017857313156128, 0.617608904838562, 0.6774161458015442, 0.6128464937210083, 0.6634491086006165, 0.6258403062820435, 0.6382405161857605, 0.699731171131134, 0.6094661355018616, 0.4688267409801483, 0.41567423939704895, 0.7495182752609253, 0.7616952061653137, 0.41279298067092896, 0.6088583469390869, 0.43712377548217773, 0.09150353819131851, 0.7117971181869507, 0.34007424116134644, 0.7651446461677551, 0.6048963665962219, 0.6831141114234924, 0.542353630065918, 0.6959947943687439, 0.5515568256378174, 0.6438148617744446, 0.6514419317245483, 0.2956553101539612, 0.3356204926967621, 0.3709814250469208, 0.24764898419380188, 0.08651895076036453, 0.4557678997516632, 0.6542772650718689, 0.5764577984809875, 0.6261501908302307, 0.2771487236022949, 0.5031670928001404, 0.6933474540710449, 0.6706150770187378, 0.5396559238433838, 0.22835353016853333, 0.29207319021224976, 0.5305101275444031, 0.477144718170166, 0.585756778717041, 0.7172114253044128, 0.5885797739028931, 0.4872308373451233, 0.6505833268165588, 0.3928934931755066, 0.5687114000320435, 0.6430862545967102, 0.6156600117683411, 0.5804001688957214, 0.455167680978775, 0.8690511584281921, 0.6756322383880615, 0.7478652596473694, 0.6698552370071411, 0.4401666820049286, 0.514976978302002, 0.5402811765670776, 0.47661468386650085, 0.5503082871437073, 0.2505807876586914, 0.641285240650177, 0.5636460185050964, 0.5954412817955017, 0.6131387948989868, 0.4335240423679352, 0.19750437140464783, 0.585757315158844, 0.6791161894798279, 0.23354190587997437, 0.7238616943359375, 0.6536491513252258, 0.6833813190460205, 0.7235878109931946, 0.719125509262085, 0.7309141755104065, 0.7190242409706116, -0.002505786716938019, 0.4848705232143402, -0.07251136749982834, 0.5928658843040466, 0.6187133193016052, 0.5928462147712708, 0.587812602519989, 0.2530323565006256, 0.7708633542060852, 0.7293244004249573, 0.6665685176849365, 0.5584864616394043, 0.24567291140556335, 0.4761819541454315, 0.7256937623023987, 0.3390505313873291, 0.6557244062423706, 0.5567869544029236, 0.7561495304107666, 0.7263540625572205, 0.697939932346344, 0.6794382929801941, 0.638412594795227, 0.49094662070274353, 0.6276275515556335, 0.6478050947189331, 0.6888803839683533, 0.5611649751663208, 0.7110129594802856, 0.6331763863563538, 0.6112721562385559, 0.13893736898899078, 0.7097519040107727, 0.4679141342639923, 0.6395629048347473, 0.688643753528595, 0.4369186460971832, 0.606587827205658, 0.5646230578422546, 0.6007928252220154, 0.09269045293331146, 0.5410940051078796, 0.6454549431800842, 0.6612569689750671, 0.3251757025718689, 0.6835569143295288, 0.6403200030326843, 0.44172433018684387, 0.5350878834724426, 0.6526125073432922, 0.4324282705783844, 0.5712390542030334, 0.5405935645103455, 0.4749557673931122, -0.03004387766122818, 0.1484261155128479, 0.6212334036827087, 0.4644912779331207, 0.6512691378593445, 0.5842762589454651, 0.4210459887981415, 0.6374382376670837, 0.5388954877853394, 0.6504344344139099, 0.5329941511154175, 0.6093109846115112, 0.5900125503540039, 0.6568908095359802, 0.1406254917383194, 0.3060382902622223, 0.3070508539676666, 0.583366334438324, 0.7636255025863647, 0.23950442671775818, 0.6756773591041565, 0.6816463470458984, 0.6523134112358093, 0.7061793208122253, 0.3271089494228363, 0.6916399598121643, 0.22364935278892517, 0.7767360210418701, 0.7263736128807068, 0.2762855589389801, 0.2729853391647339, 0.5934434533119202, 0.4356837868690491, -0.07879861444234848, 0.6252886652946472, 0.6249270439147949, 0.18808895349502563, 0.77623051404953, 0.40091949701309204, 0.6120019555091858, 0.6456800103187561, 0.5039769411087036, 0.6670917868614197, 0.7061911821365356, 0.6568686366081238, 0.5810084342956543, 0.7074651122093201, 0.6506662964820862, 0.7609959244728088, 0.6173471212387085, 0.5374010801315308, 0.36662885546684265, 0.7002948522567749, 0.7033964395523071, 0.6938832402229309, 0.7065104246139526, 0.7080287933349609, 0.6228222846984863, 0.5489445328712463, 0.5105937719345093, 0.5206412672996521, 0.5901340246200562, 0.7031117081642151, 0.8041784763336182, 0.6089748740196228, 0.6197839975357056, 0.6441934704780579, 0.6793829798698425, 0.5771351456642151, 0.5619553923606873, 0.5797143578529358, 0.5226141810417175, 0.8310699462890625, 0.4817126989364624, 0.6419326663017273, 0.7273387908935547, 0.676612913608551, 0.5000929832458496, 0.6699411273002625, 0.6290006041526794, 0.6738442778587341, 0.5959908366203308, 0.494121789932251, 0.6351882815361023, 0.4044181704521179, 0.6323915719985962, 0.38314980268478394, 0.6559107899665833, 0.45322224497795105, 0.6722505688667297, 0.5298672914505005, 0.7205442786216736, 0.7066190242767334, 0.7264237403869629, 0.5402228236198425, 0.1988619863986969, 0.688036322593689, 0.5101791024208069, 0.6314746141433716, 0.14060139656066895, 0.13274890184402466, 0.3644469976425171, 0.6811900734901428, 0.3912113308906555, 0.8173941373825073, 0.46319422125816345, 0.7478907108306885, 0.5574867129325867, 0.6747780442237854, 0.6939355731010437, 0.8026589751243591, 0.7709752321243286, 0.0542081817984581, 0.5843340158462524, 0.7081930041313171, 0.281697154045105, 0.4521787464618683, 0.6486956477165222, 0.6774312853813171, 0.7479372620582581, 0.590408980846405, 0.7303828597068787, 0.707719624042511, 0.7681285738945007, 0.7851131558418274, 0.6927761435508728, 0.559002697467804, 0.7472692728042603, 0.5013459324836731, 0.5707195401191711, 0.640449047088623, 0.45480605959892273, 0.6069485545158386, 0.6253282427787781, 0.3268910348415375, 0.6928513646125793, 0.520741879940033, 0.46008652448654175, 0.44504132866859436, 0.6453227400779724, 0.5136173963546753, 0.5823361873626709, 0.22338807582855225, 0.4951723515987396, 0.6387814879417419, 0.74142986536026, 0.3519379198551178, -0.0158555805683136, 0.6514868140220642, 0.481669157743454, 0.6142293810844421, 0.5610156655311584, 0.6858231425285339, 0.6012491583824158, 0.6422567963600159, 0.6680014133453369, 0.6973469853401184, 0.6761553883552551, 0.5734917521476746, 0.36005744338035583, 0.4323013722896576, 0.12245197594165802, 0.44143643975257874, 0.2812266945838928, 0.6737049221992493, 0.6438009142875671, 0.6942785382270813, 0.20814183354377747, 0.6292029023170471, 0.7186097502708435, 0.5985255241394043, 0.6113052368164062, 0.6832014918327332, 0.7704299092292786, 0.7641347050666809, -0.04048393666744232, 0.34625959396362305, 0.7272214293479919, 0.5954266786575317, 0.5595218539237976, 0.45191702246665955, 0.6069751381874084, 0.6389297842979431, 0.692676842212677, 0.3643689453601837, 0.4852848947048187, 0.5332551598548889, 0.551397442817688, 0.6924747228622437, 0.7526825070381165, 0.41726580262184143, 0.30731287598609924, 0.4316650927066803, 0.14230772852897644, 0.6753649711608887, 0.5259200930595398, 0.6707682609558105, 0.683555543422699, 0.72776859998703, 0.7343294024467468, 0.5015097260475159, 0.09034757316112518, 0.15357708930969238, 0.2613787353038788, 0.45959874987602234, 0.15680855512619019, 0.48631054162979126, 0.1344875991344452, 0.5331798791885376, 0.5705997347831726, 0.4619758427143097, 0.6345741152763367, 0.2026817798614502, 0.5270301103591919, 0.6377420425415039, 0.5268466472625732, 0.6307389140129089, 0.5363640785217285, 0.23301774263381958, 0.6057384610176086, 0.7097395062446594, 0.7188056707382202, 0.7547250390052795, 0.5814530253410339, 0.48217248916625977, 0.6226183772087097, 0.5168206095695496, 0.4767541289329529, 0.6406307220458984, 0.6150417327880859, 0.6795188784599304, 0.4896305501461029, 0.7039006352424622, 0.7444247603416443, 0.7534838318824768, 0.6196758151054382, 0.7360623478889465, 0.032934874296188354, 0.681151807308197, 0.5595456957817078, 0.36056503653526306, 0.6612767577171326, 0.7308776378631592, 0.6766138672828674, 0.5538155436515808, 0.23869922757148743, 0.7040258049964905, 0.6008310914039612, 0.365048348903656, 0.7155742049217224, 0.6331746578216553, 0.7366587519645691, 0.19406646490097046, 0.5424770712852478, 0.6095287799835205, 0.561737596988678, 0.6619502902030945, 0.6311468482017517, 0.6249260306358337, 0.5096337795257568, 0.7214577198028564, 0.37121355533599854, 0.6391252875328064, 0.5129031538963318, 0.5587342381477356, 0.7063869833946228, 0.6918643116950989, 0.7404559850692749, 0.62678062915802, 0.7190941572189331, 0.6473343968391418, 0.6312068700790405, 0.6804235577583313, 0.4790571928024292, 0.7527488470077515, 0.3670474886894226, 0.62393718957901, -0.07682128995656967, 0.48227789998054504, 0.3612389862537384, 0.7570775747299194, 0.6169248223304749, 0.5913361310958862, 0.5881651639938354, 0.7739653587341309, 0.5763545632362366, 0.640613853931427, 0.3732966482639313, 0.5836540460586548, 0.684962809085846, 0.7722086310386658, 0.6956540942192078, 0.7178705930709839, 0.6644392609596252, 0.6761505603790283, 0.4917958378791809, 0.3610445559024811, 0.22251543402671814, 0.5540371537208557, 0.4392988681793213, 0.5139212608337402, 0.6394856572151184, 0.6877355575561523, 0.6874060034751892, 0.6258611679077148, 0.769901692867279, 0.7232784032821655, 0.720151424407959, 0.646773636341095, -0.6086044311523438, 0.1714876890182495, 0.3554660379886627, 0.48880529403686523, 0.6187087893486023, 0.61019366979599, 0.6987718939781189, 0.6462798714637756, 0.7522558569908142, 0.6637956500053406, 0.6236843466758728, 0.6482056975364685, 0.7868474125862122, 0.6790355443954468, 0.6349619030952454, 0.36546504497528076, 0.640667736530304, 0.38653185963630676, 0.6224958896636963, 0.66884446144104, 0.5926483869552612, 0.6861816644668579, 0.5592878460884094, 0.3753717243671417, 0.67471843957901, 0.776229202747345, 0.7846187949180603, 0.2892259657382965, 0.6938923001289368, 0.6253549456596375, 0.48643478751182556, 0.5354663133621216, 0.6300727725028992, 0.6240468621253967, 0.4179692268371582, 0.4659750163555145, 0.5296757221221924, 0.5043086409568787, 0.5408618450164795, 0.6040107607841492, 0.4645461142063141, 0.3241838216781616, 0.541404128074646, 0.2580924928188324, 0.3717614710330963, 0.24043059349060059, 0.46620580554008484, 0.6814481616020203, 0.6377093195915222, 0.5901891589164734, 0.24515464901924133, 0.5969411730766296, 0.4811479151248932, 0.5456362366676331, 0.5974937677383423, 0.482695996761322, 0.6710091233253479, 0.6469387412071228, 0.3098105788230896, 0.2551940381526947, 0.6049151420593262, 0.421832799911499, 0.5930822491645813, 0.5799933075904846, 0.6419838070869446, 0.5683399438858032, 0.6066774129867554, 0.4857860505580902, 0.5162834525108337, 0.2653782367706299, 0.48683539032936096, 0.541577935218811, 0.223358154296875, 0.7093775868415833, 0.6361579298973083, 0.6225576996803284, 0.33726415038108826, 0.61541748046875, 0.6736941337585449, 0.5922656059265137, 0.6378455758094788, 0.6399494409561157, 0.6983911395072937, 0.6422056555747986, 0.6302095055580139, 0.7080438137054443, 0.6920568346977234, 0.7687592506408691, 0.3940199911594391, 0.4767342805862427, 0.3096593916416168, 0.5881470441818237, 0.5643137097358704, 0.5491740703582764, 0.7227027416229248, 0.5717149376869202, 0.6701693534851074, 0.6288604140281677, 0.39167699217796326, 0.5325019359588623, 0.6422684788703918, 0.5443065762519836, 0.7811682820320129, 0.7124176621437073, 0.7092923521995544, 0.6837326288223267, 0.729695200920105, 0.29826873540878296, 0.2527387738227844, 0.7214103937149048, 0.5105929374694824, 0.7067748308181763, 0.49869605898857117, 0.46375176310539246, 0.16921180486679077, 0.29468438029289246, 0.36876946687698364, -0.014385949820280075, 0.7221142649650574, 0.7219049334526062, 0.6958191990852356, 0.4810076355934143, 0.6239409446716309, 0.6564792990684509, 0.6758795976638794, 0.5951286554336548, 0.35140034556388855, 0.7233307957649231, 0.6221922039985657, 0.6534125208854675, 0.25428643822669983, 0.580534815788269, 0.6125784516334534, 0.7747555375099182, 0.6835957765579224, 0.13988825678825378, 0.2099514901638031, 0.638207733631134, 0.43569090962409973, 0.7488571405410767, 0.594454288482666, 0.44486531615257263, 0.5756903290748596, 0.4056515097618103, 0.40763208270072937, 0.23400577902793884, 0.743374228477478, 0.5499308109283447, 0.2736048996448517, 0.5787500143051147, 0.3851567208766937, 0.5656874775886536, 0.5915775895118713, 0.5519203543663025, 0.718147337436676, 0.718263566493988, 0.6421543955802917, 0.5585108399391174, 0.7188088297843933, 0.6666036248207092, 0.7671269774436951, 0.7063813209533691, 0.707806408405304, 0.6415610909461975, 0.6548985242843628, 0.7662004828453064, 0.6868903040885925, 0.8095254302024841, 0.6781706213951111, 0.5925471782684326, 0.6342615485191345, 0.7516648173332214, 0.7565262913703918, 0.7623874545097351, 0.7317225337028503, 0.4487641155719757, 0.6601987481117249, 0.6740217804908752, 0.7079622149467468, 0.6880986094474792, 0.726986825466156, 0.6143375635147095, 0.17442041635513306, 0.5994791388511658, 0.587054431438446, 0.1564044952392578, 0.19442763924598694, 0.4673921763896942, 0.4587238132953644, 0.5724937319755554, 0.6941810250282288, 0.3828986585140228, 0.38303491473197937, 0.5648677945137024, 0.6565906405448914, 0.6219454407691956, 0.45594915747642517, 0.1701306402683258, 0.558277428150177, 0.4528719484806061, 0.6251728534698486, 0.4874001145362854, 0.6014044880867004, 0.6180587410926819, 0.53715580701828, 0.7326796650886536, 0.34527388215065, 0.7265639901161194, 0.6541650295257568, 0.7236749529838562, 0.7043017148971558, 0.6970066428184509, 0.5033102035522461, 0.626263439655304, 0.7295016646385193, 0.6676943302154541, 0.6928759813308716, 0.6026613116264343, 0.33345815539360046, 0.7173271775245667, 0.37523600459098816, 0.38832175731658936, 0.47980085015296936, 0.5838601589202881, 0.5045695900917053, 0.685392439365387, 0.23412176966667175, 0.5768449306488037, 0.6664772629737854, 0.7053208947181702, 0.5665595531463623, -0.014188479632139206, 0.6628383994102478, 0.7762365341186523, 0.7152041792869568, 0.7313377857208252, 0.6528169512748718, 0.6008915305137634, 0.550989031791687, 0.5983906388282776, 0.7035409212112427, 0.6726875901222229, 0.7448928952217102, 0.25183069705963135, 0.6204914450645447, 0.7561843395233154, 0.7365398406982422, 0.6920462250709534, 0.2994786500930786, 0.6388027667999268, 0.6743543744087219, 0.6729540228843689, 0.7131815552711487, 0.5566518306732178, 0.6968615651130676, 0.7493972182273865, 0.6637855768203735, 0.6364933848381042, 0.719622790813446, 0.22838890552520752, 0.4244579076766968, 0.22926315665245056, 0.6226406097412109, 0.6718201041221619, 0.6399096846580505, 0.6546404361724854, 0.706305205821991, 0.6461290121078491, 0.6973706483840942, 0.2518934905529022, 0.6909410357475281, 0.7570986747741699, 0.39300262928009033, 0.6708247065544128, 0.7073155045509338, 0.7190943956375122, 0.6866098046302795, 0.4591653645038605, 0.6524643301963806, 0.686066210269928, 0.7409215569496155, 0.6113948225975037, 0.6351913213729858, 0.7003747820854187, 0.6900190711021423, 0.6488407254219055, 0.6779339909553528, 0.5984876155853271, 0.6594650149345398, 0.5867484211921692, 0.5180006623268127, 0.6154981851577759, 0.6219280958175659, 0.7642187476158142, 0.2949153482913971, -0.007702477276325226, 0.37070542573928833, 0.6467265486717224, 0.46692150831222534, 0.37485936284065247, 0.21747314929962158, 0.7630241513252258, 0.8243600726127625, 0.7030644416809082, 0.756916880607605, 0.6577232480049133, 0.365146279335022, 0.7045131325721741, 0.5555475950241089, 0.532084584236145, 0.373810350894928, 0.5887648463249207, 0.7038662433624268, 0.6799018979072571, 0.1485493779182434, 0.518750786781311, 0.6974644660949707, 0.4844287931919098, 0.5445759296417236, 0.486270010471344, 0.6876558065414429, 0.5725379586219788, 0.32166174054145813, 0.647270917892456, 0.37145349383354187, 0.643660306930542, 0.3634399473667145, 0.3675835132598877, 0.6806457042694092, 0.6389606595039368, 0.5926219820976257, 0.5977718830108643, 0.5857698917388916, 0.6267729997634888, 0.38816118240356445, 0.6129569411277771, 0.5844538807868958, 0.3079063892364502, 0.36134061217308044, 0.5208892822265625, 0.04458973556756973, 0.7133607864379883, 0.6606370806694031, 0.6271697878837585, 0.3663433790206909, 0.53437340259552, 0.6948915123939514, 0.5579827427864075, 0.5785978436470032, 0.7654069066047668, 0.17142701148986816, 0.09739919006824493, 0.013443754985928535, 0.5032098889350891, 0.6639788746833801, 0.3102310299873352, 0.6464168429374695, 0.3883998692035675, 0.49412134289741516, 0.5526694655418396, 0.678316593170166, 0.5251232981681824, 0.292622834444046, 0.6342375874519348, 0.674849271774292, 0.27179503440856934, 0.4900597631931305, 0.6699817776679993, 0.44207701086997986, 0.7049283981323242, 0.018990106880664825, 0.3732272684574127, 0.6270620226860046, 0.5501481294631958, 0.643166720867157, 0.6089732050895691, 0.589015007019043, 0.47460564970970154, 0.34087905287742615, 0.4012657105922699, 0.6720272302627563, 0.29613178968429565, -0.47441402077674866, 0.65501868724823, 0.6699921488761902, 0.5966629385948181, 0.6606994271278381, 0.5843936204910278, 0.295297235250473, 0.39269396662712097, 0.5557207465171814, 0.6273733973503113, 0.6930750012397766, 0.6455444693565369, 0.6864241361618042, 0.5643590688705444, 0.6441600918769836, 0.5049208998680115, 0.5730383396148682, 0.6839019060134888, 0.4045851528644562, 0.5883026719093323, 0.6179325580596924, 0.5106480717658997, 0.588092565536499, 0.6257495284080505, 0.5811559557914734, 0.6877044439315796, 0.37670084834098816, 0.4665888249874115, 0.6438283324241638, 0.6854662299156189, 0.6711797118186951, 0.4887443482875824, 0.6974759697914124, 0.6633231043815613, 0.4869992136955261, 0.5626233220100403, 0.6305845975875854, 0.6734824776649475, 0.4656902849674225, 0.2679062783718109, 0.39664316177368164, 0.574363648891449, 0.5669203400611877, 0.6090030670166016, 0.5072335004806519, 0.6838344931602478, 0.6865247488021851, 0.6126330494880676, 0.6860105395317078, 0.6466805934906006, 0.6515946388244629, 0.607125461101532, 0.2840784192085266, 0.5568588972091675, 0.48382994532585144, 0.7201561331748962, 0.37319305539131165, 0.7429039478302002, 0.6275184154510498, 0.7371069192886353, 0.5714430809020996, 0.7286245226860046, 0.5044741034507751, 0.6402149796485901, 0.5871031880378723, 0.6441970467567444, 0.6412923336029053, 0.6765602231025696, 0.4875490367412567, 0.2272031605243683, 0.3997456133365631, 0.688109278678894, 0.6579612493515015, 0.6818037629127502, 0.6344481110572815, 0.6553454995155334, 0.501400887966156, 0.7221927046775818, 0.5451498627662659, 0.6628161072731018, 0.5538702607154846, 0.6049931049346924, 0.6234331727027893, 0.6285543441772461, 0.5878907442092896, 0.4090355336666107, 0.5704236626625061, 0.6264797449111938, 0.7546805143356323, 0.7643666863441467, 0.6810421943664551, 0.6942754983901978, 0.7915332317352295, 0.43504059314727783, 0.6111555695533752, 0.6013500690460205, 0.38757720589637756, 0.46675702929496765, 0.6250452399253845, 0.5829381346702576, 0.8049519658088684, 0.5720189213752747, 0.5445018410682678, 0.6459162831306458, 0.502443253993988, 0.5474534630775452, 0.6652339696884155, 0.7048057913780212, 0.7593379616737366, 0.559729278087616, 0.45156577229499817, 0.6506719589233398, 0.3768947720527649, 0.6527834534645081, 0.5558897852897644, 0.6496049165725708, 0.49343621730804443, 0.7371512055397034, 0.5261725783348083, 0.7284507155418396, 0.4197094142436981, 0.7536235451698303, 0.6690526604652405, 0.5928673148155212, 0.5937777757644653, 0.4886343479156494, 0.7347766757011414, 0.7016262412071228, 0.5759845972061157, 0.696131706237793, 0.6096964478492737, 0.7619821429252625, 0.6032454967498779, 0.4769638180732727, 0.43318885564804077, 0.674107015132904, 0.6978304386138916, 0.7025381922721863, 0.44875091314315796, 0.555846631526947, 0.20843273401260376, 0.6970087885856628, 0.36367014050483704, 0.7266920208930969, 0.7227532267570496, 0.5888139605522156, 0.5766727328300476, 0.6651600003242493, 0.7736106514930725, 0.6438965201377869, 0.6611637473106384, 0.19713124632835388, 0.6205279231071472, 0.31554436683654785, 0.4255494177341461, 0.6978632211685181, 0.5958514213562012, 0.7158145904541016, 0.5327876806259155, 0.6219274997711182, 0.4753435552120209, 0.5630831122398376, 0.528678834438324])]))])\n"
          ]
        }
      ]
    },
    {
      "cell_type": "code",
      "source": [
        "sys_score = model_output[\"system_score\"]"
      ],
      "metadata": {
        "id": "eNgJ3Oc7ZieH"
      },
      "execution_count": null,
      "outputs": []
    },
    {
      "cell_type": "code",
      "source": [
        "print(\"COMET:\", round(sys_score*100, 2))"
      ],
      "metadata": {
        "colab": {
          "base_uri": "https://localhost:8080/"
        },
        "id": "NmH1fV2WbKFs",
        "outputId": "e9ce607a-5431-4a13-8747-be900325d432"
      },
      "execution_count": null,
      "outputs": [
        {
          "output_type": "stream",
          "name": "stdout",
          "text": [
            "COMET: 55.64\n"
          ]
        }
      ]
    },
    {
      "cell_type": "code",
      "source": [
        "sys_score"
      ],
      "metadata": {
        "colab": {
          "base_uri": "https://localhost:8080/"
        },
        "id": "zceEjmLYk-81",
        "outputId": "9038187f-3899-4747-e58d-493f946b135e"
      },
      "execution_count": null,
      "outputs": [
        {
          "output_type": "execute_result",
          "data": {
            "text/plain": [
              "0.5563834967365923"
            ]
          },
          "metadata": {},
          "execution_count": 53
        }
      ]
    },
    {
      "cell_type": "code",
      "source": [
        "0.5829142446651789 >0.5828630467324625"
      ],
      "metadata": {
        "colab": {
          "base_uri": "https://localhost:8080/"
        },
        "id": "7XsMYp58nAPu",
        "outputId": "441e894b-ccc2-40f2-82dc-4d1e1691a987"
      },
      "execution_count": null,
      "outputs": [
        {
          "output_type": "execute_result",
          "data": {
            "text/plain": [
              "True"
            ]
          },
          "metadata": {},
          "execution_count": 21
        }
      ]
    },
    {
      "cell_type": "code",
      "source": [],
      "metadata": {
        "id": "1Nm2XgNHpR7f"
      },
      "execution_count": null,
      "outputs": []
    }
  ]
}