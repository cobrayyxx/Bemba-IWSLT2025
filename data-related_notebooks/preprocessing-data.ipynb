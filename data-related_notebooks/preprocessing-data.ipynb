{
 "cells": [
  {
   "cell_type": "code",
   "execution_count": 1,
   "id": "a331bff4-bae6-4a05-825e-bedcd30e8758",
   "metadata": {},
   "outputs": [],
   "source": [
    "import librosa\n",
    "import soundfile as sf\n",
    "from datasets import Dataset, Audio, DatasetDict\n",
    "from tqdm import tqdm\n",
    "import pandas as pd\n",
    "import yaml\n",
    "import os"
   ]
  },
  {
   "cell_type": "code",
   "execution_count": 2,
   "id": "25edbcd3-c851-455c-ada2-64f0d9125fe8",
   "metadata": {},
   "outputs": [
    {
     "name": "stdout",
     "output_type": "stream",
     "text": [
      "/home/cobrayyxx/coding-coding/kreasof/IWSLT-2025/low-resource/bem-eng/bigc/data/bem\n"
     ]
    }
   ],
   "source": [
    "!pwd"
   ]
  },
  {
   "cell_type": "code",
   "execution_count": 195,
   "id": "54342bfc-0461-403e-950c-b11088fae6b8",
   "metadata": {},
   "outputs": [],
   "source": [
    "df_train = pd.read_csv(\"splits/train.tsv\",sep='\\t')"
   ]
  },
  {
   "cell_type": "code",
   "execution_count": 196,
   "id": "e046031a-df68-42b6-b22b-cfa1af1f7e57",
   "metadata": {},
   "outputs": [
    {
     "data": {
      "text/html": [
       "<div>\n",
       "<style scoped>\n",
       "    .dataframe tbody tr th:only-of-type {\n",
       "        vertical-align: middle;\n",
       "    }\n",
       "\n",
       "    .dataframe tbody tr th {\n",
       "        vertical-align: top;\n",
       "    }\n",
       "\n",
       "    .dataframe thead th {\n",
       "        text-align: right;\n",
       "    }\n",
       "</style>\n",
       "<table border=\"1\" class=\"dataframe\">\n",
       "  <thead>\n",
       "    <tr style=\"text-align: right;\">\n",
       "      <th></th>\n",
       "      <th>pair_id</th>\n",
       "      <th>image</th>\n",
       "      <th>sentence_id</th>\n",
       "      <th>image_id</th>\n",
       "      <th>audio_id</th>\n",
       "      <th>sentence</th>\n",
       "      <th>translation</th>\n",
       "      <th>speaker_id</th>\n",
       "      <th>gender</th>\n",
       "      <th>duration</th>\n",
       "      <th>sample_rate</th>\n",
       "      <th>audio_format</th>\n",
       "      <th>recording_lang</th>\n",
       "      <th>native_lang</th>\n",
       "    </tr>\n",
       "  </thead>\n",
       "  <tbody>\n",
       "    <tr>\n",
       "      <th>0</th>\n",
       "      <td>26.0</td>\n",
       "      <td>2688190</td>\n",
       "      <td>1</td>\n",
       "      <td>1000092795.jpg</td>\n",
       "      <td>26_8819_0_261_01_211112-010515_bem_8f1_elicit_...</td>\n",
       "      <td>Abalumendo babili nabeminina bale ikata amabul...</td>\n",
       "      <td>these men are standing caching tree leaves</td>\n",
       "      <td>261</td>\n",
       "      <td>male</td>\n",
       "      <td>5.739</td>\n",
       "      <td>16000</td>\n",
       "      <td>vnd.wave</td>\n",
       "      <td>bem</td>\n",
       "      <td>bem</td>\n",
       "    </tr>\n",
       "    <tr>\n",
       "      <th>1</th>\n",
       "      <td>38.0</td>\n",
       "      <td>38118474</td>\n",
       "      <td>1</td>\n",
       "      <td>1000523639.jpg</td>\n",
       "      <td>38_11847_4_381_01_211114-161237_bem_ba5_elicit...</td>\n",
       "      <td>Cifwile uyu ou bali nankwe eulemulanga ifyakuc...</td>\n",
       "      <td>It must be that the person they are with is sh...</td>\n",
       "      <td>381</td>\n",
       "      <td>male</td>\n",
       "      <td>4.265</td>\n",
       "      <td>16000</td>\n",
       "      <td>vnd.wave</td>\n",
       "      <td>bem</td>\n",
       "      <td>bem</td>\n",
       "    </tr>\n",
       "    <tr>\n",
       "      <th>2</th>\n",
       "      <td>24.0</td>\n",
       "      <td>2426450</td>\n",
       "      <td>1</td>\n",
       "      <td>1000919630.jpg</td>\n",
       "      <td>24_2645_0_241_01_211110-143805_bem_150_elicit_...</td>\n",
       "      <td>Umulumendo ekele pacipuna elo kumaboko ekete i...</td>\n",
       "      <td>A young man sitted on the chair has a red doll...</td>\n",
       "      <td>241</td>\n",
       "      <td>female</td>\n",
       "      <td>6.624</td>\n",
       "      <td>16000</td>\n",
       "      <td>vnd.wave</td>\n",
       "      <td>bem</td>\n",
       "      <td>bem</td>\n",
       "    </tr>\n",
       "    <tr>\n",
       "      <th>3</th>\n",
       "      <td>8.0</td>\n",
       "      <td>855581</td>\n",
       "      <td>2</td>\n",
       "      <td>1001773457.jpg</td>\n",
       "      <td>8_5558_1_82_02_211105-023723_bem_901_elicit_0.wav</td>\n",
       "      <td>Shili mu musebo</td>\n",
       "      <td>They are on the road.</td>\n",
       "      <td>82</td>\n",
       "      <td>female</td>\n",
       "      <td>3.993</td>\n",
       "      <td>16000</td>\n",
       "      <td>vnd.wave</td>\n",
       "      <td>bem</td>\n",
       "      <td>bem</td>\n",
       "    </tr>\n",
       "    <tr>\n",
       "      <th>4</th>\n",
       "      <td>35.0</td>\n",
       "      <td>35111590</td>\n",
       "      <td>1</td>\n",
       "      <td>1001896054.jpg</td>\n",
       "      <td>35_11159_0_351_01_220118-193228_bem_ba5_elicit...</td>\n",
       "      <td>Umwaume uwabuuta inkanda aletekenya icimbaya m...</td>\n",
       "      <td>One white man is driving a tractor</td>\n",
       "      <td>351</td>\n",
       "      <td>male</td>\n",
       "      <td>5.581</td>\n",
       "      <td>16000</td>\n",
       "      <td>vnd.wave</td>\n",
       "      <td>bem</td>\n",
       "      <td>bem</td>\n",
       "    </tr>\n",
       "  </tbody>\n",
       "</table>\n",
       "</div>"
      ],
      "text/plain": [
       "   pair_id     image  sentence_id        image_id  \\\n",
       "0     26.0   2688190            1  1000092795.jpg   \n",
       "1     38.0  38118474            1  1000523639.jpg   \n",
       "2     24.0   2426450            1  1000919630.jpg   \n",
       "3      8.0    855581            2  1001773457.jpg   \n",
       "4     35.0  35111590            1  1001896054.jpg   \n",
       "\n",
       "                                            audio_id  \\\n",
       "0  26_8819_0_261_01_211112-010515_bem_8f1_elicit_...   \n",
       "1  38_11847_4_381_01_211114-161237_bem_ba5_elicit...   \n",
       "2  24_2645_0_241_01_211110-143805_bem_150_elicit_...   \n",
       "3  8_5558_1_82_02_211105-023723_bem_901_elicit_0.wav   \n",
       "4  35_11159_0_351_01_220118-193228_bem_ba5_elicit...   \n",
       "\n",
       "                                            sentence  \\\n",
       "0  Abalumendo babili nabeminina bale ikata amabul...   \n",
       "1  Cifwile uyu ou bali nankwe eulemulanga ifyakuc...   \n",
       "2  Umulumendo ekele pacipuna elo kumaboko ekete i...   \n",
       "3                                    Shili mu musebo   \n",
       "4  Umwaume uwabuuta inkanda aletekenya icimbaya m...   \n",
       "\n",
       "                                         translation  speaker_id  gender  \\\n",
       "0         these men are standing caching tree leaves         261    male   \n",
       "1  It must be that the person they are with is sh...         381    male   \n",
       "2  A young man sitted on the chair has a red doll...         241  female   \n",
       "3                              They are on the road.          82  female   \n",
       "4                 One white man is driving a tractor         351    male   \n",
       "\n",
       "   duration  sample_rate audio_format recording_lang native_lang  \n",
       "0     5.739        16000     vnd.wave            bem         bem  \n",
       "1     4.265        16000     vnd.wave            bem         bem  \n",
       "2     6.624        16000     vnd.wave            bem         bem  \n",
       "3     3.993        16000     vnd.wave            bem         bem  \n",
       "4     5.581        16000     vnd.wave            bem         bem  "
      ]
     },
     "execution_count": 196,
     "metadata": {},
     "output_type": "execute_result"
    }
   ],
   "source": [
    "df_train.head()"
   ]
  },
  {
   "cell_type": "code",
   "execution_count": 197,
   "id": "8f523504-bcc4-433b-92c1-024840329d5c",
   "metadata": {},
   "outputs": [],
   "source": [
    "df_val = pd.read_csv(\"splits/valid.tsv\",sep='\\t')"
   ]
  },
  {
   "cell_type": "code",
   "execution_count": 198,
   "id": "b30b10f1-ed7d-44cf-88cb-58d2f6a59410",
   "metadata": {},
   "outputs": [
    {
     "data": {
      "text/html": [
       "<div>\n",
       "<style scoped>\n",
       "    .dataframe tbody tr th:only-of-type {\n",
       "        vertical-align: middle;\n",
       "    }\n",
       "\n",
       "    .dataframe tbody tr th {\n",
       "        vertical-align: top;\n",
       "    }\n",
       "\n",
       "    .dataframe thead th {\n",
       "        text-align: right;\n",
       "    }\n",
       "</style>\n",
       "<table border=\"1\" class=\"dataframe\">\n",
       "  <thead>\n",
       "    <tr style=\"text-align: right;\">\n",
       "      <th></th>\n",
       "      <th>pair_id</th>\n",
       "      <th>image</th>\n",
       "      <th>sentence_id</th>\n",
       "      <th>image_id</th>\n",
       "      <th>audio_id</th>\n",
       "      <th>sentence</th>\n",
       "      <th>translation</th>\n",
       "      <th>speaker_id</th>\n",
       "      <th>gender</th>\n",
       "      <th>duration</th>\n",
       "      <th>sample_rate</th>\n",
       "      <th>audio_format</th>\n",
       "      <th>recording_lang</th>\n",
       "      <th>native_lang</th>\n",
       "    </tr>\n",
       "  </thead>\n",
       "  <tbody>\n",
       "    <tr>\n",
       "      <th>0</th>\n",
       "      <td>36.0</td>\n",
       "      <td>3654663</td>\n",
       "      <td>2</td>\n",
       "      <td>1018148011.jpg</td>\n",
       "      <td>36_5466_3_362_02_211113-115353_bem_dbf_elicit_...</td>\n",
       "      <td>cacine wasosa mune nalimo kutali yaleya mune</td>\n",
       "      <td>yes it's true, it seems it's going very far</td>\n",
       "      <td>362</td>\n",
       "      <td>female</td>\n",
       "      <td>6.329</td>\n",
       "      <td>16000</td>\n",
       "      <td>vnd.wave</td>\n",
       "      <td>bem</td>\n",
       "      <td>bem</td>\n",
       "    </tr>\n",
       "    <tr>\n",
       "      <th>1</th>\n",
       "      <td>17.0</td>\n",
       "      <td>1777934</td>\n",
       "      <td>1</td>\n",
       "      <td>103205630.jpg</td>\n",
       "      <td>17_7793_4_171_01_211109-061925_bem_947_elicit_...</td>\n",
       "      <td>Ku cende bali takwaba ififntu fimbi kwabafye i...</td>\n",
       "      <td>There where at a place where there was nothing...</td>\n",
       "      <td>171</td>\n",
       "      <td>male</td>\n",
       "      <td>7.010</td>\n",
       "      <td>16000</td>\n",
       "      <td>vnd.wave</td>\n",
       "      <td>bem</td>\n",
       "      <td>toi</td>\n",
       "    </tr>\n",
       "    <tr>\n",
       "      <th>2</th>\n",
       "      <td>14.0</td>\n",
       "      <td>1472070</td>\n",
       "      <td>1</td>\n",
       "      <td>1056873310.jpg</td>\n",
       "      <td>14_7207_0_141_01_211112-120659_bem_f08_elicit_...</td>\n",
       "      <td>Imbwa shibili iya buta neyafita shilelwa nokwa...</td>\n",
       "      <td>Two dogs, a white one and a black one are play...</td>\n",
       "      <td>141</td>\n",
       "      <td>female</td>\n",
       "      <td>9.052</td>\n",
       "      <td>16000</td>\n",
       "      <td>vnd.wave</td>\n",
       "      <td>bem</td>\n",
       "      <td>bem</td>\n",
       "    </tr>\n",
       "    <tr>\n",
       "      <th>3</th>\n",
       "      <td>32.0</td>\n",
       "      <td>32102771</td>\n",
       "      <td>2</td>\n",
       "      <td>1092437557.jpg</td>\n",
       "      <td>32_10277_1_322_02_220121-044029_bem_b40_elicit...</td>\n",
       "      <td>Bushe uyu umukashana uwakwata inkanda iya buut...</td>\n",
       "      <td>How is this white girl looking?</td>\n",
       "      <td>322</td>\n",
       "      <td>female</td>\n",
       "      <td>7.600</td>\n",
       "      <td>16000</td>\n",
       "      <td>vnd.wave</td>\n",
       "      <td>bem</td>\n",
       "      <td>bem</td>\n",
       "    </tr>\n",
       "    <tr>\n",
       "      <th>4</th>\n",
       "      <td>12.0</td>\n",
       "      <td>1229440</td>\n",
       "      <td>1</td>\n",
       "      <td>109671650.jpg</td>\n",
       "      <td>12_2944_0_121_01_211031-190209_bem_bd6_elicit_...</td>\n",
       "      <td>umulumendo naiminina pelibwe</td>\n",
       "      <td>a young man is standing on the  rock</td>\n",
       "      <td>121</td>\n",
       "      <td>male</td>\n",
       "      <td>6.148</td>\n",
       "      <td>16000</td>\n",
       "      <td>vnd.wave</td>\n",
       "      <td>bem</td>\n",
       "      <td>lam</td>\n",
       "    </tr>\n",
       "  </tbody>\n",
       "</table>\n",
       "</div>"
      ],
      "text/plain": [
       "   pair_id     image  sentence_id        image_id  \\\n",
       "0     36.0   3654663            2  1018148011.jpg   \n",
       "1     17.0   1777934            1   103205630.jpg   \n",
       "2     14.0   1472070            1  1056873310.jpg   \n",
       "3     32.0  32102771            2  1092437557.jpg   \n",
       "4     12.0   1229440            1   109671650.jpg   \n",
       "\n",
       "                                            audio_id  \\\n",
       "0  36_5466_3_362_02_211113-115353_bem_dbf_elicit_...   \n",
       "1  17_7793_4_171_01_211109-061925_bem_947_elicit_...   \n",
       "2  14_7207_0_141_01_211112-120659_bem_f08_elicit_...   \n",
       "3  32_10277_1_322_02_220121-044029_bem_b40_elicit...   \n",
       "4  12_2944_0_121_01_211031-190209_bem_bd6_elicit_...   \n",
       "\n",
       "                                            sentence  \\\n",
       "0       cacine wasosa mune nalimo kutali yaleya mune   \n",
       "1  Ku cende bali takwaba ififntu fimbi kwabafye i...   \n",
       "2  Imbwa shibili iya buta neyafita shilelwa nokwa...   \n",
       "3  Bushe uyu umukashana uwakwata inkanda iya buut...   \n",
       "4                       umulumendo naiminina pelibwe   \n",
       "\n",
       "                                         translation  speaker_id  gender  \\\n",
       "0        yes it's true, it seems it's going very far         362  female   \n",
       "1  There where at a place where there was nothing...         171    male   \n",
       "2  Two dogs, a white one and a black one are play...         141  female   \n",
       "3                    How is this white girl looking?         322  female   \n",
       "4               a young man is standing on the  rock         121    male   \n",
       "\n",
       "   duration  sample_rate audio_format recording_lang native_lang  \n",
       "0     6.329        16000     vnd.wave            bem         bem  \n",
       "1     7.010        16000     vnd.wave            bem         toi  \n",
       "2     9.052        16000     vnd.wave            bem         bem  \n",
       "3     7.600        16000     vnd.wave            bem         bem  \n",
       "4     6.148        16000     vnd.wave            bem         lam  "
      ]
     },
     "execution_count": 198,
     "metadata": {},
     "output_type": "execute_result"
    }
   ],
   "source": [
    "df_val.head()"
   ]
  },
  {
   "cell_type": "code",
   "execution_count": 199,
   "id": "f1f4fa6a-2373-4552-9bf4-7504e589df17",
   "metadata": {},
   "outputs": [],
   "source": [
    "df_test = pd.read_csv(\"splits/test.tsv\",sep='\\t')"
   ]
  },
  {
   "cell_type": "code",
   "execution_count": 200,
   "id": "71e6a27b-37a2-4d2e-9ee7-50cd32d8dccf",
   "metadata": {},
   "outputs": [
    {
     "data": {
      "text/html": [
       "<div>\n",
       "<style scoped>\n",
       "    .dataframe tbody tr th:only-of-type {\n",
       "        vertical-align: middle;\n",
       "    }\n",
       "\n",
       "    .dataframe tbody tr th {\n",
       "        vertical-align: top;\n",
       "    }\n",
       "\n",
       "    .dataframe thead th {\n",
       "        text-align: right;\n",
       "    }\n",
       "</style>\n",
       "<table border=\"1\" class=\"dataframe\">\n",
       "  <thead>\n",
       "    <tr style=\"text-align: right;\">\n",
       "      <th></th>\n",
       "      <th>pair_id</th>\n",
       "      <th>image</th>\n",
       "      <th>sentence_id</th>\n",
       "      <th>image_id</th>\n",
       "      <th>audio_id</th>\n",
       "      <th>sentence</th>\n",
       "      <th>translation</th>\n",
       "      <th>speaker_id</th>\n",
       "      <th>gender</th>\n",
       "      <th>duration</th>\n",
       "      <th>sample_rate</th>\n",
       "      <th>audio_format</th>\n",
       "      <th>recording_lang</th>\n",
       "      <th>native_lang</th>\n",
       "    </tr>\n",
       "  </thead>\n",
       "  <tbody>\n",
       "    <tr>\n",
       "      <th>0</th>\n",
       "      <td>15.0</td>\n",
       "      <td>1574743</td>\n",
       "      <td>2</td>\n",
       "      <td>1007129816.jpg</td>\n",
       "      <td>15_7474_3_152_02_211030-180248_bem_8cc_elicit_...</td>\n",
       "      <td>nafwala na amakalashi ku menso</td>\n",
       "      <td>he is wearing glasses as well</td>\n",
       "      <td>152</td>\n",
       "      <td>female</td>\n",
       "      <td>4.061</td>\n",
       "      <td>16000</td>\n",
       "      <td>vnd.wave</td>\n",
       "      <td>bem</td>\n",
       "      <td>bem</td>\n",
       "    </tr>\n",
       "    <tr>\n",
       "      <th>1</th>\n",
       "      <td>10.0</td>\n",
       "      <td>1023450</td>\n",
       "      <td>1</td>\n",
       "      <td>1009434119.jpg</td>\n",
       "      <td>10_2345_0_101_01_211028-193045_bem_ddd_elicit_...</td>\n",
       "      <td>Imbwa iyafonka pamoona, ilebutuka palunkoto lw...</td>\n",
       "      <td>A dog with a wide nose is running on the lawns...</td>\n",
       "      <td>101</td>\n",
       "      <td>male</td>\n",
       "      <td>7.986</td>\n",
       "      <td>16000</td>\n",
       "      <td>vnd.wave</td>\n",
       "      <td>bem</td>\n",
       "      <td>bem</td>\n",
       "    </tr>\n",
       "    <tr>\n",
       "      <th>2</th>\n",
       "      <td>34.0</td>\n",
       "      <td>3450263</td>\n",
       "      <td>2</td>\n",
       "      <td>101362133.jpg</td>\n",
       "      <td>34_5026_3_342_02_211113-233703_bem_50c_elicit_...</td>\n",
       "      <td>Akamwanakashi nakemya ukuulu mumuulu ukulwisha...</td>\n",
       "      <td>She has her leg in the air attempting to break...</td>\n",
       "      <td>342</td>\n",
       "      <td>male</td>\n",
       "      <td>5.354</td>\n",
       "      <td>16000</td>\n",
       "      <td>vnd.wave</td>\n",
       "      <td>bem</td>\n",
       "      <td>lam</td>\n",
       "    </tr>\n",
       "    <tr>\n",
       "      <th>3</th>\n",
       "      <td>NaN</td>\n",
       "      <td>1492</td>\n",
       "      <td>1</td>\n",
       "      <td>102617084.jpg</td>\n",
       "      <td>149_2_01_210928-115147_bem_dcc_elicit_1.wav</td>\n",
       "      <td>Kunuma yabo kuli notu ma motoka tulya ba bonfy...</td>\n",
       "      <td>There are also small vehicles that they use in...</td>\n",
       "      <td>11</td>\n",
       "      <td>male</td>\n",
       "      <td>9.528</td>\n",
       "      <td>16000</td>\n",
       "      <td>vnd.wave</td>\n",
       "      <td>bem</td>\n",
       "      <td>bem</td>\n",
       "    </tr>\n",
       "    <tr>\n",
       "      <th>4</th>\n",
       "      <td>36.0</td>\n",
       "      <td>36114041</td>\n",
       "      <td>2</td>\n",
       "      <td>10287332.jpg</td>\n",
       "      <td>36_11404_1_362_02_220227-135700_bem_d0b_elicit...</td>\n",
       "      <td>abaume Bali pa mutenge yanganda umo afwele ish...</td>\n",
       "      <td>Of the men on the roof of the house, ine is we...</td>\n",
       "      <td>362</td>\n",
       "      <td>male</td>\n",
       "      <td>11.910</td>\n",
       "      <td>16000</td>\n",
       "      <td>vnd.wave</td>\n",
       "      <td>bem</td>\n",
       "      <td>bem</td>\n",
       "    </tr>\n",
       "  </tbody>\n",
       "</table>\n",
       "</div>"
      ],
      "text/plain": [
       "   pair_id     image  sentence_id        image_id  \\\n",
       "0     15.0   1574743            2  1007129816.jpg   \n",
       "1     10.0   1023450            1  1009434119.jpg   \n",
       "2     34.0   3450263            2   101362133.jpg   \n",
       "3      NaN      1492            1   102617084.jpg   \n",
       "4     36.0  36114041            2    10287332.jpg   \n",
       "\n",
       "                                            audio_id  \\\n",
       "0  15_7474_3_152_02_211030-180248_bem_8cc_elicit_...   \n",
       "1  10_2345_0_101_01_211028-193045_bem_ddd_elicit_...   \n",
       "2  34_5026_3_342_02_211113-233703_bem_50c_elicit_...   \n",
       "3        149_2_01_210928-115147_bem_dcc_elicit_1.wav   \n",
       "4  36_11404_1_362_02_220227-135700_bem_d0b_elicit...   \n",
       "\n",
       "                                            sentence  \\\n",
       "0                     nafwala na amakalashi ku menso   \n",
       "1  Imbwa iyafonka pamoona, ilebutuka palunkoto lw...   \n",
       "2  Akamwanakashi nakemya ukuulu mumuulu ukulwisha...   \n",
       "3  Kunuma yabo kuli notu ma motoka tulya ba bonfy...   \n",
       "4  abaume Bali pa mutenge yanganda umo afwele ish...   \n",
       "\n",
       "                                         translation  speaker_id  gender  \\\n",
       "0                      he is wearing glasses as well         152  female   \n",
       "1  A dog with a wide nose is running on the lawns...         101    male   \n",
       "2  She has her leg in the air attempting to break...         342    male   \n",
       "3  There are also small vehicles that they use in...          11    male   \n",
       "4  Of the men on the roof of the house, ine is we...         362    male   \n",
       "\n",
       "   duration  sample_rate audio_format recording_lang native_lang  \n",
       "0     4.061        16000     vnd.wave            bem         bem  \n",
       "1     7.986        16000     vnd.wave            bem         bem  \n",
       "2     5.354        16000     vnd.wave            bem         lam  \n",
       "3     9.528        16000     vnd.wave            bem         bem  \n",
       "4    11.910        16000     vnd.wave            bem         bem  "
      ]
     },
     "execution_count": 200,
     "metadata": {},
     "output_type": "execute_result"
    }
   ],
   "source": [
    "df_test.head()"
   ]
  },
  {
   "cell_type": "code",
   "execution_count": 201,
   "id": "14d8bcf9-2d91-4e3e-8eeb-a1dcecad4b8f",
   "metadata": {},
   "outputs": [],
   "source": [
    "df_train = df_train[[\"audio_id\",\"sentence\",\"translation\",\"speaker_id\"]]"
   ]
  },
  {
   "cell_type": "code",
   "execution_count": 202,
   "id": "3d16d1e4-188e-4a8a-b223-af1606b22655",
   "metadata": {},
   "outputs": [
    {
     "data": {
      "text/html": [
       "<div>\n",
       "<style scoped>\n",
       "    .dataframe tbody tr th:only-of-type {\n",
       "        vertical-align: middle;\n",
       "    }\n",
       "\n",
       "    .dataframe tbody tr th {\n",
       "        vertical-align: top;\n",
       "    }\n",
       "\n",
       "    .dataframe thead th {\n",
       "        text-align: right;\n",
       "    }\n",
       "</style>\n",
       "<table border=\"1\" class=\"dataframe\">\n",
       "  <thead>\n",
       "    <tr style=\"text-align: right;\">\n",
       "      <th></th>\n",
       "      <th>audio_id</th>\n",
       "      <th>sentence</th>\n",
       "      <th>translation</th>\n",
       "      <th>speaker_id</th>\n",
       "    </tr>\n",
       "  </thead>\n",
       "  <tbody>\n",
       "    <tr>\n",
       "      <th>0</th>\n",
       "      <td>26_8819_0_261_01_211112-010515_bem_8f1_elicit_...</td>\n",
       "      <td>Abalumendo babili nabeminina bale ikata amabul...</td>\n",
       "      <td>these men are standing caching tree leaves</td>\n",
       "      <td>261</td>\n",
       "    </tr>\n",
       "    <tr>\n",
       "      <th>1</th>\n",
       "      <td>38_11847_4_381_01_211114-161237_bem_ba5_elicit...</td>\n",
       "      <td>Cifwile uyu ou bali nankwe eulemulanga ifyakuc...</td>\n",
       "      <td>It must be that the person they are with is sh...</td>\n",
       "      <td>381</td>\n",
       "    </tr>\n",
       "    <tr>\n",
       "      <th>2</th>\n",
       "      <td>24_2645_0_241_01_211110-143805_bem_150_elicit_...</td>\n",
       "      <td>Umulumendo ekele pacipuna elo kumaboko ekete i...</td>\n",
       "      <td>A young man sitted on the chair has a red doll...</td>\n",
       "      <td>241</td>\n",
       "    </tr>\n",
       "    <tr>\n",
       "      <th>3</th>\n",
       "      <td>8_5558_1_82_02_211105-023723_bem_901_elicit_0.wav</td>\n",
       "      <td>Shili mu musebo</td>\n",
       "      <td>They are on the road.</td>\n",
       "      <td>82</td>\n",
       "    </tr>\n",
       "    <tr>\n",
       "      <th>4</th>\n",
       "      <td>35_11159_0_351_01_220118-193228_bem_ba5_elicit...</td>\n",
       "      <td>Umwaume uwabuuta inkanda aletekenya icimbaya m...</td>\n",
       "      <td>One white man is driving a tractor</td>\n",
       "      <td>351</td>\n",
       "    </tr>\n",
       "  </tbody>\n",
       "</table>\n",
       "</div>"
      ],
      "text/plain": [
       "                                            audio_id  \\\n",
       "0  26_8819_0_261_01_211112-010515_bem_8f1_elicit_...   \n",
       "1  38_11847_4_381_01_211114-161237_bem_ba5_elicit...   \n",
       "2  24_2645_0_241_01_211110-143805_bem_150_elicit_...   \n",
       "3  8_5558_1_82_02_211105-023723_bem_901_elicit_0.wav   \n",
       "4  35_11159_0_351_01_220118-193228_bem_ba5_elicit...   \n",
       "\n",
       "                                            sentence  \\\n",
       "0  Abalumendo babili nabeminina bale ikata amabul...   \n",
       "1  Cifwile uyu ou bali nankwe eulemulanga ifyakuc...   \n",
       "2  Umulumendo ekele pacipuna elo kumaboko ekete i...   \n",
       "3                                    Shili mu musebo   \n",
       "4  Umwaume uwabuuta inkanda aletekenya icimbaya m...   \n",
       "\n",
       "                                         translation  speaker_id  \n",
       "0         these men are standing caching tree leaves         261  \n",
       "1  It must be that the person they are with is sh...         381  \n",
       "2  A young man sitted on the chair has a red doll...         241  \n",
       "3                              They are on the road.          82  \n",
       "4                 One white man is driving a tractor         351  "
      ]
     },
     "execution_count": 202,
     "metadata": {},
     "output_type": "execute_result"
    }
   ],
   "source": [
    "df_train.head()"
   ]
  },
  {
   "cell_type": "code",
   "execution_count": 203,
   "id": "bebc5183-9ca1-4881-89a5-442afa92f745",
   "metadata": {},
   "outputs": [
    {
     "data": {
      "text/html": [
       "<div>\n",
       "<style scoped>\n",
       "    .dataframe tbody tr th:only-of-type {\n",
       "        vertical-align: middle;\n",
       "    }\n",
       "\n",
       "    .dataframe tbody tr th {\n",
       "        vertical-align: top;\n",
       "    }\n",
       "\n",
       "    .dataframe thead th {\n",
       "        text-align: right;\n",
       "    }\n",
       "</style>\n",
       "<table border=\"1\" class=\"dataframe\">\n",
       "  <thead>\n",
       "    <tr style=\"text-align: right;\">\n",
       "      <th></th>\n",
       "      <th>audio_id</th>\n",
       "      <th>sentence</th>\n",
       "      <th>translation</th>\n",
       "      <th>speaker_id</th>\n",
       "    </tr>\n",
       "  </thead>\n",
       "  <tbody>\n",
       "    <tr>\n",
       "      <th>0</th>\n",
       "      <td>36_5466_3_362_02_211113-115353_bem_dbf_elicit_...</td>\n",
       "      <td>cacine wasosa mune nalimo kutali yaleya mune</td>\n",
       "      <td>yes it's true, it seems it's going very far</td>\n",
       "      <td>362</td>\n",
       "    </tr>\n",
       "    <tr>\n",
       "      <th>1</th>\n",
       "      <td>17_7793_4_171_01_211109-061925_bem_947_elicit_...</td>\n",
       "      <td>Ku cende bali takwaba ififntu fimbi kwabafye i...</td>\n",
       "      <td>There where at a place where there was nothing...</td>\n",
       "      <td>171</td>\n",
       "    </tr>\n",
       "    <tr>\n",
       "      <th>2</th>\n",
       "      <td>14_7207_0_141_01_211112-120659_bem_f08_elicit_...</td>\n",
       "      <td>Imbwa shibili iya buta neyafita shilelwa nokwa...</td>\n",
       "      <td>Two dogs, a white one and a black one are play...</td>\n",
       "      <td>141</td>\n",
       "    </tr>\n",
       "    <tr>\n",
       "      <th>3</th>\n",
       "      <td>32_10277_1_322_02_220121-044029_bem_b40_elicit...</td>\n",
       "      <td>Bushe uyu umukashana uwakwata inkanda iya buut...</td>\n",
       "      <td>How is this white girl looking?</td>\n",
       "      <td>322</td>\n",
       "    </tr>\n",
       "    <tr>\n",
       "      <th>4</th>\n",
       "      <td>12_2944_0_121_01_211031-190209_bem_bd6_elicit_...</td>\n",
       "      <td>umulumendo naiminina pelibwe</td>\n",
       "      <td>a young man is standing on the  rock</td>\n",
       "      <td>121</td>\n",
       "    </tr>\n",
       "  </tbody>\n",
       "</table>\n",
       "</div>"
      ],
      "text/plain": [
       "                                            audio_id  \\\n",
       "0  36_5466_3_362_02_211113-115353_bem_dbf_elicit_...   \n",
       "1  17_7793_4_171_01_211109-061925_bem_947_elicit_...   \n",
       "2  14_7207_0_141_01_211112-120659_bem_f08_elicit_...   \n",
       "3  32_10277_1_322_02_220121-044029_bem_b40_elicit...   \n",
       "4  12_2944_0_121_01_211031-190209_bem_bd6_elicit_...   \n",
       "\n",
       "                                            sentence  \\\n",
       "0       cacine wasosa mune nalimo kutali yaleya mune   \n",
       "1  Ku cende bali takwaba ififntu fimbi kwabafye i...   \n",
       "2  Imbwa shibili iya buta neyafita shilelwa nokwa...   \n",
       "3  Bushe uyu umukashana uwakwata inkanda iya buut...   \n",
       "4                       umulumendo naiminina pelibwe   \n",
       "\n",
       "                                         translation  speaker_id  \n",
       "0        yes it's true, it seems it's going very far         362  \n",
       "1  There where at a place where there was nothing...         171  \n",
       "2  Two dogs, a white one and a black one are play...         141  \n",
       "3                    How is this white girl looking?         322  \n",
       "4               a young man is standing on the  rock         121  "
      ]
     },
     "execution_count": 203,
     "metadata": {},
     "output_type": "execute_result"
    }
   ],
   "source": [
    "df_val = df_val[[\"audio_id\",\"sentence\",\"translation\",\"speaker_id\"]]\n",
    "df_val.head()"
   ]
  },
  {
   "cell_type": "code",
   "execution_count": 204,
   "id": "819f0f75-5d61-4514-9a3a-1528610fbff3",
   "metadata": {},
   "outputs": [
    {
     "data": {
      "text/html": [
       "<div>\n",
       "<style scoped>\n",
       "    .dataframe tbody tr th:only-of-type {\n",
       "        vertical-align: middle;\n",
       "    }\n",
       "\n",
       "    .dataframe tbody tr th {\n",
       "        vertical-align: top;\n",
       "    }\n",
       "\n",
       "    .dataframe thead th {\n",
       "        text-align: right;\n",
       "    }\n",
       "</style>\n",
       "<table border=\"1\" class=\"dataframe\">\n",
       "  <thead>\n",
       "    <tr style=\"text-align: right;\">\n",
       "      <th></th>\n",
       "      <th>audio_id</th>\n",
       "      <th>sentence</th>\n",
       "      <th>translation</th>\n",
       "      <th>speaker_id</th>\n",
       "    </tr>\n",
       "  </thead>\n",
       "  <tbody>\n",
       "    <tr>\n",
       "      <th>0</th>\n",
       "      <td>15_7474_3_152_02_211030-180248_bem_8cc_elicit_...</td>\n",
       "      <td>nafwala na amakalashi ku menso</td>\n",
       "      <td>he is wearing glasses as well</td>\n",
       "      <td>152</td>\n",
       "    </tr>\n",
       "    <tr>\n",
       "      <th>1</th>\n",
       "      <td>10_2345_0_101_01_211028-193045_bem_ddd_elicit_...</td>\n",
       "      <td>Imbwa iyafonka pamoona, ilebutuka palunkoto lw...</td>\n",
       "      <td>A dog with a wide nose is running on the lawns...</td>\n",
       "      <td>101</td>\n",
       "    </tr>\n",
       "    <tr>\n",
       "      <th>2</th>\n",
       "      <td>34_5026_3_342_02_211113-233703_bem_50c_elicit_...</td>\n",
       "      <td>Akamwanakashi nakemya ukuulu mumuulu ukulwisha...</td>\n",
       "      <td>She has her leg in the air attempting to break...</td>\n",
       "      <td>342</td>\n",
       "    </tr>\n",
       "    <tr>\n",
       "      <th>3</th>\n",
       "      <td>149_2_01_210928-115147_bem_dcc_elicit_1.wav</td>\n",
       "      <td>Kunuma yabo kuli notu ma motoka tulya ba bonfy...</td>\n",
       "      <td>There are also small vehicles that they use in...</td>\n",
       "      <td>11</td>\n",
       "    </tr>\n",
       "    <tr>\n",
       "      <th>4</th>\n",
       "      <td>36_11404_1_362_02_220227-135700_bem_d0b_elicit...</td>\n",
       "      <td>abaume Bali pa mutenge yanganda umo afwele ish...</td>\n",
       "      <td>Of the men on the roof of the house, ine is we...</td>\n",
       "      <td>362</td>\n",
       "    </tr>\n",
       "  </tbody>\n",
       "</table>\n",
       "</div>"
      ],
      "text/plain": [
       "                                            audio_id  \\\n",
       "0  15_7474_3_152_02_211030-180248_bem_8cc_elicit_...   \n",
       "1  10_2345_0_101_01_211028-193045_bem_ddd_elicit_...   \n",
       "2  34_5026_3_342_02_211113-233703_bem_50c_elicit_...   \n",
       "3        149_2_01_210928-115147_bem_dcc_elicit_1.wav   \n",
       "4  36_11404_1_362_02_220227-135700_bem_d0b_elicit...   \n",
       "\n",
       "                                            sentence  \\\n",
       "0                     nafwala na amakalashi ku menso   \n",
       "1  Imbwa iyafonka pamoona, ilebutuka palunkoto lw...   \n",
       "2  Akamwanakashi nakemya ukuulu mumuulu ukulwisha...   \n",
       "3  Kunuma yabo kuli notu ma motoka tulya ba bonfy...   \n",
       "4  abaume Bali pa mutenge yanganda umo afwele ish...   \n",
       "\n",
       "                                         translation  speaker_id  \n",
       "0                      he is wearing glasses as well         152  \n",
       "1  A dog with a wide nose is running on the lawns...         101  \n",
       "2  She has her leg in the air attempting to break...         342  \n",
       "3  There are also small vehicles that they use in...          11  \n",
       "4  Of the men on the roof of the house, ine is we...         362  "
      ]
     },
     "execution_count": 204,
     "metadata": {},
     "output_type": "execute_result"
    }
   ],
   "source": [
    "df_test = df_test[[\"audio_id\",\"sentence\",\"translation\",\"speaker_id\"]]\n",
    "df_test.head()"
   ]
  },
  {
   "cell_type": "code",
   "execution_count": 205,
   "id": "6ef5da9c-b332-4c25-af30-ae8d9116febd",
   "metadata": {},
   "outputs": [
    {
     "data": {
      "text/plain": [
       "(82371, 4)"
      ]
     },
     "execution_count": 205,
     "metadata": {},
     "output_type": "execute_result"
    }
   ],
   "source": [
    "df_train.shape"
   ]
  },
  {
   "cell_type": "code",
   "execution_count": 206,
   "id": "d42ca64c-07a4-48b5-96e8-63e36f113bf8",
   "metadata": {},
   "outputs": [
    {
     "data": {
      "text/plain": [
       "(2782, 4)"
      ]
     },
     "execution_count": 206,
     "metadata": {},
     "output_type": "execute_result"
    }
   ],
   "source": [
    "df_val.shape"
   ]
  },
  {
   "cell_type": "code",
   "execution_count": 207,
   "id": "5bcb07bd-cf02-4a3d-af57-df7c6982cb15",
   "metadata": {},
   "outputs": [
    {
     "data": {
      "text/plain": [
       "(2779, 4)"
      ]
     },
     "execution_count": 207,
     "metadata": {},
     "output_type": "execute_result"
    }
   ],
   "source": [
    "df_test.shape"
   ]
  },
  {
   "cell_type": "markdown",
   "id": "da6ab2da-3e75-45de-8ec7-f4ac74888b38",
   "metadata": {},
   "source": [
    "# Add path to audio_id"
   ]
  },
  {
   "cell_type": "code",
   "execution_count": 208,
   "id": "88c35ea9-bcf2-4208-8ae7-4826ca48ddc3",
   "metadata": {},
   "outputs": [],
   "source": [
    "def full_audio_path(row):\n",
    "    full_audio_path = os.path.join(\"audio\", row[\"audio_id\"])\n",
    "    return full_audio_path"
   ]
  },
  {
   "cell_type": "markdown",
   "id": "bfe98b3d-7e59-4ce7-acfd-1c042221ddb7",
   "metadata": {},
   "source": [
    "## train"
   ]
  },
  {
   "cell_type": "code",
   "execution_count": 209,
   "id": "361b5897-4350-4d78-9e4f-9d661c54c7de",
   "metadata": {},
   "outputs": [],
   "source": [
    "df_train[\"audio\"] = df_train.apply(full_audio_path, axis=1)"
   ]
  },
  {
   "cell_type": "code",
   "execution_count": 210,
   "id": "7d7473d0-4542-4d21-9095-706ce9cff5a5",
   "metadata": {},
   "outputs": [],
   "source": [
    "audio_col = df_train.pop(df_train.columns[-1])\n",
    "df_train.insert(0, audio_col.name, audio_col)"
   ]
  },
  {
   "cell_type": "code",
   "execution_count": 211,
   "id": "85685b66-03ba-4308-8648-4ad1738ea8f7",
   "metadata": {},
   "outputs": [
    {
     "data": {
      "text/html": [
       "<div>\n",
       "<style scoped>\n",
       "    .dataframe tbody tr th:only-of-type {\n",
       "        vertical-align: middle;\n",
       "    }\n",
       "\n",
       "    .dataframe tbody tr th {\n",
       "        vertical-align: top;\n",
       "    }\n",
       "\n",
       "    .dataframe thead th {\n",
       "        text-align: right;\n",
       "    }\n",
       "</style>\n",
       "<table border=\"1\" class=\"dataframe\">\n",
       "  <thead>\n",
       "    <tr style=\"text-align: right;\">\n",
       "      <th></th>\n",
       "      <th>audio</th>\n",
       "      <th>audio_id</th>\n",
       "      <th>sentence</th>\n",
       "      <th>translation</th>\n",
       "      <th>speaker_id</th>\n",
       "    </tr>\n",
       "  </thead>\n",
       "  <tbody>\n",
       "    <tr>\n",
       "      <th>0</th>\n",
       "      <td>audio/26_8819_0_261_01_211112-010515_bem_8f1_e...</td>\n",
       "      <td>26_8819_0_261_01_211112-010515_bem_8f1_elicit_...</td>\n",
       "      <td>Abalumendo babili nabeminina bale ikata amabul...</td>\n",
       "      <td>these men are standing caching tree leaves</td>\n",
       "      <td>261</td>\n",
       "    </tr>\n",
       "    <tr>\n",
       "      <th>1</th>\n",
       "      <td>audio/38_11847_4_381_01_211114-161237_bem_ba5_...</td>\n",
       "      <td>38_11847_4_381_01_211114-161237_bem_ba5_elicit...</td>\n",
       "      <td>Cifwile uyu ou bali nankwe eulemulanga ifyakuc...</td>\n",
       "      <td>It must be that the person they are with is sh...</td>\n",
       "      <td>381</td>\n",
       "    </tr>\n",
       "    <tr>\n",
       "      <th>2</th>\n",
       "      <td>audio/24_2645_0_241_01_211110-143805_bem_150_e...</td>\n",
       "      <td>24_2645_0_241_01_211110-143805_bem_150_elicit_...</td>\n",
       "      <td>Umulumendo ekele pacipuna elo kumaboko ekete i...</td>\n",
       "      <td>A young man sitted on the chair has a red doll...</td>\n",
       "      <td>241</td>\n",
       "    </tr>\n",
       "    <tr>\n",
       "      <th>3</th>\n",
       "      <td>audio/8_5558_1_82_02_211105-023723_bem_901_eli...</td>\n",
       "      <td>8_5558_1_82_02_211105-023723_bem_901_elicit_0.wav</td>\n",
       "      <td>Shili mu musebo</td>\n",
       "      <td>They are on the road.</td>\n",
       "      <td>82</td>\n",
       "    </tr>\n",
       "    <tr>\n",
       "      <th>4</th>\n",
       "      <td>audio/35_11159_0_351_01_220118-193228_bem_ba5_...</td>\n",
       "      <td>35_11159_0_351_01_220118-193228_bem_ba5_elicit...</td>\n",
       "      <td>Umwaume uwabuuta inkanda aletekenya icimbaya m...</td>\n",
       "      <td>One white man is driving a tractor</td>\n",
       "      <td>351</td>\n",
       "    </tr>\n",
       "  </tbody>\n",
       "</table>\n",
       "</div>"
      ],
      "text/plain": [
       "                                               audio  \\\n",
       "0  audio/26_8819_0_261_01_211112-010515_bem_8f1_e...   \n",
       "1  audio/38_11847_4_381_01_211114-161237_bem_ba5_...   \n",
       "2  audio/24_2645_0_241_01_211110-143805_bem_150_e...   \n",
       "3  audio/8_5558_1_82_02_211105-023723_bem_901_eli...   \n",
       "4  audio/35_11159_0_351_01_220118-193228_bem_ba5_...   \n",
       "\n",
       "                                            audio_id  \\\n",
       "0  26_8819_0_261_01_211112-010515_bem_8f1_elicit_...   \n",
       "1  38_11847_4_381_01_211114-161237_bem_ba5_elicit...   \n",
       "2  24_2645_0_241_01_211110-143805_bem_150_elicit_...   \n",
       "3  8_5558_1_82_02_211105-023723_bem_901_elicit_0.wav   \n",
       "4  35_11159_0_351_01_220118-193228_bem_ba5_elicit...   \n",
       "\n",
       "                                            sentence  \\\n",
       "0  Abalumendo babili nabeminina bale ikata amabul...   \n",
       "1  Cifwile uyu ou bali nankwe eulemulanga ifyakuc...   \n",
       "2  Umulumendo ekele pacipuna elo kumaboko ekete i...   \n",
       "3                                    Shili mu musebo   \n",
       "4  Umwaume uwabuuta inkanda aletekenya icimbaya m...   \n",
       "\n",
       "                                         translation  speaker_id  \n",
       "0         these men are standing caching tree leaves         261  \n",
       "1  It must be that the person they are with is sh...         381  \n",
       "2  A young man sitted on the chair has a red doll...         241  \n",
       "3                              They are on the road.          82  \n",
       "4                 One white man is driving a tractor         351  "
      ]
     },
     "execution_count": 211,
     "metadata": {},
     "output_type": "execute_result"
    }
   ],
   "source": [
    "df_train.head()"
   ]
  },
  {
   "cell_type": "code",
   "execution_count": 212,
   "id": "7c24364e-2f9d-4816-97cd-bf740f9203d6",
   "metadata": {},
   "outputs": [],
   "source": [
    "for idx, row in df_train.head().iterrows():\n",
    "    if row[\"audio\"].split(\"/\")[-1] != row[\"audio_id\"]:\n",
    "        print(row[\"audio_id\"])\n"
   ]
  },
  {
   "cell_type": "code",
   "execution_count": 213,
   "id": "bef07ee9-704b-4bee-b7ea-7357e2a883b5",
   "metadata": {},
   "outputs": [
    {
     "data": {
      "text/plain": [
       "0        26_8819_0_261_01_211112-010515_bem_8f1_elicit_...\n",
       "1        38_11847_4_381_01_211114-161237_bem_ba5_elicit...\n",
       "2        24_2645_0_241_01_211110-143805_bem_150_elicit_...\n",
       "3        8_5558_1_82_02_211105-023723_bem_901_elicit_0.wav\n",
       "4        35_11159_0_351_01_220118-193228_bem_ba5_elicit...\n",
       "                               ...                        \n",
       "82366    12_2799_2_121_01_211026-021325_bem_bd6_elicit_...\n",
       "82367    26_8915_3_262_02_211112-133156_bem_dcc_elicit_...\n",
       "82368    26_8915_0_261_01_211112-051313_bem_8f1_elicit_...\n",
       "82369    26_8915_4_261_01_211112-051313_bem_8f1_elicit_...\n",
       "82370    26_8915_2_261_01_211112-051313_bem_8f1_elicit_...\n",
       "Name: audio_id, Length: 82371, dtype: object"
      ]
     },
     "execution_count": 213,
     "metadata": {},
     "output_type": "execute_result"
    }
   ],
   "source": [
    "df_train.pop(\"audio_id\")"
   ]
  },
  {
   "cell_type": "code",
   "execution_count": 214,
   "id": "e4fb18ad-64a4-461f-9097-42dff41ea7ac",
   "metadata": {},
   "outputs": [
    {
     "data": {
      "text/html": [
       "<div>\n",
       "<style scoped>\n",
       "    .dataframe tbody tr th:only-of-type {\n",
       "        vertical-align: middle;\n",
       "    }\n",
       "\n",
       "    .dataframe tbody tr th {\n",
       "        vertical-align: top;\n",
       "    }\n",
       "\n",
       "    .dataframe thead th {\n",
       "        text-align: right;\n",
       "    }\n",
       "</style>\n",
       "<table border=\"1\" class=\"dataframe\">\n",
       "  <thead>\n",
       "    <tr style=\"text-align: right;\">\n",
       "      <th></th>\n",
       "      <th>audio</th>\n",
       "      <th>sentence</th>\n",
       "      <th>translation</th>\n",
       "      <th>speaker_id</th>\n",
       "    </tr>\n",
       "  </thead>\n",
       "  <tbody>\n",
       "    <tr>\n",
       "      <th>0</th>\n",
       "      <td>audio/26_8819_0_261_01_211112-010515_bem_8f1_e...</td>\n",
       "      <td>Abalumendo babili nabeminina bale ikata amabul...</td>\n",
       "      <td>these men are standing caching tree leaves</td>\n",
       "      <td>261</td>\n",
       "    </tr>\n",
       "    <tr>\n",
       "      <th>1</th>\n",
       "      <td>audio/38_11847_4_381_01_211114-161237_bem_ba5_...</td>\n",
       "      <td>Cifwile uyu ou bali nankwe eulemulanga ifyakuc...</td>\n",
       "      <td>It must be that the person they are with is sh...</td>\n",
       "      <td>381</td>\n",
       "    </tr>\n",
       "    <tr>\n",
       "      <th>2</th>\n",
       "      <td>audio/24_2645_0_241_01_211110-143805_bem_150_e...</td>\n",
       "      <td>Umulumendo ekele pacipuna elo kumaboko ekete i...</td>\n",
       "      <td>A young man sitted on the chair has a red doll...</td>\n",
       "      <td>241</td>\n",
       "    </tr>\n",
       "    <tr>\n",
       "      <th>3</th>\n",
       "      <td>audio/8_5558_1_82_02_211105-023723_bem_901_eli...</td>\n",
       "      <td>Shili mu musebo</td>\n",
       "      <td>They are on the road.</td>\n",
       "      <td>82</td>\n",
       "    </tr>\n",
       "    <tr>\n",
       "      <th>4</th>\n",
       "      <td>audio/35_11159_0_351_01_220118-193228_bem_ba5_...</td>\n",
       "      <td>Umwaume uwabuuta inkanda aletekenya icimbaya m...</td>\n",
       "      <td>One white man is driving a tractor</td>\n",
       "      <td>351</td>\n",
       "    </tr>\n",
       "  </tbody>\n",
       "</table>\n",
       "</div>"
      ],
      "text/plain": [
       "                                               audio  \\\n",
       "0  audio/26_8819_0_261_01_211112-010515_bem_8f1_e...   \n",
       "1  audio/38_11847_4_381_01_211114-161237_bem_ba5_...   \n",
       "2  audio/24_2645_0_241_01_211110-143805_bem_150_e...   \n",
       "3  audio/8_5558_1_82_02_211105-023723_bem_901_eli...   \n",
       "4  audio/35_11159_0_351_01_220118-193228_bem_ba5_...   \n",
       "\n",
       "                                            sentence  \\\n",
       "0  Abalumendo babili nabeminina bale ikata amabul...   \n",
       "1  Cifwile uyu ou bali nankwe eulemulanga ifyakuc...   \n",
       "2  Umulumendo ekele pacipuna elo kumaboko ekete i...   \n",
       "3                                    Shili mu musebo   \n",
       "4  Umwaume uwabuuta inkanda aletekenya icimbaya m...   \n",
       "\n",
       "                                         translation  speaker_id  \n",
       "0         these men are standing caching tree leaves         261  \n",
       "1  It must be that the person they are with is sh...         381  \n",
       "2  A young man sitted on the chair has a red doll...         241  \n",
       "3                              They are on the road.          82  \n",
       "4                 One white man is driving a tractor         351  "
      ]
     },
     "execution_count": 214,
     "metadata": {},
     "output_type": "execute_result"
    }
   ],
   "source": [
    "df_train.head()"
   ]
  },
  {
   "cell_type": "markdown",
   "id": "2d11fbad-b672-484a-aa4d-21be038b60ee",
   "metadata": {},
   "source": [
    "## val"
   ]
  },
  {
   "cell_type": "code",
   "execution_count": 215,
   "id": "914f2758-9a39-4611-a536-66fdb42cd082",
   "metadata": {},
   "outputs": [],
   "source": [
    "df_val[\"audio\"] = df_val.apply(full_audio_path, axis=1)"
   ]
  },
  {
   "cell_type": "code",
   "execution_count": 216,
   "id": "d850890b-0eac-4f70-aff8-65aa63c517c5",
   "metadata": {},
   "outputs": [],
   "source": [
    "audio_col = df_val.pop(df_val.columns[-1])\n",
    "df_val.insert(0, audio_col.name, audio_col)"
   ]
  },
  {
   "cell_type": "code",
   "execution_count": 217,
   "id": "1f140b99-aeda-49be-adcc-0b12afd6220b",
   "metadata": {},
   "outputs": [],
   "source": [
    "for idx, row in df_val.head().iterrows():\n",
    "    if row[\"audio\"].split(\"/\")[-1] != row[\"audio_id\"]:\n",
    "        print(row[\"audio_id\"])"
   ]
  },
  {
   "cell_type": "code",
   "execution_count": 218,
   "id": "0c25e277-8073-451d-bd38-44396f589e2d",
   "metadata": {},
   "outputs": [
    {
     "data": {
      "text/plain": [
       "0       36_5466_3_362_02_211113-115353_bem_dbf_elicit_...\n",
       "1       17_7793_4_171_01_211109-061925_bem_947_elicit_...\n",
       "2       14_7207_0_141_01_211112-120659_bem_f08_elicit_...\n",
       "3       32_10277_1_322_02_220121-044029_bem_b40_elicit...\n",
       "4       12_2944_0_121_01_211031-190209_bem_bd6_elicit_...\n",
       "                              ...                        \n",
       "2777    19_1282_2_191_01_211108-211219_bem_665_elicit_...\n",
       "2778        12537_4_01_211102-173234_bem_142_elicit_2.wav\n",
       "2779        12537_3_02_211102-173208_bem_dcc_elicit_1.wav\n",
       "2780        12537_2_01_211102-173234_bem_142_elicit_1.wav\n",
       "2781        12537_1_02_211102-173208_bem_dcc_elicit_0.wav\n",
       "Name: audio_id, Length: 2782, dtype: object"
      ]
     },
     "execution_count": 218,
     "metadata": {},
     "output_type": "execute_result"
    }
   ],
   "source": [
    "df_val.pop(\"audio_id\")"
   ]
  },
  {
   "cell_type": "code",
   "execution_count": 219,
   "id": "5f025281-434e-47e0-a221-05f94216a299",
   "metadata": {},
   "outputs": [
    {
     "data": {
      "text/html": [
       "<div>\n",
       "<style scoped>\n",
       "    .dataframe tbody tr th:only-of-type {\n",
       "        vertical-align: middle;\n",
       "    }\n",
       "\n",
       "    .dataframe tbody tr th {\n",
       "        vertical-align: top;\n",
       "    }\n",
       "\n",
       "    .dataframe thead th {\n",
       "        text-align: right;\n",
       "    }\n",
       "</style>\n",
       "<table border=\"1\" class=\"dataframe\">\n",
       "  <thead>\n",
       "    <tr style=\"text-align: right;\">\n",
       "      <th></th>\n",
       "      <th>audio</th>\n",
       "      <th>sentence</th>\n",
       "      <th>translation</th>\n",
       "      <th>speaker_id</th>\n",
       "    </tr>\n",
       "  </thead>\n",
       "  <tbody>\n",
       "    <tr>\n",
       "      <th>0</th>\n",
       "      <td>audio/36_5466_3_362_02_211113-115353_bem_dbf_e...</td>\n",
       "      <td>cacine wasosa mune nalimo kutali yaleya mune</td>\n",
       "      <td>yes it's true, it seems it's going very far</td>\n",
       "      <td>362</td>\n",
       "    </tr>\n",
       "    <tr>\n",
       "      <th>1</th>\n",
       "      <td>audio/17_7793_4_171_01_211109-061925_bem_947_e...</td>\n",
       "      <td>Ku cende bali takwaba ififntu fimbi kwabafye i...</td>\n",
       "      <td>There where at a place where there was nothing...</td>\n",
       "      <td>171</td>\n",
       "    </tr>\n",
       "    <tr>\n",
       "      <th>2</th>\n",
       "      <td>audio/14_7207_0_141_01_211112-120659_bem_f08_e...</td>\n",
       "      <td>Imbwa shibili iya buta neyafita shilelwa nokwa...</td>\n",
       "      <td>Two dogs, a white one and a black one are play...</td>\n",
       "      <td>141</td>\n",
       "    </tr>\n",
       "    <tr>\n",
       "      <th>3</th>\n",
       "      <td>audio/32_10277_1_322_02_220121-044029_bem_b40_...</td>\n",
       "      <td>Bushe uyu umukashana uwakwata inkanda iya buut...</td>\n",
       "      <td>How is this white girl looking?</td>\n",
       "      <td>322</td>\n",
       "    </tr>\n",
       "    <tr>\n",
       "      <th>4</th>\n",
       "      <td>audio/12_2944_0_121_01_211031-190209_bem_bd6_e...</td>\n",
       "      <td>umulumendo naiminina pelibwe</td>\n",
       "      <td>a young man is standing on the  rock</td>\n",
       "      <td>121</td>\n",
       "    </tr>\n",
       "    <tr>\n",
       "      <th>...</th>\n",
       "      <td>...</td>\n",
       "      <td>...</td>\n",
       "      <td>...</td>\n",
       "      <td>...</td>\n",
       "    </tr>\n",
       "    <tr>\n",
       "      <th>2777</th>\n",
       "      <td>audio/19_1282_2_191_01_211108-211219_bem_665_e...</td>\n",
       "      <td>Aba banensu basompa imyona nabo, uyu muntu imi...</td>\n",
       "      <td>He has a pointed nose, he looks like a lady</td>\n",
       "      <td>191</td>\n",
       "    </tr>\n",
       "    <tr>\n",
       "      <th>2778</th>\n",
       "      <td>audio/12537_4_01_211102-173234_bem_142_elicit_...</td>\n",
       "      <td>Nibamona mune ala uyu umupungu walilelema kabi...</td>\n",
       "      <td>I have seen it, the rice looks and green, this...</td>\n",
       "      <td>11</td>\n",
       "    </tr>\n",
       "    <tr>\n",
       "      <th>2779</th>\n",
       "      <td>audio/12537_3_02_211102-173208_bem_dcc_elicit_...</td>\n",
       "      <td>Mukumona kwandi mupunga uyu balebyala kumona f...</td>\n",
       "      <td>This should be rice, it's clear because it's h...</td>\n",
       "      <td>12</td>\n",
       "    </tr>\n",
       "    <tr>\n",
       "      <th>2780</th>\n",
       "      <td>audio/12537_2_01_211102-173234_bem_142_elicit_...</td>\n",
       "      <td>Cishinka sana balebomfye n'gombe pakulima kabi...</td>\n",
       "      <td>Yes they are using cows for ploughing and this...</td>\n",
       "      <td>11</td>\n",
       "    </tr>\n",
       "    <tr>\n",
       "      <th>2781</th>\n",
       "      <td>audio/12537_1_02_211102-173208_bem_dcc_elicit_...</td>\n",
       "      <td>Abantu aba balebomfye n'gombe pakulima elo in'...</td>\n",
       "      <td>These people are using very fat cows for ploug...</td>\n",
       "      <td>12</td>\n",
       "    </tr>\n",
       "  </tbody>\n",
       "</table>\n",
       "<p>2782 rows × 4 columns</p>\n",
       "</div>"
      ],
      "text/plain": [
       "                                                  audio  \\\n",
       "0     audio/36_5466_3_362_02_211113-115353_bem_dbf_e...   \n",
       "1     audio/17_7793_4_171_01_211109-061925_bem_947_e...   \n",
       "2     audio/14_7207_0_141_01_211112-120659_bem_f08_e...   \n",
       "3     audio/32_10277_1_322_02_220121-044029_bem_b40_...   \n",
       "4     audio/12_2944_0_121_01_211031-190209_bem_bd6_e...   \n",
       "...                                                 ...   \n",
       "2777  audio/19_1282_2_191_01_211108-211219_bem_665_e...   \n",
       "2778  audio/12537_4_01_211102-173234_bem_142_elicit_...   \n",
       "2779  audio/12537_3_02_211102-173208_bem_dcc_elicit_...   \n",
       "2780  audio/12537_2_01_211102-173234_bem_142_elicit_...   \n",
       "2781  audio/12537_1_02_211102-173208_bem_dcc_elicit_...   \n",
       "\n",
       "                                               sentence  \\\n",
       "0          cacine wasosa mune nalimo kutali yaleya mune   \n",
       "1     Ku cende bali takwaba ififntu fimbi kwabafye i...   \n",
       "2     Imbwa shibili iya buta neyafita shilelwa nokwa...   \n",
       "3     Bushe uyu umukashana uwakwata inkanda iya buut...   \n",
       "4                          umulumendo naiminina pelibwe   \n",
       "...                                                 ...   \n",
       "2777  Aba banensu basompa imyona nabo, uyu muntu imi...   \n",
       "2778  Nibamona mune ala uyu umupungu walilelema kabi...   \n",
       "2779  Mukumona kwandi mupunga uyu balebyala kumona f...   \n",
       "2780  Cishinka sana balebomfye n'gombe pakulima kabi...   \n",
       "2781  Abantu aba balebomfye n'gombe pakulima elo in'...   \n",
       "\n",
       "                                            translation  speaker_id  \n",
       "0           yes it's true, it seems it's going very far         362  \n",
       "1     There where at a place where there was nothing...         171  \n",
       "2     Two dogs, a white one and a black one are play...         141  \n",
       "3                       How is this white girl looking?         322  \n",
       "4                  a young man is standing on the  rock         121  \n",
       "...                                                 ...         ...  \n",
       "2777        He has a pointed nose, he looks like a lady         191  \n",
       "2778  I have seen it, the rice looks and green, this...          11  \n",
       "2779  This should be rice, it's clear because it's h...          12  \n",
       "2780  Yes they are using cows for ploughing and this...          11  \n",
       "2781  These people are using very fat cows for ploug...          12  \n",
       "\n",
       "[2782 rows x 4 columns]"
      ]
     },
     "execution_count": 219,
     "metadata": {},
     "output_type": "execute_result"
    }
   ],
   "source": [
    "df_val"
   ]
  },
  {
   "cell_type": "markdown",
   "id": "336662d0-b817-4dab-8b6b-a31247a205f1",
   "metadata": {},
   "source": [
    "## test"
   ]
  },
  {
   "cell_type": "code",
   "execution_count": 220,
   "id": "b3152ba6-6e1c-466a-871a-2b8d4207878c",
   "metadata": {},
   "outputs": [],
   "source": [
    "df_test[\"audio\"] = df_test.apply(full_audio_path, axis=1)"
   ]
  },
  {
   "cell_type": "code",
   "execution_count": 221,
   "id": "d81541e5-ab34-4e67-9819-ac0571cfffd7",
   "metadata": {},
   "outputs": [],
   "source": [
    "audio_col = df_test.pop(df_test.columns[-1])\n",
    "df_test.insert(0, audio_col.name, audio_col)"
   ]
  },
  {
   "cell_type": "code",
   "execution_count": 222,
   "id": "b986c473-4ad7-49ed-95b4-8a74fd74bab1",
   "metadata": {},
   "outputs": [],
   "source": [
    "for idx, row in df_test.head().iterrows():\n",
    "    if row[\"audio\"].split(\"/\")[-1] != row[\"audio_id\"]:\n",
    "        print(row[\"audio_id\"])"
   ]
  },
  {
   "cell_type": "code",
   "execution_count": 223,
   "id": "c3f29519-01bc-41da-94fe-37cd94d2f469",
   "metadata": {},
   "outputs": [
    {
     "data": {
      "text/plain": [
       "0       15_7474_3_152_02_211030-180248_bem_8cc_elicit_...\n",
       "1       10_2345_0_101_01_211028-193045_bem_ddd_elicit_...\n",
       "2       34_5026_3_342_02_211113-233703_bem_50c_elicit_...\n",
       "3             149_2_01_210928-115147_bem_dcc_elicit_1.wav\n",
       "4       36_11404_1_362_02_220227-135700_bem_d0b_elicit...\n",
       "                              ...                        \n",
       "2774    28_3507_3_282_02_211111-013203_bem_665_elicit_...\n",
       "2775    29_3801_2_291_01_211114-135901_bem_433_elicit_...\n",
       "2776    29_3801_1_292_02_211114-101121_bem_a9e_elicit_...\n",
       "2777    29_3801_4_291_01_211114-135901_bem_433_elicit_...\n",
       "2778    29_3801_3_292_02_211114-101121_bem_a9e_elicit_...\n",
       "Name: audio_id, Length: 2779, dtype: object"
      ]
     },
     "execution_count": 223,
     "metadata": {},
     "output_type": "execute_result"
    }
   ],
   "source": [
    "df_test.pop(\"audio_id\")"
   ]
  },
  {
   "cell_type": "code",
   "execution_count": 225,
   "id": "03956122-979a-4b13-9529-89cc67913ab8",
   "metadata": {},
   "outputs": [
    {
     "data": {
      "text/html": [
       "<div>\n",
       "<style scoped>\n",
       "    .dataframe tbody tr th:only-of-type {\n",
       "        vertical-align: middle;\n",
       "    }\n",
       "\n",
       "    .dataframe tbody tr th {\n",
       "        vertical-align: top;\n",
       "    }\n",
       "\n",
       "    .dataframe thead th {\n",
       "        text-align: right;\n",
       "    }\n",
       "</style>\n",
       "<table border=\"1\" class=\"dataframe\">\n",
       "  <thead>\n",
       "    <tr style=\"text-align: right;\">\n",
       "      <th></th>\n",
       "      <th>audio</th>\n",
       "      <th>sentence</th>\n",
       "      <th>translation</th>\n",
       "      <th>speaker_id</th>\n",
       "    </tr>\n",
       "  </thead>\n",
       "  <tbody>\n",
       "    <tr>\n",
       "      <th>2774</th>\n",
       "      <td>audio/28_3507_3_282_02_211111-013203_bem_665_e...</td>\n",
       "      <td>Ububwangalo buntu aleteya kwena nangula ulifye...</td>\n",
       "      <td>Bonanza and other alike games can be exciting ...</td>\n",
       "      <td>282</td>\n",
       "    </tr>\n",
       "    <tr>\n",
       "      <th>2775</th>\n",
       "      <td>audio/29_3801_2_291_01_211114-135901_bem_433_e...</td>\n",
       "      <td>kena ifyo ifyacimana ukukula takalefimona na u...</td>\n",
       "      <td>For her she is not even paying attention to ho...</td>\n",
       "      <td>291</td>\n",
       "    </tr>\n",
       "    <tr>\n",
       "      <th>2776</th>\n",
       "      <td>audio/29_3801_1_292_02_211114-101121_bem_a9e_e...</td>\n",
       "      <td>umumana wine uyu uukulu saana nangula aka kamw...</td>\n",
       "      <td>This river is quite big even if this girl is n...</td>\n",
       "      <td>292</td>\n",
       "    </tr>\n",
       "    <tr>\n",
       "      <th>2777</th>\n",
       "      <td>audio/29_3801_4_291_01_211114-135901_bem_433_e...</td>\n",
       "      <td>ndemona kafwile kali nabamo abakulu abalekamon...</td>\n",
       "      <td>I am sure she is with someone older who is loo...</td>\n",
       "      <td>291</td>\n",
       "    </tr>\n",
       "    <tr>\n",
       "      <th>2778</th>\n",
       "      <td>audio/29_3801_3_292_02_211114-101121_bem_a9e_e...</td>\n",
       "      <td>abaice nabo,pantu umukuku ngawalishile kukasen...</td>\n",
       "      <td>If a strong wind came she can easily be carrie...</td>\n",
       "      <td>292</td>\n",
       "    </tr>\n",
       "  </tbody>\n",
       "</table>\n",
       "</div>"
      ],
      "text/plain": [
       "                                                  audio  \\\n",
       "2774  audio/28_3507_3_282_02_211111-013203_bem_665_e...   \n",
       "2775  audio/29_3801_2_291_01_211114-135901_bem_433_e...   \n",
       "2776  audio/29_3801_1_292_02_211114-101121_bem_a9e_e...   \n",
       "2777  audio/29_3801_4_291_01_211114-135901_bem_433_e...   \n",
       "2778  audio/29_3801_3_292_02_211114-101121_bem_a9e_e...   \n",
       "\n",
       "                                               sentence  \\\n",
       "2774  Ububwangalo buntu aleteya kwena nangula ulifye...   \n",
       "2775  kena ifyo ifyacimana ukukula takalefimona na u...   \n",
       "2776  umumana wine uyu uukulu saana nangula aka kamw...   \n",
       "2777  ndemona kafwile kali nabamo abakulu abalekamon...   \n",
       "2778  abaice nabo,pantu umukuku ngawalishile kukasen...   \n",
       "\n",
       "                                            translation  speaker_id  \n",
       "2774  Bonanza and other alike games can be exciting ...         282  \n",
       "2775  For her she is not even paying attention to ho...         291  \n",
       "2776  This river is quite big even if this girl is n...         292  \n",
       "2777  I am sure she is with someone older who is loo...         291  \n",
       "2778  If a strong wind came she can easily be carrie...         292  "
      ]
     },
     "execution_count": 225,
     "metadata": {},
     "output_type": "execute_result"
    }
   ],
   "source": [
    "df_test.tail()"
   ]
  },
  {
   "cell_type": "markdown",
   "id": "22698190-5405-481f-b44e-cd0775a154b9",
   "metadata": {},
   "source": [
    "# Check Null"
   ]
  },
  {
   "cell_type": "code",
   "execution_count": 226,
   "id": "e515a92f-d8f3-4bde-a7eb-4b4edcd75248",
   "metadata": {},
   "outputs": [
    {
     "name": "stdout",
     "output_type": "stream",
     "text": [
      "<class 'pandas.core.frame.DataFrame'>\n",
      "RangeIndex: 82371 entries, 0 to 82370\n",
      "Data columns (total 4 columns):\n",
      " #   Column       Non-Null Count  Dtype \n",
      "---  ------       --------------  ----- \n",
      " 0   audio        82371 non-null  object\n",
      " 1   sentence     82371 non-null  object\n",
      " 2   translation  82371 non-null  object\n",
      " 3   speaker_id   82371 non-null  int64 \n",
      "dtypes: int64(1), object(3)\n",
      "memory usage: 2.5+ MB\n"
     ]
    }
   ],
   "source": [
    "df_train.info()"
   ]
  },
  {
   "cell_type": "code",
   "execution_count": 227,
   "id": "d8703b7a-dcf4-45ce-9e40-14e726730ff6",
   "metadata": {},
   "outputs": [
    {
     "name": "stdout",
     "output_type": "stream",
     "text": [
      "<class 'pandas.core.frame.DataFrame'>\n",
      "RangeIndex: 2782 entries, 0 to 2781\n",
      "Data columns (total 4 columns):\n",
      " #   Column       Non-Null Count  Dtype \n",
      "---  ------       --------------  ----- \n",
      " 0   audio        2782 non-null   object\n",
      " 1   sentence     2782 non-null   object\n",
      " 2   translation  2782 non-null   object\n",
      " 3   speaker_id   2782 non-null   int64 \n",
      "dtypes: int64(1), object(3)\n",
      "memory usage: 87.1+ KB\n"
     ]
    }
   ],
   "source": [
    "df_val.info()"
   ]
  },
  {
   "cell_type": "code",
   "execution_count": 228,
   "id": "fdda0adf-5626-4fe0-b93b-973e6cce327d",
   "metadata": {},
   "outputs": [
    {
     "name": "stdout",
     "output_type": "stream",
     "text": [
      "<class 'pandas.core.frame.DataFrame'>\n",
      "RangeIndex: 2779 entries, 0 to 2778\n",
      "Data columns (total 4 columns):\n",
      " #   Column       Non-Null Count  Dtype \n",
      "---  ------       --------------  ----- \n",
      " 0   audio        2779 non-null   object\n",
      " 1   sentence     2779 non-null   object\n",
      " 2   translation  2779 non-null   object\n",
      " 3   speaker_id   2779 non-null   int64 \n",
      "dtypes: int64(1), object(3)\n",
      "memory usage: 87.0+ KB\n"
     ]
    }
   ],
   "source": [
    "df_test.info()"
   ]
  },
  {
   "cell_type": "markdown",
   "id": "48c7ace4-630b-4a8e-8afc-aeef3d2b1560",
   "metadata": {},
   "source": [
    "# Check Duplicates"
   ]
  },
  {
   "cell_type": "code",
   "execution_count": 229,
   "id": "5d7a3d2e-8a5f-4bec-b687-a394e93df128",
   "metadata": {},
   "outputs": [],
   "source": [
    "df_train_duplicate = df_train[df_train[\"sentence\"].duplicated(keep=False)]"
   ]
  },
  {
   "cell_type": "code",
   "execution_count": 230,
   "id": "7a9790a6-010e-4eac-b461-7833ed82cce2",
   "metadata": {},
   "outputs": [
    {
     "data": {
      "text/html": [
       "<div>\n",
       "<style scoped>\n",
       "    .dataframe tbody tr th:only-of-type {\n",
       "        vertical-align: middle;\n",
       "    }\n",
       "\n",
       "    .dataframe tbody tr th {\n",
       "        vertical-align: top;\n",
       "    }\n",
       "\n",
       "    .dataframe thead th {\n",
       "        text-align: right;\n",
       "    }\n",
       "</style>\n",
       "<table border=\"1\" class=\"dataframe\">\n",
       "  <thead>\n",
       "    <tr style=\"text-align: right;\">\n",
       "      <th></th>\n",
       "      <th>audio</th>\n",
       "      <th>sentence</th>\n",
       "      <th>translation</th>\n",
       "      <th>speaker_id</th>\n",
       "    </tr>\n",
       "  </thead>\n",
       "  <tbody>\n",
       "    <tr>\n",
       "      <th>20439</th>\n",
       "      <td>audio/8_5685_0_81_01_211102-100839_bem_ce8_eli...</td>\n",
       "      <td>Umwaume aleniina ulupili</td>\n",
       "      <td>A man is climbing a mountain.</td>\n",
       "      <td>81</td>\n",
       "    </tr>\n",
       "    <tr>\n",
       "      <th>81718</th>\n",
       "      <td>audio/8_1908_0_81_01_211031-092558_bem_abe_eli...</td>\n",
       "      <td>Umwaume aleniina ulupili</td>\n",
       "      <td>A man climbing a mountain.</td>\n",
       "      <td>81</td>\n",
       "    </tr>\n",
       "  </tbody>\n",
       "</table>\n",
       "</div>"
      ],
      "text/plain": [
       "                                                   audio  \\\n",
       "20439  audio/8_5685_0_81_01_211102-100839_bem_ce8_eli...   \n",
       "81718  audio/8_1908_0_81_01_211031-092558_bem_abe_eli...   \n",
       "\n",
       "                       sentence                    translation  speaker_id  \n",
       "20439  Umwaume aleniina ulupili  A man is climbing a mountain.          81  \n",
       "81718  Umwaume aleniina ulupili     A man climbing a mountain.          81  "
      ]
     },
     "execution_count": 230,
     "metadata": {},
     "output_type": "execute_result"
    }
   ],
   "source": [
    "df_train_duplicate[df_train_duplicate[\"sentence\"]==\"Umwaume aleniina ulupili\"]"
   ]
  },
  {
   "cell_type": "markdown",
   "id": "8dc2a2b2-7b56-4ef5-9891-d575e9e9db17",
   "metadata": {},
   "source": [
    "#### Conclusion: all of the audio is different, even though the speaker_id is the same"
   ]
  },
  {
   "cell_type": "markdown",
   "id": "3ecc44aa-757d-440b-ae7e-3e971bdc91c6",
   "metadata": {},
   "source": [
    "# Check Overlap"
   ]
  },
  {
   "cell_type": "code",
   "execution_count": 231,
   "id": "8b25a18a-e56c-4c72-adbc-56ce7ba23e68",
   "metadata": {},
   "outputs": [],
   "source": [
    "df_val_train_overlap = df_val[df_val[\"sentence\"].isin(df_train[\"sentence\"].unique().tolist())]"
   ]
  },
  {
   "cell_type": "code",
   "execution_count": 232,
   "id": "d077d48f-69cc-487c-a2b2-619a9fe99759",
   "metadata": {},
   "outputs": [
    {
     "data": {
      "text/html": [
       "<div>\n",
       "<style scoped>\n",
       "    .dataframe tbody tr th:only-of-type {\n",
       "        vertical-align: middle;\n",
       "    }\n",
       "\n",
       "    .dataframe tbody tr th {\n",
       "        vertical-align: top;\n",
       "    }\n",
       "\n",
       "    .dataframe thead th {\n",
       "        text-align: right;\n",
       "    }\n",
       "</style>\n",
       "<table border=\"1\" class=\"dataframe\">\n",
       "  <thead>\n",
       "    <tr style=\"text-align: right;\">\n",
       "      <th></th>\n",
       "      <th>audio</th>\n",
       "      <th>sentence</th>\n",
       "      <th>translation</th>\n",
       "      <th>speaker_id</th>\n",
       "    </tr>\n",
       "  </thead>\n",
       "  <tbody>\n",
       "    <tr>\n",
       "      <th>120</th>\n",
       "      <td>audio/12_2751_0_121_01_211024-133017_bem_bd6_e...</td>\n",
       "      <td>bashikulu bantu baleendela pabwato</td>\n",
       "      <td>An old man is on a boat moving</td>\n",
       "      <td>121</td>\n",
       "    </tr>\n",
       "    <tr>\n",
       "      <th>201</th>\n",
       "      <td>audio/8_5533_1_82_02_211104-222444_bem_901_eli...</td>\n",
       "      <td>Cilepala kwati fibusa</td>\n",
       "      <td>They seem to be friends.</td>\n",
       "      <td>82</td>\n",
       "    </tr>\n",
       "    <tr>\n",
       "      <th>265</th>\n",
       "      <td>audio/12_2970_0_121_01_211101-025359_bem_bd6_e...</td>\n",
       "      <td>imbwa shibili shileangala</td>\n",
       "      <td>dogs are playing</td>\n",
       "      <td>121</td>\n",
       "    </tr>\n",
       "    <tr>\n",
       "      <th>555</th>\n",
       "      <td>audio/762_1_02_211011-173036_bem_81c_elicit_0.wav</td>\n",
       "      <td>Umukashana alemoneka ekele fye mwenso mwenso.</td>\n",
       "      <td>The lady looks scared</td>\n",
       "      <td>12</td>\n",
       "    </tr>\n",
       "    <tr>\n",
       "      <th>720</th>\n",
       "      <td>audio/5_1168_0_51_01_211102-090024_bem_e3a_eli...</td>\n",
       "      <td>Imbwa ili mumpanga.</td>\n",
       "      <td>a dog is in the Forest</td>\n",
       "      <td>51</td>\n",
       "    </tr>\n",
       "  </tbody>\n",
       "</table>\n",
       "</div>"
      ],
      "text/plain": [
       "                                                 audio  \\\n",
       "120  audio/12_2751_0_121_01_211024-133017_bem_bd6_e...   \n",
       "201  audio/8_5533_1_82_02_211104-222444_bem_901_eli...   \n",
       "265  audio/12_2970_0_121_01_211101-025359_bem_bd6_e...   \n",
       "555  audio/762_1_02_211011-173036_bem_81c_elicit_0.wav   \n",
       "720  audio/5_1168_0_51_01_211102-090024_bem_e3a_eli...   \n",
       "\n",
       "                                          sentence  \\\n",
       "120             bashikulu bantu baleendela pabwato   \n",
       "201                          Cilepala kwati fibusa   \n",
       "265                      imbwa shibili shileangala   \n",
       "555  Umukashana alemoneka ekele fye mwenso mwenso.   \n",
       "720                            Imbwa ili mumpanga.   \n",
       "\n",
       "                        translation  speaker_id  \n",
       "120  An old man is on a boat moving         121  \n",
       "201        They seem to be friends.          82  \n",
       "265                dogs are playing         121  \n",
       "555           The lady looks scared          12  \n",
       "720          a dog is in the Forest          51  "
      ]
     },
     "execution_count": 232,
     "metadata": {},
     "output_type": "execute_result"
    }
   ],
   "source": [
    "df_val_train_overlap.head()"
   ]
  },
  {
   "cell_type": "code",
   "execution_count": 233,
   "id": "5d5bee11-ad0c-4aaa-9ca8-bed11ca289a5",
   "metadata": {},
   "outputs": [
    {
     "data": {
      "text/plain": [
       "(25, 4)"
      ]
     },
     "execution_count": 233,
     "metadata": {},
     "output_type": "execute_result"
    }
   ],
   "source": [
    "df_val_train_overlap.shape"
   ]
  },
  {
   "cell_type": "code",
   "execution_count": 234,
   "id": "2ccbcc1d-74bd-49e9-b865-3864c281331e",
   "metadata": {},
   "outputs": [],
   "source": [
    "df_val_test = df_val[df_val[\"sentence\"].isin(df_test[\"sentence\"].unique().tolist())]"
   ]
  },
  {
   "cell_type": "code",
   "execution_count": 235,
   "id": "6050693e-51ca-4890-b5a1-c928e9072949",
   "metadata": {},
   "outputs": [
    {
     "data": {
      "text/html": [
       "<div>\n",
       "<style scoped>\n",
       "    .dataframe tbody tr th:only-of-type {\n",
       "        vertical-align: middle;\n",
       "    }\n",
       "\n",
       "    .dataframe tbody tr th {\n",
       "        vertical-align: top;\n",
       "    }\n",
       "\n",
       "    .dataframe thead th {\n",
       "        text-align: right;\n",
       "    }\n",
       "</style>\n",
       "<table border=\"1\" class=\"dataframe\">\n",
       "  <thead>\n",
       "    <tr style=\"text-align: right;\">\n",
       "      <th></th>\n",
       "      <th>audio</th>\n",
       "      <th>sentence</th>\n",
       "      <th>translation</th>\n",
       "      <th>speaker_id</th>\n",
       "    </tr>\n",
       "  </thead>\n",
       "  <tbody>\n",
       "  </tbody>\n",
       "</table>\n",
       "</div>"
      ],
      "text/plain": [
       "Empty DataFrame\n",
       "Columns: [audio, sentence, translation, speaker_id]\n",
       "Index: []"
      ]
     },
     "execution_count": 235,
     "metadata": {},
     "output_type": "execute_result"
    }
   ],
   "source": [
    "df_val_test.head()"
   ]
  },
  {
   "cell_type": "code",
   "execution_count": 236,
   "id": "eb74df5b-3c30-4389-bf66-ffb401e1704c",
   "metadata": {},
   "outputs": [],
   "source": [
    "df_train_val = df_train[df_train[\"sentence\"].isin(df_val[\"sentence\"].unique().tolist())]"
   ]
  },
  {
   "cell_type": "code",
   "execution_count": 237,
   "id": "d1e36c47-cdaa-4784-85f2-dc439cbb87a7",
   "metadata": {},
   "outputs": [
    {
     "data": {
      "text/plain": [
       "(51, 4)"
      ]
     },
     "execution_count": 237,
     "metadata": {},
     "output_type": "execute_result"
    }
   ],
   "source": [
    "df_train_val.shape"
   ]
  },
  {
   "cell_type": "code",
   "execution_count": 238,
   "id": "1dff1334-b9cb-4017-b9b4-b1349a80c2de",
   "metadata": {},
   "outputs": [],
   "source": [
    "df_train_test = df_train[df_train[\"sentence\"].isin(df_test[\"sentence\"].unique().tolist())]"
   ]
  },
  {
   "cell_type": "code",
   "execution_count": 239,
   "id": "908d80ad-32f7-41fc-bd69-aeb795d659e9",
   "metadata": {},
   "outputs": [
    {
     "data": {
      "text/plain": [
       "(45, 4)"
      ]
     },
     "execution_count": 239,
     "metadata": {},
     "output_type": "execute_result"
    }
   ],
   "source": [
    "df_train_test.shape"
   ]
  },
  {
   "cell_type": "code",
   "execution_count": 240,
   "id": "26327c4c-cde3-4244-ab4e-db1beb097b70",
   "metadata": {},
   "outputs": [],
   "source": [
    "df_test_train = df_test[df_test[\"sentence\"].isin(df_train[\"sentence\"].unique().tolist())]"
   ]
  },
  {
   "cell_type": "code",
   "execution_count": 241,
   "id": "4ec7d64d-b805-4fc0-9dcf-b184d94b2706",
   "metadata": {},
   "outputs": [
    {
     "data": {
      "text/plain": [
       "(16, 4)"
      ]
     },
     "execution_count": 241,
     "metadata": {},
     "output_type": "execute_result"
    }
   ],
   "source": [
    "df_test_train.shape"
   ]
  },
  {
   "cell_type": "code",
   "execution_count": 242,
   "id": "4a164cab-8f42-4ea7-9455-1f15f30e0a34",
   "metadata": {},
   "outputs": [
    {
     "data": {
      "text/html": [
       "<div>\n",
       "<style scoped>\n",
       "    .dataframe tbody tr th:only-of-type {\n",
       "        vertical-align: middle;\n",
       "    }\n",
       "\n",
       "    .dataframe tbody tr th {\n",
       "        vertical-align: top;\n",
       "    }\n",
       "\n",
       "    .dataframe thead th {\n",
       "        text-align: right;\n",
       "    }\n",
       "</style>\n",
       "<table border=\"1\" class=\"dataframe\">\n",
       "  <thead>\n",
       "    <tr style=\"text-align: right;\">\n",
       "      <th></th>\n",
       "      <th>audio</th>\n",
       "      <th>sentence</th>\n",
       "      <th>translation</th>\n",
       "      <th>speaker_id</th>\n",
       "    </tr>\n",
       "  </thead>\n",
       "  <tbody>\n",
       "    <tr>\n",
       "      <th>167</th>\n",
       "      <td>audio/8_1925_0_81_01_211031-100405_bem_abe_eli...</td>\n",
       "      <td>Umwaume alecofa incinga</td>\n",
       "      <td>A young man is riding a bicycle.</td>\n",
       "      <td>81</td>\n",
       "    </tr>\n",
       "    <tr>\n",
       "      <th>378</th>\n",
       "      <td>audio/32_10393_1_322_02_220324-002458_bem_c25_...</td>\n",
       "      <td>Bushe uyu umwaume no mwanakashi fyakufwala nsh...</td>\n",
       "      <td>What clothes are this man and woman wearing?</td>\n",
       "      <td>322</td>\n",
       "    </tr>\n",
       "    <tr>\n",
       "      <th>448</th>\n",
       "      <td>audio/8_5696_0_81_01_211102-102600_bem_ce8_eli...</td>\n",
       "      <td>Umulumendo ali pamenshi</td>\n",
       "      <td>A young man is in water.</td>\n",
       "      <td>81</td>\n",
       "    </tr>\n",
       "    <tr>\n",
       "      <th>630</th>\n",
       "      <td>audio/1_20_1_12_02_211025-222323_bem_d90_elici...</td>\n",
       "      <td>Bushe finshi filecitika?</td>\n",
       "      <td>What  exactly is happening?</td>\n",
       "      <td>12</td>\n",
       "    </tr>\n",
       "    <tr>\n",
       "      <th>739</th>\n",
       "      <td>audio/330_0_01_211015-235340_bem_9d4_elicit_0.wav</td>\n",
       "      <td>Umukashana ali mu muputule wa kwipikilamo.</td>\n",
       "      <td>A young girl is in the kitchen.</td>\n",
       "      <td>11</td>\n",
       "    </tr>\n",
       "  </tbody>\n",
       "</table>\n",
       "</div>"
      ],
      "text/plain": [
       "                                                 audio  \\\n",
       "167  audio/8_1925_0_81_01_211031-100405_bem_abe_eli...   \n",
       "378  audio/32_10393_1_322_02_220324-002458_bem_c25_...   \n",
       "448  audio/8_5696_0_81_01_211102-102600_bem_ce8_eli...   \n",
       "630  audio/1_20_1_12_02_211025-222323_bem_d90_elici...   \n",
       "739  audio/330_0_01_211015-235340_bem_9d4_elicit_0.wav   \n",
       "\n",
       "                                              sentence  \\\n",
       "167                            Umwaume alecofa incinga   \n",
       "378  Bushe uyu umwaume no mwanakashi fyakufwala nsh...   \n",
       "448                            Umulumendo ali pamenshi   \n",
       "630                           Bushe finshi filecitika?   \n",
       "739         Umukashana ali mu muputule wa kwipikilamo.   \n",
       "\n",
       "                                      translation  speaker_id  \n",
       "167              A young man is riding a bicycle.          81  \n",
       "378  What clothes are this man and woman wearing?         322  \n",
       "448                      A young man is in water.          81  \n",
       "630                   What  exactly is happening?          12  \n",
       "739               A young girl is in the kitchen.          11  "
      ]
     },
     "execution_count": 242,
     "metadata": {},
     "output_type": "execute_result"
    }
   ],
   "source": [
    "df_test_train.head()"
   ]
  },
  {
   "cell_type": "code",
   "execution_count": 243,
   "id": "2ae89e89-b7ad-422c-9779-42ee7b7a7334",
   "metadata": {},
   "outputs": [
    {
     "data": {
      "text/html": [
       "<div>\n",
       "<style scoped>\n",
       "    .dataframe tbody tr th:only-of-type {\n",
       "        vertical-align: middle;\n",
       "    }\n",
       "\n",
       "    .dataframe tbody tr th {\n",
       "        vertical-align: top;\n",
       "    }\n",
       "\n",
       "    .dataframe thead th {\n",
       "        text-align: right;\n",
       "    }\n",
       "</style>\n",
       "<table border=\"1\" class=\"dataframe\">\n",
       "  <thead>\n",
       "    <tr style=\"text-align: right;\">\n",
       "      <th></th>\n",
       "      <th>audio</th>\n",
       "      <th>sentence</th>\n",
       "      <th>translation</th>\n",
       "      <th>speaker_id</th>\n",
       "    </tr>\n",
       "  </thead>\n",
       "  <tbody>\n",
       "    <tr>\n",
       "      <th>34580</th>\n",
       "      <td>audio/35_11049_1_352_02_220117-183806_bem_f12_...</td>\n",
       "      <td>Bushe finshi filecitika?</td>\n",
       "      <td>What are they doing?</td>\n",
       "      <td>352</td>\n",
       "    </tr>\n",
       "    <tr>\n",
       "      <th>41667</th>\n",
       "      <td>audio/9_2006_2_91_01_211024-163655_bem_ebf_eli...</td>\n",
       "      <td>Bushe finshi filecitika?</td>\n",
       "      <td>What is happening?</td>\n",
       "      <td>91</td>\n",
       "    </tr>\n",
       "    <tr>\n",
       "      <th>45134</th>\n",
       "      <td>audio/1_31_1_12_02_211026-093457_bem_d90_elici...</td>\n",
       "      <td>Bushe finshi filecitika?</td>\n",
       "      <td>what exactly is happening?</td>\n",
       "      <td>12</td>\n",
       "    </tr>\n",
       "    <tr>\n",
       "      <th>52485</th>\n",
       "      <td>audio/9_5872_2_91_01_211030-101512_bem_901_eli...</td>\n",
       "      <td>Bushe finshi filecitika?</td>\n",
       "      <td>what are they doing?</td>\n",
       "      <td>91</td>\n",
       "    </tr>\n",
       "    <tr>\n",
       "      <th>69659</th>\n",
       "      <td>audio/35_10964_3_352_02_220117-170336_bem_f12_...</td>\n",
       "      <td>Bushe finshi filecitika?</td>\n",
       "      <td>What is happening?</td>\n",
       "      <td>352</td>\n",
       "    </tr>\n",
       "  </tbody>\n",
       "</table>\n",
       "</div>"
      ],
      "text/plain": [
       "                                                   audio  \\\n",
       "34580  audio/35_11049_1_352_02_220117-183806_bem_f12_...   \n",
       "41667  audio/9_2006_2_91_01_211024-163655_bem_ebf_eli...   \n",
       "45134  audio/1_31_1_12_02_211026-093457_bem_d90_elici...   \n",
       "52485  audio/9_5872_2_91_01_211030-101512_bem_901_eli...   \n",
       "69659  audio/35_10964_3_352_02_220117-170336_bem_f12_...   \n",
       "\n",
       "                       sentence                 translation  speaker_id  \n",
       "34580  Bushe finshi filecitika?        What are they doing?         352  \n",
       "41667  Bushe finshi filecitika?          What is happening?          91  \n",
       "45134  Bushe finshi filecitika?  what exactly is happening?          12  \n",
       "52485  Bushe finshi filecitika?        what are they doing?          91  \n",
       "69659  Bushe finshi filecitika?          What is happening?         352  "
      ]
     },
     "execution_count": 243,
     "metadata": {},
     "output_type": "execute_result"
    }
   ],
   "source": [
    "df_train_test[df_train_test[\"sentence\"]==\"Bushe finshi filecitika?\"]"
   ]
  },
  {
   "cell_type": "code",
   "execution_count": 244,
   "id": "50c14a19-f57b-4fab-8ef4-0630e637442d",
   "metadata": {},
   "outputs": [
    {
     "data": {
      "text/html": [
       "<div>\n",
       "<style scoped>\n",
       "    .dataframe tbody tr th:only-of-type {\n",
       "        vertical-align: middle;\n",
       "    }\n",
       "\n",
       "    .dataframe tbody tr th {\n",
       "        vertical-align: top;\n",
       "    }\n",
       "\n",
       "    .dataframe thead th {\n",
       "        text-align: right;\n",
       "    }\n",
       "</style>\n",
       "<table border=\"1\" class=\"dataframe\">\n",
       "  <thead>\n",
       "    <tr style=\"text-align: right;\">\n",
       "      <th></th>\n",
       "      <th>audio_id</th>\n",
       "      <th>sentence</th>\n",
       "      <th>translation</th>\n",
       "      <th>speaker_id</th>\n",
       "    </tr>\n",
       "  </thead>\n",
       "  <tbody>\n",
       "  </tbody>\n",
       "</table>\n",
       "</div>"
      ],
      "text/plain": [
       "Empty DataFrame\n",
       "Columns: [audio_id, sentence, translation, speaker_id]\n",
       "Index: []"
      ]
     },
     "execution_count": 244,
     "metadata": {},
     "output_type": "execute_result"
    }
   ],
   "source": [
    "df_test_val"
   ]
  },
  {
   "cell_type": "markdown",
   "id": "fadda4ef-290e-44c2-9fe7-87df5da0dd02",
   "metadata": {},
   "source": [
    "### Removing test data that is overlapped with train data"
   ]
  },
  {
   "cell_type": "code",
   "execution_count": 245,
   "id": "6fa0a82f-6927-4b5a-9a76-d6ae2c3d229d",
   "metadata": {},
   "outputs": [],
   "source": [
    "df_test_clean = df_test[~df_test[\"sentence\"].isin(df_train[\"sentence\"].unique().tolist())].reset_index(drop=True)"
   ]
  },
  {
   "cell_type": "code",
   "execution_count": 246,
   "id": "a26fd8c1-4762-43bf-b40f-71ff63136e98",
   "metadata": {},
   "outputs": [
    {
     "data": {
      "text/html": [
       "<div>\n",
       "<style scoped>\n",
       "    .dataframe tbody tr th:only-of-type {\n",
       "        vertical-align: middle;\n",
       "    }\n",
       "\n",
       "    .dataframe tbody tr th {\n",
       "        vertical-align: top;\n",
       "    }\n",
       "\n",
       "    .dataframe thead th {\n",
       "        text-align: right;\n",
       "    }\n",
       "</style>\n",
       "<table border=\"1\" class=\"dataframe\">\n",
       "  <thead>\n",
       "    <tr style=\"text-align: right;\">\n",
       "      <th></th>\n",
       "      <th>audio</th>\n",
       "      <th>sentence</th>\n",
       "      <th>translation</th>\n",
       "      <th>speaker_id</th>\n",
       "    </tr>\n",
       "  </thead>\n",
       "  <tbody>\n",
       "    <tr>\n",
       "      <th>0</th>\n",
       "      <td>audio/15_7474_3_152_02_211030-180248_bem_8cc_e...</td>\n",
       "      <td>nafwala na amakalashi ku menso</td>\n",
       "      <td>he is wearing glasses as well</td>\n",
       "      <td>152</td>\n",
       "    </tr>\n",
       "    <tr>\n",
       "      <th>1</th>\n",
       "      <td>audio/10_2345_0_101_01_211028-193045_bem_ddd_e...</td>\n",
       "      <td>Imbwa iyafonka pamoona, ilebutuka palunkoto lw...</td>\n",
       "      <td>A dog with a wide nose is running on the lawns...</td>\n",
       "      <td>101</td>\n",
       "    </tr>\n",
       "    <tr>\n",
       "      <th>2</th>\n",
       "      <td>audio/34_5026_3_342_02_211113-233703_bem_50c_e...</td>\n",
       "      <td>Akamwanakashi nakemya ukuulu mumuulu ukulwisha...</td>\n",
       "      <td>She has her leg in the air attempting to break...</td>\n",
       "      <td>342</td>\n",
       "    </tr>\n",
       "    <tr>\n",
       "      <th>3</th>\n",
       "      <td>audio/149_2_01_210928-115147_bem_dcc_elicit_1.wav</td>\n",
       "      <td>Kunuma yabo kuli notu ma motoka tulya ba bonfy...</td>\n",
       "      <td>There are also small vehicles that they use in...</td>\n",
       "      <td>11</td>\n",
       "    </tr>\n",
       "    <tr>\n",
       "      <th>4</th>\n",
       "      <td>audio/36_11404_1_362_02_220227-135700_bem_d0b_...</td>\n",
       "      <td>abaume Bali pa mutenge yanganda umo afwele ish...</td>\n",
       "      <td>Of the men on the roof of the house, ine is we...</td>\n",
       "      <td>362</td>\n",
       "    </tr>\n",
       "  </tbody>\n",
       "</table>\n",
       "</div>"
      ],
      "text/plain": [
       "                                               audio  \\\n",
       "0  audio/15_7474_3_152_02_211030-180248_bem_8cc_e...   \n",
       "1  audio/10_2345_0_101_01_211028-193045_bem_ddd_e...   \n",
       "2  audio/34_5026_3_342_02_211113-233703_bem_50c_e...   \n",
       "3  audio/149_2_01_210928-115147_bem_dcc_elicit_1.wav   \n",
       "4  audio/36_11404_1_362_02_220227-135700_bem_d0b_...   \n",
       "\n",
       "                                            sentence  \\\n",
       "0                     nafwala na amakalashi ku menso   \n",
       "1  Imbwa iyafonka pamoona, ilebutuka palunkoto lw...   \n",
       "2  Akamwanakashi nakemya ukuulu mumuulu ukulwisha...   \n",
       "3  Kunuma yabo kuli notu ma motoka tulya ba bonfy...   \n",
       "4  abaume Bali pa mutenge yanganda umo afwele ish...   \n",
       "\n",
       "                                         translation  speaker_id  \n",
       "0                      he is wearing glasses as well         152  \n",
       "1  A dog with a wide nose is running on the lawns...         101  \n",
       "2  She has her leg in the air attempting to break...         342  \n",
       "3  There are also small vehicles that they use in...          11  \n",
       "4  Of the men on the roof of the house, ine is we...         362  "
      ]
     },
     "execution_count": 246,
     "metadata": {},
     "output_type": "execute_result"
    }
   ],
   "source": [
    "df_test_clean.head()"
   ]
  },
  {
   "cell_type": "code",
   "execution_count": 247,
   "id": "845368f9-35e3-4aaf-a20d-dbd6da400b2a",
   "metadata": {},
   "outputs": [
    {
     "data": {
      "text/plain": [
       "True"
      ]
     },
     "execution_count": 247,
     "metadata": {},
     "output_type": "execute_result"
    }
   ],
   "source": [
    "df_test_clean.shape[0] == (df_test.shape[0] - 16)"
   ]
  },
  {
   "cell_type": "code",
   "execution_count": 248,
   "id": "71e0240d-4a6f-4439-8e37-931cddc1474b",
   "metadata": {},
   "outputs": [
    {
     "data": {
      "text/plain": [
       "(2782, 4)"
      ]
     },
     "execution_count": 248,
     "metadata": {},
     "output_type": "execute_result"
    }
   ],
   "source": [
    "df_val.shape"
   ]
  },
  {
   "cell_type": "code",
   "execution_count": 249,
   "id": "c04770bf-72ad-469d-8238-40ff19d94090",
   "metadata": {},
   "outputs": [
    {
     "data": {
      "text/html": [
       "<div>\n",
       "<style scoped>\n",
       "    .dataframe tbody tr th:only-of-type {\n",
       "        vertical-align: middle;\n",
       "    }\n",
       "\n",
       "    .dataframe tbody tr th {\n",
       "        vertical-align: top;\n",
       "    }\n",
       "\n",
       "    .dataframe thead th {\n",
       "        text-align: right;\n",
       "    }\n",
       "</style>\n",
       "<table border=\"1\" class=\"dataframe\">\n",
       "  <thead>\n",
       "    <tr style=\"text-align: right;\">\n",
       "      <th></th>\n",
       "      <th>audio</th>\n",
       "      <th>sentence</th>\n",
       "      <th>translation</th>\n",
       "      <th>speaker_id</th>\n",
       "    </tr>\n",
       "  </thead>\n",
       "  <tbody>\n",
       "    <tr>\n",
       "      <th>2777</th>\n",
       "      <td>audio/19_1282_2_191_01_211108-211219_bem_665_e...</td>\n",
       "      <td>Aba banensu basompa imyona nabo, uyu muntu imi...</td>\n",
       "      <td>He has a pointed nose, he looks like a lady</td>\n",
       "      <td>191</td>\n",
       "    </tr>\n",
       "    <tr>\n",
       "      <th>2778</th>\n",
       "      <td>audio/12537_4_01_211102-173234_bem_142_elicit_...</td>\n",
       "      <td>Nibamona mune ala uyu umupungu walilelema kabi...</td>\n",
       "      <td>I have seen it, the rice looks and green, this...</td>\n",
       "      <td>11</td>\n",
       "    </tr>\n",
       "    <tr>\n",
       "      <th>2779</th>\n",
       "      <td>audio/12537_3_02_211102-173208_bem_dcc_elicit_...</td>\n",
       "      <td>Mukumona kwandi mupunga uyu balebyala kumona f...</td>\n",
       "      <td>This should be rice, it's clear because it's h...</td>\n",
       "      <td>12</td>\n",
       "    </tr>\n",
       "    <tr>\n",
       "      <th>2780</th>\n",
       "      <td>audio/12537_2_01_211102-173234_bem_142_elicit_...</td>\n",
       "      <td>Cishinka sana balebomfye n'gombe pakulima kabi...</td>\n",
       "      <td>Yes they are using cows for ploughing and this...</td>\n",
       "      <td>11</td>\n",
       "    </tr>\n",
       "    <tr>\n",
       "      <th>2781</th>\n",
       "      <td>audio/12537_1_02_211102-173208_bem_dcc_elicit_...</td>\n",
       "      <td>Abantu aba balebomfye n'gombe pakulima elo in'...</td>\n",
       "      <td>These people are using very fat cows for ploug...</td>\n",
       "      <td>12</td>\n",
       "    </tr>\n",
       "  </tbody>\n",
       "</table>\n",
       "</div>"
      ],
      "text/plain": [
       "                                                  audio  \\\n",
       "2777  audio/19_1282_2_191_01_211108-211219_bem_665_e...   \n",
       "2778  audio/12537_4_01_211102-173234_bem_142_elicit_...   \n",
       "2779  audio/12537_3_02_211102-173208_bem_dcc_elicit_...   \n",
       "2780  audio/12537_2_01_211102-173234_bem_142_elicit_...   \n",
       "2781  audio/12537_1_02_211102-173208_bem_dcc_elicit_...   \n",
       "\n",
       "                                               sentence  \\\n",
       "2777  Aba banensu basompa imyona nabo, uyu muntu imi...   \n",
       "2778  Nibamona mune ala uyu umupungu walilelema kabi...   \n",
       "2779  Mukumona kwandi mupunga uyu balebyala kumona f...   \n",
       "2780  Cishinka sana balebomfye n'gombe pakulima kabi...   \n",
       "2781  Abantu aba balebomfye n'gombe pakulima elo in'...   \n",
       "\n",
       "                                            translation  speaker_id  \n",
       "2777        He has a pointed nose, he looks like a lady         191  \n",
       "2778  I have seen it, the rice looks and green, this...          11  \n",
       "2779  This should be rice, it's clear because it's h...          12  \n",
       "2780  Yes they are using cows for ploughing and this...          11  \n",
       "2781  These people are using very fat cows for ploug...          12  "
      ]
     },
     "execution_count": 249,
     "metadata": {},
     "output_type": "execute_result"
    }
   ],
   "source": [
    "df_val.tail()"
   ]
  },
  {
   "cell_type": "markdown",
   "id": "63025e91-01b5-42ef-af1d-75d48a9d9545",
   "metadata": {},
   "source": [
    "# Save to CSV "
   ]
  },
  {
   "cell_type": "code",
   "execution_count": 250,
   "id": "84ce0c1e-1e39-4d8c-9513-967ed3e1448b",
   "metadata": {},
   "outputs": [],
   "source": [
    "df_train.to_csv(\"train_v1.csv\", index=False)\n",
    "df_val.to_csv(\"val_v1.csv\", index=False)\n",
    "df_test.to_csv(\"test_v1.csv\", index=False)"
   ]
  },
  {
   "cell_type": "code",
   "execution_count": 251,
   "id": "deae72d5-8799-4d32-aff7-dae70f5cd2b1",
   "metadata": {},
   "outputs": [],
   "source": [
    "df_test_clean.to_csv(\"test_v1_no_overlap.csv\", index=False)"
   ]
  },
  {
   "cell_type": "markdown",
   "id": "295e7935-e2ba-43be-9999-bedff764de54",
   "metadata": {},
   "source": [
    "# Push it to HF"
   ]
  },
  {
   "cell_type": "code",
   "execution_count": 254,
   "id": "fa3b7d7d-e4e3-49b7-b107-cea93a5aa31b",
   "metadata": {},
   "outputs": [],
   "source": [
    "train_dataset = Dataset.from_pandas(df_train)\n",
    "val_dataset = Dataset.from_pandas(df_val)\n",
    "test_dataset = Dataset.from_pandas(df_test_clean)"
   ]
  },
  {
   "cell_type": "code",
   "execution_count": 255,
   "id": "1e583a3b-de77-4f36-877f-42a096f16888",
   "metadata": {},
   "outputs": [
    {
     "data": {
      "text/plain": [
       "Dataset({\n",
       "    features: ['audio', 'sentence', 'translation', 'speaker_id'],\n",
       "    num_rows: 82371\n",
       "})"
      ]
     },
     "execution_count": 255,
     "metadata": {},
     "output_type": "execute_result"
    }
   ],
   "source": [
    "train_dataset"
   ]
  },
  {
   "cell_type": "code",
   "execution_count": 256,
   "id": "257b0629-371b-406a-a577-77121f6ae735",
   "metadata": {
    "scrolled": true
   },
   "outputs": [
    {
     "data": {
      "text/plain": [
       "Dataset({\n",
       "    features: ['audio', 'sentence', 'translation', 'speaker_id'],\n",
       "    num_rows: 2782\n",
       "})"
      ]
     },
     "execution_count": 256,
     "metadata": {},
     "output_type": "execute_result"
    }
   ],
   "source": [
    "val_dataset"
   ]
  },
  {
   "cell_type": "code",
   "execution_count": 257,
   "id": "a4cfd068-e692-4113-9dfb-a9cf334fb558",
   "metadata": {},
   "outputs": [
    {
     "data": {
      "text/plain": [
       "Dataset({\n",
       "    features: ['audio', 'sentence', 'translation', 'speaker_id'],\n",
       "    num_rows: 2763\n",
       "})"
      ]
     },
     "execution_count": 257,
     "metadata": {},
     "output_type": "execute_result"
    }
   ],
   "source": [
    "test_dataset"
   ]
  },
  {
   "cell_type": "code",
   "execution_count": 258,
   "id": "9686bdac-9a1d-45ce-985d-b7cd8733b478",
   "metadata": {},
   "outputs": [],
   "source": [
    "#convert to Audio\n",
    "train_dataset = train_dataset.cast_column(\"audio\", Audio())\n",
    "val_dataset = val_dataset.cast_column(\"audio\", Audio())\n",
    "test_dataset = test_dataset.cast_column(\"audio\", Audio())"
   ]
  },
  {
   "cell_type": "code",
   "execution_count": 259,
   "id": "8c8ef8aa-8e76-4196-88a1-0c9ffcb3adf0",
   "metadata": {},
   "outputs": [
    {
     "data": {
      "text/plain": [
       "{'path': 'audio/15_7474_3_152_02_211030-180248_bem_8cc_elicit_1.wav',\n",
       " 'array': array([ 0.00000000e+00,  0.00000000e+00,  0.00000000e+00, ...,\n",
       "        -9.15527344e-05, -6.10351562e-05, -6.10351562e-05]),\n",
       " 'sampling_rate': 16000}"
      ]
     },
     "execution_count": 259,
     "metadata": {},
     "output_type": "execute_result"
    }
   ],
   "source": [
    "test_dataset[0][\"audio\"]"
   ]
  },
  {
   "cell_type": "code",
   "execution_count": 260,
   "id": "6c521102-b726-4324-b3af-12417143f216",
   "metadata": {},
   "outputs": [],
   "source": [
    "dataset_dict = DatasetDict({\n",
    "    \"train\": train_dataset,\n",
    "    \"val\": val_dataset,\n",
    "    \"test\": test_dataset\n",
    "})"
   ]
  },
  {
   "cell_type": "code",
   "execution_count": 262,
   "id": "3a5439ca-c73d-4e99-a074-35b76348236c",
   "metadata": {},
   "outputs": [
    {
     "data": {
      "application/vnd.jupyter.widget-view+json": {
       "model_id": "eba8b60d89c342688c22f724fd9ead4a",
       "version_major": 2,
       "version_minor": 0
      },
      "text/plain": [
       "VBox(children=(HTML(value='<center> <img\\nsrc=https://huggingface.co/front/assets/huggingface_logo-noborder.sv…"
      ]
     },
     "metadata": {},
     "output_type": "display_data"
    }
   ],
   "source": [
    "from huggingface_hub import notebook_login\n",
    "\n",
    "notebook_login()"
   ]
  },
  {
   "cell_type": "code",
   "execution_count": 263,
   "id": "5098bcd2-a7bc-4a9f-aa03-1b8729dafb3d",
   "metadata": {},
   "outputs": [
    {
     "name": "stdout",
     "output_type": "stream",
     "text": [
      "{'type': 'user', 'id': '6573e3d7244aefdfc476f07a', 'name': 'cobrayyxx', 'fullname': 'M Hazim AF', 'email': 'muhammadhazim86@gmail.com', 'emailVerified': True, 'canPay': False, 'periodEnd': None, 'isPro': False, 'avatarUrl': '/avatars/16ef7a7d5351781180384c7f5b4ef392.svg', 'orgs': [{'type': 'org', 'id': '643e51141d0e956d94baaade', 'name': 'kreasof-ai', 'fullname': 'Kreasof AI', 'email': None, 'canPay': False, 'periodEnd': None, 'avatarUrl': 'https://cdn-avatars.huggingface.co/v1/production/uploads/63b6f2e752c02ae8acbaa4d8/r_B-tRS854Qo5EOURHxL4.png', 'roleInOrg': 'write', 'isEnterprise': False}, {'type': 'org', 'id': '67a769f44edabdd17b5c169b', 'name': 'SpeechT', 'fullname': 'SpeechT', 'email': None, 'canPay': False, 'periodEnd': None, 'avatarUrl': 'https://cdn-avatars.huggingface.co/v1/production/uploads/618c42e4f35289d4bcab9cf1/m1k2sALFEwa9B2McXNyOi.png', 'roleInOrg': 'read', 'isEnterprise': False}], 'auth': {'type': 'access_token', 'accessToken': {'displayName': 'colab', 'role': 'write', 'createdAt': '2025-03-15T04:44:17.863Z'}}}\n"
     ]
    }
   ],
   "source": [
    "from huggingface_hub import whoami\n",
    "\n",
    "print(whoami()) "
   ]
  },
  {
   "cell_type": "code",
   "execution_count": 264,
   "id": "1f95edbb-45d8-4394-9336-4a1746ec2d35",
   "metadata": {},
   "outputs": [
    {
     "data": {
      "application/vnd.jupyter.widget-view+json": {
       "model_id": "7b45a8e0a168497ab03e9e853a8b9dc2",
       "version_major": 2,
       "version_minor": 0
      },
      "text/plain": [
       "Uploading the dataset shards:   0%|          | 0/41 [00:00<?, ?it/s]"
      ]
     },
     "metadata": {},
     "output_type": "display_data"
    },
    {
     "data": {
      "application/vnd.jupyter.widget-view+json": {
       "model_id": "d322741a37c94b168106df5409b0fe6f",
       "version_major": 2,
       "version_minor": 0
      },
      "text/plain": [
       "Map:   0%|          | 0/2010 [00:00<?, ? examples/s]"
      ]
     },
     "metadata": {},
     "output_type": "display_data"
    },
    {
     "data": {
      "application/vnd.jupyter.widget-view+json": {
       "model_id": "c231c53fcc604114b834463c679dc2f1",
       "version_major": 2,
       "version_minor": 0
      },
      "text/plain": [
       "Creating parquet from Arrow format:   0%|          | 0/21 [00:00<?, ?ba/s]"
      ]
     },
     "metadata": {},
     "output_type": "display_data"
    },
    {
     "data": {
      "application/vnd.jupyter.widget-view+json": {
       "model_id": "31f7478e468e4cdbb8230634f50bb21f",
       "version_major": 2,
       "version_minor": 0
      },
      "text/plain": [
       "Map:   0%|          | 0/2010 [00:00<?, ? examples/s]"
      ]
     },
     "metadata": {},
     "output_type": "display_data"
    },
    {
     "data": {
      "application/vnd.jupyter.widget-view+json": {
       "model_id": "a5d4562860994e66ab79538dcb6af740",
       "version_major": 2,
       "version_minor": 0
      },
      "text/plain": [
       "Creating parquet from Arrow format:   0%|          | 0/21 [00:00<?, ?ba/s]"
      ]
     },
     "metadata": {},
     "output_type": "display_data"
    },
    {
     "data": {
      "application/vnd.jupyter.widget-view+json": {
       "model_id": "7c55b61782a2478d919bfec08b465f53",
       "version_major": 2,
       "version_minor": 0
      },
      "text/plain": [
       "Map:   0%|          | 0/2009 [00:00<?, ? examples/s]"
      ]
     },
     "metadata": {},
     "output_type": "display_data"
    },
    {
     "data": {
      "application/vnd.jupyter.widget-view+json": {
       "model_id": "202a5c97950e49b4a474ec3ff9769e30",
       "version_major": 2,
       "version_minor": 0
      },
      "text/plain": [
       "Creating parquet from Arrow format:   0%|          | 0/21 [00:00<?, ?ba/s]"
      ]
     },
     "metadata": {},
     "output_type": "display_data"
    },
    {
     "data": {
      "application/vnd.jupyter.widget-view+json": {
       "model_id": "16240b4ccf77447b82546a3e9d8975d5",
       "version_major": 2,
       "version_minor": 0
      },
      "text/plain": [
       "Map:   0%|          | 0/2009 [00:00<?, ? examples/s]"
      ]
     },
     "metadata": {},
     "output_type": "display_data"
    },
    {
     "data": {
      "application/vnd.jupyter.widget-view+json": {
       "model_id": "9f1feae6011c4c21948d7abb94f2eb81",
       "version_major": 2,
       "version_minor": 0
      },
      "text/plain": [
       "Creating parquet from Arrow format:   0%|          | 0/21 [00:00<?, ?ba/s]"
      ]
     },
     "metadata": {},
     "output_type": "display_data"
    },
    {
     "data": {
      "application/vnd.jupyter.widget-view+json": {
       "model_id": "35d1319e38ea4caebb951c370625a0d4",
       "version_major": 2,
       "version_minor": 0
      },
      "text/plain": [
       "Map:   0%|          | 0/2009 [00:00<?, ? examples/s]"
      ]
     },
     "metadata": {},
     "output_type": "display_data"
    },
    {
     "data": {
      "application/vnd.jupyter.widget-view+json": {
       "model_id": "cafc393f279245bbbd2eca59aa573c53",
       "version_major": 2,
       "version_minor": 0
      },
      "text/plain": [
       "Creating parquet from Arrow format:   0%|          | 0/21 [00:00<?, ?ba/s]"
      ]
     },
     "metadata": {},
     "output_type": "display_data"
    },
    {
     "data": {
      "application/vnd.jupyter.widget-view+json": {
       "model_id": "2fd8b4d7bcfa49cc996a1fab574fe10c",
       "version_major": 2,
       "version_minor": 0
      },
      "text/plain": [
       "Map:   0%|          | 0/2009 [00:00<?, ? examples/s]"
      ]
     },
     "metadata": {},
     "output_type": "display_data"
    },
    {
     "data": {
      "application/vnd.jupyter.widget-view+json": {
       "model_id": "df2f8c7e18904aa5823a67920984723d",
       "version_major": 2,
       "version_minor": 0
      },
      "text/plain": [
       "Creating parquet from Arrow format:   0%|          | 0/21 [00:00<?, ?ba/s]"
      ]
     },
     "metadata": {},
     "output_type": "display_data"
    },
    {
     "data": {
      "application/vnd.jupyter.widget-view+json": {
       "model_id": "66bd47d86a02496e9844626b210b330d",
       "version_major": 2,
       "version_minor": 0
      },
      "text/plain": [
       "Map:   0%|          | 0/2009 [00:00<?, ? examples/s]"
      ]
     },
     "metadata": {},
     "output_type": "display_data"
    },
    {
     "data": {
      "application/vnd.jupyter.widget-view+json": {
       "model_id": "cfd3f148427d45cfbfad386a130f41cc",
       "version_major": 2,
       "version_minor": 0
      },
      "text/plain": [
       "Creating parquet from Arrow format:   0%|          | 0/21 [00:00<?, ?ba/s]"
      ]
     },
     "metadata": {},
     "output_type": "display_data"
    },
    {
     "data": {
      "application/vnd.jupyter.widget-view+json": {
       "model_id": "a7c0830830054ef8a4df6793e6646c06",
       "version_major": 2,
       "version_minor": 0
      },
      "text/plain": [
       "Map:   0%|          | 0/2009 [00:00<?, ? examples/s]"
      ]
     },
     "metadata": {},
     "output_type": "display_data"
    },
    {
     "data": {
      "application/vnd.jupyter.widget-view+json": {
       "model_id": "2023a5acc19840dd8a73a50c79fe76d3",
       "version_major": 2,
       "version_minor": 0
      },
      "text/plain": [
       "Creating parquet from Arrow format:   0%|          | 0/21 [00:00<?, ?ba/s]"
      ]
     },
     "metadata": {},
     "output_type": "display_data"
    },
    {
     "data": {
      "application/vnd.jupyter.widget-view+json": {
       "model_id": "1cf077139d7e416280095039359d0f8d",
       "version_major": 2,
       "version_minor": 0
      },
      "text/plain": [
       "Map:   0%|          | 0/2009 [00:00<?, ? examples/s]"
      ]
     },
     "metadata": {},
     "output_type": "display_data"
    },
    {
     "data": {
      "application/vnd.jupyter.widget-view+json": {
       "model_id": "aa414f63991c46a59540cfad3417bfe7",
       "version_major": 2,
       "version_minor": 0
      },
      "text/plain": [
       "Creating parquet from Arrow format:   0%|          | 0/21 [00:00<?, ?ba/s]"
      ]
     },
     "metadata": {},
     "output_type": "display_data"
    },
    {
     "data": {
      "application/vnd.jupyter.widget-view+json": {
       "model_id": "baa5deb00e734f0d87ced1ab69c247f4",
       "version_major": 2,
       "version_minor": 0
      },
      "text/plain": [
       "Map:   0%|          | 0/2009 [00:00<?, ? examples/s]"
      ]
     },
     "metadata": {},
     "output_type": "display_data"
    },
    {
     "data": {
      "application/vnd.jupyter.widget-view+json": {
       "model_id": "07cf9e15dee14761894f7c16889456f9",
       "version_major": 2,
       "version_minor": 0
      },
      "text/plain": [
       "Creating parquet from Arrow format:   0%|          | 0/21 [00:00<?, ?ba/s]"
      ]
     },
     "metadata": {},
     "output_type": "display_data"
    },
    {
     "data": {
      "application/vnd.jupyter.widget-view+json": {
       "model_id": "51d725d4986948e0998b35c714924fb4",
       "version_major": 2,
       "version_minor": 0
      },
      "text/plain": [
       "Map:   0%|          | 0/2009 [00:00<?, ? examples/s]"
      ]
     },
     "metadata": {},
     "output_type": "display_data"
    },
    {
     "data": {
      "application/vnd.jupyter.widget-view+json": {
       "model_id": "11c5e41172d94cff9ea0560c0da8c5d6",
       "version_major": 2,
       "version_minor": 0
      },
      "text/plain": [
       "Creating parquet from Arrow format:   0%|          | 0/21 [00:00<?, ?ba/s]"
      ]
     },
     "metadata": {},
     "output_type": "display_data"
    },
    {
     "data": {
      "application/vnd.jupyter.widget-view+json": {
       "model_id": "396fce759c7647e79846c573e471c311",
       "version_major": 2,
       "version_minor": 0
      },
      "text/plain": [
       "Map:   0%|          | 0/2009 [00:00<?, ? examples/s]"
      ]
     },
     "metadata": {},
     "output_type": "display_data"
    },
    {
     "data": {
      "application/vnd.jupyter.widget-view+json": {
       "model_id": "bd81dd985e564efd8015626a35044d4b",
       "version_major": 2,
       "version_minor": 0
      },
      "text/plain": [
       "Creating parquet from Arrow format:   0%|          | 0/21 [00:00<?, ?ba/s]"
      ]
     },
     "metadata": {},
     "output_type": "display_data"
    },
    {
     "data": {
      "application/vnd.jupyter.widget-view+json": {
       "model_id": "35fecf4f85964cabbe23160c86d48028",
       "version_major": 2,
       "version_minor": 0
      },
      "text/plain": [
       "Map:   0%|          | 0/2009 [00:00<?, ? examples/s]"
      ]
     },
     "metadata": {},
     "output_type": "display_data"
    },
    {
     "data": {
      "application/vnd.jupyter.widget-view+json": {
       "model_id": "e0210b4fdc864b26b957234056d200c7",
       "version_major": 2,
       "version_minor": 0
      },
      "text/plain": [
       "Creating parquet from Arrow format:   0%|          | 0/21 [00:00<?, ?ba/s]"
      ]
     },
     "metadata": {},
     "output_type": "display_data"
    },
    {
     "data": {
      "application/vnd.jupyter.widget-view+json": {
       "model_id": "a2df2616199448dcbbff0455f5221706",
       "version_major": 2,
       "version_minor": 0
      },
      "text/plain": [
       "Map:   0%|          | 0/2009 [00:00<?, ? examples/s]"
      ]
     },
     "metadata": {},
     "output_type": "display_data"
    },
    {
     "data": {
      "application/vnd.jupyter.widget-view+json": {
       "model_id": "58e40cacf8b943ad814d134f760ba8cd",
       "version_major": 2,
       "version_minor": 0
      },
      "text/plain": [
       "Creating parquet from Arrow format:   0%|          | 0/21 [00:00<?, ?ba/s]"
      ]
     },
     "metadata": {},
     "output_type": "display_data"
    },
    {
     "data": {
      "application/vnd.jupyter.widget-view+json": {
       "model_id": "2fe02bc0831544ada385b66e3b858c41",
       "version_major": 2,
       "version_minor": 0
      },
      "text/plain": [
       "Map:   0%|          | 0/2009 [00:00<?, ? examples/s]"
      ]
     },
     "metadata": {},
     "output_type": "display_data"
    },
    {
     "data": {
      "application/vnd.jupyter.widget-view+json": {
       "model_id": "98e197d46fa64e729a609b24217a1869",
       "version_major": 2,
       "version_minor": 0
      },
      "text/plain": [
       "Creating parquet from Arrow format:   0%|          | 0/21 [00:00<?, ?ba/s]"
      ]
     },
     "metadata": {},
     "output_type": "display_data"
    },
    {
     "data": {
      "application/vnd.jupyter.widget-view+json": {
       "model_id": "844c4069a5344cb69d8ed5d5cd8ce9e3",
       "version_major": 2,
       "version_minor": 0
      },
      "text/plain": [
       "Map:   0%|          | 0/2009 [00:00<?, ? examples/s]"
      ]
     },
     "metadata": {},
     "output_type": "display_data"
    },
    {
     "data": {
      "application/vnd.jupyter.widget-view+json": {
       "model_id": "75954eb2e6324450b17caef84f6b4aa1",
       "version_major": 2,
       "version_minor": 0
      },
      "text/plain": [
       "Creating parquet from Arrow format:   0%|          | 0/21 [00:00<?, ?ba/s]"
      ]
     },
     "metadata": {},
     "output_type": "display_data"
    },
    {
     "data": {
      "application/vnd.jupyter.widget-view+json": {
       "model_id": "b215c428e5a24a589aef7543193a25ac",
       "version_major": 2,
       "version_minor": 0
      },
      "text/plain": [
       "Map:   0%|          | 0/2009 [00:00<?, ? examples/s]"
      ]
     },
     "metadata": {},
     "output_type": "display_data"
    },
    {
     "data": {
      "application/vnd.jupyter.widget-view+json": {
       "model_id": "2026e72995674335b0705274fe37f4d4",
       "version_major": 2,
       "version_minor": 0
      },
      "text/plain": [
       "Creating parquet from Arrow format:   0%|          | 0/21 [00:00<?, ?ba/s]"
      ]
     },
     "metadata": {},
     "output_type": "display_data"
    },
    {
     "data": {
      "application/vnd.jupyter.widget-view+json": {
       "model_id": "d3d3ac6629d744e39997723ef31c13ab",
       "version_major": 2,
       "version_minor": 0
      },
      "text/plain": [
       "Map:   0%|          | 0/2009 [00:00<?, ? examples/s]"
      ]
     },
     "metadata": {},
     "output_type": "display_data"
    },
    {
     "data": {
      "application/vnd.jupyter.widget-view+json": {
       "model_id": "879b22f82eeb4b7bb2629721e4805ab0",
       "version_major": 2,
       "version_minor": 0
      },
      "text/plain": [
       "Creating parquet from Arrow format:   0%|          | 0/21 [00:00<?, ?ba/s]"
      ]
     },
     "metadata": {},
     "output_type": "display_data"
    },
    {
     "data": {
      "application/vnd.jupyter.widget-view+json": {
       "model_id": "c929b8dcb22f4581a3dd6f32c90cbcb9",
       "version_major": 2,
       "version_minor": 0
      },
      "text/plain": [
       "Map:   0%|          | 0/2009 [00:00<?, ? examples/s]"
      ]
     },
     "metadata": {},
     "output_type": "display_data"
    },
    {
     "data": {
      "application/vnd.jupyter.widget-view+json": {
       "model_id": "6ff0e84c146049f592d38207dca02806",
       "version_major": 2,
       "version_minor": 0
      },
      "text/plain": [
       "Creating parquet from Arrow format:   0%|          | 0/21 [00:00<?, ?ba/s]"
      ]
     },
     "metadata": {},
     "output_type": "display_data"
    },
    {
     "data": {
      "application/vnd.jupyter.widget-view+json": {
       "model_id": "1d6d630148b04113a7593996aeea7cb0",
       "version_major": 2,
       "version_minor": 0
      },
      "text/plain": [
       "Map:   0%|          | 0/2009 [00:00<?, ? examples/s]"
      ]
     },
     "metadata": {},
     "output_type": "display_data"
    },
    {
     "data": {
      "application/vnd.jupyter.widget-view+json": {
       "model_id": "a9d126d75ed54f2b8c5945e317d77bdd",
       "version_major": 2,
       "version_minor": 0
      },
      "text/plain": [
       "Creating parquet from Arrow format:   0%|          | 0/21 [00:00<?, ?ba/s]"
      ]
     },
     "metadata": {},
     "output_type": "display_data"
    },
    {
     "data": {
      "application/vnd.jupyter.widget-view+json": {
       "model_id": "b786ec6b3f8f4c739e3277ed47aabfba",
       "version_major": 2,
       "version_minor": 0
      },
      "text/plain": [
       "Map:   0%|          | 0/2009 [00:00<?, ? examples/s]"
      ]
     },
     "metadata": {},
     "output_type": "display_data"
    },
    {
     "data": {
      "application/vnd.jupyter.widget-view+json": {
       "model_id": "6bd18c8da6dd4098ba4a1cfd17045a4d",
       "version_major": 2,
       "version_minor": 0
      },
      "text/plain": [
       "Creating parquet from Arrow format:   0%|          | 0/21 [00:00<?, ?ba/s]"
      ]
     },
     "metadata": {},
     "output_type": "display_data"
    },
    {
     "data": {
      "application/vnd.jupyter.widget-view+json": {
       "model_id": "d3d369ccdf7f423995f1506362c8a198",
       "version_major": 2,
       "version_minor": 0
      },
      "text/plain": [
       "Map:   0%|          | 0/2009 [00:00<?, ? examples/s]"
      ]
     },
     "metadata": {},
     "output_type": "display_data"
    },
    {
     "data": {
      "application/vnd.jupyter.widget-view+json": {
       "model_id": "ea0a6d31984840cdb8a667e92b05af19",
       "version_major": 2,
       "version_minor": 0
      },
      "text/plain": [
       "Creating parquet from Arrow format:   0%|          | 0/21 [00:00<?, ?ba/s]"
      ]
     },
     "metadata": {},
     "output_type": "display_data"
    },
    {
     "data": {
      "application/vnd.jupyter.widget-view+json": {
       "model_id": "37cb2b7d7e9b4d6ca62714de8bef5faf",
       "version_major": 2,
       "version_minor": 0
      },
      "text/plain": [
       "Map:   0%|          | 0/2009 [00:00<?, ? examples/s]"
      ]
     },
     "metadata": {},
     "output_type": "display_data"
    },
    {
     "data": {
      "application/vnd.jupyter.widget-view+json": {
       "model_id": "a06a2add589f4f5da1b93f83421826fb",
       "version_major": 2,
       "version_minor": 0
      },
      "text/plain": [
       "Creating parquet from Arrow format:   0%|          | 0/21 [00:00<?, ?ba/s]"
      ]
     },
     "metadata": {},
     "output_type": "display_data"
    },
    {
     "data": {
      "application/vnd.jupyter.widget-view+json": {
       "model_id": "89833e2e4d564e448d6611c0996d9907",
       "version_major": 2,
       "version_minor": 0
      },
      "text/plain": [
       "Map:   0%|          | 0/2009 [00:00<?, ? examples/s]"
      ]
     },
     "metadata": {},
     "output_type": "display_data"
    },
    {
     "data": {
      "application/vnd.jupyter.widget-view+json": {
       "model_id": "5889beb9502f4a879def4e2de0f95bcd",
       "version_major": 2,
       "version_minor": 0
      },
      "text/plain": [
       "Creating parquet from Arrow format:   0%|          | 0/21 [00:00<?, ?ba/s]"
      ]
     },
     "metadata": {},
     "output_type": "display_data"
    },
    {
     "data": {
      "application/vnd.jupyter.widget-view+json": {
       "model_id": "6708a9f7394a414fb8e507103ddf34fc",
       "version_major": 2,
       "version_minor": 0
      },
      "text/plain": [
       "Map:   0%|          | 0/2009 [00:00<?, ? examples/s]"
      ]
     },
     "metadata": {},
     "output_type": "display_data"
    },
    {
     "data": {
      "application/vnd.jupyter.widget-view+json": {
       "model_id": "fc8dd313c6bb4f94ae859a43c8ab35b2",
       "version_major": 2,
       "version_minor": 0
      },
      "text/plain": [
       "Creating parquet from Arrow format:   0%|          | 0/21 [00:00<?, ?ba/s]"
      ]
     },
     "metadata": {},
     "output_type": "display_data"
    },
    {
     "data": {
      "application/vnd.jupyter.widget-view+json": {
       "model_id": "419c7e6e8ce04ad4955bfd87fc074a78",
       "version_major": 2,
       "version_minor": 0
      },
      "text/plain": [
       "Map:   0%|          | 0/2009 [00:00<?, ? examples/s]"
      ]
     },
     "metadata": {},
     "output_type": "display_data"
    },
    {
     "data": {
      "application/vnd.jupyter.widget-view+json": {
       "model_id": "9e953ae067b647c7af4a6d35e60ebae6",
       "version_major": 2,
       "version_minor": 0
      },
      "text/plain": [
       "Creating parquet from Arrow format:   0%|          | 0/21 [00:00<?, ?ba/s]"
      ]
     },
     "metadata": {},
     "output_type": "display_data"
    },
    {
     "data": {
      "application/vnd.jupyter.widget-view+json": {
       "model_id": "0ae5e26d4ad643e3989a47fbbfa5013a",
       "version_major": 2,
       "version_minor": 0
      },
      "text/plain": [
       "Map:   0%|          | 0/2009 [00:00<?, ? examples/s]"
      ]
     },
     "metadata": {},
     "output_type": "display_data"
    },
    {
     "data": {
      "application/vnd.jupyter.widget-view+json": {
       "model_id": "d72f79d2c54e4123a644e1619d983631",
       "version_major": 2,
       "version_minor": 0
      },
      "text/plain": [
       "Creating parquet from Arrow format:   0%|          | 0/21 [00:00<?, ?ba/s]"
      ]
     },
     "metadata": {},
     "output_type": "display_data"
    },
    {
     "data": {
      "application/vnd.jupyter.widget-view+json": {
       "model_id": "482a1282e8f24ec2ba8bb4032472f327",
       "version_major": 2,
       "version_minor": 0
      },
      "text/plain": [
       "Map:   0%|          | 0/2009 [00:00<?, ? examples/s]"
      ]
     },
     "metadata": {},
     "output_type": "display_data"
    },
    {
     "data": {
      "application/vnd.jupyter.widget-view+json": {
       "model_id": "0a4d371fa17c48c99801d6b4ba70e082",
       "version_major": 2,
       "version_minor": 0
      },
      "text/plain": [
       "Creating parquet from Arrow format:   0%|          | 0/21 [00:00<?, ?ba/s]"
      ]
     },
     "metadata": {},
     "output_type": "display_data"
    },
    {
     "data": {
      "application/vnd.jupyter.widget-view+json": {
       "model_id": "3b841a974ad8433fb6a7a7bf14fd317d",
       "version_major": 2,
       "version_minor": 0
      },
      "text/plain": [
       "Map:   0%|          | 0/2009 [00:00<?, ? examples/s]"
      ]
     },
     "metadata": {},
     "output_type": "display_data"
    },
    {
     "data": {
      "application/vnd.jupyter.widget-view+json": {
       "model_id": "bc35be0453364caca3cb69f82be9082c",
       "version_major": 2,
       "version_minor": 0
      },
      "text/plain": [
       "Creating parquet from Arrow format:   0%|          | 0/21 [00:00<?, ?ba/s]"
      ]
     },
     "metadata": {},
     "output_type": "display_data"
    },
    {
     "data": {
      "application/vnd.jupyter.widget-view+json": {
       "model_id": "31e242d2cc3243859ba32561f6ce0392",
       "version_major": 2,
       "version_minor": 0
      },
      "text/plain": [
       "Map:   0%|          | 0/2009 [00:00<?, ? examples/s]"
      ]
     },
     "metadata": {},
     "output_type": "display_data"
    },
    {
     "data": {
      "application/vnd.jupyter.widget-view+json": {
       "model_id": "7c75689f2b1b4d1a85e4b4041c23260c",
       "version_major": 2,
       "version_minor": 0
      },
      "text/plain": [
       "Creating parquet from Arrow format:   0%|          | 0/21 [00:00<?, ?ba/s]"
      ]
     },
     "metadata": {},
     "output_type": "display_data"
    },
    {
     "data": {
      "application/vnd.jupyter.widget-view+json": {
       "model_id": "259bc3a5e7da479ead3269fb7543e46e",
       "version_major": 2,
       "version_minor": 0
      },
      "text/plain": [
       "Map:   0%|          | 0/2009 [00:00<?, ? examples/s]"
      ]
     },
     "metadata": {},
     "output_type": "display_data"
    },
    {
     "data": {
      "application/vnd.jupyter.widget-view+json": {
       "model_id": "a911b59a26c54c5d830d9448b63e1bef",
       "version_major": 2,
       "version_minor": 0
      },
      "text/plain": [
       "Creating parquet from Arrow format:   0%|          | 0/21 [00:00<?, ?ba/s]"
      ]
     },
     "metadata": {},
     "output_type": "display_data"
    },
    {
     "data": {
      "application/vnd.jupyter.widget-view+json": {
       "model_id": "9312511d3bf14a25b3fea195dbed8b3f",
       "version_major": 2,
       "version_minor": 0
      },
      "text/plain": [
       "Map:   0%|          | 0/2009 [00:00<?, ? examples/s]"
      ]
     },
     "metadata": {},
     "output_type": "display_data"
    },
    {
     "data": {
      "application/vnd.jupyter.widget-view+json": {
       "model_id": "b7b35e24743140dba38d01cdd58dc278",
       "version_major": 2,
       "version_minor": 0
      },
      "text/plain": [
       "Creating parquet from Arrow format:   0%|          | 0/21 [00:00<?, ?ba/s]"
      ]
     },
     "metadata": {},
     "output_type": "display_data"
    },
    {
     "data": {
      "application/vnd.jupyter.widget-view+json": {
       "model_id": "a46395d0c7ec451a8b055b632574d6d0",
       "version_major": 2,
       "version_minor": 0
      },
      "text/plain": [
       "Map:   0%|          | 0/2009 [00:00<?, ? examples/s]"
      ]
     },
     "metadata": {},
     "output_type": "display_data"
    },
    {
     "data": {
      "application/vnd.jupyter.widget-view+json": {
       "model_id": "a4b08f2a67ac4dadab9327a1bdd779c4",
       "version_major": 2,
       "version_minor": 0
      },
      "text/plain": [
       "Creating parquet from Arrow format:   0%|          | 0/21 [00:00<?, ?ba/s]"
      ]
     },
     "metadata": {},
     "output_type": "display_data"
    },
    {
     "data": {
      "application/vnd.jupyter.widget-view+json": {
       "model_id": "9d11f8b304a44c1da6cd1a4954ca64d9",
       "version_major": 2,
       "version_minor": 0
      },
      "text/plain": [
       "Map:   0%|          | 0/2009 [00:00<?, ? examples/s]"
      ]
     },
     "metadata": {},
     "output_type": "display_data"
    },
    {
     "data": {
      "application/vnd.jupyter.widget-view+json": {
       "model_id": "661b228a34494b4582b1b568e0ff7422",
       "version_major": 2,
       "version_minor": 0
      },
      "text/plain": [
       "Creating parquet from Arrow format:   0%|          | 0/21 [00:00<?, ?ba/s]"
      ]
     },
     "metadata": {},
     "output_type": "display_data"
    },
    {
     "data": {
      "application/vnd.jupyter.widget-view+json": {
       "model_id": "66b407850eb84ebe948602c646939fec",
       "version_major": 2,
       "version_minor": 0
      },
      "text/plain": [
       "Map:   0%|          | 0/2009 [00:00<?, ? examples/s]"
      ]
     },
     "metadata": {},
     "output_type": "display_data"
    },
    {
     "data": {
      "application/vnd.jupyter.widget-view+json": {
       "model_id": "d27bda8ab9164893a49392005b9e01ff",
       "version_major": 2,
       "version_minor": 0
      },
      "text/plain": [
       "Creating parquet from Arrow format:   0%|          | 0/21 [00:00<?, ?ba/s]"
      ]
     },
     "metadata": {},
     "output_type": "display_data"
    },
    {
     "data": {
      "application/vnd.jupyter.widget-view+json": {
       "model_id": "fa4cd6ca10814c1ba1fe1907048f049e",
       "version_major": 2,
       "version_minor": 0
      },
      "text/plain": [
       "Map:   0%|          | 0/2009 [00:00<?, ? examples/s]"
      ]
     },
     "metadata": {},
     "output_type": "display_data"
    },
    {
     "data": {
      "application/vnd.jupyter.widget-view+json": {
       "model_id": "c20c72867e934feeb8d6d69bbf40e11d",
       "version_major": 2,
       "version_minor": 0
      },
      "text/plain": [
       "Creating parquet from Arrow format:   0%|          | 0/21 [00:00<?, ?ba/s]"
      ]
     },
     "metadata": {},
     "output_type": "display_data"
    },
    {
     "data": {
      "application/vnd.jupyter.widget-view+json": {
       "model_id": "3fe790f3ccb14923bf72bf02ba1a735a",
       "version_major": 2,
       "version_minor": 0
      },
      "text/plain": [
       "Map:   0%|          | 0/2009 [00:00<?, ? examples/s]"
      ]
     },
     "metadata": {},
     "output_type": "display_data"
    },
    {
     "data": {
      "application/vnd.jupyter.widget-view+json": {
       "model_id": "d8a72a693c584795bf72512caaa2a952",
       "version_major": 2,
       "version_minor": 0
      },
      "text/plain": [
       "Creating parquet from Arrow format:   0%|          | 0/21 [00:00<?, ?ba/s]"
      ]
     },
     "metadata": {},
     "output_type": "display_data"
    },
    {
     "data": {
      "application/vnd.jupyter.widget-view+json": {
       "model_id": "48cc991651ce422089de5293c710ecb1",
       "version_major": 2,
       "version_minor": 0
      },
      "text/plain": [
       "Map:   0%|          | 0/2009 [00:00<?, ? examples/s]"
      ]
     },
     "metadata": {},
     "output_type": "display_data"
    },
    {
     "data": {
      "application/vnd.jupyter.widget-view+json": {
       "model_id": "1e5079f9083446a1b4be20562f2f589a",
       "version_major": 2,
       "version_minor": 0
      },
      "text/plain": [
       "Creating parquet from Arrow format:   0%|          | 0/21 [00:00<?, ?ba/s]"
      ]
     },
     "metadata": {},
     "output_type": "display_data"
    },
    {
     "data": {
      "application/vnd.jupyter.widget-view+json": {
       "model_id": "95be803a581a49fe98a0c7ec962b5074",
       "version_major": 2,
       "version_minor": 0
      },
      "text/plain": [
       "Map:   0%|          | 0/2009 [00:00<?, ? examples/s]"
      ]
     },
     "metadata": {},
     "output_type": "display_data"
    },
    {
     "data": {
      "application/vnd.jupyter.widget-view+json": {
       "model_id": "0d52d9932aa9490ba0bb2b702aa92545",
       "version_major": 2,
       "version_minor": 0
      },
      "text/plain": [
       "Creating parquet from Arrow format:   0%|          | 0/21 [00:00<?, ?ba/s]"
      ]
     },
     "metadata": {},
     "output_type": "display_data"
    },
    {
     "data": {
      "application/vnd.jupyter.widget-view+json": {
       "model_id": "266cc3b2733140eca827c6081e721dcd",
       "version_major": 2,
       "version_minor": 0
      },
      "text/plain": [
       "Map:   0%|          | 0/2009 [00:00<?, ? examples/s]"
      ]
     },
     "metadata": {},
     "output_type": "display_data"
    },
    {
     "data": {
      "application/vnd.jupyter.widget-view+json": {
       "model_id": "9bf4d292dc9a463abbd3de4151abc489",
       "version_major": 2,
       "version_minor": 0
      },
      "text/plain": [
       "Creating parquet from Arrow format:   0%|          | 0/21 [00:00<?, ?ba/s]"
      ]
     },
     "metadata": {},
     "output_type": "display_data"
    },
    {
     "data": {
      "application/vnd.jupyter.widget-view+json": {
       "model_id": "2d7b7b967a714ec2af9991aabda56cb4",
       "version_major": 2,
       "version_minor": 0
      },
      "text/plain": [
       "Map:   0%|          | 0/2009 [00:00<?, ? examples/s]"
      ]
     },
     "metadata": {},
     "output_type": "display_data"
    },
    {
     "data": {
      "application/vnd.jupyter.widget-view+json": {
       "model_id": "e6a4871d6cc24bcc93ced8540cac6de5",
       "version_major": 2,
       "version_minor": 0
      },
      "text/plain": [
       "Creating parquet from Arrow format:   0%|          | 0/21 [00:00<?, ?ba/s]"
      ]
     },
     "metadata": {},
     "output_type": "display_data"
    },
    {
     "data": {
      "application/vnd.jupyter.widget-view+json": {
       "model_id": "a609f7f8ec3e424f8613b22ea17f4371",
       "version_major": 2,
       "version_minor": 0
      },
      "text/plain": [
       "Uploading the dataset shards:   0%|          | 0/2 [00:00<?, ?it/s]"
      ]
     },
     "metadata": {},
     "output_type": "display_data"
    },
    {
     "data": {
      "application/vnd.jupyter.widget-view+json": {
       "model_id": "bfbf768f795245ae86581ede63e13d03",
       "version_major": 2,
       "version_minor": 0
      },
      "text/plain": [
       "Map:   0%|          | 0/1391 [00:00<?, ? examples/s]"
      ]
     },
     "metadata": {},
     "output_type": "display_data"
    },
    {
     "data": {
      "application/vnd.jupyter.widget-view+json": {
       "model_id": "963a5e29ac6442bab4d9bacd58345893",
       "version_major": 2,
       "version_minor": 0
      },
      "text/plain": [
       "Creating parquet from Arrow format:   0%|          | 0/14 [00:00<?, ?ba/s]"
      ]
     },
     "metadata": {},
     "output_type": "display_data"
    },
    {
     "data": {
      "application/vnd.jupyter.widget-view+json": {
       "model_id": "ac6bbab4689944da9b4b685a9fc3cb3b",
       "version_major": 2,
       "version_minor": 0
      },
      "text/plain": [
       "Map:   0%|          | 0/1391 [00:00<?, ? examples/s]"
      ]
     },
     "metadata": {},
     "output_type": "display_data"
    },
    {
     "data": {
      "application/vnd.jupyter.widget-view+json": {
       "model_id": "eed18d1781634795bb11e31bce4bdb43",
       "version_major": 2,
       "version_minor": 0
      },
      "text/plain": [
       "Creating parquet from Arrow format:   0%|          | 0/14 [00:00<?, ?ba/s]"
      ]
     },
     "metadata": {},
     "output_type": "display_data"
    },
    {
     "data": {
      "application/vnd.jupyter.widget-view+json": {
       "model_id": "fddc69142ddc47229af35c8509b66e83",
       "version_major": 2,
       "version_minor": 0
      },
      "text/plain": [
       "Uploading the dataset shards:   0%|          | 0/2 [00:00<?, ?it/s]"
      ]
     },
     "metadata": {},
     "output_type": "display_data"
    },
    {
     "data": {
      "application/vnd.jupyter.widget-view+json": {
       "model_id": "71cc49a0f89542f59b535fec31170e69",
       "version_major": 2,
       "version_minor": 0
      },
      "text/plain": [
       "Map:   0%|          | 0/1382 [00:00<?, ? examples/s]"
      ]
     },
     "metadata": {},
     "output_type": "display_data"
    },
    {
     "data": {
      "application/vnd.jupyter.widget-view+json": {
       "model_id": "cb6dc18bd42d406ca4b2de94c5098e5b",
       "version_major": 2,
       "version_minor": 0
      },
      "text/plain": [
       "Creating parquet from Arrow format:   0%|          | 0/14 [00:00<?, ?ba/s]"
      ]
     },
     "metadata": {},
     "output_type": "display_data"
    },
    {
     "data": {
      "application/vnd.jupyter.widget-view+json": {
       "model_id": "3b77e968a39b469db0b85c21897dad27",
       "version_major": 2,
       "version_minor": 0
      },
      "text/plain": [
       "Map:   0%|          | 0/1381 [00:00<?, ? examples/s]"
      ]
     },
     "metadata": {},
     "output_type": "display_data"
    },
    {
     "data": {
      "application/vnd.jupyter.widget-view+json": {
       "model_id": "78377e3d12ce49909012734214591c17",
       "version_major": 2,
       "version_minor": 0
      },
      "text/plain": [
       "Creating parquet from Arrow format:   0%|          | 0/14 [00:00<?, ?ba/s]"
      ]
     },
     "metadata": {},
     "output_type": "display_data"
    },
    {
     "data": {
      "text/plain": [
       "CommitInfo(commit_url='https://huggingface.co/datasets/kreasof-ai/be-en-IWSLT2025/commit/e182c1b4656d0415f26317f7f96cb04f8ce3986c', commit_message='Upload dataset', commit_description='', oid='e182c1b4656d0415f26317f7f96cb04f8ce3986c', pr_url=None, repo_url=RepoUrl('https://huggingface.co/datasets/kreasof-ai/be-en-IWSLT2025', endpoint='https://huggingface.co', repo_type='dataset', repo_id='kreasof-ai/be-en-IWSLT2025'), pr_revision=None, pr_num=None)"
      ]
     },
     "execution_count": 264,
     "metadata": {},
     "output_type": "execute_result"
    }
   ],
   "source": [
    "dataset_dict.push_to_hub(\"kreasof-ai/be-en-IWSLT2025\")"
   ]
  },
  {
   "cell_type": "code",
   "execution_count": null,
   "id": "1a277141-f5ff-4cdc-b227-a407a469a02a",
   "metadata": {},
   "outputs": [],
   "source": []
  }
 ],
 "metadata": {
  "kernelspec": {
   "display_name": "Python 3 (ipykernel)",
   "language": "python",
   "name": "python3"
  },
  "language_info": {
   "codemirror_mode": {
    "name": "ipython",
    "version": 3
   },
   "file_extension": ".py",
   "mimetype": "text/x-python",
   "name": "python",
   "nbconvert_exporter": "python",
   "pygments_lexer": "ipython3",
   "version": "3.12.3"
  }
 },
 "nbformat": 4,
 "nbformat_minor": 5
}
