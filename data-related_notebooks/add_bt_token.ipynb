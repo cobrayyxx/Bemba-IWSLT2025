{
 "cells": [
  {
   "cell_type": "code",
   "execution_count": 9,
   "id": "c2b9c215-c8ae-4784-91ea-3f7a8175651d",
   "metadata": {},
   "outputs": [],
   "source": [
    "import pandas as pd"
   ]
  },
  {
   "cell_type": "code",
   "execution_count": 10,
   "id": "004fd3c2-2ff4-4d71-a562-989cbd25f3e6",
   "metadata": {},
   "outputs": [],
   "source": [
    "df = pd.read_csv(\"tatoeba_en_bem.csv\")"
   ]
  },
  {
   "cell_type": "code",
   "execution_count": 11,
   "id": "540af377-9fde-41b1-a634-40b5704a2bd3",
   "metadata": {},
   "outputs": [],
   "source": [
    "def add_bt(row):\n",
    "    sentence_bt = \"<bt>\" + \" \" + row[\"text_bem\"]\n",
    "    return sentence_bt"
   ]
  },
  {
   "cell_type": "code",
   "execution_count": 12,
   "id": "7052ba27-c225-4324-971d-9dcf17feeb45",
   "metadata": {},
   "outputs": [],
   "source": [
    "df[\"bt_text_bem\"] = df.text_bem.apply(lambda x:\"<bt>\" + \" \" +x  )"
   ]
  },
  {
   "cell_type": "code",
   "execution_count": 13,
   "id": "a1082b1c-9665-4201-a875-a0a0d12410fe",
   "metadata": {},
   "outputs": [
    {
     "data": {
      "text/html": [
       "<div>\n",
       "<style scoped>\n",
       "    .dataframe tbody tr th:only-of-type {\n",
       "        vertical-align: middle;\n",
       "    }\n",
       "\n",
       "    .dataframe tbody tr th {\n",
       "        vertical-align: top;\n",
       "    }\n",
       "\n",
       "    .dataframe thead th {\n",
       "        text-align: right;\n",
       "    }\n",
       "</style>\n",
       "<table border=\"1\" class=\"dataframe\">\n",
       "  <thead>\n",
       "    <tr style=\"text-align: right;\">\n",
       "      <th></th>\n",
       "      <th>text_en</th>\n",
       "      <th>text_bem</th>\n",
       "      <th>bt_text_bem</th>\n",
       "    </tr>\n",
       "  </thead>\n",
       "  <tbody>\n",
       "    <tr>\n",
       "      <th>0</th>\n",
       "      <td>Talk less, do more.</td>\n",
       "      <td>Tekulanda saana, citafye ifingi.</td>\n",
       "      <td>&lt;bt&gt; Tekulanda saana, citafye ifingi.</td>\n",
       "    </tr>\n",
       "    <tr>\n",
       "      <th>1</th>\n",
       "      <td>Trying is something really beautiful.</td>\n",
       "      <td>Ukwesha kwena cintu icisuma saana.</td>\n",
       "      <td>&lt;bt&gt; Ukwesha kwena cintu icisuma saana.</td>\n",
       "    </tr>\n",
       "    <tr>\n",
       "      <th>2</th>\n",
       "      <td>I no longer need you.</td>\n",
       "      <td>awe ine nshikwetabila iyo.</td>\n",
       "      <td>&lt;bt&gt; awe ine nshikwetabila iyo.</td>\n",
       "    </tr>\n",
       "    <tr>\n",
       "      <th>3</th>\n",
       "      <td>I am going to school right now.</td>\n",
       "      <td>Ndemona kwati apa ndesubila ndeya kusukulu.</td>\n",
       "      <td>&lt;bt&gt; Ndemona kwati apa ndesubila ndeya kusukulu.</td>\n",
       "    </tr>\n",
       "    <tr>\n",
       "      <th>4</th>\n",
       "      <td>They'll kill you!</td>\n",
       "      <td>Awe kwena kuti bakwipaya.</td>\n",
       "      <td>&lt;bt&gt; Awe kwena kuti bakwipaya.</td>\n",
       "    </tr>\n",
       "  </tbody>\n",
       "</table>\n",
       "</div>"
      ],
      "text/plain": [
       "                                 text_en  \\\n",
       "0                    Talk less, do more.   \n",
       "1  Trying is something really beautiful.   \n",
       "2                  I no longer need you.   \n",
       "3        I am going to school right now.   \n",
       "4                      They'll kill you!   \n",
       "\n",
       "                                      text_bem  \\\n",
       "0             Tekulanda saana, citafye ifingi.   \n",
       "1           Ukwesha kwena cintu icisuma saana.   \n",
       "2                   awe ine nshikwetabila iyo.   \n",
       "3  Ndemona kwati apa ndesubila ndeya kusukulu.   \n",
       "4                    Awe kwena kuti bakwipaya.   \n",
       "\n",
       "                                        bt_text_bem  \n",
       "0             <bt> Tekulanda saana, citafye ifingi.  \n",
       "1           <bt> Ukwesha kwena cintu icisuma saana.  \n",
       "2                   <bt> awe ine nshikwetabila iyo.  \n",
       "3  <bt> Ndemona kwati apa ndesubila ndeya kusukulu.  \n",
       "4                    <bt> Awe kwena kuti bakwipaya.  "
      ]
     },
     "execution_count": 13,
     "metadata": {},
     "output_type": "execute_result"
    }
   ],
   "source": [
    "df.head()"
   ]
  },
  {
   "cell_type": "code",
   "execution_count": 16,
   "id": "ddf96711-1496-4d43-883b-f47ef56cd438",
   "metadata": {},
   "outputs": [],
   "source": [
    "df = df.drop(\"text_bem\", axis=1)"
   ]
  },
  {
   "cell_type": "code",
   "execution_count": 19,
   "id": "69827b90-3511-4521-9c28-80d3cd8b0910",
   "metadata": {},
   "outputs": [],
   "source": [
    "df = df.rename(columns={\"bt_text_bem\":\"text_bem\"})"
   ]
  },
  {
   "cell_type": "code",
   "execution_count": 20,
   "id": "61c477d4-57f6-49a5-b1bb-a2e0f0c2e841",
   "metadata": {},
   "outputs": [
    {
     "data": {
      "text/html": [
       "<div>\n",
       "<style scoped>\n",
       "    .dataframe tbody tr th:only-of-type {\n",
       "        vertical-align: middle;\n",
       "    }\n",
       "\n",
       "    .dataframe tbody tr th {\n",
       "        vertical-align: top;\n",
       "    }\n",
       "\n",
       "    .dataframe thead th {\n",
       "        text-align: right;\n",
       "    }\n",
       "</style>\n",
       "<table border=\"1\" class=\"dataframe\">\n",
       "  <thead>\n",
       "    <tr style=\"text-align: right;\">\n",
       "      <th></th>\n",
       "      <th>text_en</th>\n",
       "      <th>text_bem</th>\n",
       "    </tr>\n",
       "  </thead>\n",
       "  <tbody>\n",
       "    <tr>\n",
       "      <th>0</th>\n",
       "      <td>Talk less, do more.</td>\n",
       "      <td>&lt;bt&gt; Tekulanda saana, citafye ifingi.</td>\n",
       "    </tr>\n",
       "    <tr>\n",
       "      <th>1</th>\n",
       "      <td>Trying is something really beautiful.</td>\n",
       "      <td>&lt;bt&gt; Ukwesha kwena cintu icisuma saana.</td>\n",
       "    </tr>\n",
       "    <tr>\n",
       "      <th>2</th>\n",
       "      <td>I no longer need you.</td>\n",
       "      <td>&lt;bt&gt; awe ine nshikwetabila iyo.</td>\n",
       "    </tr>\n",
       "    <tr>\n",
       "      <th>3</th>\n",
       "      <td>I am going to school right now.</td>\n",
       "      <td>&lt;bt&gt; Ndemona kwati apa ndesubila ndeya kusukulu.</td>\n",
       "    </tr>\n",
       "    <tr>\n",
       "      <th>4</th>\n",
       "      <td>They'll kill you!</td>\n",
       "      <td>&lt;bt&gt; Awe kwena kuti bakwipaya.</td>\n",
       "    </tr>\n",
       "  </tbody>\n",
       "</table>\n",
       "</div>"
      ],
      "text/plain": [
       "                                 text_en  \\\n",
       "0                    Talk less, do more.   \n",
       "1  Trying is something really beautiful.   \n",
       "2                  I no longer need you.   \n",
       "3        I am going to school right now.   \n",
       "4                      They'll kill you!   \n",
       "\n",
       "                                           text_bem  \n",
       "0             <bt> Tekulanda saana, citafye ifingi.  \n",
       "1           <bt> Ukwesha kwena cintu icisuma saana.  \n",
       "2                   <bt> awe ine nshikwetabila iyo.  \n",
       "3  <bt> Ndemona kwati apa ndesubila ndeya kusukulu.  \n",
       "4                    <bt> Awe kwena kuti bakwipaya.  "
      ]
     },
     "execution_count": 20,
     "metadata": {},
     "output_type": "execute_result"
    }
   ],
   "source": [
    "df.head()"
   ]
  },
  {
   "cell_type": "code",
   "execution_count": 21,
   "id": "b6eedac2-a8bc-4465-9d82-1235796efcee",
   "metadata": {},
   "outputs": [],
   "source": [
    "df.to_csv(\"bt_tatoeba_en_bem_2.csv\", index=False)"
   ]
  },
  {
   "cell_type": "code",
   "execution_count": null,
   "id": "c794292b-c332-418c-87d3-27f4b0bed4cf",
   "metadata": {},
   "outputs": [],
   "source": []
  },
  {
   "cell_type": "markdown",
   "id": "fefa0c5c-d3e5-46c9-bd62-ab0550a03b67",
   "metadata": {},
   "source": [
    "# Add \\<bt\\> as token (don't do this because the training can't detect the \\<bn\\> tokenization)"
   ]
  },
  {
   "cell_type": "code",
   "execution_count": 3,
   "id": "ab4c8bcf-20ba-4fa0-806a-16c6f6c02023",
   "metadata": {},
   "outputs": [],
   "source": [
    "from transformers import AutoTokenizer, AutoModelForSeq2SeqLM\n",
    "# from datasets import load_dataset, Dataset, Audio, DatasetDict\n",
    "# from transformers import Seq2SeqTrainer, Seq2SeqTrainingArguments\n",
    "# import evaluate"
   ]
  },
  {
   "cell_type": "code",
   "execution_count": 4,
   "id": "1f33a432-5152-4047-ac51-8afaab884b5d",
   "metadata": {},
   "outputs": [],
   "source": [
    "tokenizer = AutoTokenizer.from_pretrained(\"facebook/nllb-200-distilled-600M\")\n",
    "\n",
    "# Add <bt> to the tokenizer if it’s not already there\n",
    "if \"<bt>\" not in tokenizer.get_vocab():\n",
    "    tokenizer.add_tokens([\"<bt>\"])"
   ]
  },
  {
   "cell_type": "code",
   "execution_count": 5,
   "id": "37dc140b-3dca-465e-a834-5f65629ac528",
   "metadata": {},
   "outputs": [],
   "source": [
    "# Example encode\n",
    "inputs = tokenizer(\n",
    "    \"<bt> This is a back-translated sentence.\",\n",
    "    return_tensors=\"pt\",\n",
    "    padding=True,\n",
    "    truncation=True\n",
    ")"
   ]
  },
  {
   "cell_type": "code",
   "execution_count": 6,
   "id": "c47df651-b57c-480c-96bd-29cd67de76e8",
   "metadata": {},
   "outputs": [
    {
     "data": {
      "text/plain": [
       "{'input_ids': tensor([[256047, 256204,   9680,    248,      9,  11535, 248105,  59460,  99278,\n",
       "         109267, 248075,      2]]), 'attention_mask': tensor([[1, 1, 1, 1, 1, 1, 1, 1, 1, 1, 1, 1]])}"
      ]
     },
     "execution_count": 6,
     "metadata": {},
     "output_type": "execute_result"
    }
   ],
   "source": [
    "inputs"
   ]
  },
  {
   "cell_type": "code",
   "execution_count": 8,
   "id": "aca4ea18-1bbf-46a3-872c-37bb8b7b075e",
   "metadata": {},
   "outputs": [
    {
     "name": "stdout",
     "output_type": "stream",
     "text": [
      "['eng_Latn', '▁', '<bt>', '▁This', '▁is', '▁a', '▁back', '-', 'trans', 'lated', '▁sentence', '.']\n"
     ]
    }
   ],
   "source": [
    "print(tokenizer.tokenize(\"eng_Latn <bt> This is a back-translated sentence.\"))"
   ]
  },
  {
   "cell_type": "code",
   "execution_count": null,
   "id": "363c3e5f-0da3-489b-9348-063c0b83ff6c",
   "metadata": {},
   "outputs": [],
   "source": []
  }
 ],
 "metadata": {
  "kernelspec": {
   "display_name": "Python 3 (ipykernel)",
   "language": "python",
   "name": "python3"
  },
  "language_info": {
   "codemirror_mode": {
    "name": "ipython",
    "version": 3
   },
   "file_extension": ".py",
   "mimetype": "text/x-python",
   "name": "python",
   "nbconvert_exporter": "python",
   "pygments_lexer": "ipython3",
   "version": "3.12.3"
  }
 },
 "nbformat": 4,
 "nbformat_minor": 5
}
