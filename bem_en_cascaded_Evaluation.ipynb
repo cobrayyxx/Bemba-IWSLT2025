{
  "cells": [
    {
      "cell_type": "code",
      "execution_count": 1,
      "metadata": {
        "colab": {
          "base_uri": "https://localhost:8080/"
        },
        "id": "I14mm3GWrKeW",
        "outputId": "4b72499e-14b5-4cb8-a942-c891826febbf",
        "vscode": {
          "languageId": "plaintext"
        }
      },
      "outputs": [
        {
          "name": "stdout",
          "output_type": "stream",
          "text": [
            "Sun Mar 23 15:44:25 2025       \n",
            "+-----------------------------------------------------------------------------------------+\n",
            "| NVIDIA-SMI 550.54.15              Driver Version: 550.54.15      CUDA Version: 12.4     |\n",
            "|-----------------------------------------+------------------------+----------------------+\n",
            "| GPU  Name                 Persistence-M | Bus-Id          Disp.A | Volatile Uncorr. ECC |\n",
            "| Fan  Temp   Perf          Pwr:Usage/Cap |           Memory-Usage | GPU-Util  Compute M. |\n",
            "|                                         |                        |               MIG M. |\n",
            "|=========================================+========================+======================|\n",
            "|   0  Tesla T4                       Off |   00000000:00:04.0 Off |                    0 |\n",
            "| N/A   32C    P8              9W /   70W |       0MiB /  15360MiB |      0%      Default |\n",
            "|                                         |                        |                  N/A |\n",
            "+-----------------------------------------+------------------------+----------------------+\n",
            "                                                                                         \n",
            "+-----------------------------------------------------------------------------------------+\n",
            "| Processes:                                                                              |\n",
            "|  GPU   GI   CI        PID   Type   Process name                              GPU Memory |\n",
            "|        ID   ID                                                               Usage      |\n",
            "|=========================================================================================|\n",
            "|  No running processes found                                                             |\n",
            "+-----------------------------------------------------------------------------------------+\n"
          ]
        }
      ],
      "source": [
        "!nvidia-smi"
      ]
    },
    {
      "cell_type": "code",
      "execution_count": 42,
      "metadata": {
        "colab": {
          "base_uri": "https://localhost:8080/"
        },
        "id": "z0KKbklKuiAi",
        "outputId": "aa62a5f7-5182-4bfa-8ec0-e4933e86c571"
      },
      "outputs": [
        {
          "name": "stdout",
          "output_type": "stream",
          "text": [
            "\u001b[33m\r0% [Working]\u001b[0m\r            \rGet:1 https://cloud.r-project.org/bin/linux/ubuntu jammy-cran40/ InRelease [3,632 B]\n",
            "Hit:2 https://developer.download.nvidia.com/compute/cuda/repos/ubuntu2204/x86_64  InRelease\n",
            "Hit:3 http://archive.ubuntu.com/ubuntu jammy InRelease\n",
            "Get:4 http://security.ubuntu.com/ubuntu jammy-security InRelease [129 kB]\n",
            "Get:5 http://archive.ubuntu.com/ubuntu jammy-updates InRelease [128 kB]\n",
            "Get:6 https://r2u.stat.illinois.edu/ubuntu jammy InRelease [6,555 B]\n",
            "Hit:7 https://ppa.launchpadcontent.net/deadsnakes/ppa/ubuntu jammy InRelease\n",
            "Hit:8 https://ppa.launchpadcontent.net/graphics-drivers/ppa/ubuntu jammy InRelease\n",
            "Get:9 http://archive.ubuntu.com/ubuntu jammy-backports InRelease [127 kB]\n",
            "Get:10 https://r2u.stat.illinois.edu/ubuntu jammy/main all Packages [8,769 kB]\n",
            "Hit:11 https://ppa.launchpadcontent.net/ubuntugis/ppa/ubuntu jammy InRelease\n",
            "Get:12 http://archive.ubuntu.com/ubuntu jammy-updates/restricted amd64 Packages [3,962 kB]\n",
            "Get:13 http://security.ubuntu.com/ubuntu jammy-security/universe amd64 Packages [1,237 kB]\n",
            "Get:14 http://archive.ubuntu.com/ubuntu jammy-updates/main amd64 Packages [3,003 kB]\n",
            "Get:15 http://archive.ubuntu.com/ubuntu jammy-updates/universe amd64 Packages [1,535 kB]\n",
            "Get:16 http://archive.ubuntu.com/ubuntu jammy-backports/main amd64 Packages [82.7 kB]\n",
            "Get:17 http://archive.ubuntu.com/ubuntu jammy-backports/universe amd64 Packages [35.2 kB]\n",
            "Get:18 http://security.ubuntu.com/ubuntu jammy-security/main amd64 Packages [2,692 kB]\n",
            "Get:19 https://r2u.stat.illinois.edu/ubuntu jammy/main amd64 Packages [2,683 kB]\n",
            "Fetched 24.4 MB in 4s (5,616 kB/s)\n",
            "Reading package lists... Done\n",
            "Building dependency tree... Done\n",
            "Reading state information... Done\n",
            "30 packages can be upgraded. Run 'apt list --upgradable' to see them.\n",
            "\u001b[1;33mW: \u001b[0mSkipping acquire of configured file 'main/source/Sources' as repository 'https://r2u.stat.illinois.edu/ubuntu jammy InRelease' does not seem to provide it (sources.list entry misspelt?)\u001b[0m\n",
            "Reading package lists... Done\n",
            "Building dependency tree... Done\n",
            "Reading state information... Done\n",
            "The following additional packages will be installed:\n",
            "  libcudnn9-dev-cuda-12\n",
            "The following held packages will be changed:\n",
            "  libcudnn9-cuda-12\n",
            "The following packages will be upgraded:\n",
            "  libcudnn9-cuda-12 libcudnn9-dev-cuda-12\n",
            "2 upgraded, 0 newly installed, 0 to remove and 28 not upgraded.\n",
            "\u001b[1;31mE: \u001b[0mHeld packages were changed and -y was used without --allow-change-held-packages.\u001b[0m\n",
            "Requirement already satisfied: nvidia-cublas-cu12 in /usr/local/lib/python3.11/dist-packages (12.5.3.2)\n",
            "Requirement already satisfied: nvidia-cudnn-cu12==9.* in /usr/local/lib/python3.11/dist-packages (9.3.0.75)\n"
          ]
        }
      ],
      "source": [
        "!apt update\n",
        "!apt install libcudnn9-cuda-12\n",
        "!pip install nvidia-cublas-cu12 nvidia-cudnn-cu12==9.*\n",
        "\n",
        "!export LD_LIBRARY_PATH=`python3 -c 'import os; import nvidia.cublas.lib; import nvidia.cudnn.lib; print(os.path.dirname(nvidia.cublas.lib.__file__) + \":\" + os.path.dirname(nvidia.cudnn.lib.__file__))'`\n"
      ]
    },
    {
      "cell_type": "code",
      "execution_count": 2,
      "metadata": {
        "colab": {
          "base_uri": "https://localhost:8080/"
        },
        "id": "-X1JXKCQrKed",
        "outputId": "db9da5b7-b9fa-46c2-c04a-4f0ff4248de8",
        "vscode": {
          "languageId": "plaintext"
        }
      },
      "outputs": [
        {
          "name": "stdout",
          "output_type": "stream",
          "text": [
            "\u001b[2K     \u001b[90m━━━━━━━━━━━━━━━━━━━━━━━━━━━━━━━━━━━━━━━━\u001b[0m \u001b[32m51.8/51.8 kB\u001b[0m \u001b[31m1.9 MB/s\u001b[0m eta \u001b[36m0:00:00\u001b[0m\n",
            "\u001b[2K   \u001b[90m━━━━━━━━━━━━━━━━━━━━━━━━━━━━━━━━━━━━━━━━\u001b[0m \u001b[32m1.1/1.1 MB\u001b[0m \u001b[31m25.7 MB/s\u001b[0m eta \u001b[36m0:00:00\u001b[0m\n",
            "\u001b[2K   \u001b[90m━━━━━━━━━━━━━━━━━━━━━━━━━━━━━━━━━━━━━━━━\u001b[0m \u001b[32m38.6/38.6 MB\u001b[0m \u001b[31m20.8 MB/s\u001b[0m eta \u001b[36m0:00:00\u001b[0m\n",
            "\u001b[2K   \u001b[90m━━━━━━━━━━━━━━━━━━━━━━━━━━━━━━━━━━━━━━━━\u001b[0m \u001b[32m487.4/487.4 kB\u001b[0m \u001b[31m7.5 MB/s\u001b[0m eta \u001b[36m0:00:00\u001b[0m\n",
            "\u001b[2K   \u001b[90m━━━━━━━━━━━━━━━━━━━━━━━━━━━━━━━━━━━━━━━━\u001b[0m \u001b[32m104.1/104.1 kB\u001b[0m \u001b[31m5.8 MB/s\u001b[0m eta \u001b[36m0:00:00\u001b[0m\n",
            "\u001b[2K   \u001b[90m━━━━━━━━━━━━━━━━━━━━━━━━━━━━━━━━━━━━━━━━\u001b[0m \u001b[32m39.7/39.7 MB\u001b[0m \u001b[31m11.8 MB/s\u001b[0m eta \u001b[36m0:00:00\u001b[0m\n",
            "\u001b[2K   \u001b[90m━━━━━━━━━━━━━━━━━━━━━━━━━━━━━━━━━━━━━━━━\u001b[0m \u001b[32m116.3/116.3 kB\u001b[0m \u001b[31m6.2 MB/s\u001b[0m eta \u001b[36m0:00:00\u001b[0m\n",
            "\u001b[2K   \u001b[90m━━━━━━━━━━━━━━━━━━━━━━━━━━━━━━━━━━━━━━━━\u001b[0m \u001b[32m183.9/183.9 kB\u001b[0m \u001b[31m14.8 MB/s\u001b[0m eta \u001b[36m0:00:00\u001b[0m\n",
            "\u001b[2K   \u001b[90m━━━━━━━━━━━━━━━━━━━━━━━━━━━━━━━━━━━━━━━━\u001b[0m \u001b[32m143.5/143.5 kB\u001b[0m \u001b[31m12.5 MB/s\u001b[0m eta \u001b[36m0:00:00\u001b[0m\n",
            "\u001b[2K   \u001b[90m━━━━━━━━━━━━━━━━━━━━━━━━━━━━━━━━━━━━━━━━\u001b[0m \u001b[32m16.0/16.0 MB\u001b[0m \u001b[31m82.7 MB/s\u001b[0m eta \u001b[36m0:00:00\u001b[0m\n",
            "\u001b[2K   \u001b[90m━━━━━━━━━━━━━━━━━━━━━━━━━━━━━━━━━━━━━━━━\u001b[0m \u001b[32m194.8/194.8 kB\u001b[0m \u001b[31m12.4 MB/s\u001b[0m eta \u001b[36m0:00:00\u001b[0m\n",
            "\u001b[2K   \u001b[90m━━━━━━━━━━━━━━━━━━━━━━━━━━━━━━━━━━━━━━━━\u001b[0m \u001b[32m46.0/46.0 kB\u001b[0m \u001b[31m3.3 MB/s\u001b[0m eta \u001b[36m0:00:00\u001b[0m\n",
            "\u001b[2K   \u001b[90m━━━━━━━━━━━━━━━━━━━━━━━━━━━━━━━━━━━━━━━━\u001b[0m \u001b[32m86.8/86.8 kB\u001b[0m \u001b[31m7.0 MB/s\u001b[0m eta \u001b[36m0:00:00\u001b[0m\n",
            "\u001b[?25h\u001b[31mERROR: pip's dependency resolver does not currently take into account all the packages that are installed. This behaviour is the source of the following dependency conflicts.\n",
            "gcsfs 2025.3.0 requires fsspec==2025.3.0, but you have fsspec 2024.12.0 which is incompatible.\n",
            "torch 2.6.0+cu124 requires nvidia-cublas-cu12==12.4.5.8; platform_system == \"Linux\" and platform_machine == \"x86_64\", but you have nvidia-cublas-cu12 12.5.3.2 which is incompatible.\n",
            "torch 2.6.0+cu124 requires nvidia-cuda-cupti-cu12==12.4.127; platform_system == \"Linux\" and platform_machine == \"x86_64\", but you have nvidia-cuda-cupti-cu12 12.5.82 which is incompatible.\n",
            "torch 2.6.0+cu124 requires nvidia-cuda-nvrtc-cu12==12.4.127; platform_system == \"Linux\" and platform_machine == \"x86_64\", but you have nvidia-cuda-nvrtc-cu12 12.5.82 which is incompatible.\n",
            "torch 2.6.0+cu124 requires nvidia-cuda-runtime-cu12==12.4.127; platform_system == \"Linux\" and platform_machine == \"x86_64\", but you have nvidia-cuda-runtime-cu12 12.5.82 which is incompatible.\n",
            "torch 2.6.0+cu124 requires nvidia-cudnn-cu12==9.1.0.70; platform_system == \"Linux\" and platform_machine == \"x86_64\", but you have nvidia-cudnn-cu12 9.3.0.75 which is incompatible.\n",
            "torch 2.6.0+cu124 requires nvidia-cufft-cu12==11.2.1.3; platform_system == \"Linux\" and platform_machine == \"x86_64\", but you have nvidia-cufft-cu12 11.2.3.61 which is incompatible.\n",
            "torch 2.6.0+cu124 requires nvidia-curand-cu12==10.3.5.147; platform_system == \"Linux\" and platform_machine == \"x86_64\", but you have nvidia-curand-cu12 10.3.6.82 which is incompatible.\n",
            "torch 2.6.0+cu124 requires nvidia-cusolver-cu12==11.6.1.9; platform_system == \"Linux\" and platform_machine == \"x86_64\", but you have nvidia-cusolver-cu12 11.6.3.83 which is incompatible.\n",
            "torch 2.6.0+cu124 requires nvidia-cusparse-cu12==12.3.1.170; platform_system == \"Linux\" and platform_machine == \"x86_64\", but you have nvidia-cusparse-cu12 12.5.1.3 which is incompatible.\n",
            "torch 2.6.0+cu124 requires nvidia-nvjitlink-cu12==12.4.127; platform_system == \"Linux\" and platform_machine == \"x86_64\", but you have nvidia-nvjitlink-cu12 12.5.82 which is incompatible.\u001b[0m\u001b[31m\n",
            "\u001b[0m"
          ]
        }
      ],
      "source": [
        "!pip3 install faster-whisper ctranslate2 datasets sacrebleu -q"
      ]
    },
    {
      "cell_type": "code",
      "execution_count": 24,
      "metadata": {
        "id": "H61nGOn4tx4C"
      },
      "outputs": [],
      "source": [
        "from datasets import load_dataset, Dataset, Audio\n",
        "import numpy as np"
      ]
    },
    {
      "cell_type": "code",
      "execution_count": null,
      "metadata": {},
      "outputs": [],
      "source": [
        "import os\n",
        "cache_dir = \"/content/huggingface_cache\"\n",
        "os.makedirs(cache_dir, exist_ok=True)\n",
        "\n",
        "# Set ALL Hugging Face related cache directories\n",
        "os.environ[\"TRANSFORMERS_CACHE\"] = os.path.join(cache_dir, \"transformers\")\n",
        "os.environ[\"HF_DATASETS_CACHE\"] = os.path.join(cache_dir, \"datasets\")\n",
        "os.environ[\"HF_HOME\"] = os.path.join(cache_dir, \"hf_home\")\n",
        "os.environ[\"HF_ASSETS_CACHE\"] = os.path.join(cache_dir, \"assets\")\n",
        "os.environ[\"HUGGINGFACE_HUB_CACHE\"] = os.path.join(cache_dir, \"hub\")\n",
        "os.environ[\"HF_MODULES_CACHE\"] = os.path.join(cache_dir, \"modules\")\n",
        "\n",
        "# Create all directories\n",
        "for dir_path in [os.environ[\"TRANSFORMERS_CACHE\"],\n",
        "                os.environ[\"HF_DATASETS_CACHE\"],\n",
        "                os.environ[\"HF_HOME\"],\n",
        "                os.environ[\"HF_ASSETS_CACHE\"],\n",
        "                os.environ[\"HUGGINGFACE_HUB_CACHE\"],\n",
        "                os.environ[\"HF_MODULES_CACHE\"]]:\n",
        "    os.makedirs(dir_path, exist_ok=True)\n",
        "\n",
        "# Force datasets to use the new cache\n",
        "from datasets import config\n",
        "config.HF_DATASETS_CACHE = os.environ[\"HF_DATASETS_CACHE\"]"
      ]
    },
    {
      "cell_type": "markdown",
      "metadata": {
        "id": "IStXWuDMrKee"
      },
      "source": [
        "# Load the Dataset"
      ]
    },
    {
      "cell_type": "code",
      "execution_count": 30,
      "metadata": {
        "colab": {
          "base_uri": "https://localhost:8080/",
          "height": 324,
          "referenced_widgets": [
            "34c4546a54a04682a87dda8b0ba848d9",
            "a193965115fd49938d5cfa8bfa3c302a",
            "d4160d90d80346aba76a1024c6e486ba",
            "429444d6a4154b40b4c751aa157db2d6",
            "d51599fb6eaa435891d5f035b2b4f06e",
            "f72f74edb82c467492beb070cdc33874",
            "c666930cb46744c2ba9b043757177b1b",
            "f6fa547129ec49fc8a043ccd2d7b7725",
            "f1864aa673514a1f9a8943b89d105ecb",
            "3f806fbde8d94428b3995a4bd19eb7d5",
            "3ee80c57db78443d9488504ce23374cf",
            "e2678ec7196347879c76ef05f19cba17",
            "00c5c7ed6c304b95941d01a51f727830",
            "6b51b09f23a3439f8259d078dc755ebb",
            "0a82d2d8dd3845dfb6154a5b8f7af0ee",
            "82c35a43a29a4bdb877b160eb97a2cfc",
            "a1ea4ebf9bb74852819e76eba0f3ce7e",
            "5e699216c39f4c4286a06161d568bd12",
            "d5c83accc61c4a06b00bd5f4dd3a13ef",
            "2532fded26f04dedaecb6a55e01d5d70",
            "1cab69b58ad34152959c19a1e5a2fa36",
            "e9d20323dd1642689f4b8af79994ee8e"
          ]
        },
        "id": "3DSOUgqgrKeg",
        "outputId": "2400e890-960c-4601-e5be-2265cae7f3cf",
        "vscode": {
          "languageId": "plaintext"
        }
      },
      "outputs": [
        {
          "data": {
            "application/vnd.jupyter.widget-view+json": {
              "model_id": "34c4546a54a04682a87dda8b0ba848d9",
              "version_major": 2,
              "version_minor": 0
            },
            "text/plain": [
              "Resolving data files:   0%|          | 0/41 [00:00<?, ?it/s]"
            ]
          },
          "metadata": {},
          "output_type": "display_data"
        },
        {
          "data": {
            "application/vnd.jupyter.widget-view+json": {
              "model_id": "e2678ec7196347879c76ef05f19cba17",
              "version_major": 2,
              "version_minor": 0
            },
            "text/plain": [
              "Resolving data files:   0%|          | 0/41 [00:00<?, ?it/s]"
            ]
          },
          "metadata": {},
          "output_type": "display_data"
        },
        {
          "data": {
            "text/plain": [
              "IterableDatasetDict({\n",
              "    train: IterableDataset({\n",
              "        features: ['audio', 'sentence', 'translation', 'speaker_id'],\n",
              "        num_shards: 41\n",
              "    })\n",
              "    val: IterableDataset({\n",
              "        features: ['audio', 'sentence', 'translation', 'speaker_id'],\n",
              "        num_shards: 2\n",
              "    })\n",
              "    test: IterableDataset({\n",
              "        features: ['audio', 'sentence', 'translation', 'speaker_id'],\n",
              "        num_shards: 2\n",
              "    })\n",
              "})"
            ]
          },
          "execution_count": 30,
          "metadata": {},
          "output_type": "execute_result"
        }
      ],
      "source": [
        "dataset_name = \"kreasof-ai/be-en-IWSLT2025\"\n",
        "test_dataset = load_dataset(dataset_name, trust_remote_code=True, split=\"test\")"
      ]
    },
    {
      "cell_type": "code",
      "execution_count": 31,
      "metadata": {
        "colab": {
          "base_uri": "https://localhost:8080/"
        },
        "id": "x0OzVxS4slzC",
        "outputId": "ee8be703-83ff-4fbc-8881-456ec4e94b75"
      },
      "outputs": [
        {
          "data": {
            "text/plain": [
              "IterableDataset({\n",
              "    features: ['audio', 'sentence', 'translation', 'speaker_id'],\n",
              "    num_shards: 2\n",
              "})"
            ]
          },
          "execution_count": 31,
          "metadata": {},
          "output_type": "execute_result"
        }
      ],
      "source": [
        "test_dataset"
      ]
    },
    {
      "cell_type": "code",
      "execution_count": 32,
      "metadata": {
        "colab": {
          "base_uri": "https://localhost:8080/"
        },
        "id": "wOCB88fRsp_5",
        "outputId": "21e5f386-abce-4251-a1c7-dff505766a1b"
      },
      "outputs": [
        {
          "name": "stdout",
          "output_type": "stream",
          "text": [
            "{'path': '15_7474_3_152_02_211030-180248_bem_8cc_elicit_1.wav', 'array': array([ 0.00000000e+00,  0.00000000e+00,  0.00000000e+00, ...,\n",
            "       -9.15527344e-05, -6.10351562e-05, -6.10351562e-05]), 'sampling_rate': 16000}\n"
          ]
        }
      ],
      "source": [
        "for sample in test_dataset:\n",
        "    print(sample[\"audio\"])  # Access the audio column\n",
        "    break  # Just to check the first example"
      ]
    },
    {
      "cell_type": "markdown",
      "metadata": {
        "id": "jE_tQDg2rtIB"
      },
      "source": [
        "# Testing with first 10 data"
      ]
    },
    {
      "cell_type": "code",
      "execution_count": 60,
      "metadata": {
        "id": "kmHuUTdhrvRE"
      },
      "outputs": [],
      "source": [
        "# Get the first 10 examples\n",
        "test_dataset = list(dataset[\"test\"].take(10))"
      ]
    },
    {
      "cell_type": "code",
      "execution_count": 61,
      "metadata": {
        "id": "dANeuWP9t1F_"
      },
      "outputs": [],
      "source": [
        "test_dataset = Dataset.from_list(test_dataset)"
      ]
    },
    {
      "cell_type": "code",
      "execution_count": 62,
      "metadata": {
        "id": "NE8rXJC1t0FR"
      },
      "outputs": [],
      "source": [
        "test_dataset = test_dataset.cast_column(\"audio\", Audio())"
      ]
    },
    {
      "cell_type": "code",
      "execution_count": 63,
      "metadata": {
        "colab": {
          "base_uri": "https://localhost:8080/"
        },
        "id": "eOFhmSSkt3cx",
        "outputId": "aff6cbe1-8be4-413c-b7de-79a3a0dae748"
      },
      "outputs": [
        {
          "data": {
            "text/plain": [
              "[{'path': None,\n",
              "  'array': array([ 0.00000000e+00,  0.00000000e+00,  0.00000000e+00, ...,\n",
              "         -9.15527344e-05, -6.10351562e-05, -6.10351562e-05]),\n",
              "  'sampling_rate': 16000},\n",
              " {'path': None,\n",
              "  'array': array([ 0.        ,  0.        ,  0.        , ..., -0.01599121,\n",
              "         -0.01629639, -0.01654053]),\n",
              "  'sampling_rate': 16000},\n",
              " {'path': None,\n",
              "  'array': array([ 0.00000000e+00, -3.05175781e-05, -3.05175781e-05, ...,\n",
              "         -1.12915039e-03, -8.23974609e-04, -4.88281250e-04]),\n",
              "  'sampling_rate': 16000},\n",
              " {'path': None,\n",
              "  'array': array([0.        , 0.        , 0.        , ..., 0.00061035, 0.00204468,\n",
              "         0.00100708]),\n",
              "  'sampling_rate': 16000},\n",
              " {'path': None,\n",
              "  'array': array([ 0.        ,  0.        ,  0.        , ...,  0.00094604,\n",
              "          0.00024414, -0.00039673]),\n",
              "  'sampling_rate': 16000},\n",
              " {'path': None,\n",
              "  'array': array([0.        , 0.        , 0.        , ..., 0.00021362, 0.00021362,\n",
              "         0.        ]),\n",
              "  'sampling_rate': 16000},\n",
              " {'path': None,\n",
              "  'array': array([ 0.00000000e+00, -3.05175781e-05, -3.05175781e-05, ...,\n",
              "         -1.52587891e-04, -3.35693359e-04, -6.10351562e-04]),\n",
              "  'sampling_rate': 16000},\n",
              " {'path': None,\n",
              "  'array': array([0.        , 0.        , 0.        , ..., 0.00100708, 0.00106812,\n",
              "         0.00119019]),\n",
              "  'sampling_rate': 16000},\n",
              " {'path': None,\n",
              "  'array': array([ 0.        ,  0.        ,  0.        , ..., -0.0206604 ,\n",
              "          0.01754761,  0.05108643]),\n",
              "  'sampling_rate': 16000},\n",
              " {'path': None,\n",
              "  'array': array([0.        , 0.        , 0.        , ..., 0.00192261, 0.00210571,\n",
              "         0.00222778]),\n",
              "  'sampling_rate': 16000}]"
            ]
          },
          "execution_count": 63,
          "metadata": {},
          "output_type": "execute_result"
        }
      ],
      "source": [
        "test_dataset[\"audio\"]"
      ]
    },
    {
      "cell_type": "markdown",
      "metadata": {
        "id": "nInFsRBRxHBX"
      },
      "source": [
        "# Create Arrays for audio"
      ]
    },
    {
      "cell_type": "code",
      "execution_count": 67,
      "metadata": {
        "colab": {
          "base_uri": "https://localhost:8080/"
        },
        "id": "DKAT6aigxFMh",
        "outputId": "6a94ede2-aff4-418d-e5c2-2266525333e7"
      },
      "outputs": [
        {
          "name": "stdout",
          "output_type": "stream",
          "text": [
            "['he is wearing glasses as well', 'A dog with a wide nose is running on the lawns of the football ground', 'She has her leg in the air attempting to break a board.', 'There are also small vehicles that they use in cold places behind them.', 'Of the men on the roof of the house, ine is wearing a long sleeved grey shirt and a blue trousers.', 'These on their shoes are for sliding when the to play on the ice.', 'A woman is walking in the road with a child on her showders.', \"I have seen it seems there are different games being played that's why others are looking the other way while others are watching volleyball.\", 'A woman is holding food on a plate inside a shop.', 'Or maybe someone has made him upset.']\n"
          ]
        }
      ],
      "source": [
        "references = test_dataset[\"translation\"]\n",
        "print(references) # Check if the references is list"
      ]
    },
    {
      "cell_type": "code",
      "execution_count": 69,
      "metadata": {
        "id": "-Yd83hrErKeh",
        "vscode": {
          "languageId": "plaintext"
        }
      },
      "outputs": [],
      "source": [
        "audio_arrays = [a[\"array\"].astype(np.float32) for a in test_dataset[\"audio\"]]"
      ]
    },
    {
      "cell_type": "code",
      "execution_count": 70,
      "metadata": {
        "colab": {
          "base_uri": "https://localhost:8080/"
        },
        "id": "apS1AGNLuP-T",
        "outputId": "a32850bd-c47d-4bc1-da0f-85bd848a4190"
      },
      "outputs": [
        {
          "data": {
            "text/plain": [
              "[array([ 0.0000000e+00,  0.0000000e+00,  0.0000000e+00, ...,\n",
              "        -9.1552734e-05, -6.1035156e-05, -6.1035156e-05], dtype=float32),\n",
              " array([ 0.        ,  0.        ,  0.        , ..., -0.01599121,\n",
              "        -0.01629639, -0.01654053], dtype=float32),\n",
              " array([ 0.0000000e+00, -3.0517578e-05, -3.0517578e-05, ...,\n",
              "        -1.1291504e-03, -8.2397461e-04, -4.8828125e-04], dtype=float32),\n",
              " array([0.        , 0.        , 0.        , ..., 0.00061035, 0.00204468,\n",
              "        0.00100708], dtype=float32),\n",
              " array([ 0.        ,  0.        ,  0.        , ...,  0.00094604,\n",
              "         0.00024414, -0.00039673], dtype=float32),\n",
              " array([0.        , 0.        , 0.        , ..., 0.00021362, 0.00021362,\n",
              "        0.        ], dtype=float32),\n",
              " array([ 0.0000000e+00, -3.0517578e-05, -3.0517578e-05, ...,\n",
              "        -1.5258789e-04, -3.3569336e-04, -6.1035156e-04], dtype=float32),\n",
              " array([0.        , 0.        , 0.        , ..., 0.00100708, 0.00106812,\n",
              "        0.00119019], dtype=float32),\n",
              " array([ 0.        ,  0.        ,  0.        , ..., -0.0206604 ,\n",
              "         0.01754761,  0.05108643], dtype=float32),\n",
              " array([0.        , 0.        , 0.        , ..., 0.00192261, 0.00210571,\n",
              "        0.00222778], dtype=float32)]"
            ]
          },
          "execution_count": 70,
          "metadata": {},
          "output_type": "execute_result"
        }
      ],
      "source": [
        "audio_arrays"
      ]
    },
    {
      "cell_type": "code",
      "execution_count": null,
      "metadata": {},
      "outputs": [],
      "source": [
        "assert len(audio_arrays) == len(references)"
      ]
    },
    {
      "cell_type": "markdown",
      "metadata": {
        "id": "DtSmuyccrKeh"
      },
      "source": [
        "# Preprocess Dataset"
      ]
    },
    {
      "cell_type": "code",
      "execution_count": null,
      "metadata": {
        "id": "dmYtQO-orKei",
        "vscode": {
          "languageId": "plaintext"
        }
      },
      "outputs": [],
      "source": []
    },
    {
      "cell_type": "code",
      "execution_count": null,
      "metadata": {
        "id": "XMp39u2RrKei",
        "vscode": {
          "languageId": "plaintext"
        }
      },
      "outputs": [],
      "source": []
    },
    {
      "cell_type": "code",
      "execution_count": null,
      "metadata": {
        "id": "ACdnKnjQrKej",
        "vscode": {
          "languageId": "plaintext"
        }
      },
      "outputs": [],
      "source": []
    },
    {
      "cell_type": "markdown",
      "metadata": {
        "id": "ONvgJHIFrKej"
      },
      "source": [
        "# Cascaded"
      ]
    },
    {
      "cell_type": "markdown",
      "metadata": {
        "id": "kj3bYhDarKek"
      },
      "source": [
        "## transcribe"
      ]
    },
    {
      "cell_type": "code",
      "execution_count": 40,
      "metadata": {
        "colab": {
          "base_uri": "https://localhost:8080/"
        },
        "id": "AFDzzAF_rKek",
        "outputId": "051aaee0-54e7-402b-86d3-2751961bbf3d",
        "vscode": {
          "languageId": "plaintext"
        }
      },
      "outputs": [
        {
          "name": "stdout",
          "output_type": "stream",
          "text": [
            "\rconfig.json:   0% 0.00/1.38k [00:00<?, ?B/s]\rconfig.json: 100% 1.38k/1.38k [00:00<00:00, 8.32MB/s]\n",
            "2025-03-23 15:57:43.843091: E external/local_xla/xla/stream_executor/cuda/cuda_fft.cc:477] Unable to register cuFFT factory: Attempting to register factory for plugin cuFFT when one has already been registered\n",
            "WARNING: All log messages before absl::InitializeLog() is called are written to STDERR\n",
            "E0000 00:00:1742745463.863009    6407 cuda_dnn.cc:8310] Unable to register cuDNN factory: Attempting to register factory for plugin cuDNN when one has already been registered\n",
            "E0000 00:00:1742745463.869007    6407 cuda_blas.cc:1418] Unable to register cuBLAS factory: Attempting to register factory for plugin cuBLAS when one has already been registered\n",
            "2025-03-23 15:57:43.889403: I tensorflow/core/platform/cpu_feature_guard.cc:210] This TensorFlow binary is optimized to use available CPU instructions in performance-critical operations.\n",
            "To enable the following instructions: AVX2 AVX512F FMA, in other operations, rebuild TensorFlow with the appropriate compiler flags.\n",
            "model.safetensors: 100% 967M/967M [00:39<00:00, 24.6MB/s]\n",
            "generation_config.json: 100% 3.88k/3.88k [00:00<00:00, 30.3MB/s]\n",
            "tokenizer_config.json: 100% 283k/283k [00:00<00:00, 36.7MB/s]\n",
            "vocab.json: 100% 836k/836k [00:00<00:00, 3.78MB/s]\n",
            "tokenizer.json: 100% 3.93M/3.93M [00:00<00:00, 5.80MB/s]\n",
            "merges.txt: 100% 494k/494k [00:00<00:00, 26.3MB/s]\n",
            "normalizer.json: 100% 52.7k/52.7k [00:00<00:00, 176MB/s]\n",
            "added_tokens.json: 100% 34.6k/34.6k [00:00<00:00, 81.1MB/s]\n",
            "special_tokens_map.json: 100% 2.19k/2.19k [00:00<00:00, 13.2MB/s]\n"
          ]
        }
      ],
      "source": [
        "model_id = \"kreasof-ai/whisper-small-be2en\"\n",
        "output_dir=\"ct2-whisper-small-transcription\"\n",
        "\n",
        "!ct2-transformers-converter \\\n",
        "--model {model_id} \\\n",
        "--output_dir {output_dir} \\\n",
        "--quantization float16 \\\n",
        "--copy_files tokenizer_config.json\\\n",
        "--force"
      ]
    },
    {
      "cell_type": "code",
      "execution_count": 41,
      "metadata": {
        "colab": {
          "base_uri": "https://localhost:8080/",
          "height": 49,
          "referenced_widgets": [
            "d87e79f55f0545a290384d94063ec90b",
            "59a64ae6fce4418d8561854694e4302b",
            "260cb8e5717d452181c8b52398c3a681",
            "91dbb3c5d23f48dd8ae61dbd5f0251e2",
            "c3c3f7b1562240bcb3ce2b11de50ae68",
            "0856310c548f4b8fba84ef2d393d900a",
            "5bcc7f0f442d48a29d90c51d468e8c0d",
            "21c823ddb9ea4cffb89a26280a73c4a3",
            "2c61e9383bf2440c895916bbed582b24",
            "9b19462427ef46adb83322a6d930e16c",
            "270566af6cde44b0924803cb84ad609c"
          ]
        },
        "id": "bt_R20bOrKel",
        "outputId": "e0ad63d9-2a18-422c-abe7-3553c04db621",
        "vscode": {
          "languageId": "plaintext"
        }
      },
      "outputs": [
        {
          "data": {
            "application/vnd.jupyter.widget-view+json": {
              "model_id": "d87e79f55f0545a290384d94063ec90b",
              "version_major": 2,
              "version_minor": 0
            },
            "text/plain": [
              "tokenizer.json:   0%|          | 0.00/2.48M [00:00<?, ?B/s]"
            ]
          },
          "metadata": {},
          "output_type": "display_data"
        }
      ],
      "source": [
        "from faster_whisper import WhisperModel\n",
        "\n",
        "model_name = \"ct2-whisper-small-transcription\" # ct2-whisper-xxx\n",
        "\n",
        "model = WhisperModel(model_name, device=\"cuda\", compute_type=\"float16\")"
      ]
    },
    {
      "cell_type": "markdown",
      "metadata": {
        "id": "8qlciGnfrKel"
      },
      "source": []
    },
    {
      "cell_type": "code",
      "execution_count": 71,
      "metadata": {
        "colab": {
          "base_uri": "https://localhost:8080/"
        },
        "id": "h39pvQ_drKel",
        "outputId": "28c19e2c-5231-4143-8281-7e18870bc983",
        "vscode": {
          "languageId": "plaintext"
        }
      },
      "outputs": [
        {
          "data": {
            "text/plain": [
              "{'audio': {'path': None,\n",
              "  'array': array([ 0.00000000e+00,  0.00000000e+00,  0.00000000e+00, ...,\n",
              "         -9.15527344e-05, -6.10351562e-05, -6.10351562e-05]),\n",
              "  'sampling_rate': 16000},\n",
              " 'sentence': 'nafwala na amakalashi ku menso',\n",
              " 'translation': 'he is wearing glasses as well',\n",
              " 'speaker_id': 152}"
            ]
          },
          "execution_count": 71,
          "metadata": {},
          "output_type": "execute_result"
        }
      ],
      "source": [
        "test_dataset[0]"
      ]
    },
    {
      "cell_type": "code",
      "execution_count": 72,
      "metadata": {
        "id": "xshZ0ayArKem",
        "vscode": {
          "languageId": "plaintext"
        }
      },
      "outputs": [],
      "source": [
        "tgt_lang = \"be\"\n",
        "\n",
        "transcriptions = []\n",
        "segments, info = model.transcribe(audio_arrays[0],\n",
        "                                beam_size=5,\n",
        "                                language=tgt_lang,\n",
        "                                vad_filter=True\n",
        "                                )\n",
        "transcription = \" \".join([segment.text.strip() for segment in segments])\n",
        "transcriptions.append(transcription)"
      ]
    },
    {
      "cell_type": "code",
      "execution_count": 73,
      "metadata": {
        "colab": {
          "base_uri": "https://localhost:8080/"
        },
        "id": "c9f5SkCxrKem",
        "outputId": "2b2a5218-d678-4d61-b9f4-50e045a71f23",
        "vscode": {
          "languageId": "plaintext"
        }
      },
      "outputs": [
        {
          "name": "stdout",
          "output_type": "stream",
          "text": [
            "['nafwala na amakalashi ku menso']\n"
          ]
        }
      ],
      "source": [
        "print(transcriptions)"
      ]
    },
    {
      "cell_type": "code",
      "execution_count": 74,
      "metadata": {
        "colab": {
          "base_uri": "https://localhost:8080/",
          "height": 49,
          "referenced_widgets": [
            "d6faeab9eb454af7bdb8ccc29b681291",
            "f6da4522bf2e41f7acea7d861ee526ef",
            "582c8dea10114a889724992bbc6c284d",
            "6d7df4d5b28d4dc0b3d2bd717a48a012",
            "802f5cbbd83644ed91b88e83e492cb32",
            "9dcb6dc4e7ec4c53bbb9910ce90fa3dc",
            "c3da62093e19426fb28d9ff1fefdfa04",
            "299ec30efc834c5e9f962c0291628c06",
            "cb8af05ff52a43ef8bcecc1273b390a4",
            "82a38bb4fb44409cadfe62c3e4337cda",
            "f2cf8ab7f7b24986b78f5110447091e3"
          ]
        },
        "id": "9247xz-mrKem",
        "outputId": "b9bb9fb4-3ef5-4fd4-8ee1-230994b0870f",
        "vscode": {
          "languageId": "plaintext"
        }
      },
      "outputs": [
        {
          "data": {
            "application/vnd.jupyter.widget-view+json": {
              "model_id": "d6faeab9eb454af7bdb8ccc29b681291",
              "version_major": 2,
              "version_minor": 0
            },
            "text/plain": [
              "  0%|          | 0/10 [00:00<?, ?it/s]"
            ]
          },
          "metadata": {},
          "output_type": "display_data"
        }
      ],
      "source": [
        "from tqdm.auto import tqdm\n",
        "\n",
        "tgt_lang = \"be\"\n",
        "\n",
        "transcriptions = []\n",
        "\n",
        "for audio_array in tqdm(audio_arrays, total=len(audio_arrays)):\n",
        "    segments, info = model.transcribe(audio_array,\n",
        "                                        beam_size=5,\n",
        "                                        language=tgt_lang,\n",
        "                                        vad_filter=True)\n",
        "    transcription = \" \".join([segment.text.strip() for segment in segments])\n",
        "    transcriptions.append(transcription)"
      ]
    },
    {
      "cell_type": "code",
      "execution_count": 75,
      "metadata": {
        "colab": {
          "base_uri": "https://localhost:8080/"
        },
        "id": "n4MYqLfqrKen",
        "outputId": "f59f7779-39b1-4e63-c1c9-9ff7432d1914",
        "vscode": {
          "languageId": "plaintext"
        }
      },
      "outputs": [
        {
          "name": "stdout",
          "output_type": "stream",
          "text": [
            "nafwala na amakalashi ku menso\n",
            "Imbwa imo iya fonka pamona ilebutuka pa lunkoto lwa mucibansa\n",
            "Akamwana nakemya ukulu mumuulu ukulwisha ukutoba akapulana.\n",
            "Kunuma yabo kuli notuma motoka tulya babonfya mu ncende iyatalala nge iyi baliko.\n",
            "abaume Bali pamutenge ya ng'anda umo afwele ishati lya mitomito ilyamaboko ayatali elyo netoloshi lya makumbimakumbi\n",
            "Ifi bafwele kunsapato fyakutelela nga ba mukwangala umu mwine muli ice.\n",
            "Namayo alenda mumusebo nabika nomwana pamabeya.\n",
            "Nimbona, iyi incende balateyelako ifyangalo ifyapusana pusana emulandu wine kuli bambi abaletamba umupila wakuminwe elyo bambi baposele amano mukutambeba ifyangalo fimbi fi.\n",
            "Namayo naikata ifyakulya pambale mukati ke tuka.\n",
            "Nangu limbi kuli bamo abamufulwishe.\n"
          ]
        }
      ],
      "source": [
        "print(*transcriptions[:20], sep=\"\\n\")"
      ]
    },
    {
      "cell_type": "markdown",
      "metadata": {
        "id": "dVErRYtVrKen"
      },
      "source": [
        "## MT (NLLB)"
      ]
    },
    {
      "cell_type": "code",
      "execution_count": 51,
      "metadata": {
        "colab": {
          "base_uri": "https://localhost:8080/"
        },
        "id": "Vi6avQ16rKen",
        "outputId": "b8be3ea0-c45e-4427-ff41-798be6acbbac",
        "vscode": {
          "languageId": "plaintext"
        }
      },
      "outputs": [
        {
          "name": "stdout",
          "output_type": "stream",
          "text": [
            "\rconfig.json:   0% 0.00/897 [00:00<?, ?B/s]\rconfig.json: 100% 897/897 [00:00<00:00, 4.02MB/s]\n",
            "2025-03-23 16:02:43.510406: E external/local_xla/xla/stream_executor/cuda/cuda_fft.cc:477] Unable to register cuFFT factory: Attempting to register factory for plugin cuFFT when one has already been registered\n",
            "WARNING: All log messages before absl::InitializeLog() is called are written to STDERR\n",
            "E0000 00:00:1742745763.533550    8434 cuda_dnn.cc:8310] Unable to register cuDNN factory: Attempting to register factory for plugin cuDNN when one has already been registered\n",
            "E0000 00:00:1742745763.540090    8434 cuda_blas.cc:1418] Unable to register cuBLAS factory: Attempting to register factory for plugin cuBLAS when one has already been registered\n",
            "2025-03-23 16:02:43.562376: I tensorflow/core/platform/cpu_feature_guard.cc:210] This TensorFlow binary is optimized to use available CPU instructions in performance-critical operations.\n",
            "To enable the following instructions: AVX2 AVX512F FMA, in other operations, rebuild TensorFlow with the appropriate compiler flags.\n",
            "model.safetensors: 100% 2.46G/2.46G [01:47<00:00, 22.8MB/s]\n",
            "generation_config.json: 100% 154/154 [00:00<00:00, 933kB/s]\n",
            "tokenizer_config.json: 100% 39.9k/39.9k [00:00<00:00, 1.18MB/s]\n",
            "sentencepiece.bpe.model: 100% 4.85M/4.85M [00:00<00:00, 21.3MB/s]\n",
            "tokenizer.json: 100% 32.2M/32.2M [00:02<00:00, 15.0MB/s]\n",
            "special_tokens_map.json: 100% 4.23k/4.23k [00:00<00:00, 22.8MB/s]\n"
          ]
        }
      ],
      "source": [
        "mt_model_name = \"kreasof-ai/nllb-IWSLT2025-be-en\"\n",
        "output_mt = \"ct2-nllb-be-en\"\n",
        "!ct2-transformers-converter --model {mt_model_name} --quantization float16 --output_dir {output_mt}"
      ]
    },
    {
      "cell_type": "code",
      "execution_count": 52,
      "metadata": {
        "colab": {
          "base_uri": "https://localhost:8080/"
        },
        "id": "rm4unIgZrKen",
        "outputId": "e2b4a454-b0aa-4d83-aa52-ba05b17a79bc",
        "vscode": {
          "languageId": "plaintext"
        }
      },
      "outputs": [
        {
          "name": "stdout",
          "output_type": "stream",
          "text": [
            "--2025-03-23 16:05:19--  https://s3.amazonaws.com/opennmt-models/nllb-200/flores200_sacrebleu_tokenizer_spm.model\n",
            "Resolving s3.amazonaws.com (s3.amazonaws.com)... 54.231.204.144, 52.216.153.62, 16.15.193.31, ...\n",
            "Connecting to s3.amazonaws.com (s3.amazonaws.com)|54.231.204.144|:443... connected.\n",
            "HTTP request sent, awaiting response... 200 OK\n",
            "Length: 4852054 (4.6M) [binary/octet-stream]\n",
            "Saving to: ‘flores200_sacrebleu_tokenizer_spm.model’\n",
            "\n",
            "flores200_sacrebleu 100%[===================>]   4.63M   944KB/s    in 9.1s    \n",
            "\n",
            "2025-03-23 16:05:29 (520 KB/s) - ‘flores200_sacrebleu_tokenizer_spm.model’ saved [4852054/4852054]\n",
            "\n"
          ]
        }
      ],
      "source": [
        "!wget https://s3.amazonaws.com/opennmt-models/nllb-200/flores200_sacrebleu_tokenizer_spm.model"
      ]
    },
    {
      "cell_type": "code",
      "execution_count": 56,
      "metadata": {
        "id": "gWXU1N6ZrKen",
        "vscode": {
          "languageId": "plaintext"
        }
      },
      "outputs": [],
      "source": [
        "import os\n",
        "\n",
        "directory = \"/content/\"\n",
        "\n",
        "ct2_model_name = output_mt\n",
        "\n",
        "ct_model_path = os.path.join(directory, ct2_model_name)\n",
        "sp_model_path = os.path.join(directory, \"flores200_sacrebleu_tokenizer_spm.model\")"
      ]
    },
    {
      "cell_type": "code",
      "execution_count": 57,
      "metadata": {
        "id": "3f7OdYdwrKeo",
        "vscode": {
          "languageId": "plaintext"
        }
      },
      "outputs": [],
      "source": [
        "import ctranslate2\n",
        "import sentencepiece as spm\n",
        "import torch\n",
        "\n",
        "device = \"cuda\" if torch.cuda.is_available() else \"cpu\"\n",
        "\n",
        "sp = spm.SentencePieceProcessor()\n",
        "sp.load(sp_model_path)\n",
        "\n",
        "translator = ctranslate2.Translator(ct_model_path, device=device)"
      ]
    },
    {
      "cell_type": "code",
      "execution_count": 76,
      "metadata": {
        "colab": {
          "base_uri": "https://localhost:8080/"
        },
        "id": "bKI_V8SZrKeo",
        "outputId": "82d9d926-f383-4726-e940-e6fbb412b318",
        "vscode": {
          "languageId": "plaintext"
        }
      },
      "outputs": [
        {
          "name": "stdout",
          "output_type": "stream",
          "text": [
            "he is wearing glasses on his face\n",
            "A dog with a wrinkled nose is running on the grass in the ground.\n",
            "A child has lifted up his leg in an attempt to break the knot.\n",
            "Behind them are vehicles that they use in cold places like this one they are in.\n",
            "A man is on the roof of a house wearing a grey long sleeved shirt and a blue trousers.\n",
            "These shoes they are wearing are for sliding on ice.\n",
            "A woman is walking on the road with a child on her shoulders.\n",
            "I have seen. This is a place where different games are played and that is why there are people watching basketball and others are paying attention to watching other games.\n",
            "A woman is holding food on a plate inside a shop.\n",
            "Or maybe someone has upset him.\n"
          ]
        }
      ],
      "source": [
        "# Translate\n",
        "\n",
        "# src_lang = \"ben_Beng\"\n",
        "# tgt_lang = \"eng_Latn\"\n",
        "\n",
        "src_lang = \"bem_Latn\"\n",
        "tgt_lang = \"eng_Latn\"\n",
        "\n",
        "beam_size = 5\n",
        "\n",
        "source_sentences = transcriptions\n",
        "\n",
        "source_sents = [sent.strip() for sent in source_sentences]\n",
        "target_prefix = [[tgt_lang]] * len(source_sents)\n",
        "\n",
        "# Subword the source sentences\n",
        "source_sents_subworded = sp.encode_as_pieces(source_sents)\n",
        "source_sents_subworded = [[src_lang] + sent + [\"</s>\"] for sent in source_sents_subworded]\n",
        "\n",
        "# Translate the source sentences\n",
        "translations = translator.translate_batch(source_sents_subworded,\n",
        "                                          batch_type=\"tokens\",\n",
        "                                          max_batch_size=2024,\n",
        "                                          beam_size=beam_size,\n",
        "                                          target_prefix=target_prefix)\n",
        "translations = [translation.hypotheses[0] for translation in translations]\n",
        "\n",
        "# Desubword the target sentences\n",
        "translations_desubword = sp.decode(translations)\n",
        "translations_desubword = [sent[len(tgt_lang):].strip() for sent in translations_desubword]\n",
        "\n",
        "print(*translations_desubword[:10], sep=\"\\n\")"
      ]
    },
    {
      "cell_type": "code",
      "execution_count": 77,
      "metadata": {
        "colab": {
          "base_uri": "https://localhost:8080/"
        },
        "id": "PHLeXRdUrKeo",
        "outputId": "b16d5359-966b-4bd1-c016-54fed8fa853d",
        "vscode": {
          "languageId": "plaintext"
        }
      },
      "outputs": [
        {
          "name": "stdout",
          "output_type": "stream",
          "text": [
            "ct2-whisper-small-transcription\n",
            "BLEU\tChrF++\n",
            "37.38\t59.34\n"
          ]
        }
      ],
      "source": [
        "import sacrebleu\n",
        "\n",
        "translations = translations_desubword\n",
        "\n",
        "# Calculate BLEU\n",
        "bleu = sacrebleu.corpus_bleu(translations, [references])\n",
        "bleu = round(bleu.score, 2)\n",
        "\n",
        "# Calculate CHRF\n",
        "chrf = sacrebleu.corpus_chrf(translations, [references], word_order=2)  # for chrF++ word_order=2\n",
        "chrf = round(chrf.score, 2)\n",
        "\n",
        "print(model_name)\n",
        "print(\"BLEU\\tChrF++\")\n",
        "print(f\"{bleu}\\t{chrf}\")"
      ]
    },
    {
      "cell_type": "code",
      "execution_count": null,
      "metadata": {
        "id": "cat5s0vnyH-c"
      },
      "outputs": [],
      "source": []
    }
  ],
  "metadata": {
    "accelerator": "GPU",
    "colab": {
      "gpuType": "T4",
      "provenance": []
    },
    "kernelspec": {
      "display_name": "Python 3",
      "name": "python3"
    },
    "language_info": {
      "name": "python"
    },
    "widgets": {
      "application/vnd.jupyter.widget-state+json": {
        "00c5c7ed6c304b95941d01a51f727830": {
          "model_module": "@jupyter-widgets/controls",
          "model_module_version": "1.5.0",
          "model_name": "HTMLModel",
          "state": {
            "_dom_classes": [],
            "_model_module": "@jupyter-widgets/controls",
            "_model_module_version": "1.5.0",
            "_model_name": "HTMLModel",
            "_view_count": null,
            "_view_module": "@jupyter-widgets/controls",
            "_view_module_version": "1.5.0",
            "_view_name": "HTMLView",
            "description": "",
            "description_tooltip": null,
            "layout": "IPY_MODEL_a1ea4ebf9bb74852819e76eba0f3ce7e",
            "placeholder": "​",
            "style": "IPY_MODEL_5e699216c39f4c4286a06161d568bd12",
            "value": "Resolving data files: 100%"
          }
        },
        "0856310c548f4b8fba84ef2d393d900a": {
          "model_module": "@jupyter-widgets/base",
          "model_module_version": "1.2.0",
          "model_name": "LayoutModel",
          "state": {
            "_model_module": "@jupyter-widgets/base",
            "_model_module_version": "1.2.0",
            "_model_name": "LayoutModel",
            "_view_count": null,
            "_view_module": "@jupyter-widgets/base",
            "_view_module_version": "1.2.0",
            "_view_name": "LayoutView",
            "align_content": null,
            "align_items": null,
            "align_self": null,
            "border": null,
            "bottom": null,
            "display": null,
            "flex": null,
            "flex_flow": null,
            "grid_area": null,
            "grid_auto_columns": null,
            "grid_auto_flow": null,
            "grid_auto_rows": null,
            "grid_column": null,
            "grid_gap": null,
            "grid_row": null,
            "grid_template_areas": null,
            "grid_template_columns": null,
            "grid_template_rows": null,
            "height": null,
            "justify_content": null,
            "justify_items": null,
            "left": null,
            "margin": null,
            "max_height": null,
            "max_width": null,
            "min_height": null,
            "min_width": null,
            "object_fit": null,
            "object_position": null,
            "order": null,
            "overflow": null,
            "overflow_x": null,
            "overflow_y": null,
            "padding": null,
            "right": null,
            "top": null,
            "visibility": null,
            "width": null
          }
        },
        "0a82d2d8dd3845dfb6154a5b8f7af0ee": {
          "model_module": "@jupyter-widgets/controls",
          "model_module_version": "1.5.0",
          "model_name": "HTMLModel",
          "state": {
            "_dom_classes": [],
            "_model_module": "@jupyter-widgets/controls",
            "_model_module_version": "1.5.0",
            "_model_name": "HTMLModel",
            "_view_count": null,
            "_view_module": "@jupyter-widgets/controls",
            "_view_module_version": "1.5.0",
            "_view_name": "HTMLView",
            "description": "",
            "description_tooltip": null,
            "layout": "IPY_MODEL_1cab69b58ad34152959c19a1e5a2fa36",
            "placeholder": "​",
            "style": "IPY_MODEL_e9d20323dd1642689f4b8af79994ee8e",
            "value": " 41/41 [00:00&lt;00:00, 2420.43it/s]"
          }
        },
        "1cab69b58ad34152959c19a1e5a2fa36": {
          "model_module": "@jupyter-widgets/base",
          "model_module_version": "1.2.0",
          "model_name": "LayoutModel",
          "state": {
            "_model_module": "@jupyter-widgets/base",
            "_model_module_version": "1.2.0",
            "_model_name": "LayoutModel",
            "_view_count": null,
            "_view_module": "@jupyter-widgets/base",
            "_view_module_version": "1.2.0",
            "_view_name": "LayoutView",
            "align_content": null,
            "align_items": null,
            "align_self": null,
            "border": null,
            "bottom": null,
            "display": null,
            "flex": null,
            "flex_flow": null,
            "grid_area": null,
            "grid_auto_columns": null,
            "grid_auto_flow": null,
            "grid_auto_rows": null,
            "grid_column": null,
            "grid_gap": null,
            "grid_row": null,
            "grid_template_areas": null,
            "grid_template_columns": null,
            "grid_template_rows": null,
            "height": null,
            "justify_content": null,
            "justify_items": null,
            "left": null,
            "margin": null,
            "max_height": null,
            "max_width": null,
            "min_height": null,
            "min_width": null,
            "object_fit": null,
            "object_position": null,
            "order": null,
            "overflow": null,
            "overflow_x": null,
            "overflow_y": null,
            "padding": null,
            "right": null,
            "top": null,
            "visibility": null,
            "width": null
          }
        },
        "21c823ddb9ea4cffb89a26280a73c4a3": {
          "model_module": "@jupyter-widgets/base",
          "model_module_version": "1.2.0",
          "model_name": "LayoutModel",
          "state": {
            "_model_module": "@jupyter-widgets/base",
            "_model_module_version": "1.2.0",
            "_model_name": "LayoutModel",
            "_view_count": null,
            "_view_module": "@jupyter-widgets/base",
            "_view_module_version": "1.2.0",
            "_view_name": "LayoutView",
            "align_content": null,
            "align_items": null,
            "align_self": null,
            "border": null,
            "bottom": null,
            "display": null,
            "flex": null,
            "flex_flow": null,
            "grid_area": null,
            "grid_auto_columns": null,
            "grid_auto_flow": null,
            "grid_auto_rows": null,
            "grid_column": null,
            "grid_gap": null,
            "grid_row": null,
            "grid_template_areas": null,
            "grid_template_columns": null,
            "grid_template_rows": null,
            "height": null,
            "justify_content": null,
            "justify_items": null,
            "left": null,
            "margin": null,
            "max_height": null,
            "max_width": null,
            "min_height": null,
            "min_width": null,
            "object_fit": null,
            "object_position": null,
            "order": null,
            "overflow": null,
            "overflow_x": null,
            "overflow_y": null,
            "padding": null,
            "right": null,
            "top": null,
            "visibility": null,
            "width": null
          }
        },
        "2532fded26f04dedaecb6a55e01d5d70": {
          "model_module": "@jupyter-widgets/controls",
          "model_module_version": "1.5.0",
          "model_name": "ProgressStyleModel",
          "state": {
            "_model_module": "@jupyter-widgets/controls",
            "_model_module_version": "1.5.0",
            "_model_name": "ProgressStyleModel",
            "_view_count": null,
            "_view_module": "@jupyter-widgets/base",
            "_view_module_version": "1.2.0",
            "_view_name": "StyleView",
            "bar_color": null,
            "description_width": ""
          }
        },
        "260cb8e5717d452181c8b52398c3a681": {
          "model_module": "@jupyter-widgets/controls",
          "model_module_version": "1.5.0",
          "model_name": "FloatProgressModel",
          "state": {
            "_dom_classes": [],
            "_model_module": "@jupyter-widgets/controls",
            "_model_module_version": "1.5.0",
            "_model_name": "FloatProgressModel",
            "_view_count": null,
            "_view_module": "@jupyter-widgets/controls",
            "_view_module_version": "1.5.0",
            "_view_name": "ProgressView",
            "bar_style": "success",
            "description": "",
            "description_tooltip": null,
            "layout": "IPY_MODEL_21c823ddb9ea4cffb89a26280a73c4a3",
            "max": 2480466,
            "min": 0,
            "orientation": "horizontal",
            "style": "IPY_MODEL_2c61e9383bf2440c895916bbed582b24",
            "value": 2480466
          }
        },
        "270566af6cde44b0924803cb84ad609c": {
          "model_module": "@jupyter-widgets/controls",
          "model_module_version": "1.5.0",
          "model_name": "DescriptionStyleModel",
          "state": {
            "_model_module": "@jupyter-widgets/controls",
            "_model_module_version": "1.5.0",
            "_model_name": "DescriptionStyleModel",
            "_view_count": null,
            "_view_module": "@jupyter-widgets/base",
            "_view_module_version": "1.2.0",
            "_view_name": "StyleView",
            "description_width": ""
          }
        },
        "299ec30efc834c5e9f962c0291628c06": {
          "model_module": "@jupyter-widgets/base",
          "model_module_version": "1.2.0",
          "model_name": "LayoutModel",
          "state": {
            "_model_module": "@jupyter-widgets/base",
            "_model_module_version": "1.2.0",
            "_model_name": "LayoutModel",
            "_view_count": null,
            "_view_module": "@jupyter-widgets/base",
            "_view_module_version": "1.2.0",
            "_view_name": "LayoutView",
            "align_content": null,
            "align_items": null,
            "align_self": null,
            "border": null,
            "bottom": null,
            "display": null,
            "flex": null,
            "flex_flow": null,
            "grid_area": null,
            "grid_auto_columns": null,
            "grid_auto_flow": null,
            "grid_auto_rows": null,
            "grid_column": null,
            "grid_gap": null,
            "grid_row": null,
            "grid_template_areas": null,
            "grid_template_columns": null,
            "grid_template_rows": null,
            "height": null,
            "justify_content": null,
            "justify_items": null,
            "left": null,
            "margin": null,
            "max_height": null,
            "max_width": null,
            "min_height": null,
            "min_width": null,
            "object_fit": null,
            "object_position": null,
            "order": null,
            "overflow": null,
            "overflow_x": null,
            "overflow_y": null,
            "padding": null,
            "right": null,
            "top": null,
            "visibility": null,
            "width": null
          }
        },
        "2c61e9383bf2440c895916bbed582b24": {
          "model_module": "@jupyter-widgets/controls",
          "model_module_version": "1.5.0",
          "model_name": "ProgressStyleModel",
          "state": {
            "_model_module": "@jupyter-widgets/controls",
            "_model_module_version": "1.5.0",
            "_model_name": "ProgressStyleModel",
            "_view_count": null,
            "_view_module": "@jupyter-widgets/base",
            "_view_module_version": "1.2.0",
            "_view_name": "StyleView",
            "bar_color": null,
            "description_width": ""
          }
        },
        "34c4546a54a04682a87dda8b0ba848d9": {
          "model_module": "@jupyter-widgets/controls",
          "model_module_version": "1.5.0",
          "model_name": "HBoxModel",
          "state": {
            "_dom_classes": [],
            "_model_module": "@jupyter-widgets/controls",
            "_model_module_version": "1.5.0",
            "_model_name": "HBoxModel",
            "_view_count": null,
            "_view_module": "@jupyter-widgets/controls",
            "_view_module_version": "1.5.0",
            "_view_name": "HBoxView",
            "box_style": "",
            "children": [
              "IPY_MODEL_a193965115fd49938d5cfa8bfa3c302a",
              "IPY_MODEL_d4160d90d80346aba76a1024c6e486ba",
              "IPY_MODEL_429444d6a4154b40b4c751aa157db2d6"
            ],
            "layout": "IPY_MODEL_d51599fb6eaa435891d5f035b2b4f06e"
          }
        },
        "3ee80c57db78443d9488504ce23374cf": {
          "model_module": "@jupyter-widgets/controls",
          "model_module_version": "1.5.0",
          "model_name": "DescriptionStyleModel",
          "state": {
            "_model_module": "@jupyter-widgets/controls",
            "_model_module_version": "1.5.0",
            "_model_name": "DescriptionStyleModel",
            "_view_count": null,
            "_view_module": "@jupyter-widgets/base",
            "_view_module_version": "1.2.0",
            "_view_name": "StyleView",
            "description_width": ""
          }
        },
        "3f806fbde8d94428b3995a4bd19eb7d5": {
          "model_module": "@jupyter-widgets/base",
          "model_module_version": "1.2.0",
          "model_name": "LayoutModel",
          "state": {
            "_model_module": "@jupyter-widgets/base",
            "_model_module_version": "1.2.0",
            "_model_name": "LayoutModel",
            "_view_count": null,
            "_view_module": "@jupyter-widgets/base",
            "_view_module_version": "1.2.0",
            "_view_name": "LayoutView",
            "align_content": null,
            "align_items": null,
            "align_self": null,
            "border": null,
            "bottom": null,
            "display": null,
            "flex": null,
            "flex_flow": null,
            "grid_area": null,
            "grid_auto_columns": null,
            "grid_auto_flow": null,
            "grid_auto_rows": null,
            "grid_column": null,
            "grid_gap": null,
            "grid_row": null,
            "grid_template_areas": null,
            "grid_template_columns": null,
            "grid_template_rows": null,
            "height": null,
            "justify_content": null,
            "justify_items": null,
            "left": null,
            "margin": null,
            "max_height": null,
            "max_width": null,
            "min_height": null,
            "min_width": null,
            "object_fit": null,
            "object_position": null,
            "order": null,
            "overflow": null,
            "overflow_x": null,
            "overflow_y": null,
            "padding": null,
            "right": null,
            "top": null,
            "visibility": null,
            "width": null
          }
        },
        "429444d6a4154b40b4c751aa157db2d6": {
          "model_module": "@jupyter-widgets/controls",
          "model_module_version": "1.5.0",
          "model_name": "HTMLModel",
          "state": {
            "_dom_classes": [],
            "_model_module": "@jupyter-widgets/controls",
            "_model_module_version": "1.5.0",
            "_model_name": "HTMLModel",
            "_view_count": null,
            "_view_module": "@jupyter-widgets/controls",
            "_view_module_version": "1.5.0",
            "_view_name": "HTMLView",
            "description": "",
            "description_tooltip": null,
            "layout": "IPY_MODEL_3f806fbde8d94428b3995a4bd19eb7d5",
            "placeholder": "​",
            "style": "IPY_MODEL_3ee80c57db78443d9488504ce23374cf",
            "value": " 41/41 [00:00&lt;00:00, 41.34it/s]"
          }
        },
        "582c8dea10114a889724992bbc6c284d": {
          "model_module": "@jupyter-widgets/controls",
          "model_module_version": "1.5.0",
          "model_name": "FloatProgressModel",
          "state": {
            "_dom_classes": [],
            "_model_module": "@jupyter-widgets/controls",
            "_model_module_version": "1.5.0",
            "_model_name": "FloatProgressModel",
            "_view_count": null,
            "_view_module": "@jupyter-widgets/controls",
            "_view_module_version": "1.5.0",
            "_view_name": "ProgressView",
            "bar_style": "success",
            "description": "",
            "description_tooltip": null,
            "layout": "IPY_MODEL_299ec30efc834c5e9f962c0291628c06",
            "max": 10,
            "min": 0,
            "orientation": "horizontal",
            "style": "IPY_MODEL_cb8af05ff52a43ef8bcecc1273b390a4",
            "value": 10
          }
        },
        "59a64ae6fce4418d8561854694e4302b": {
          "model_module": "@jupyter-widgets/controls",
          "model_module_version": "1.5.0",
          "model_name": "HTMLModel",
          "state": {
            "_dom_classes": [],
            "_model_module": "@jupyter-widgets/controls",
            "_model_module_version": "1.5.0",
            "_model_name": "HTMLModel",
            "_view_count": null,
            "_view_module": "@jupyter-widgets/controls",
            "_view_module_version": "1.5.0",
            "_view_name": "HTMLView",
            "description": "",
            "description_tooltip": null,
            "layout": "IPY_MODEL_0856310c548f4b8fba84ef2d393d900a",
            "placeholder": "​",
            "style": "IPY_MODEL_5bcc7f0f442d48a29d90c51d468e8c0d",
            "value": "tokenizer.json: 100%"
          }
        },
        "5bcc7f0f442d48a29d90c51d468e8c0d": {
          "model_module": "@jupyter-widgets/controls",
          "model_module_version": "1.5.0",
          "model_name": "DescriptionStyleModel",
          "state": {
            "_model_module": "@jupyter-widgets/controls",
            "_model_module_version": "1.5.0",
            "_model_name": "DescriptionStyleModel",
            "_view_count": null,
            "_view_module": "@jupyter-widgets/base",
            "_view_module_version": "1.2.0",
            "_view_name": "StyleView",
            "description_width": ""
          }
        },
        "5e699216c39f4c4286a06161d568bd12": {
          "model_module": "@jupyter-widgets/controls",
          "model_module_version": "1.5.0",
          "model_name": "DescriptionStyleModel",
          "state": {
            "_model_module": "@jupyter-widgets/controls",
            "_model_module_version": "1.5.0",
            "_model_name": "DescriptionStyleModel",
            "_view_count": null,
            "_view_module": "@jupyter-widgets/base",
            "_view_module_version": "1.2.0",
            "_view_name": "StyleView",
            "description_width": ""
          }
        },
        "6b51b09f23a3439f8259d078dc755ebb": {
          "model_module": "@jupyter-widgets/controls",
          "model_module_version": "1.5.0",
          "model_name": "FloatProgressModel",
          "state": {
            "_dom_classes": [],
            "_model_module": "@jupyter-widgets/controls",
            "_model_module_version": "1.5.0",
            "_model_name": "FloatProgressModel",
            "_view_count": null,
            "_view_module": "@jupyter-widgets/controls",
            "_view_module_version": "1.5.0",
            "_view_name": "ProgressView",
            "bar_style": "success",
            "description": "",
            "description_tooltip": null,
            "layout": "IPY_MODEL_d5c83accc61c4a06b00bd5f4dd3a13ef",
            "max": 41,
            "min": 0,
            "orientation": "horizontal",
            "style": "IPY_MODEL_2532fded26f04dedaecb6a55e01d5d70",
            "value": 41
          }
        },
        "6d7df4d5b28d4dc0b3d2bd717a48a012": {
          "model_module": "@jupyter-widgets/controls",
          "model_module_version": "1.5.0",
          "model_name": "HTMLModel",
          "state": {
            "_dom_classes": [],
            "_model_module": "@jupyter-widgets/controls",
            "_model_module_version": "1.5.0",
            "_model_name": "HTMLModel",
            "_view_count": null,
            "_view_module": "@jupyter-widgets/controls",
            "_view_module_version": "1.5.0",
            "_view_name": "HTMLView",
            "description": "",
            "description_tooltip": null,
            "layout": "IPY_MODEL_82a38bb4fb44409cadfe62c3e4337cda",
            "placeholder": "​",
            "style": "IPY_MODEL_f2cf8ab7f7b24986b78f5110447091e3",
            "value": " 10/10 [00:03&lt;00:00,  3.34it/s]"
          }
        },
        "802f5cbbd83644ed91b88e83e492cb32": {
          "model_module": "@jupyter-widgets/base",
          "model_module_version": "1.2.0",
          "model_name": "LayoutModel",
          "state": {
            "_model_module": "@jupyter-widgets/base",
            "_model_module_version": "1.2.0",
            "_model_name": "LayoutModel",
            "_view_count": null,
            "_view_module": "@jupyter-widgets/base",
            "_view_module_version": "1.2.0",
            "_view_name": "LayoutView",
            "align_content": null,
            "align_items": null,
            "align_self": null,
            "border": null,
            "bottom": null,
            "display": null,
            "flex": null,
            "flex_flow": null,
            "grid_area": null,
            "grid_auto_columns": null,
            "grid_auto_flow": null,
            "grid_auto_rows": null,
            "grid_column": null,
            "grid_gap": null,
            "grid_row": null,
            "grid_template_areas": null,
            "grid_template_columns": null,
            "grid_template_rows": null,
            "height": null,
            "justify_content": null,
            "justify_items": null,
            "left": null,
            "margin": null,
            "max_height": null,
            "max_width": null,
            "min_height": null,
            "min_width": null,
            "object_fit": null,
            "object_position": null,
            "order": null,
            "overflow": null,
            "overflow_x": null,
            "overflow_y": null,
            "padding": null,
            "right": null,
            "top": null,
            "visibility": null,
            "width": null
          }
        },
        "82a38bb4fb44409cadfe62c3e4337cda": {
          "model_module": "@jupyter-widgets/base",
          "model_module_version": "1.2.0",
          "model_name": "LayoutModel",
          "state": {
            "_model_module": "@jupyter-widgets/base",
            "_model_module_version": "1.2.0",
            "_model_name": "LayoutModel",
            "_view_count": null,
            "_view_module": "@jupyter-widgets/base",
            "_view_module_version": "1.2.0",
            "_view_name": "LayoutView",
            "align_content": null,
            "align_items": null,
            "align_self": null,
            "border": null,
            "bottom": null,
            "display": null,
            "flex": null,
            "flex_flow": null,
            "grid_area": null,
            "grid_auto_columns": null,
            "grid_auto_flow": null,
            "grid_auto_rows": null,
            "grid_column": null,
            "grid_gap": null,
            "grid_row": null,
            "grid_template_areas": null,
            "grid_template_columns": null,
            "grid_template_rows": null,
            "height": null,
            "justify_content": null,
            "justify_items": null,
            "left": null,
            "margin": null,
            "max_height": null,
            "max_width": null,
            "min_height": null,
            "min_width": null,
            "object_fit": null,
            "object_position": null,
            "order": null,
            "overflow": null,
            "overflow_x": null,
            "overflow_y": null,
            "padding": null,
            "right": null,
            "top": null,
            "visibility": null,
            "width": null
          }
        },
        "82c35a43a29a4bdb877b160eb97a2cfc": {
          "model_module": "@jupyter-widgets/base",
          "model_module_version": "1.2.0",
          "model_name": "LayoutModel",
          "state": {
            "_model_module": "@jupyter-widgets/base",
            "_model_module_version": "1.2.0",
            "_model_name": "LayoutModel",
            "_view_count": null,
            "_view_module": "@jupyter-widgets/base",
            "_view_module_version": "1.2.0",
            "_view_name": "LayoutView",
            "align_content": null,
            "align_items": null,
            "align_self": null,
            "border": null,
            "bottom": null,
            "display": null,
            "flex": null,
            "flex_flow": null,
            "grid_area": null,
            "grid_auto_columns": null,
            "grid_auto_flow": null,
            "grid_auto_rows": null,
            "grid_column": null,
            "grid_gap": null,
            "grid_row": null,
            "grid_template_areas": null,
            "grid_template_columns": null,
            "grid_template_rows": null,
            "height": null,
            "justify_content": null,
            "justify_items": null,
            "left": null,
            "margin": null,
            "max_height": null,
            "max_width": null,
            "min_height": null,
            "min_width": null,
            "object_fit": null,
            "object_position": null,
            "order": null,
            "overflow": null,
            "overflow_x": null,
            "overflow_y": null,
            "padding": null,
            "right": null,
            "top": null,
            "visibility": null,
            "width": null
          }
        },
        "91dbb3c5d23f48dd8ae61dbd5f0251e2": {
          "model_module": "@jupyter-widgets/controls",
          "model_module_version": "1.5.0",
          "model_name": "HTMLModel",
          "state": {
            "_dom_classes": [],
            "_model_module": "@jupyter-widgets/controls",
            "_model_module_version": "1.5.0",
            "_model_name": "HTMLModel",
            "_view_count": null,
            "_view_module": "@jupyter-widgets/controls",
            "_view_module_version": "1.5.0",
            "_view_name": "HTMLView",
            "description": "",
            "description_tooltip": null,
            "layout": "IPY_MODEL_9b19462427ef46adb83322a6d930e16c",
            "placeholder": "​",
            "style": "IPY_MODEL_270566af6cde44b0924803cb84ad609c",
            "value": " 2.48M/2.48M [00:00&lt;00:00, 7.34MB/s]"
          }
        },
        "9b19462427ef46adb83322a6d930e16c": {
          "model_module": "@jupyter-widgets/base",
          "model_module_version": "1.2.0",
          "model_name": "LayoutModel",
          "state": {
            "_model_module": "@jupyter-widgets/base",
            "_model_module_version": "1.2.0",
            "_model_name": "LayoutModel",
            "_view_count": null,
            "_view_module": "@jupyter-widgets/base",
            "_view_module_version": "1.2.0",
            "_view_name": "LayoutView",
            "align_content": null,
            "align_items": null,
            "align_self": null,
            "border": null,
            "bottom": null,
            "display": null,
            "flex": null,
            "flex_flow": null,
            "grid_area": null,
            "grid_auto_columns": null,
            "grid_auto_flow": null,
            "grid_auto_rows": null,
            "grid_column": null,
            "grid_gap": null,
            "grid_row": null,
            "grid_template_areas": null,
            "grid_template_columns": null,
            "grid_template_rows": null,
            "height": null,
            "justify_content": null,
            "justify_items": null,
            "left": null,
            "margin": null,
            "max_height": null,
            "max_width": null,
            "min_height": null,
            "min_width": null,
            "object_fit": null,
            "object_position": null,
            "order": null,
            "overflow": null,
            "overflow_x": null,
            "overflow_y": null,
            "padding": null,
            "right": null,
            "top": null,
            "visibility": null,
            "width": null
          }
        },
        "9dcb6dc4e7ec4c53bbb9910ce90fa3dc": {
          "model_module": "@jupyter-widgets/base",
          "model_module_version": "1.2.0",
          "model_name": "LayoutModel",
          "state": {
            "_model_module": "@jupyter-widgets/base",
            "_model_module_version": "1.2.0",
            "_model_name": "LayoutModel",
            "_view_count": null,
            "_view_module": "@jupyter-widgets/base",
            "_view_module_version": "1.2.0",
            "_view_name": "LayoutView",
            "align_content": null,
            "align_items": null,
            "align_self": null,
            "border": null,
            "bottom": null,
            "display": null,
            "flex": null,
            "flex_flow": null,
            "grid_area": null,
            "grid_auto_columns": null,
            "grid_auto_flow": null,
            "grid_auto_rows": null,
            "grid_column": null,
            "grid_gap": null,
            "grid_row": null,
            "grid_template_areas": null,
            "grid_template_columns": null,
            "grid_template_rows": null,
            "height": null,
            "justify_content": null,
            "justify_items": null,
            "left": null,
            "margin": null,
            "max_height": null,
            "max_width": null,
            "min_height": null,
            "min_width": null,
            "object_fit": null,
            "object_position": null,
            "order": null,
            "overflow": null,
            "overflow_x": null,
            "overflow_y": null,
            "padding": null,
            "right": null,
            "top": null,
            "visibility": null,
            "width": null
          }
        },
        "a193965115fd49938d5cfa8bfa3c302a": {
          "model_module": "@jupyter-widgets/controls",
          "model_module_version": "1.5.0",
          "model_name": "HTMLModel",
          "state": {
            "_dom_classes": [],
            "_model_module": "@jupyter-widgets/controls",
            "_model_module_version": "1.5.0",
            "_model_name": "HTMLModel",
            "_view_count": null,
            "_view_module": "@jupyter-widgets/controls",
            "_view_module_version": "1.5.0",
            "_view_name": "HTMLView",
            "description": "",
            "description_tooltip": null,
            "layout": "IPY_MODEL_f72f74edb82c467492beb070cdc33874",
            "placeholder": "​",
            "style": "IPY_MODEL_c666930cb46744c2ba9b043757177b1b",
            "value": "Resolving data files: 100%"
          }
        },
        "a1ea4ebf9bb74852819e76eba0f3ce7e": {
          "model_module": "@jupyter-widgets/base",
          "model_module_version": "1.2.0",
          "model_name": "LayoutModel",
          "state": {
            "_model_module": "@jupyter-widgets/base",
            "_model_module_version": "1.2.0",
            "_model_name": "LayoutModel",
            "_view_count": null,
            "_view_module": "@jupyter-widgets/base",
            "_view_module_version": "1.2.0",
            "_view_name": "LayoutView",
            "align_content": null,
            "align_items": null,
            "align_self": null,
            "border": null,
            "bottom": null,
            "display": null,
            "flex": null,
            "flex_flow": null,
            "grid_area": null,
            "grid_auto_columns": null,
            "grid_auto_flow": null,
            "grid_auto_rows": null,
            "grid_column": null,
            "grid_gap": null,
            "grid_row": null,
            "grid_template_areas": null,
            "grid_template_columns": null,
            "grid_template_rows": null,
            "height": null,
            "justify_content": null,
            "justify_items": null,
            "left": null,
            "margin": null,
            "max_height": null,
            "max_width": null,
            "min_height": null,
            "min_width": null,
            "object_fit": null,
            "object_position": null,
            "order": null,
            "overflow": null,
            "overflow_x": null,
            "overflow_y": null,
            "padding": null,
            "right": null,
            "top": null,
            "visibility": null,
            "width": null
          }
        },
        "c3c3f7b1562240bcb3ce2b11de50ae68": {
          "model_module": "@jupyter-widgets/base",
          "model_module_version": "1.2.0",
          "model_name": "LayoutModel",
          "state": {
            "_model_module": "@jupyter-widgets/base",
            "_model_module_version": "1.2.0",
            "_model_name": "LayoutModel",
            "_view_count": null,
            "_view_module": "@jupyter-widgets/base",
            "_view_module_version": "1.2.0",
            "_view_name": "LayoutView",
            "align_content": null,
            "align_items": null,
            "align_self": null,
            "border": null,
            "bottom": null,
            "display": null,
            "flex": null,
            "flex_flow": null,
            "grid_area": null,
            "grid_auto_columns": null,
            "grid_auto_flow": null,
            "grid_auto_rows": null,
            "grid_column": null,
            "grid_gap": null,
            "grid_row": null,
            "grid_template_areas": null,
            "grid_template_columns": null,
            "grid_template_rows": null,
            "height": null,
            "justify_content": null,
            "justify_items": null,
            "left": null,
            "margin": null,
            "max_height": null,
            "max_width": null,
            "min_height": null,
            "min_width": null,
            "object_fit": null,
            "object_position": null,
            "order": null,
            "overflow": null,
            "overflow_x": null,
            "overflow_y": null,
            "padding": null,
            "right": null,
            "top": null,
            "visibility": null,
            "width": null
          }
        },
        "c3da62093e19426fb28d9ff1fefdfa04": {
          "model_module": "@jupyter-widgets/controls",
          "model_module_version": "1.5.0",
          "model_name": "DescriptionStyleModel",
          "state": {
            "_model_module": "@jupyter-widgets/controls",
            "_model_module_version": "1.5.0",
            "_model_name": "DescriptionStyleModel",
            "_view_count": null,
            "_view_module": "@jupyter-widgets/base",
            "_view_module_version": "1.2.0",
            "_view_name": "StyleView",
            "description_width": ""
          }
        },
        "c666930cb46744c2ba9b043757177b1b": {
          "model_module": "@jupyter-widgets/controls",
          "model_module_version": "1.5.0",
          "model_name": "DescriptionStyleModel",
          "state": {
            "_model_module": "@jupyter-widgets/controls",
            "_model_module_version": "1.5.0",
            "_model_name": "DescriptionStyleModel",
            "_view_count": null,
            "_view_module": "@jupyter-widgets/base",
            "_view_module_version": "1.2.0",
            "_view_name": "StyleView",
            "description_width": ""
          }
        },
        "cb8af05ff52a43ef8bcecc1273b390a4": {
          "model_module": "@jupyter-widgets/controls",
          "model_module_version": "1.5.0",
          "model_name": "ProgressStyleModel",
          "state": {
            "_model_module": "@jupyter-widgets/controls",
            "_model_module_version": "1.5.0",
            "_model_name": "ProgressStyleModel",
            "_view_count": null,
            "_view_module": "@jupyter-widgets/base",
            "_view_module_version": "1.2.0",
            "_view_name": "StyleView",
            "bar_color": null,
            "description_width": ""
          }
        },
        "d4160d90d80346aba76a1024c6e486ba": {
          "model_module": "@jupyter-widgets/controls",
          "model_module_version": "1.5.0",
          "model_name": "FloatProgressModel",
          "state": {
            "_dom_classes": [],
            "_model_module": "@jupyter-widgets/controls",
            "_model_module_version": "1.5.0",
            "_model_name": "FloatProgressModel",
            "_view_count": null,
            "_view_module": "@jupyter-widgets/controls",
            "_view_module_version": "1.5.0",
            "_view_name": "ProgressView",
            "bar_style": "success",
            "description": "",
            "description_tooltip": null,
            "layout": "IPY_MODEL_f6fa547129ec49fc8a043ccd2d7b7725",
            "max": 41,
            "min": 0,
            "orientation": "horizontal",
            "style": "IPY_MODEL_f1864aa673514a1f9a8943b89d105ecb",
            "value": 41
          }
        },
        "d51599fb6eaa435891d5f035b2b4f06e": {
          "model_module": "@jupyter-widgets/base",
          "model_module_version": "1.2.0",
          "model_name": "LayoutModel",
          "state": {
            "_model_module": "@jupyter-widgets/base",
            "_model_module_version": "1.2.0",
            "_model_name": "LayoutModel",
            "_view_count": null,
            "_view_module": "@jupyter-widgets/base",
            "_view_module_version": "1.2.0",
            "_view_name": "LayoutView",
            "align_content": null,
            "align_items": null,
            "align_self": null,
            "border": null,
            "bottom": null,
            "display": null,
            "flex": null,
            "flex_flow": null,
            "grid_area": null,
            "grid_auto_columns": null,
            "grid_auto_flow": null,
            "grid_auto_rows": null,
            "grid_column": null,
            "grid_gap": null,
            "grid_row": null,
            "grid_template_areas": null,
            "grid_template_columns": null,
            "grid_template_rows": null,
            "height": null,
            "justify_content": null,
            "justify_items": null,
            "left": null,
            "margin": null,
            "max_height": null,
            "max_width": null,
            "min_height": null,
            "min_width": null,
            "object_fit": null,
            "object_position": null,
            "order": null,
            "overflow": null,
            "overflow_x": null,
            "overflow_y": null,
            "padding": null,
            "right": null,
            "top": null,
            "visibility": null,
            "width": null
          }
        },
        "d5c83accc61c4a06b00bd5f4dd3a13ef": {
          "model_module": "@jupyter-widgets/base",
          "model_module_version": "1.2.0",
          "model_name": "LayoutModel",
          "state": {
            "_model_module": "@jupyter-widgets/base",
            "_model_module_version": "1.2.0",
            "_model_name": "LayoutModel",
            "_view_count": null,
            "_view_module": "@jupyter-widgets/base",
            "_view_module_version": "1.2.0",
            "_view_name": "LayoutView",
            "align_content": null,
            "align_items": null,
            "align_self": null,
            "border": null,
            "bottom": null,
            "display": null,
            "flex": null,
            "flex_flow": null,
            "grid_area": null,
            "grid_auto_columns": null,
            "grid_auto_flow": null,
            "grid_auto_rows": null,
            "grid_column": null,
            "grid_gap": null,
            "grid_row": null,
            "grid_template_areas": null,
            "grid_template_columns": null,
            "grid_template_rows": null,
            "height": null,
            "justify_content": null,
            "justify_items": null,
            "left": null,
            "margin": null,
            "max_height": null,
            "max_width": null,
            "min_height": null,
            "min_width": null,
            "object_fit": null,
            "object_position": null,
            "order": null,
            "overflow": null,
            "overflow_x": null,
            "overflow_y": null,
            "padding": null,
            "right": null,
            "top": null,
            "visibility": null,
            "width": null
          }
        },
        "d6faeab9eb454af7bdb8ccc29b681291": {
          "model_module": "@jupyter-widgets/controls",
          "model_module_version": "1.5.0",
          "model_name": "HBoxModel",
          "state": {
            "_dom_classes": [],
            "_model_module": "@jupyter-widgets/controls",
            "_model_module_version": "1.5.0",
            "_model_name": "HBoxModel",
            "_view_count": null,
            "_view_module": "@jupyter-widgets/controls",
            "_view_module_version": "1.5.0",
            "_view_name": "HBoxView",
            "box_style": "",
            "children": [
              "IPY_MODEL_f6da4522bf2e41f7acea7d861ee526ef",
              "IPY_MODEL_582c8dea10114a889724992bbc6c284d",
              "IPY_MODEL_6d7df4d5b28d4dc0b3d2bd717a48a012"
            ],
            "layout": "IPY_MODEL_802f5cbbd83644ed91b88e83e492cb32"
          }
        },
        "d87e79f55f0545a290384d94063ec90b": {
          "model_module": "@jupyter-widgets/controls",
          "model_module_version": "1.5.0",
          "model_name": "HBoxModel",
          "state": {
            "_dom_classes": [],
            "_model_module": "@jupyter-widgets/controls",
            "_model_module_version": "1.5.0",
            "_model_name": "HBoxModel",
            "_view_count": null,
            "_view_module": "@jupyter-widgets/controls",
            "_view_module_version": "1.5.0",
            "_view_name": "HBoxView",
            "box_style": "",
            "children": [
              "IPY_MODEL_59a64ae6fce4418d8561854694e4302b",
              "IPY_MODEL_260cb8e5717d452181c8b52398c3a681",
              "IPY_MODEL_91dbb3c5d23f48dd8ae61dbd5f0251e2"
            ],
            "layout": "IPY_MODEL_c3c3f7b1562240bcb3ce2b11de50ae68"
          }
        },
        "e2678ec7196347879c76ef05f19cba17": {
          "model_module": "@jupyter-widgets/controls",
          "model_module_version": "1.5.0",
          "model_name": "HBoxModel",
          "state": {
            "_dom_classes": [],
            "_model_module": "@jupyter-widgets/controls",
            "_model_module_version": "1.5.0",
            "_model_name": "HBoxModel",
            "_view_count": null,
            "_view_module": "@jupyter-widgets/controls",
            "_view_module_version": "1.5.0",
            "_view_name": "HBoxView",
            "box_style": "",
            "children": [
              "IPY_MODEL_00c5c7ed6c304b95941d01a51f727830",
              "IPY_MODEL_6b51b09f23a3439f8259d078dc755ebb",
              "IPY_MODEL_0a82d2d8dd3845dfb6154a5b8f7af0ee"
            ],
            "layout": "IPY_MODEL_82c35a43a29a4bdb877b160eb97a2cfc"
          }
        },
        "e9d20323dd1642689f4b8af79994ee8e": {
          "model_module": "@jupyter-widgets/controls",
          "model_module_version": "1.5.0",
          "model_name": "DescriptionStyleModel",
          "state": {
            "_model_module": "@jupyter-widgets/controls",
            "_model_module_version": "1.5.0",
            "_model_name": "DescriptionStyleModel",
            "_view_count": null,
            "_view_module": "@jupyter-widgets/base",
            "_view_module_version": "1.2.0",
            "_view_name": "StyleView",
            "description_width": ""
          }
        },
        "f1864aa673514a1f9a8943b89d105ecb": {
          "model_module": "@jupyter-widgets/controls",
          "model_module_version": "1.5.0",
          "model_name": "ProgressStyleModel",
          "state": {
            "_model_module": "@jupyter-widgets/controls",
            "_model_module_version": "1.5.0",
            "_model_name": "ProgressStyleModel",
            "_view_count": null,
            "_view_module": "@jupyter-widgets/base",
            "_view_module_version": "1.2.0",
            "_view_name": "StyleView",
            "bar_color": null,
            "description_width": ""
          }
        },
        "f2cf8ab7f7b24986b78f5110447091e3": {
          "model_module": "@jupyter-widgets/controls",
          "model_module_version": "1.5.0",
          "model_name": "DescriptionStyleModel",
          "state": {
            "_model_module": "@jupyter-widgets/controls",
            "_model_module_version": "1.5.0",
            "_model_name": "DescriptionStyleModel",
            "_view_count": null,
            "_view_module": "@jupyter-widgets/base",
            "_view_module_version": "1.2.0",
            "_view_name": "StyleView",
            "description_width": ""
          }
        },
        "f6da4522bf2e41f7acea7d861ee526ef": {
          "model_module": "@jupyter-widgets/controls",
          "model_module_version": "1.5.0",
          "model_name": "HTMLModel",
          "state": {
            "_dom_classes": [],
            "_model_module": "@jupyter-widgets/controls",
            "_model_module_version": "1.5.0",
            "_model_name": "HTMLModel",
            "_view_count": null,
            "_view_module": "@jupyter-widgets/controls",
            "_view_module_version": "1.5.0",
            "_view_name": "HTMLView",
            "description": "",
            "description_tooltip": null,
            "layout": "IPY_MODEL_9dcb6dc4e7ec4c53bbb9910ce90fa3dc",
            "placeholder": "​",
            "style": "IPY_MODEL_c3da62093e19426fb28d9ff1fefdfa04",
            "value": "100%"
          }
        },
        "f6fa547129ec49fc8a043ccd2d7b7725": {
          "model_module": "@jupyter-widgets/base",
          "model_module_version": "1.2.0",
          "model_name": "LayoutModel",
          "state": {
            "_model_module": "@jupyter-widgets/base",
            "_model_module_version": "1.2.0",
            "_model_name": "LayoutModel",
            "_view_count": null,
            "_view_module": "@jupyter-widgets/base",
            "_view_module_version": "1.2.0",
            "_view_name": "LayoutView",
            "align_content": null,
            "align_items": null,
            "align_self": null,
            "border": null,
            "bottom": null,
            "display": null,
            "flex": null,
            "flex_flow": null,
            "grid_area": null,
            "grid_auto_columns": null,
            "grid_auto_flow": null,
            "grid_auto_rows": null,
            "grid_column": null,
            "grid_gap": null,
            "grid_row": null,
            "grid_template_areas": null,
            "grid_template_columns": null,
            "grid_template_rows": null,
            "height": null,
            "justify_content": null,
            "justify_items": null,
            "left": null,
            "margin": null,
            "max_height": null,
            "max_width": null,
            "min_height": null,
            "min_width": null,
            "object_fit": null,
            "object_position": null,
            "order": null,
            "overflow": null,
            "overflow_x": null,
            "overflow_y": null,
            "padding": null,
            "right": null,
            "top": null,
            "visibility": null,
            "width": null
          }
        },
        "f72f74edb82c467492beb070cdc33874": {
          "model_module": "@jupyter-widgets/base",
          "model_module_version": "1.2.0",
          "model_name": "LayoutModel",
          "state": {
            "_model_module": "@jupyter-widgets/base",
            "_model_module_version": "1.2.0",
            "_model_name": "LayoutModel",
            "_view_count": null,
            "_view_module": "@jupyter-widgets/base",
            "_view_module_version": "1.2.0",
            "_view_name": "LayoutView",
            "align_content": null,
            "align_items": null,
            "align_self": null,
            "border": null,
            "bottom": null,
            "display": null,
            "flex": null,
            "flex_flow": null,
            "grid_area": null,
            "grid_auto_columns": null,
            "grid_auto_flow": null,
            "grid_auto_rows": null,
            "grid_column": null,
            "grid_gap": null,
            "grid_row": null,
            "grid_template_areas": null,
            "grid_template_columns": null,
            "grid_template_rows": null,
            "height": null,
            "justify_content": null,
            "justify_items": null,
            "left": null,
            "margin": null,
            "max_height": null,
            "max_width": null,
            "min_height": null,
            "min_width": null,
            "object_fit": null,
            "object_position": null,
            "order": null,
            "overflow": null,
            "overflow_x": null,
            "overflow_y": null,
            "padding": null,
            "right": null,
            "top": null,
            "visibility": null,
            "width": null
          }
        }
      }
    }
  },
  "nbformat": 4,
  "nbformat_minor": 0
}
