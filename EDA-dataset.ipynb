{
 "cells": [
  {
   "cell_type": "code",
   "execution_count": 1,
   "id": "2c7e7a5e-bd05-4b28-8b6f-2fdb0efc6cfb",
   "metadata": {},
   "outputs": [],
   "source": [
    "import pandas as pd"
   ]
  },
  {
   "cell_type": "code",
   "execution_count": 2,
   "id": "d47b4c25-4331-4264-97ab-17acb7529106",
   "metadata": {},
   "outputs": [],
   "source": [
    "df_test = pd.read_csv(\"bigc/data/bem/test_v1_no_overlap.csv\")\n",
    "df_train = pd.read_csv(\"bigc/data/bem/train_v1.csv\")\n",
    "df_val = pd.read_csv(\"bigc/data/bem/val_v1.csv\")"
   ]
  },
  {
   "cell_type": "code",
   "execution_count": 3,
   "id": "a9f54d05-2f9a-4fd1-9da7-85bb5717de49",
   "metadata": {},
   "outputs": [
    {
     "data": {
      "text/html": [
       "<div>\n",
       "<style scoped>\n",
       "    .dataframe tbody tr th:only-of-type {\n",
       "        vertical-align: middle;\n",
       "    }\n",
       "\n",
       "    .dataframe tbody tr th {\n",
       "        vertical-align: top;\n",
       "    }\n",
       "\n",
       "    .dataframe thead th {\n",
       "        text-align: right;\n",
       "    }\n",
       "</style>\n",
       "<table border=\"1\" class=\"dataframe\">\n",
       "  <thead>\n",
       "    <tr style=\"text-align: right;\">\n",
       "      <th></th>\n",
       "      <th>audio</th>\n",
       "      <th>sentence</th>\n",
       "      <th>translation</th>\n",
       "      <th>speaker_id</th>\n",
       "    </tr>\n",
       "  </thead>\n",
       "  <tbody>\n",
       "    <tr>\n",
       "      <th>0</th>\n",
       "      <td>audio/26_8819_0_261_01_211112-010515_bem_8f1_e...</td>\n",
       "      <td>Abalumendo babili nabeminina bale ikata amabul...</td>\n",
       "      <td>these men are standing caching tree leaves</td>\n",
       "      <td>261</td>\n",
       "    </tr>\n",
       "    <tr>\n",
       "      <th>1</th>\n",
       "      <td>audio/38_11847_4_381_01_211114-161237_bem_ba5_...</td>\n",
       "      <td>Cifwile uyu ou bali nankwe eulemulanga ifyakuc...</td>\n",
       "      <td>It must be that the person they are with is sh...</td>\n",
       "      <td>381</td>\n",
       "    </tr>\n",
       "    <tr>\n",
       "      <th>2</th>\n",
       "      <td>audio/24_2645_0_241_01_211110-143805_bem_150_e...</td>\n",
       "      <td>Umulumendo ekele pacipuna elo kumaboko ekete i...</td>\n",
       "      <td>A young man sitted on the chair has a red doll...</td>\n",
       "      <td>241</td>\n",
       "    </tr>\n",
       "    <tr>\n",
       "      <th>3</th>\n",
       "      <td>audio/8_5558_1_82_02_211105-023723_bem_901_eli...</td>\n",
       "      <td>Shili mu musebo</td>\n",
       "      <td>They are on the road.</td>\n",
       "      <td>82</td>\n",
       "    </tr>\n",
       "    <tr>\n",
       "      <th>4</th>\n",
       "      <td>audio/35_11159_0_351_01_220118-193228_bem_ba5_...</td>\n",
       "      <td>Umwaume uwabuuta inkanda aletekenya icimbaya m...</td>\n",
       "      <td>One white man is driving a tractor</td>\n",
       "      <td>351</td>\n",
       "    </tr>\n",
       "  </tbody>\n",
       "</table>\n",
       "</div>"
      ],
      "text/plain": [
       "                                               audio  \\\n",
       "0  audio/26_8819_0_261_01_211112-010515_bem_8f1_e...   \n",
       "1  audio/38_11847_4_381_01_211114-161237_bem_ba5_...   \n",
       "2  audio/24_2645_0_241_01_211110-143805_bem_150_e...   \n",
       "3  audio/8_5558_1_82_02_211105-023723_bem_901_eli...   \n",
       "4  audio/35_11159_0_351_01_220118-193228_bem_ba5_...   \n",
       "\n",
       "                                            sentence  \\\n",
       "0  Abalumendo babili nabeminina bale ikata amabul...   \n",
       "1  Cifwile uyu ou bali nankwe eulemulanga ifyakuc...   \n",
       "2  Umulumendo ekele pacipuna elo kumaboko ekete i...   \n",
       "3                                    Shili mu musebo   \n",
       "4  Umwaume uwabuuta inkanda aletekenya icimbaya m...   \n",
       "\n",
       "                                         translation  speaker_id  \n",
       "0         these men are standing caching tree leaves         261  \n",
       "1  It must be that the person they are with is sh...         381  \n",
       "2  A young man sitted on the chair has a red doll...         241  \n",
       "3                              They are on the road.          82  \n",
       "4                 One white man is driving a tractor         351  "
      ]
     },
     "execution_count": 3,
     "metadata": {},
     "output_type": "execute_result"
    }
   ],
   "source": [
    "df_train.head()"
   ]
  },
  {
   "cell_type": "code",
   "execution_count": 20,
   "id": "00c5f3a0-ee48-45e0-8595-97796e770fb9",
   "metadata": {},
   "outputs": [],
   "source": [
    "train_spk = df_train.groupby(by=[\"speaker_id\"]).count()"
   ]
  },
  {
   "cell_type": "code",
   "execution_count": 21,
   "id": "c2e5b14d-9990-4fb0-8ae8-f0d14c02b471",
   "metadata": {},
   "outputs": [],
   "source": [
    "val_spk = df_val.groupby(by=[\"speaker_id\"]).count()"
   ]
  },
  {
   "cell_type": "code",
   "execution_count": 22,
   "id": "397fa0f5-2155-4ba6-a4a0-6e746ba41d09",
   "metadata": {},
   "outputs": [],
   "source": [
    "test_spk = df_test.groupby(by=[\"speaker_id\"]).count()"
   ]
  },
  {
   "cell_type": "markdown",
   "id": "0add02bb-69f1-434d-b5fe-a38b09c5e4bf",
   "metadata": {},
   "source": [
    "# See if the data is imbalance"
   ]
  },
  {
   "cell_type": "code",
   "execution_count": 25,
   "id": "43222738-6332-4e52-bf62-cc367094e2cf",
   "metadata": {},
   "outputs": [],
   "source": [
    "train_std = train_spk[\"sentence\"].std()\n",
    "train_mean = train_spk[\"sentence\"].mean()"
   ]
  },
  {
   "cell_type": "code",
   "execution_count": 30,
   "id": "ac64bc48-74c6-4a04-ba7b-bc5902b8df25",
   "metadata": {},
   "outputs": [],
   "source": [
    "train_cv = train_std/train_mean # coefficient of variation"
   ]
  },
  {
   "cell_type": "code",
   "execution_count": 29,
   "id": "22007710-2e31-4ef3-9371-3dc14114f0b8",
   "metadata": {},
   "outputs": [
    {
     "data": {
      "text/plain": [
       "np.float64(0.5062798906821235)"
      ]
     },
     "execution_count": 29,
     "metadata": {},
     "output_type": "execute_result"
    }
   ],
   "source": [
    "train_cv"
   ]
  },
  {
   "cell_type": "markdown",
   "id": "c022b187-5ab6-414a-9645-4a48cbaa34ca",
   "metadata": {},
   "source": [
    "because the result is > 0.5 the data is strong imbalance"
   ]
  },
  {
   "cell_type": "markdown",
   "id": "e2ff68b0-2c72-4821-a542-40219d8bbf80",
   "metadata": {},
   "source": [
    "# Find median"
   ]
  },
  {
   "cell_type": "markdown",
   "id": "510974ec-e04c-4792-bb42-5f2f43ff7abd",
   "metadata": {},
   "source": [
    " because the data is imbalance so, we use median"
   ]
  },
  {
   "cell_type": "code",
   "execution_count": 31,
   "id": "5a4ab0bf-ec1c-4ed0-9ffb-0d54137193d8",
   "metadata": {},
   "outputs": [
    {
     "data": {
      "text/plain": [
       "np.float64(916.5)"
      ]
     },
     "execution_count": 31,
     "metadata": {},
     "output_type": "execute_result"
    }
   ],
   "source": [
    "train_spk[\"sentence\"].median()"
   ]
  },
  {
   "cell_type": "code",
   "execution_count": 32,
   "id": "644be93b-8bf0-4564-a437-ac5487c04233",
   "metadata": {},
   "outputs": [
    {
     "data": {
      "text/plain": [
       "np.float64(33.0)"
      ]
     },
     "execution_count": 32,
     "metadata": {},
     "output_type": "execute_result"
    }
   ],
   "source": [
    "val_spk[\"sentence\"].median()"
   ]
  },
  {
   "cell_type": "code",
   "execution_count": 33,
   "id": "9480e069-cf83-4773-8286-2f9e3caddeec",
   "metadata": {},
   "outputs": [
    {
     "data": {
      "text/plain": [
       "np.float64(32.5)"
      ]
     },
     "execution_count": 33,
     "metadata": {},
     "output_type": "execute_result"
    }
   ],
   "source": [
    "test_spk[\"sentence\"].median()"
   ]
  },
  {
   "cell_type": "code",
   "execution_count": 34,
   "id": "82da9aca-a54f-4c63-bf41-4c27a6aa0d17",
   "metadata": {},
   "outputs": [
    {
     "data": {
      "text/plain": [
       "(74, 3)"
      ]
     },
     "execution_count": 34,
     "metadata": {},
     "output_type": "execute_result"
    }
   ],
   "source": [
    "train_spk.shape"
   ]
  },
  {
   "cell_type": "markdown",
   "id": "6fdd61af-b151-4312-905d-0c0c1dfca823",
   "metadata": {},
   "source": [
    "# Visualize"
   ]
  },
  {
   "cell_type": "code",
   "execution_count": 41,
   "id": "8048a17b-95dd-406e-a3ee-4c3e1d24c66c",
   "metadata": {},
   "outputs": [],
   "source": [
    "median_data = {\n",
    "    \"train\": [train_spk[\"sentence\"].median(), train_spk[\"sentence\"].max(), train_spk[\"sentence\"].min()],\n",
    "    \"val\": [val_spk[\"sentence\"].median(), val_spk[\"sentence\"].max(), val_spk[\"sentence\"].min()],\n",
    "    \"test\": [test_spk[\"sentence\"].median(), test_spk[\"sentence\"].max(), test_spk[\"sentence\"].min()]\n",
    "}"
   ]
  },
  {
   "cell_type": "code",
   "execution_count": 42,
   "id": "02e4915a-f609-4cbb-9185-126148c3934c",
   "metadata": {},
   "outputs": [],
   "source": [
    "df_med = pd.DataFrame(median_data, index=[\"median\", \"max\", \"min\"])"
   ]
  },
  {
   "cell_type": "code",
   "execution_count": 43,
   "id": "94b41e0a-de55-4349-94e4-d34175375e33",
   "metadata": {},
   "outputs": [
    {
     "data": {
      "text/html": [
       "<div>\n",
       "<style scoped>\n",
       "    .dataframe tbody tr th:only-of-type {\n",
       "        vertical-align: middle;\n",
       "    }\n",
       "\n",
       "    .dataframe tbody tr th {\n",
       "        vertical-align: top;\n",
       "    }\n",
       "\n",
       "    .dataframe thead th {\n",
       "        text-align: right;\n",
       "    }\n",
       "</style>\n",
       "<table border=\"1\" class=\"dataframe\">\n",
       "  <thead>\n",
       "    <tr style=\"text-align: right;\">\n",
       "      <th></th>\n",
       "      <th>train</th>\n",
       "      <th>val</th>\n",
       "      <th>test</th>\n",
       "    </tr>\n",
       "  </thead>\n",
       "  <tbody>\n",
       "    <tr>\n",
       "      <th>median</th>\n",
       "      <td>916.5</td>\n",
       "      <td>33.0</td>\n",
       "      <td>32.5</td>\n",
       "    </tr>\n",
       "    <tr>\n",
       "      <th>max</th>\n",
       "      <td>4763.0</td>\n",
       "      <td>205.0</td>\n",
       "      <td>205.0</td>\n",
       "    </tr>\n",
       "    <tr>\n",
       "      <th>min</th>\n",
       "      <td>440.0</td>\n",
       "      <td>14.0</td>\n",
       "      <td>12.0</td>\n",
       "    </tr>\n",
       "  </tbody>\n",
       "</table>\n",
       "</div>"
      ],
      "text/plain": [
       "         train    val   test\n",
       "median   916.5   33.0   32.5\n",
       "max     4763.0  205.0  205.0\n",
       "min      440.0   14.0   12.0"
      ]
     },
     "execution_count": 43,
     "metadata": {},
     "output_type": "execute_result"
    }
   ],
   "source": [
    "df_med.head()"
   ]
  },
  {
   "cell_type": "code",
   "execution_count": null,
   "id": "4d730c88-8be5-44c8-9d49-5d138ac19147",
   "metadata": {},
   "outputs": [],
   "source": []
  }
 ],
 "metadata": {
  "kernelspec": {
   "display_name": "Python 3 (ipykernel)",
   "language": "python",
   "name": "python3"
  },
  "language_info": {
   "codemirror_mode": {
    "name": "ipython",
    "version": 3
   },
   "file_extension": ".py",
   "mimetype": "text/x-python",
   "name": "python",
   "nbconvert_exporter": "python",
   "pygments_lexer": "ipython3",
   "version": "3.12.3"
  }
 },
 "nbformat": 4,
 "nbformat_minor": 5
}
