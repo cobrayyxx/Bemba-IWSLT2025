{
 "cells": [
  {
   "cell_type": "code",
   "execution_count": null,
   "metadata": {
    "vscode": {
     "languageId": "plaintext"
    }
   },
   "outputs": [],
   "source": [
    "!nvidia-smi"
   ]
  },
  {
   "cell_type": "code",
   "execution_count": null,
   "metadata": {
    "vscode": {
     "languageId": "plaintext"
    }
   },
   "outputs": [],
   "source": [
    "!pip3 install faster-whisper ctranslate2 datasets sacrebleu -q"
   ]
  },
  {
   "cell_type": "markdown",
   "metadata": {},
   "source": [
    "# Load the Dataset"
   ]
  },
  {
   "cell_type": "code",
   "execution_count": null,
   "metadata": {
    "vscode": {
     "languageId": "plaintext"
    }
   },
   "outputs": [],
   "source": [
    "from datasets import load_dataset\n",
    "\n",
    "dataset_name = \"kreasof-ai/be-en-IWSLT2025\"\n",
    "dataset = load_dataset(dataset_name, trust_remote_code=True)\n",
    "dataset"
   ]
  },
  {
   "cell_type": "code",
   "execution_count": null,
   "metadata": {
    "vscode": {
     "languageId": "plaintext"
    }
   },
   "outputs": [],
   "source": [
    "test_arrays = [a[\"array\"].astype(np.float31) for a in dataset[\"test\"][\"audio\"]]\n"
   ]
  },
  {
   "cell_type": "markdown",
   "metadata": {},
   "source": [
    "# Preprocess Dataset"
   ]
  },
  {
   "cell_type": "code",
   "execution_count": null,
   "metadata": {
    "vscode": {
     "languageId": "plaintext"
    }
   },
   "outputs": [],
   "source": []
  },
  {
   "cell_type": "code",
   "execution_count": null,
   "metadata": {
    "vscode": {
     "languageId": "plaintext"
    }
   },
   "outputs": [],
   "source": []
  },
  {
   "cell_type": "code",
   "execution_count": null,
   "metadata": {
    "vscode": {
     "languageId": "plaintext"
    }
   },
   "outputs": [],
   "source": []
  },
  {
   "cell_type": "markdown",
   "metadata": {},
   "source": [
    "# Cascaded"
   ]
  },
  {
   "cell_type": "markdown",
   "metadata": {},
   "source": [
    "## transcribe"
   ]
  },
  {
   "cell_type": "code",
   "execution_count": null,
   "metadata": {
    "vscode": {
     "languageId": "plaintext"
    }
   },
   "outputs": [],
   "source": [
    "model_id = \"kreasof-ai/whisper-small-be2en\"\n",
    "output_dir=\"ct2-whisper-small-transcription\"\n",
    "\n",
    "!ct2-transformers-converter \\\n",
    "--model {model_id} \\\n",
    "--output_dir {output_dir} \\\n",
    "--quantization float16 \\\n",
    "--copy_files tokenizer_config.json\\\n",
    "--force"
   ]
  },
  {
   "cell_type": "code",
   "execution_count": null,
   "metadata": {
    "vscode": {
     "languageId": "plaintext"
    }
   },
   "outputs": [],
   "source": [
    "from faster_whisper import WhisperModel\n",
    "\n",
    "model_name = \"ct2-whisper-small-transcription\" # ct2-whisper-xxx\n",
    "\n",
    "model = WhisperModel(model_name, device=\"cuda\", compute_type=\"float16\")"
   ]
  },
  {
   "cell_type": "markdown",
   "metadata": {},
   "source": []
  },
  {
   "cell_type": "code",
   "execution_count": null,
   "metadata": {
    "vscode": {
     "languageId": "plaintext"
    }
   },
   "outputs": [],
   "source": [
    "test_dataset[0]"
   ]
  },
  {
   "cell_type": "code",
   "execution_count": null,
   "metadata": {
    "vscode": {
     "languageId": "plaintext"
    }
   },
   "outputs": [],
   "source": [
    "tgt_lang = \"be\"\n",
    "\n",
    "transcriptions = []\n",
    "segments, info = model.transcribe(test_arrays[0],\n",
    "                                beam_size=5,\n",
    "                                language=tgt_lang,\n",
    "                                vad_filter=True\n",
    "                                )\n",
    "transcriptions = \" \".join([segment.text.strip() for segment in segments])\n",
    "transcriptions.append(transcription)"
   ]
  },
  {
   "cell_type": "code",
   "execution_count": null,
   "metadata": {
    "vscode": {
     "languageId": "plaintext"
    }
   },
   "outputs": [],
   "source": [
    "print(transcription)"
   ]
  },
  {
   "cell_type": "code",
   "execution_count": null,
   "metadata": {
    "vscode": {
     "languageId": "plaintext"
    }
   },
   "outputs": [],
   "source": [
    "from tqdm.auto import tqdm\n",
    "\n",
    "tgt_lang = \"be\"\n",
    "\n",
    "transcriptions = []\n",
    "\n",
    "for audio_array in tqdm(test_arrays, total=len(test_arrays)):\n",
    "    segments, info = model.transcribe(audio_array,\n",
    "                                        beam_size=5,\n",
    "                                        language=tgt_lang,\n",
    "                                        vad_filter=True)\n",
    "    transcription = \" \".join([segment.text.strip() for segment in segments])\n",
    "    transcription.append(transcription)"
   ]
  },
  {
   "cell_type": "code",
   "execution_count": null,
   "metadata": {
    "vscode": {
     "languageId": "plaintext"
    }
   },
   "outputs": [],
   "source": [
    "print(*transcription[:20], sep=\"\\n\")"
   ]
  },
  {
   "cell_type": "markdown",
   "metadata": {},
   "source": [
    "## MT (NLLB)"
   ]
  },
  {
   "cell_type": "code",
   "execution_count": null,
   "metadata": {
    "vscode": {
     "languageId": "plaintext"
    }
   },
   "outputs": [],
   "source": [
    "mt_model_name = \"kreasof-ai/nllb-IWSLT2025-be-en\"\n",
    "output_mt = \"ct2-nllb-be-en\"\n",
    "!ct2-transformers-converter --model {mt_model_name} --quantization float16 --output_dir {output_mt}"
   ]
  },
  {
   "cell_type": "code",
   "execution_count": null,
   "metadata": {
    "vscode": {
     "languageId": "plaintext"
    }
   },
   "outputs": [],
   "source": [
    "!wget https://s3.amazonaws.com/opennmt-models/nllb-200/flores200_sacrebleu_tokenizer_spm.model"
   ]
  },
  {
   "cell_type": "code",
   "execution_count": null,
   "metadata": {
    "vscode": {
     "languageId": "plaintext"
    }
   },
   "outputs": [],
   "source": [
    "import os\n",
    "\n",
    "directory = \"/content/\"\n",
    "\n",
    "ct2_model_name = output_mt\n",
    "\n",
    "ct_model_path = os.path.join(directory, \"ct2\", ct2_model_name)\n",
    "sp_model_path = os.path.join(directory, \"flores200_sacrebleu_tokenizer_spm\")"
   ]
  },
  {
   "cell_type": "code",
   "execution_count": null,
   "metadata": {
    "vscode": {
     "languageId": "plaintext"
    }
   },
   "outputs": [],
   "source": [
    "import ctranslate2\n",
    "import sentencepiece as spm\n",
    "import torch\n",
    "\n",
    "device = \"cuda\" if torch.cuda.is_available() else \"cpu\"\n",
    "\n",
    "sp = spm.SentencePieceProcessor()\n",
    "sp.load(sp_model_path)\n",
    "\n",
    "translator = ctranslate2.Translator(ct_model_path, device=device)"
   ]
  },
  {
   "cell_type": "code",
   "execution_count": null,
   "metadata": {
    "vscode": {
     "languageId": "plaintext"
    }
   },
   "outputs": [],
   "source": [
    "# Translate\n",
    "\n",
    "# src_lang = \"ben_Beng\"\n",
    "# tgt_lang = \"eng_Latn\"\n",
    "\n",
    "src_lang = \"bem_Latn\"\n",
    "tgt_lang = \"eng_Latn\"\n",
    "\n",
    "beam_size = 5\n",
    "\n",
    "source_sentences = transcriptions\n",
    "\n",
    "source_sents = [sent.strip() for sent in source_sentences]\n",
    "target_prefix = [[tgt_lang]] * len(source_sents)\n",
    "\n",
    "# Subword the source sentences\n",
    "source_sents_subworded = sp.encode_as_pieces(source_sents)\n",
    "source_sents_subworded = [[src_lang] + sent + [\"</s>\"] for sent in source_sents_subworded]\n",
    "\n",
    "# Translate the source sentences\n",
    "translations = translator.translate_batch(source_sents_subworded,\n",
    "                                          batch_type=\"tokens\",\n",
    "                                          max_batch_size=2024,\n",
    "                                          beam_size=beam_size,\n",
    "                                          target_prefix=target_prefix)\n",
    "translations = [translation.hypotheses[0] for translation in translations]\n",
    "\n",
    "# Desubword the target sentences\n",
    "translations_desubword = sp.decode(translations)\n",
    "translations_desubword = [sent[len(tgt_lang):].strip() for sent in translations_desubword]\n",
    "\n",
    "print(*translations_desubword[:10], sep=\"\\n\")"
   ]
  },
  {
   "cell_type": "code",
   "execution_count": null,
   "metadata": {
    "vscode": {
     "languageId": "plaintext"
    }
   },
   "outputs": [],
   "source": [
    "import sacrebleu\n",
    "\n",
    "translations = translations_desubword\n",
    "\n",
    "# Calculate BLEU\n",
    "bleu = sacrebleu.corpus_bleu(translations, [references])\n",
    "bleu = round(bleu.score, 2)\n",
    "\n",
    "# Calculate CHRF\n",
    "chrf = sacrebleu.corpus_chrf(translations, [references], word_order=2)  # for chrF++ word_order=2\n",
    "chrf = round(chrf.score, 2)\n",
    "\n",
    "print(model_name)\n",
    "print(\"BLEU\\tChrF++\")\n",
    "print(f\"{bleu}\\t{chrf}\")"
   ]
  }
 ],
 "metadata": {
  "language_info": {
   "name": "python"
  }
 },
 "nbformat": 4,
 "nbformat_minor": 2
}
